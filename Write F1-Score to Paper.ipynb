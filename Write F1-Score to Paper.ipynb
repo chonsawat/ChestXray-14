{
 "cells": [
  {
   "cell_type": "code",
   "execution_count": 1,
   "id": "cf4c6636-7cfa-4435-9b37-d097c2b8d808",
   "metadata": {},
   "outputs": [
    {
     "name": "stderr",
     "output_type": "stream",
     "text": [
      "2022-11-01 16:04:14.870543: I tensorflow/core/util/util.cc:169] oneDNN custom operations are on. You may see slightly different numerical results due to floating-point round-off errors from different computation orders. To turn them off, set the environment variable `TF_ENABLE_ONEDNN_OPTS=0`.\n"
     ]
    }
   ],
   "source": [
    "import numpy as np\n",
    "import pandas as pd\n",
    "import tensorflow as tf\n",
    "import matplotlib.pyplot as plt\n",
    "from modules.dataset import Dataset, LABELS"
   ]
  },
  {
   "cell_type": "markdown",
   "id": "df64d6d9-6408-4a98-adbb-1c810bf2054f",
   "metadata": {
    "tags": []
   },
   "source": [
    "### Our Utils"
   ]
  },
  {
   "cell_type": "code",
   "execution_count": 2,
   "id": "de8a52a3-f2d1-4ce7-9c1a-aabaadedf90f",
   "metadata": {},
   "outputs": [],
   "source": [
    "def get_y_true(data):\n",
    "    y_true=[]\n",
    "    for X,y in data:\n",
    "        for label in y:\n",
    "            y_true.append(label)\n",
    "    y_true = tf.Variable(y_true)\n",
    "    return y_true"
   ]
  },
  {
   "cell_type": "code",
   "execution_count": 3,
   "id": "36b29575-53f7-4141-b93a-cb09e0685b2c",
   "metadata": {},
   "outputs": [],
   "source": [
    "def get_f1_score_model(NAME, fold_num, dataset):\n",
    "    # Dataset\n",
    "    train_dataset, test_dataset = dataset.get_kfold(fold_num, sample=False)\n",
    "\n",
    "    # Modeling\n",
    "    model = tf.keras.models.load_model(\"results/models/{}_fold_{}.h5\".format(NAME, fold_num))\n",
    "\n",
    "    # Label and Predict\n",
    "    y_true = get_y_true(test_dataset)\n",
    "    y_preds = model.predict(test_dataset)\n",
    "\n",
    "    # m object\n",
    "    m = tf.keras.metrics.AUC(multi_label=True, num_thresholds=200)\n",
    "    m.update_state(y_true, y_preds)\n",
    "    thresholds = m._thresholds\n",
    "\n",
    "    # average threshold\n",
    "    precision_average_list = []\n",
    "    recall_average_list = []\n",
    "    f1_thresholds_average_list = []\n",
    "    true_positives, true_negatives, false_positives, false_negatives = m.variables\n",
    "    for i_thresh, (tps, tns, fps, fns) in enumerate(zip(true_positives, true_negatives, false_positives, false_negatives)):\n",
    "        f1_score_average = []\n",
    "        precision_average = []\n",
    "        recall_average = []\n",
    "        for label, tp, tn, fp, fn in zip(LABELS, tps, tns, fps, fns):\n",
    "            tp, tn, fp, fn = tp.numpy(), tn.numpy(), fp.numpy(), fn.numpy()\n",
    "            precision = tp / (tp + fp)\n",
    "            recall = tp / (tp + fn)\n",
    "            f1_score = 2 * tp / (2 * tp + fn + fp)\n",
    "            precision_average.append(precision)\n",
    "            recall_average.append(recall)\n",
    "            f1_score_average.append(f1_score)\n",
    "\n",
    "        precision_score_average = np.mean(precision_average)\n",
    "        precision_average_list.append(precision_score_average)\n",
    "        \n",
    "        recall_score_average = np.mean(recall_average)\n",
    "        recall_average_list.append(recall_score_average)\n",
    "        \n",
    "        f1_score_average = np.mean(f1_score_average)\n",
    "        f1_thresholds_average_list.append((thresholds[i_thresh], f1_score_average))\n",
    "\n",
    "    # Cast to numpy for vectorlize\n",
    "    f1_thresholds_average_list = np.array(f1_thresholds_average_list)\n",
    "    best_f1 = f1_thresholds_average_list.max(axis=0)[1]\n",
    "    best_f1_indx = f1_thresholds_average_list.argmax(axis=0)[1]\n",
    "    best_threshold = f1_thresholds_average_list.max(axis=0)[0]\n",
    "    \n",
    "    return precision_average_list[best_f1_indx], recall_average_list[best_f1_indx], best_f1"
   ]
  },
  {
   "cell_type": "code",
   "execution_count": null,
   "id": "288253d6-7da7-4050-b8b8-2cbeb4d2aeb9",
   "metadata": {},
   "outputs": [],
   "source": []
  },
  {
   "cell_type": "markdown",
   "id": "077a7f29-9199-44a2-80f9-4b19870c6cb0",
   "metadata": {
    "tags": []
   },
   "source": [
    "### Exp 1 : DenseNet121_None"
   ]
  },
  {
   "cell_type": "code",
   "execution_count": 31,
   "id": "2e0dc606-2b46-4bcd-beee-b78d8051a3bc",
   "metadata": {},
   "outputs": [
    {
     "name": "stdout",
     "output_type": "stream",
     "text": [
      "1402/1402 [==============================] - 59s 41ms/step\n",
      "1402/1402 [==============================] - 58s 40ms/step\n",
      "1402/1402 [==============================] - 57s 39ms/step\n",
      "1402/1402 [==============================] - 58s 40ms/step\n",
      "1402/1402 [==============================] - 59s 40ms/step\n"
     ]
    }
   ],
   "source": [
    "# Settings\n",
    "NAME = \"DenseNet121_noDropout_None\"\n",
    "dataset = Dataset()\n",
    "\n",
    "precision_score_list = []\n",
    "recall_score_list = []\n",
    "f1_score_list = []\n",
    "for fold_num in range(1, 5+1):\n",
    "    precision_score, recall_score, f1_score = get_f1_score_model(NAME, fold_num, dataset)\n",
    "    precision_score_list.append(precision_score)\n",
    "    recall_score_list.append(recall_score)\n",
    "    f1_score_list.append(f1_score)"
   ]
  },
  {
   "cell_type": "code",
   "execution_count": 32,
   "id": "e96d9f27-f42e-4359-a8ef-07d5de3d2438",
   "metadata": {},
   "outputs": [
    {
     "name": "stdout",
     "output_type": "stream",
     "text": [
      "Best=0.2186, Average=0.2084, Worst=0.2018\n"
     ]
    }
   ],
   "source": [
    "print(\"Best={:.4f}, Average={:.4f}, Worst={:.4f}\".format(max(f1_score_list), \n",
    "                                                         np.mean(f1_score_list),\n",
    "                                                         min(f1_score_list)))"
   ]
  },
  {
   "cell_type": "code",
   "execution_count": 33,
   "id": "0bfec0e9-2303-4aba-bde0-406bd6b36eec",
   "metadata": {},
   "outputs": [
    {
     "data": {
      "text/plain": [
       "([nan, nan, nan, nan, nan],\n",
       " [0.37569088, 0.3897538, 0.38936552, 0.39162198, 0.5103506],\n",
       " [0.2018217321431188,\n",
       "  0.20492600782162843,\n",
       "  0.2186384313589098,\n",
       "  0.21154133729281815,\n",
       "  0.20532232468684597])"
      ]
     },
     "execution_count": 33,
     "metadata": {},
     "output_type": "execute_result"
    }
   ],
   "source": [
    "precision_score_list, recall_score_list, f1_score_list"
   ]
  },
  {
   "cell_type": "markdown",
   "id": "9190d41f-42e9-4b3a-8399-adb1880682b2",
   "metadata": {
    "jp-MarkdownHeadingCollapsed": true,
    "tags": []
   },
   "source": [
    "### Exp 2: DenseNet121_imagenet"
   ]
  },
  {
   "cell_type": "code",
   "execution_count": 49,
   "id": "756951af-1d9f-4888-83f0-8ee55cf23b0f",
   "metadata": {},
   "outputs": [
    {
     "name": "stdout",
     "output_type": "stream",
     "text": [
      "1402/1402 [==============================] - 66s 42ms/step\n",
      "1402/1402 [==============================] - 57s 39ms/step\n",
      "1402/1402 [==============================] - 55s 38ms/step\n",
      "1402/1402 [==============================] - 56s 38ms/step\n",
      "1402/1402 [==============================] - 57s 39ms/step\n"
     ]
    }
   ],
   "source": [
    "# Settings\n",
    "NAME = \"DenseNet121_imagenet\"\n",
    "dataset = Dataset()\n",
    "\n",
    "f1_score_list = []\n",
    "for fold_num in range(1, 5+1):\n",
    "    f1_score = get_f1_score_model(NAME, fold_num, dataset)\n",
    "    f1_score_list.append(f1_score)"
   ]
  },
  {
   "cell_type": "code",
   "execution_count": 50,
   "id": "ec2e5bf2-c543-410a-bf6b-6af436446d77",
   "metadata": {},
   "outputs": [
    {
     "name": "stdout",
     "output_type": "stream",
     "text": [
      "Best=0.2215, Average=0.2151, Worst=0.2074\n"
     ]
    }
   ],
   "source": [
    "print(\"Best={:.4f}, Average={:.4f}, Worst={:.4f}\".format(max(f1_score_list), \n",
    "                                                         np.mean(f1_score_list),\n",
    "                                                         min(f1_score_list)))"
   ]
  },
  {
   "cell_type": "code",
   "execution_count": null,
   "id": "d43a5adf-f840-4bf7-9ac7-1610400ab6bd",
   "metadata": {},
   "outputs": [],
   "source": [
    "f1_score_list"
   ]
  },
  {
   "cell_type": "markdown",
   "id": "1c7a35a3-31ed-4879-a2c8-f3038febe66d",
   "metadata": {
    "jp-MarkdownHeadingCollapsed": true,
    "tags": []
   },
   "source": [
    "### Exp 3: EfficientNetB0_None"
   ]
  },
  {
   "cell_type": "code",
   "execution_count": 40,
   "id": "033a26fd-91dd-41bc-829a-d8e9be3593f5",
   "metadata": {},
   "outputs": [
    {
     "name": "stdout",
     "output_type": "stream",
     "text": [
      "1402/1402 [==============================] - 47s 31ms/step\n",
      "1402/1402 [==============================] - 42s 29ms/step\n",
      "1402/1402 [==============================] - 42s 29ms/step\n",
      "1402/1402 [==============================] - 43s 29ms/step\n",
      "1402/1402 [==============================] - 42s 29ms/step\n"
     ]
    }
   ],
   "source": [
    "# Settings\n",
    "NAME = \"EfficientNetB0_None\"\n",
    "dataset = Dataset()\n",
    "\n",
    "f1_score_list = []\n",
    "for fold_num in range(1, 5+1):\n",
    "    f1_score = get_f1_score_model(NAME, fold_num, dataset)\n",
    "    f1_score_list.append(f1_score)"
   ]
  },
  {
   "cell_type": "code",
   "execution_count": 41,
   "id": "5acd7fe6-4610-4401-89d6-8132e20a605b",
   "metadata": {},
   "outputs": [
    {
     "name": "stdout",
     "output_type": "stream",
     "text": [
      "Best=0.2263, Average=0.2204, Worst=0.2159\n"
     ]
    }
   ],
   "source": [
    "print(\"Best={:.4f}, Average={:.4f}, Worst={:.4f}\".format(max(f1_score_list), \n",
    "                                                         np.mean(f1_score_list),\n",
    "                                                         min(f1_score_list)))"
   ]
  },
  {
   "cell_type": "code",
   "execution_count": null,
   "id": "32ea4e56-dddd-4096-9cbd-ca1f36e850e8",
   "metadata": {},
   "outputs": [],
   "source": [
    "f1_score_list"
   ]
  },
  {
   "cell_type": "markdown",
   "id": "813533c3-fe80-462f-afd2-7445ed04280a",
   "metadata": {
    "jp-MarkdownHeadingCollapsed": true,
    "tags": []
   },
   "source": [
    "### Exp 4: EfficientNetB0_imagenet"
   ]
  },
  {
   "cell_type": "code",
   "execution_count": 43,
   "id": "af283ee9-c4f3-4243-b1b3-1f9bc12e5881",
   "metadata": {},
   "outputs": [
    {
     "name": "stdout",
     "output_type": "stream",
     "text": [
      "1402/1402 [==============================] - 43s 29ms/step\n",
      "1402/1402 [==============================] - 43s 29ms/step\n",
      "1402/1402 [==============================] - 43s 29ms/step\n",
      "1402/1402 [==============================] - 43s 29ms/step\n",
      "1402/1402 [==============================] - 42s 29ms/step\n"
     ]
    }
   ],
   "source": [
    "# Settings\n",
    "NAME = \"EfficientNetB0_imagenet\"\n",
    "dataset = Dataset()\n",
    "\n",
    "f1_score_list = []\n",
    "for fold_num in range(1, 5+1):\n",
    "    f1_score = get_f1_score_model(NAME, fold_num, dataset)\n",
    "    f1_score_list.append(f1_score)"
   ]
  },
  {
   "cell_type": "code",
   "execution_count": 44,
   "id": "e48c431d-ccfa-4113-91fb-2e727fb4a1bf",
   "metadata": {},
   "outputs": [
    {
     "name": "stdout",
     "output_type": "stream",
     "text": [
      "Best=0.1765, Average=0.1496, Worst=0.1354\n"
     ]
    }
   ],
   "source": [
    "print(\"Best={:.4f}, Average={:.4f}, Worst={:.4f}\".format(max(f1_score_list), \n",
    "                                                         np.mean(f1_score_list),\n",
    "                                                         min(f1_score_list)))"
   ]
  },
  {
   "cell_type": "code",
   "execution_count": null,
   "id": "b450c207-72fb-4aa8-b8c4-14d2de5bb139",
   "metadata": {},
   "outputs": [],
   "source": [
    "f1_score_list"
   ]
  },
  {
   "cell_type": "markdown",
   "id": "0213ddd0-31dd-4a08-992b-1ecf635a6e17",
   "metadata": {
    "jp-MarkdownHeadingCollapsed": true,
    "tags": []
   },
   "source": [
    "### Exp 5: Resnet50_None"
   ]
  },
  {
   "cell_type": "code",
   "execution_count": 45,
   "id": "fc7b2ea5-420e-4056-9539-e6f17282b922",
   "metadata": {},
   "outputs": [
    {
     "name": "stdout",
     "output_type": "stream",
     "text": [
      "1402/1402 [==============================] - 39s 27ms/step\n",
      "1402/1402 [==============================] - 38s 27ms/step\n",
      "1402/1402 [==============================] - 39s 27ms/step\n",
      "1402/1402 [==============================] - 39s 27ms/step\n",
      "1402/1402 [==============================] - 38s 27ms/step\n"
     ]
    }
   ],
   "source": [
    "# Settings\n",
    "NAME = \"Resnet50\"\n",
    "dataset = Dataset()\n",
    "\n",
    "f1_score_list = []\n",
    "for fold_num in range(1, 5+1):\n",
    "    f1_score = get_f1_score_model(NAME, fold_num, dataset)\n",
    "    f1_score_list.append(f1_score)"
   ]
  },
  {
   "cell_type": "code",
   "execution_count": 46,
   "id": "c69a2b6d-5082-4b3d-9888-5c4a82cd9d76",
   "metadata": {},
   "outputs": [
    {
     "name": "stdout",
     "output_type": "stream",
     "text": [
      "Best=0.2008, Average=0.1963, Worst=0.1895\n"
     ]
    }
   ],
   "source": [
    "print(\"Best={:.4f}, Average={:.4f}, Worst={:.4f}\".format(max(f1_score_list), \n",
    "                                                         np.mean(f1_score_list),\n",
    "                                                         min(f1_score_list)))"
   ]
  },
  {
   "cell_type": "code",
   "execution_count": null,
   "id": "9e3b2b9c-e7bf-4369-8d98-5eaec8269e36",
   "metadata": {},
   "outputs": [],
   "source": [
    "f1_score_list"
   ]
  },
  {
   "cell_type": "markdown",
   "id": "2dc5e452-b29a-4572-b416-ce55b2d2860e",
   "metadata": {
    "tags": []
   },
   "source": [
    "### Exp 6: Resnet50_imagenet"
   ]
  },
  {
   "cell_type": "code",
   "execution_count": 6,
   "id": "d1b1e355-4d7e-46ec-a8fb-520d645662e1",
   "metadata": {},
   "outputs": [
    {
     "name": "stdout",
     "output_type": "stream",
     "text": [
      "1402/1402 [==============================] - 37s 26ms/step\n",
      "1402/1402 [==============================] - 37s 25ms/step\n",
      "1402/1402 [==============================] - 37s 26ms/step\n",
      "1402/1402 [==============================] - 37s 25ms/step\n",
      "1402/1402 [==============================] - 37s 26ms/step\n"
     ]
    }
   ],
   "source": [
    "# Settings\n",
    "NAME = \"Resnet50_imagenet\"\n",
    "dataset = Dataset()\n",
    "\n",
    "f1_score_list = []\n",
    "for fold_num in range(1, 5+1):\n",
    "    precision, recall, f1_score = get_f1_score_model(NAME, fold_num, dataset)\n",
    "    f1_score_list.append(f1_score)"
   ]
  },
  {
   "cell_type": "code",
   "execution_count": 7,
   "id": "a9a14b41-3f68-40f5-b7c1-8f47d61c6cea",
   "metadata": {},
   "outputs": [
    {
     "name": "stdout",
     "output_type": "stream",
     "text": [
      "Best=0.2087, Average=0.2065, Worst=0.2028\n"
     ]
    }
   ],
   "source": [
    "print(\"Best={:.4f}, Average={:.4f}, Worst={:.4f}\".format(max(f1_score_list), \n",
    "                                                         np.mean(f1_score_list),\n",
    "                                                         min(f1_score_list)))"
   ]
  },
  {
   "cell_type": "code",
   "execution_count": 8,
   "id": "73a4912c-1f10-41d9-9c58-20656c38305c",
   "metadata": {},
   "outputs": [
    {
     "data": {
      "text/plain": [
       "[0.20717022636086754,\n",
       " 0.20821138673046882,\n",
       " 0.20568500260137842,\n",
       " 0.2028188009153436,\n",
       " 0.2086717115430576]"
      ]
     },
     "execution_count": 8,
     "metadata": {},
     "output_type": "execute_result"
    }
   ],
   "source": [
    "f1_score_list"
   ]
  },
  {
   "cell_type": "code",
   "execution_count": null,
   "id": "7a356898-91fe-4076-856a-1e5891f55ea8",
   "metadata": {},
   "outputs": [],
   "source": []
  }
 ],
 "metadata": {
  "kernelspec": {
   "display_name": "Python 3 (ipykernel)",
   "language": "python",
   "name": "python3"
  },
  "language_info": {
   "codemirror_mode": {
    "name": "ipython",
    "version": 3
   },
   "file_extension": ".py",
   "mimetype": "text/x-python",
   "name": "python",
   "nbconvert_exporter": "python",
   "pygments_lexer": "ipython3",
   "version": "3.10.5"
  }
 },
 "nbformat": 4,
 "nbformat_minor": 5
}
