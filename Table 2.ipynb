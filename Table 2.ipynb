{
 "cells": [
  {
   "cell_type": "code",
   "execution_count": 5,
   "id": "e812f348-2bdb-4860-9653-2911e8440f25",
   "metadata": {},
   "outputs": [],
   "source": [
    "from IPython.display import clear_output\n",
    "!pip install tensorflow_addons\n",
    "clear_output()"
   ]
  },
  {
   "cell_type": "code",
   "execution_count": 6,
   "id": "24fba86b-2e65-4940-a526-00e3b3683ff8",
   "metadata": {},
   "outputs": [],
   "source": [
    "import numpy as np\n",
    "import pandas as pd\n",
    "import seaborn as sns\n",
    "import tensorflow as tf\n",
    "import matplotlib.pyplot as plt\n",
    "import tensorflow_addons as tfa\n",
    "from modules.dataset import LABELS, Dataset"
   ]
  },
  {
   "cell_type": "markdown",
   "id": "689a3b98-df04-494d-be2a-7c6945298211",
   "metadata": {},
   "source": [
    "## Functions"
   ]
  },
  {
   "cell_type": "code",
   "execution_count": 30,
   "id": "07d534cd-dc02-4fec-b4a4-4bd59627f08e",
   "metadata": {},
   "outputs": [],
   "source": [
    "def preprocessing_data(x):\n",
    "    if \"e+\" in x:\n",
    "        values = eval(x.replace(\" \", \", \"))\n",
    "        return np.array(values)\n",
    "    else:\n",
    "        values = eval(x.replace(\"\\n\", \"\").replace(\". \", \".,\"))\n",
    "        return np.array(values)"
   ]
  },
  {
   "cell_type": "code",
   "execution_count": 17,
   "id": "dbcb627f-02d5-46ee-8c2a-0027817fbeb1",
   "metadata": {},
   "outputs": [],
   "source": [
    "def get_test_dataset_5_fold():\n",
    "    dataset = Dataset()\n",
    "    _, test_dataset_fold_1 = dataset.get_kfold(fold_number=1, sample=False)\n",
    "    _, test_dataset_fold_2 = dataset.get_kfold(fold_number=2, sample=False)\n",
    "    _, test_dataset_fold_3 = dataset.get_kfold(fold_number=3, sample=False)\n",
    "    _, test_dataset_fold_4 = dataset.get_kfold(fold_number=4, sample=False)\n",
    "    _, test_dataset_fold_5 = dataset.get_kfold(fold_number=5, sample=False)\n",
    "    return (\n",
    "        test_dataset_fold_1,\n",
    "        test_dataset_fold_2,\n",
    "        test_dataset_fold_3,\n",
    "        test_dataset_fold_4,\n",
    "        test_dataset_fold_5\n",
    "    )"
   ]
  },
  {
   "cell_type": "code",
   "execution_count": 10,
   "id": "eaceeb17-8ea9-4e0c-88b7-387dd9712eed",
   "metadata": {},
   "outputs": [],
   "source": [
    "def get_y_true(data):\n",
    "    y_true=[]\n",
    "    for X,y in data:\n",
    "        for label in y:\n",
    "            y_true.append(label)\n",
    "    y_true = tf.Variable(y_true)\n",
    "    return y_true"
   ]
  },
  {
   "cell_type": "code",
   "execution_count": 11,
   "id": "19c823f6-3cca-4366-9e07-b55756a1b8e1",
   "metadata": {},
   "outputs": [],
   "source": [
    "def get_model(model_path):\n",
    "    return tf.keras.models.load_model(model_path)"
   ]
  },
  {
   "cell_type": "code",
   "execution_count": 12,
   "id": "66b4b865-4374-44b5-a7ef-e7a8ea632ed9",
   "metadata": {},
   "outputs": [],
   "source": [
    "def get_filename(model_path):\n",
    "    return model_path.split(\".\")[0].split(\"/\")[-1]"
   ]
  },
  {
   "cell_type": "code",
   "execution_count": 24,
   "id": "6cf24be2-e04d-4e9a-946e-110cfbde72f7",
   "metadata": {},
   "outputs": [],
   "source": [
    "def get_confusion(path):\n",
    "    \"\"\"\n",
    "    Parameters\n",
    "    ----------\n",
    "    path: str\n",
    "        path to confusion metrics csv file of needed model\n",
    "    \"\"\"\n",
    "    df = pd.read_csv(path)\n",
    "    thresholds = df[\"thresholds\"].values\n",
    "    TP = df[\"TP\"].apply(preprocessing_data).values\n",
    "    TN = df[\"TN\"].apply(preprocessing_data).values\n",
    "    FP = df[\"FP\"].apply(preprocessing_data).values\n",
    "    FN = df[\"FN\"].apply(preprocessing_data).values\n",
    "    return thresholds, TP, TN, FP, FN"
   ]
  },
  {
   "cell_type": "code",
   "execution_count": 26,
   "id": "82b34685-66e4-4d80-a69f-5f35f577e3e8",
   "metadata": {},
   "outputs": [],
   "source": [
    "def get_f1_dict(thresholds, TP, TN, FP, FN):\n",
    "    f1_thresholds_dict = dict()\n",
    "    for i_thresh, (tps, tns, fps, fns) in enumerate(zip(TP, TN, FP, FN)):\n",
    "        for label, tp, tn, fp, fn in zip(LABELS, tps, tns, fps, fns):\n",
    "            f1_score = 2*tp / (2*tp + fp + fn)\n",
    "            try: \n",
    "                f1_thresholds_dict[label].append((thresholds[i_thresh], f1_score))\n",
    "            except:\n",
    "                f1_thresholds_dict[label] = [(thresholds[i_thresh], f1_score)]\n",
    "    return f1_thresholds_dict"
   ]
  },
  {
   "cell_type": "code",
   "execution_count": 28,
   "id": "84186f31-aa14-48a7-aa0c-da25a63da609",
   "metadata": {},
   "outputs": [],
   "source": [
    "def get_best_multiple_threshold(dictionary, name=\"F1-score vs. Thresholds\", x_label='Thresholds', y_label='F1-scores', plot_compare=False):\n",
    "    if plot_compare:\n",
    "        plt.figure(figsize=(20,12))\n",
    "    best_multiple_threshold_list = []\n",
    "    for i, (label, value) in enumerate(dictionary.items()):\n",
    "        x, y = zip(*value)\n",
    "        if plot_compare:\n",
    "            plt.plot(x, y, marker='.', label=label)\n",
    "        \n",
    "        y = np.array(y)\n",
    "        best = y.argmax()\n",
    "        if plot_compare:\n",
    "            sns.scatterplot(x=[x[best]], y=[y[best]], marker=\"X\", s=300)\n",
    "        \n",
    "        best_multiple_threshold_list.append(x[y.argmax()])\n",
    "\n",
    "    if plot_compare:\n",
    "        plt.title(name)\n",
    "        plt.legend()\n",
    "        plt.xlabel(x_label, fontweight='bold')\n",
    "        plt.ylabel(y_label, fontweight='bold')\n",
    "        plt.ylim(-0.05, 1.05)\n",
    "        plt.xlim(-0.05, 1.05)\n",
    "        plt.show()\n",
    "    return best_multiple_threshold_list"
   ]
  },
  {
   "cell_type": "code",
   "execution_count": 33,
   "id": "e4f7a8e6-04c6-4244-a5b4-75806dc7b461",
   "metadata": {},
   "outputs": [],
   "source": [
    "def get_thresholds(path):\n",
    "    confusion = get_confusion(path)\n",
    "    f1_dicts = get_f1_dict(*confusion)\n",
    "    best_thresholds = get_best_multiple_threshold(f1_dicts, plot_compare=False)\n",
    "    return best_thresholds"
   ]
  },
  {
   "cell_type": "code",
   "execution_count": 19,
   "id": "a67a72e0-1f00-421d-899b-1f75570571f3",
   "metadata": {},
   "outputs": [],
   "source": [
    "def model_predict(model, test_dataset):\n",
    "    return model.predict(test_dataset)"
   ]
  },
  {
   "cell_type": "code",
   "execution_count": 37,
   "id": "a254d74c-2cbf-4bb0-9a78-1c21f5847248",
   "metadata": {},
   "outputs": [],
   "source": [
    "def evaluate(model, test_dataset, file_name):\n",
    "    best_thresholds = get_thresholds(f\"/home/jovyan/ChestXray-14/results/confusion/{file_name}.csv\")\n",
    "    y_true = get_y_true(test_dataset)\n",
    "    y_preds = model_predict(model, test_dataset)\n",
    "    m = tf.keras.metrics.AUC(multi_label=True)\n",
    "    m.update_state(y_true, y_preds)\n",
    "    return m.result().numpy()"
   ]
  },
  {
   "cell_type": "code",
   "execution_count": 49,
   "id": "565a2ec5-9bf6-407d-be45-bc87d2bc617b",
   "metadata": {},
   "outputs": [],
   "source": [
    "def evaluate_5_folds(path):\n",
    "    \"\"\"\n",
    "    Parameter\n",
    "    ---------\n",
    "    path: str\n",
    "        path to best model\n",
    "    \"\"\"\n",
    "    model = get_model(path)\n",
    "    file_name = get_filename(path)\n",
    "    \n",
    "    auc_5_folds = []\n",
    "    print(f\"===== {file_name} =====\")\n",
    "    for i in range(5): # 5 Folds\n",
    "        auc = evaluate(model=model, test_dataset=test_dataset[i-1], file_name=file_name)\n",
    "        auc_5_folds.append(auc)\n",
    "        print(f\">> Fold {i+1} = {auc}\")\n",
    "        # break\n",
    "    \n",
    "    print(f\"Average AUC of {file_name} = {np.mean(auc_5_folds)}\")"
   ]
  },
  {
   "cell_type": "markdown",
   "id": "763bd2c0-6e1e-46c5-a499-7095a3caeb0d",
   "metadata": {},
   "source": [
    "## Main"
   ]
  },
  {
   "cell_type": "code",
   "execution_count": 43,
   "id": "623fa69c-baea-487f-bef1-c3f3453fdff9",
   "metadata": {},
   "outputs": [
    {
     "name": "stdout",
     "output_type": "stream",
     "text": [
      "INFO:tensorflow:Mixed precision compatibility check (mixed_float16): OK\n",
      "Your GPU will likely run quickly with dtype policy mixed_float16 as it has compute capability of at least 7.0. Your GPU: NVIDIA A100-SXM4-40GB, compute capability 8.0\n"
     ]
    }
   ],
   "source": [
    "from tensorflow.keras import mixed_precision\n",
    "mixed_precision.set_global_policy(\"mixed_float16\")"
   ]
  },
  {
   "cell_type": "code",
   "execution_count": 15,
   "id": "937bd64c-7d85-4bc7-b525-1c6ee6067961",
   "metadata": {},
   "outputs": [],
   "source": [
    "model_path = {\n",
    "    \"DenseNet121_none\": \"/home/jovyan/ChestXray-14/results/models/DenseNet121_None_fold_3.h5\",\n",
    "    \"DenseNet121_imagenet\": \"/home/jovyan/ChestXray-14/results/models/DenseNet121_imagenet_fold_1.h5\",\n",
    "    \"EfficeientNetB0_none\": \"/home/jovyan/ChestXray-14/results/models/EfficientNetB0_None_fold_1.h5\",\n",
    "    \"EfficeientNetB0_imagenet\": \"/home/jovyan/ChestXray-14/results/models/EfficientNetB0_imagenet_fold_1.h5\",\n",
    "    \"Resnet50_none\": \"/home/jovyan/ChestXray-14/results/models/Resnet50_fold_1.h5\",\n",
    "    \"Resnet50_imagenet\": \"/home/jovyan/ChestXray-14/results/models/Resnet50_imagenet_fold_3.h5\"\n",
    "}"
   ]
  },
  {
   "cell_type": "code",
   "execution_count": 18,
   "id": "dae8a24c-602a-4337-9ef5-368118ad6b5f",
   "metadata": {},
   "outputs": [
    {
     "name": "stderr",
     "output_type": "stream",
     "text": [
      "2022-12-08 07:42:10.031441: I tensorflow/core/platform/cpu_feature_guard.cc:193] This TensorFlow binary is optimized with oneAPI Deep Neural Network Library (oneDNN) to use the following CPU instructions in performance-critical operations:  AVX2 AVX512F AVX512_VNNI FMA\n",
      "To enable them in other operations, rebuild TensorFlow with the appropriate compiler flags.\n",
      "2022-12-08 07:42:11.728870: I tensorflow/core/common_runtime/gpu/gpu_device.cc:1532] Created device /job:localhost/replica:0/task:0/device:GPU:0 with 31887 MB memory:  -> device: 0, name: NVIDIA A100-SXM4-40GB, pci bus id: 0000:17:00.0, compute capability: 8.0\n"
     ]
    }
   ],
   "source": [
    "test_dataset = get_test_dataset_5_fold()"
   ]
  },
  {
   "cell_type": "code",
   "execution_count": 40,
   "id": "615da84e-062a-4db3-bbc7-45ace94c1b15",
   "metadata": {},
   "outputs": [
    {
     "name": "stdout",
     "output_type": "stream",
     "text": [
      "===== DenseNet121_None_fold_3 =====\n",
      "1402/1402 [==============================] - 57s 39ms/step\n",
      ">> Fold 1 = 0.7810665965080261\n",
      "1402/1402 [==============================] - 54s 39ms/step\n",
      ">> Fold 2 = 0.7555677890777588\n",
      "1402/1402 [==============================] - 54s 38ms/step\n",
      "WARNING:tensorflow:5 out of the last 5 calls to <function pfor.<locals>.f at 0x7f5fc8453880> triggered tf.function retracing. Tracing is expensive and the excessive number of tracings could be due to (1) creating @tf.function repeatedly in a loop, (2) passing tensors with different shapes, (3) passing Python objects instead of tensors. For (1), please define your @tf.function outside of the loop. For (2), @tf.function has reduce_retracing=True option that can avoid unnecessary retracing. For (3), please refer to https://www.tensorflow.org/guide/function#controlling_retracing and https://www.tensorflow.org/api_docs/python/tf/function for  more details.\n",
      "WARNING:tensorflow:6 out of the last 6 calls to <function pfor.<locals>.f at 0x7f5fc8453880> triggered tf.function retracing. Tracing is expensive and the excessive number of tracings could be due to (1) creating @tf.function repeatedly in a loop, (2) passing tensors with different shapes, (3) passing Python objects instead of tensors. For (1), please define your @tf.function outside of the loop. For (2), @tf.function has reduce_retracing=True option that can avoid unnecessary retracing. For (3), please refer to https://www.tensorflow.org/guide/function#controlling_retracing and https://www.tensorflow.org/api_docs/python/tf/function for  more details.\n",
      ">> Fold 3 = 0.7544834017753601\n",
      "1402/1402 [==============================] - 54s 38ms/step\n",
      ">> Fold 4 = 0.7426716089248657\n",
      "1402/1402 [==============================] - 54s 38ms/step\n",
      ">> Fold 5 = 0.7605154514312744\n",
      "Average AUC of DenseNet121_None_fold_3 = 0.7588610053062439\n"
     ]
    }
   ],
   "source": [
    "evaluate_5_folds(model_path[\"DenseNet121_none\"])"
   ]
  },
  {
   "cell_type": "code",
   "execution_count": 50,
   "id": "09fc70bf-60c4-4ef1-bccb-c3e274d0855a",
   "metadata": {},
   "outputs": [
    {
     "name": "stdout",
     "output_type": "stream",
     "text": [
      "===== DenseNet121_imagenet_fold_1 =====\n",
      "1402/1402 [==============================] - 56s 38ms/step\n",
      ">> Fold 1 = 0.7647889256477356\n",
      "1402/1402 [==============================] - 54s 38ms/step\n",
      ">> Fold 2 = 0.7416101098060608\n",
      "1402/1402 [==============================] - 53s 38ms/step\n",
      ">> Fold 3 = 0.756729781627655\n",
      "1402/1402 [==============================] - 53s 38ms/step\n",
      ">> Fold 4 = 0.7636765241622925\n",
      "1402/1402 [==============================] - 54s 38ms/step\n",
      ">> Fold 5 = 0.7629464268684387\n",
      "Average AUC of DenseNet121_imagenet_fold_1 = 0.7579503655433655\n"
     ]
    }
   ],
   "source": [
    "evaluate_5_folds(model_path[\"DenseNet121_imagenet\"])"
   ]
  },
  {
   "cell_type": "code",
   "execution_count": 51,
   "id": "c30a36f5-adbc-48d5-b44d-54fd72851936",
   "metadata": {},
   "outputs": [
    {
     "name": "stdout",
     "output_type": "stream",
     "text": [
      "===== EfficientNetB0_None_fold_1 =====\n",
      "1402/1402 [==============================] - 47s 30ms/step\n",
      ">> Fold 1 = 0.7823885083198547\n",
      "1402/1402 [==============================] - 40s 28ms/step\n",
      ">> Fold 2 = 0.7434552907943726\n",
      "1402/1402 [==============================] - 40s 29ms/step\n",
      ">> Fold 3 = 0.7646464705467224\n",
      "1402/1402 [==============================] - 41s 29ms/step\n",
      ">> Fold 4 = 0.7752695083618164\n",
      "1402/1402 [==============================] - 40s 29ms/step\n",
      ">> Fold 5 = 0.7774242162704468\n",
      "Average AUC of EfficientNetB0_None_fold_1 = 0.7686368227005005\n"
     ]
    }
   ],
   "source": [
    "evaluate_5_folds(model_path[\"EfficeientNetB0_none\"])"
   ]
  },
  {
   "cell_type": "code",
   "execution_count": 52,
   "id": "fc6bad76-bbd5-4bd1-a402-747c4c772690",
   "metadata": {},
   "outputs": [
    {
     "name": "stdout",
     "output_type": "stream",
     "text": [
      "===== EfficientNetB0_imagenet_fold_1 =====\n",
      "1402/1402 [==============================] - 42s 29ms/step\n",
      ">> Fold 1 = 0.7020613551139832\n",
      "1402/1402 [==============================] - 40s 28ms/step\n",
      ">> Fold 2 = 0.6801937222480774\n",
      "1402/1402 [==============================] - 40s 29ms/step\n",
      ">> Fold 3 = 0.6946982145309448\n",
      "1402/1402 [==============================] - 40s 28ms/step\n",
      ">> Fold 4 = 0.6994134783744812\n",
      "1402/1402 [==============================] - 40s 28ms/step\n",
      ">> Fold 5 = 0.6946086883544922\n",
      "Average AUC of EfficientNetB0_imagenet_fold_1 = 0.6941951513290405\n"
     ]
    }
   ],
   "source": [
    "evaluate_5_folds(model_path[\"EfficeientNetB0_imagenet\"])"
   ]
  },
  {
   "cell_type": "code",
   "execution_count": 53,
   "id": "f46985d6-a1af-4720-9295-71d1cb573361",
   "metadata": {},
   "outputs": [
    {
     "name": "stdout",
     "output_type": "stream",
     "text": [
      "===== Resnet50_fold_1 =====\n",
      "1402/1402 [==============================] - 40s 26ms/step\n",
      ">> Fold 1 = 0.7519645690917969\n",
      "1402/1402 [==============================] - 36s 25ms/step\n",
      ">> Fold 2 = 0.7188865542411804\n",
      "1402/1402 [==============================] - 36s 25ms/step\n",
      ">> Fold 3 = 0.7348979711532593\n",
      "1402/1402 [==============================] - 36s 26ms/step\n",
      ">> Fold 4 = 0.739715039730072\n",
      "1402/1402 [==============================] - 36s 25ms/step\n",
      ">> Fold 5 = 0.7384971380233765\n",
      "Average AUC of Resnet50_fold_1 = 0.736792266368866\n"
     ]
    }
   ],
   "source": [
    "evaluate_5_folds(model_path[\"Resnet50_none\"])"
   ]
  },
  {
   "cell_type": "code",
   "execution_count": 54,
   "id": "953af02e-b8e9-4c41-835e-50169d44106c",
   "metadata": {},
   "outputs": [
    {
     "name": "stdout",
     "output_type": "stream",
     "text": [
      "===== Resnet50_imagenet_fold_3 =====\n",
      "1402/1402 [==============================] - 37s 25ms/step\n",
      ">> Fold 1 = 0.7640064358711243\n",
      "1402/1402 [==============================] - 36s 26ms/step\n",
      ">> Fold 2 = 0.7527133226394653\n",
      "1402/1402 [==============================] - 36s 25ms/step\n",
      ">> Fold 3 = 0.7507029175758362\n",
      "1402/1402 [==============================] - 36s 26ms/step\n",
      ">> Fold 4 = 0.7430503964424133\n",
      "1402/1402 [==============================] - 36s 26ms/step\n",
      ">> Fold 5 = 0.7600948810577393\n",
      "Average AUC of Resnet50_imagenet_fold_3 = 0.7541135549545288\n"
     ]
    }
   ],
   "source": [
    "evaluate_5_folds(model_path[\"Resnet50_imagenet\"])"
   ]
  },
  {
   "cell_type": "code",
   "execution_count": null,
   "id": "f32c752f-1fa7-4d8a-95bf-ce27016fbc4d",
   "metadata": {},
   "outputs": [],
   "source": []
  }
 ],
 "metadata": {
  "kernelspec": {
   "display_name": "Python 3 (ipykernel)",
   "language": "python",
   "name": "python3"
  },
  "language_info": {
   "codemirror_mode": {
    "name": "ipython",
    "version": 3
   },
   "file_extension": ".py",
   "mimetype": "text/x-python",
   "name": "python",
   "nbconvert_exporter": "python",
   "pygments_lexer": "ipython3",
   "version": "3.10.5"
  }
 },
 "nbformat": 4,
 "nbformat_minor": 5
}
