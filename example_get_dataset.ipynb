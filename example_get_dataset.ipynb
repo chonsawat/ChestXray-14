{
 "cells": [
  {
   "cell_type": "code",
   "execution_count": 8,
   "id": "6b85f0ea-45a9-423b-93de-5caa8ba1cca6",
   "metadata": {},
   "outputs": [],
   "source": [
    "from modules.get_data_function import DatasetX"
   ]
  },
  {
   "cell_type": "code",
   "execution_count": 9,
   "id": "f3193e30-24ac-4ac6-8c59-6501af93ff82",
   "metadata": {},
   "outputs": [
    {
     "data": {
      "text/plain": [
       "<PrefetchDataset element_spec=(TensorSpec(shape=(16, 224, 224, 1), dtype=tf.float32, name=None), TensorSpec(shape=(16, 15), dtype=tf.int64, name=None))>"
      ]
     },
     "execution_count": 9,
     "metadata": {},
     "output_type": "execute_result"
    }
   ],
   "source": [
    "DatasetX().get_train()"
   ]
  },
  {
   "cell_type": "code",
   "execution_count": 10,
   "id": "730f7016-2614-40b1-847e-41126bd810f2",
   "metadata": {},
   "outputs": [
    {
     "data": {
      "text/plain": [
       "<PrefetchDataset element_spec=(TensorSpec(shape=(16, 224, 224, 1), dtype=tf.float32, name=None), TensorSpec(shape=(16, 15), dtype=tf.int64, name=None))>"
      ]
     },
     "execution_count": 10,
     "metadata": {},
     "output_type": "execute_result"
    }
   ],
   "source": [
    "DatasetX().get_valid()"
   ]
  },
  {
   "cell_type": "code",
   "execution_count": 11,
   "id": "b34fc7ae-4261-47f7-a887-ef02466dcf64",
   "metadata": {},
   "outputs": [
    {
     "data": {
      "text/plain": [
       "<PrefetchDataset element_spec=(TensorSpec(shape=(16, 224, 224, 1), dtype=tf.float32, name=None), TensorSpec(shape=(16, 15), dtype=tf.int64, name=None))>"
      ]
     },
     "execution_count": 11,
     "metadata": {},
     "output_type": "execute_result"
    }
   ],
   "source": [
    "DatasetX().get_test()"
   ]
  },
  {
   "cell_type": "code",
   "execution_count": 12,
   "id": "7dd8a1de-4913-4643-8b91-49b4a6705cef",
   "metadata": {},
   "outputs": [
    {
     "data": {
      "text/plain": [
       "<PrefetchDataset element_spec=(TensorSpec(shape=(16, 224, 224, 1), dtype=tf.float32, name=None), TensorSpec(shape=(16, 15), dtype=tf.int64, name=None))>"
      ]
     },
     "execution_count": 12,
     "metadata": {},
     "output_type": "execute_result"
    }
   ],
   "source": [
    "DatasetX().get_all()"
   ]
  },
  {
   "cell_type": "code",
   "execution_count": null,
   "id": "8901cdbd-7155-4f76-8a7f-8483769d2089",
   "metadata": {},
   "outputs": [],
   "source": []
  }
 ],
 "metadata": {
  "kernelspec": {
   "display_name": "Python 3 (ipykernel)",
   "language": "python",
   "name": "python3"
  },
  "language_info": {
   "codemirror_mode": {
    "name": "ipython",
    "version": 3
   },
   "file_extension": ".py",
   "mimetype": "text/x-python",
   "name": "python",
   "nbconvert_exporter": "python",
   "pygments_lexer": "ipython3",
   "version": "3.9.7"
  }
 },
 "nbformat": 4,
 "nbformat_minor": 5
}
