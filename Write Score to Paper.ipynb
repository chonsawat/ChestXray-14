{
 "cells": [
  {
   "cell_type": "code",
   "execution_count": 3,
   "id": "cf4c6636-7cfa-4435-9b37-d097c2b8d808",
   "metadata": {},
   "outputs": [
    {
     "name": "stderr",
     "output_type": "stream",
     "text": [
      "2022-11-01 09:31:03.049447: I tensorflow/core/util/util.cc:169] oneDNN custom operations are on. You may see slightly different numerical results due to floating-point round-off errors from different computation orders. To turn them off, set the environment variable `TF_ENABLE_ONEDNN_OPTS=0`.\n"
     ]
    }
   ],
   "source": [
    "import numpy as np\n",
    "import pandas as pd\n",
    "import tensorflow as tf"
   ]
  },
  {
   "cell_type": "code",
   "execution_count": 8,
   "id": "7241eee3-a2cc-441b-8b02-1b519f243806",
   "metadata": {},
   "outputs": [],
   "source": [
    "def get_summary(history_path):\n",
    "    folds = tf.io.gfile.glob(history_path + \"*.csv\")\n",
    "\n",
    "    for idx, fold in enumerate(folds):\n",
    "        train_loss = pd.read_csv(fold).iloc[:, 2]\n",
    "        validatation_loss = pd.read_csv(fold).iloc[:, 4]\n",
    "        train_AUC = pd.read_csv(fold).iloc[:, 1]\n",
    "        validatation_AUC = pd.read_csv(fold).iloc[:, 3]\n",
    "        \n",
    "        best_model = validatation_loss.argmin()\n",
    "        \n",
    "        print(\"=====\"*4)\n",
    "        print(f\"Fold {idx + 1}\")\n",
    "        if idx == 0:\n",
    "            total = np.array([train_loss[best_model], validatation_loss[best_model]])\n",
    "        else:\n",
    "            total = np.vstack([total, np.array([train_loss[best_model], validatation_loss[best_model]])])\n",
    "            \n",
    "        print(\"Train (loss) = {:.4f}, Validate (loss) = {:.4f}\".format(train_loss[best_model], validatation_loss[best_model]))\n",
    "        print(\"Train (AUC) = {:.4f}, Validate (AUC) = {:.4f}\".format(train_AUC[best_model], validatation_AUC[best_model]))\n",
    "        \n",
    "    print(\"=====\"*4)\n",
    "    print(\"Summary\")\n",
    "    print(total)\n",
    "    print(\"Train (loss) = Best {:.4f}, Avg. {:.4f}, Worst {:.4f}\".format(total.min(axis=0)[0], total.mean(axis=0)[0], total.max(axis=0)[0]))\n",
    "    print(\"Validate (loss) = Best {:.4f}, Avg. {:.4f}, Worst {:.4f}\".format(total.min(axis=0)[1], total.mean(axis=0)[1], total.max(axis=0)[1]))"
   ]
  },
  {
   "cell_type": "markdown",
   "id": "077a7f29-9199-44a2-80f9-4b19870c6cb0",
   "metadata": {
    "tags": []
   },
   "source": [
    "### Exp 1"
   ]
  },
  {
   "cell_type": "code",
   "execution_count": 9,
   "id": "487a41ac-3f70-4e9a-ac30-e36d95df6e97",
   "metadata": {},
   "outputs": [
    {
     "name": "stdout",
     "output_type": "stream",
     "text": [
      "====================\n",
      "Fold 1\n",
      "Train (loss) = 0.1922, Validate (loss) = 0.1955\n",
      "Train (AUC) = 0.7407, Validate (AUC) = 0.7168\n",
      "====================\n",
      "Fold 2\n",
      "Train (loss) = 0.1900, Validate (loss) = 0.1970\n",
      "Train (AUC) = 0.7501, Validate (AUC) = 0.7235\n",
      "====================\n",
      "Fold 3\n",
      "Train (loss) = 0.1880, Validate (loss) = 0.1942\n",
      "Train (AUC) = 0.7566, Validate (AUC) = 0.7426\n",
      "====================\n",
      "Fold 4\n",
      "Train (loss) = 0.1922, Validate (loss) = 0.1956\n",
      "Train (AUC) = 0.7361, Validate (AUC) = 0.7323\n",
      "====================\n",
      "Fold 5\n",
      "Train (loss) = 0.1917, Validate (loss) = 0.1958\n",
      "Train (AUC) = 0.7425, Validate (AUC) = 0.7227\n",
      "====================\n",
      "Summary\n",
      "[[0.19221897 0.19551492]\n",
      " [0.19003738 0.19702502]\n",
      " [0.18800645 0.19422519]\n",
      " [0.19223595 0.19559292]\n",
      " [0.19174725 0.19581158]]\n",
      "Train (loss) = Best 0.1880, Avg. 0.1908, Worst 0.1922\n",
      "Validate (loss) = Best 0.1942, Avg. 0.1956, Worst 0.1970\n"
     ]
    }
   ],
   "source": [
    "history_path = \"results/history/DenseNet121_noDropout_None/\"\n",
    "get_summary(history_path)"
   ]
  },
  {
   "cell_type": "markdown",
   "id": "9190d41f-42e9-4b3a-8399-adb1880682b2",
   "metadata": {
    "tags": []
   },
   "source": [
    "### Exp 2"
   ]
  },
  {
   "cell_type": "code",
   "execution_count": 97,
   "id": "756951af-1d9f-4888-83f0-8ee55cf23b0f",
   "metadata": {},
   "outputs": [
    {
     "name": "stdout",
     "output_type": "stream",
     "text": [
      "====================\n",
      "Fold 1\n",
      "Train (loss) = 0.1883, Validate (loss) = 0.1896\n",
      "====================\n",
      "Fold 2\n",
      "Train (loss) = 0.1843, Validate (loss) = 0.1922\n",
      "====================\n",
      "Fold 3\n",
      "Train (loss) = 0.1869, Validate (loss) = 0.1914\n",
      "====================\n",
      "Fold 4\n",
      "Train (loss) = 0.1910, Validate (loss) = 0.1929\n",
      "====================\n",
      "Fold 5\n",
      "Train (loss) = 0.1851, Validate (loss) = 0.1918\n",
      "====================\n",
      "Summary\n",
      "[[0.1883385  0.18962517]\n",
      " [0.18431026 0.1921898 ]\n",
      " [0.1869334  0.19141941]\n",
      " [0.19102007 0.19290455]\n",
      " [0.18508671 0.19176236]]\n",
      "Train (loss) = Best 0.1843, Avg. 0.1871, Worst 0.1910\n",
      "Validate (loss) = Best 0.1896, Avg. 0.1916, Worst 0.1929\n"
     ]
    }
   ],
   "source": [
    "history_path = \"results/history/DenseNet121_noDropout_imagenet/\"\n",
    "get_summary(history_path)"
   ]
  },
  {
   "cell_type": "markdown",
   "id": "1c7a35a3-31ed-4879-a2c8-f3038febe66d",
   "metadata": {
    "tags": []
   },
   "source": [
    "### Exp 3"
   ]
  },
  {
   "cell_type": "code",
   "execution_count": 96,
   "id": "5acd7fe6-4610-4401-89d6-8132e20a605b",
   "metadata": {},
   "outputs": [
    {
     "name": "stdout",
     "output_type": "stream",
     "text": [
      "====================\n",
      "Fold 1\n",
      "Train (loss) = 0.1858, Validate (loss) = 0.1884\n",
      "====================\n",
      "Fold 2\n",
      "Train (loss) = 0.1882, Validate (loss) = 0.1916\n",
      "====================\n",
      "Fold 3\n",
      "Train (loss) = 0.1855, Validate (loss) = 0.1907\n",
      "====================\n",
      "Fold 4\n",
      "Train (loss) = 0.1891, Validate (loss) = 0.1916\n",
      "====================\n",
      "Fold 5\n",
      "Train (loss) = 0.1827, Validate (loss) = 0.1925\n",
      "====================\n",
      "Summary\n",
      "[[0.18575522 0.18839887]\n",
      " [0.18816352 0.19157647]\n",
      " [0.1854662  0.19066538]\n",
      " [0.18906143 0.19158757]\n",
      " [0.18273166 0.19247483]]\n",
      "Train (loss) = Best 0.1827, Avg. 0.1862, Worst 0.1891\n",
      "Validate (loss) = Best 0.1884, Avg. 0.1909, Worst 0.1925\n"
     ]
    }
   ],
   "source": [
    "history_path = \"results/history/EfficientNetB0_None/\"\n",
    "get_summary(history_path)"
   ]
  },
  {
   "cell_type": "markdown",
   "id": "813533c3-fe80-462f-afd2-7445ed04280a",
   "metadata": {
    "tags": []
   },
   "source": [
    "### Exp 4"
   ]
  },
  {
   "cell_type": "code",
   "execution_count": 99,
   "id": "af283ee9-c4f3-4243-b1b3-1f9bc12e5881",
   "metadata": {},
   "outputs": [
    {
     "name": "stdout",
     "output_type": "stream",
     "text": [
      "====================\n",
      "Fold 1\n",
      "Train (loss) = 0.1793, Validate (loss) = 0.2053\n",
      "====================\n",
      "Fold 2\n",
      "Train (loss) = 0.1778, Validate (loss) = 0.2220\n",
      "====================\n",
      "Fold 3\n",
      "Train (loss) = 0.1814, Validate (loss) = 0.2135\n",
      "====================\n",
      "Fold 4\n",
      "Train (loss) = 0.1922, Validate (loss) = 0.2226\n",
      "====================\n",
      "Fold 5\n",
      "Train (loss) = 0.1732, Validate (loss) = 0.2236\n",
      "====================\n",
      "Summary\n",
      "[[0.17933393 0.20525976]\n",
      " [0.17778866 0.22201683]\n",
      " [0.18139541 0.21350904]\n",
      " [0.19223592 0.22257505]\n",
      " [0.17316452 0.22361067]]\n",
      "Train (loss) = Best 0.1732, Avg. 0.1808, Worst 0.1922\n",
      "Validate (loss) = Best 0.2053, Avg. 0.2174, Worst 0.2236\n"
     ]
    }
   ],
   "source": [
    "history_path = \"results/history/EfficientNetB0_imagenet/\"\n",
    "get_summary(history_path)"
   ]
  },
  {
   "cell_type": "markdown",
   "id": "0213ddd0-31dd-4a08-992b-1ecf635a6e17",
   "metadata": {
    "tags": []
   },
   "source": [
    "### Exp 5"
   ]
  },
  {
   "cell_type": "code",
   "execution_count": 100,
   "id": "fc7b2ea5-420e-4056-9539-e6f17282b922",
   "metadata": {},
   "outputs": [
    {
     "name": "stdout",
     "output_type": "stream",
     "text": [
      "====================\n",
      "Fold 1\n",
      "Train (loss) = 0.1943, Validate (loss) = 0.1943\n",
      "====================\n",
      "Fold 2\n",
      "Train (loss) = 0.1931, Validate (loss) = 0.1974\n",
      "====================\n",
      "Fold 3\n",
      "Train (loss) = 0.1930, Validate (loss) = 0.1955\n",
      "====================\n",
      "Fold 4\n",
      "Train (loss) = 0.1925, Validate (loss) = 0.1973\n",
      "====================\n",
      "Fold 5\n",
      "Train (loss) = 0.1967, Validate (loss) = 0.1985\n",
      "====================\n",
      "Summary\n",
      "[[0.19431207 0.19430895]\n",
      " [0.19307916 0.19738032]\n",
      " [0.19300176 0.19545916]\n",
      " [0.19252598 0.19734156]\n",
      " [0.19667855 0.19846098]]\n",
      "Train (loss) = Best 0.1925, Avg. 0.1939, Worst 0.1967\n",
      "Validate (loss) = Best 0.1943, Avg. 0.1966, Worst 0.1985\n"
     ]
    }
   ],
   "source": [
    "history_path = \"results/history/Resnet50_None/\"\n",
    "get_summary(history_path)"
   ]
  },
  {
   "cell_type": "markdown",
   "id": "2dc5e452-b29a-4572-b416-ce55b2d2860e",
   "metadata": {
    "tags": []
   },
   "source": [
    "### Exp 6"
   ]
  },
  {
   "cell_type": "code",
   "execution_count": 101,
   "id": "d1b1e355-4d7e-46ec-a8fb-520d645662e1",
   "metadata": {},
   "outputs": [
    {
     "name": "stdout",
     "output_type": "stream",
     "text": [
      "====================\n",
      "Fold 1\n",
      "Train (loss) = 0.1908, Validate (loss) = 0.1939\n",
      "====================\n",
      "Fold 2\n",
      "Train (loss) = 0.1892, Validate (loss) = 0.1934\n",
      "====================\n",
      "Fold 3\n",
      "Train (loss) = 0.1897, Validate (loss) = 0.1927\n",
      "====================\n",
      "Fold 4\n",
      "Train (loss) = 0.1910, Validate (loss) = 0.1954\n",
      "====================\n",
      "Fold 5\n",
      "Train (loss) = 0.1903, Validate (loss) = 0.1943\n",
      "====================\n",
      "Summary\n",
      "[[0.19076835 0.19394961]\n",
      " [0.18918039 0.19340535]\n",
      " [0.18968241 0.19267353]\n",
      " [0.19100335 0.19538164]\n",
      " [0.19028458 0.19425426]]\n",
      "Train (loss) = Best 0.1892, Avg. 0.1902, Worst 0.1910\n",
      "Validate (loss) = Best 0.1927, Avg. 0.1939, Worst 0.1954\n"
     ]
    }
   ],
   "source": [
    "history_path = \"results/history/Resnet50_imagenet/\"\n",
    "get_summary(history_path)"
   ]
  }
 ],
 "metadata": {
  "kernelspec": {
   "display_name": "Python 3 (ipykernel)",
   "language": "python",
   "name": "python3"
  },
  "language_info": {
   "codemirror_mode": {
    "name": "ipython",
    "version": 3
   },
   "file_extension": ".py",
   "mimetype": "text/x-python",
   "name": "python",
   "nbconvert_exporter": "python",
   "pygments_lexer": "ipython3",
   "version": "3.10.5"
  }
 },
 "nbformat": 4,
 "nbformat_minor": 5
}
