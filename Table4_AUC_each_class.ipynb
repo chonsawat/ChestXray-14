{
 "cells": [
  {
   "cell_type": "code",
   "execution_count": 1,
   "id": "d2959626-2851-4df7-98ec-a787dc9a0ab7",
   "metadata": {},
   "outputs": [
    {
     "name": "stderr",
     "output_type": "stream",
     "text": [
      "2022-12-25 06:34:40.480722: I tensorflow/core/util/util.cc:169] oneDNN custom operations are on. You may see slightly different numerical results due to floating-point round-off errors from different computation orders. To turn them off, set the environment variable `TF_ENABLE_ONEDNN_OPTS=0`.\n"
     ]
    }
   ],
   "source": [
    "from functools import partial\n",
    "\n",
    "import numpy as np\n",
    "import pandas as pd\n",
    "import tensorflow as tf\n",
    "\n",
    "import seaborn as sns\n",
    "import matplotlib.pyplot as plt\n",
    "import matplotlib.patches as mpatches\n",
    "\n",
    "from modules.dataset import Dataset, LABELS"
   ]
  },
  {
   "cell_type": "code",
   "execution_count": 2,
   "id": "afded59c-a7c1-4a6f-b9a5-576f88e6dc86",
   "metadata": {},
   "outputs": [],
   "source": [
    "sns.set_theme()"
   ]
  },
  {
   "cell_type": "markdown",
   "id": "81101fdb-a8ab-46c1-b17c-8c72bff127e5",
   "metadata": {},
   "source": [
    "## Functions"
   ]
  },
  {
   "cell_type": "code",
   "execution_count": 3,
   "id": "5524e3c5-70b6-4a00-9fa6-f2d6b0c385ff",
   "metadata": {},
   "outputs": [],
   "source": [
    "def get_test_dataset_5_fold():\n",
    "    dataset = Dataset()\n",
    "    _, test_dataset_fold_1 = dataset.get_kfold(fold_number=1, sample=False)\n",
    "    _, test_dataset_fold_2 = dataset.get_kfold(fold_number=2, sample=False)\n",
    "    _, test_dataset_fold_3 = dataset.get_kfold(fold_number=3, sample=False)\n",
    "    _, test_dataset_fold_4 = dataset.get_kfold(fold_number=4, sample=False)\n",
    "    _, test_dataset_fold_5 = dataset.get_kfold(fold_number=5, sample=False)\n",
    "    return (\n",
    "        test_dataset_fold_1,\n",
    "        test_dataset_fold_2,\n",
    "        test_dataset_fold_3,\n",
    "        test_dataset_fold_4,\n",
    "        test_dataset_fold_5\n",
    "    )"
   ]
  },
  {
   "cell_type": "code",
   "execution_count": 4,
   "id": "504d32a3-c386-4846-ac7b-de64af8ac5a2",
   "metadata": {},
   "outputs": [],
   "source": [
    "def get_y_true(data):\n",
    "    y_true=[]\n",
    "    for X,y in data:\n",
    "        for label in y:\n",
    "            y_true.append(label)\n",
    "    y_true = tf.Variable(y_true)\n",
    "    return y_true"
   ]
  },
  {
   "cell_type": "code",
   "execution_count": 5,
   "id": "0e777394-a9ca-4203-a2b9-66113002d8de",
   "metadata": {},
   "outputs": [],
   "source": [
    "def preprocessing(x, label: int):\n",
    "    return x[label]"
   ]
  },
  {
   "cell_type": "code",
   "execution_count": 6,
   "id": "5982ca74-702e-48f0-8405-2bb6c1dfe6e4",
   "metadata": {},
   "outputs": [],
   "source": [
    "def drop_duplicates(tpr, fpr):\n",
    "    df = pd.DataFrame({\n",
    "        \"TPR\": tpr,\n",
    "        \"FPR\": fpr\n",
    "    })\n",
    "    df = df.drop_duplicates()\n",
    "    return df[\"TPR\"].values, df[\"FPR\"].values"
   ]
  },
  {
   "cell_type": "code",
   "execution_count": 7,
   "id": "e0a49c8e-d65e-4262-a5d5-84c5fa6e2ab0",
   "metadata": {},
   "outputs": [],
   "source": [
    "def get_tpr_fpr(true_positive, true_negative, false_positive, false_negative, label_index):\n",
    "    func = partial(preprocessing, label=label_index)\n",
    "\n",
    "    TP = np.array(list(map(func, true_positive)))\n",
    "    TN = np.array(list(map(func, true_negative)))\n",
    "    FP = np.array(list(map(func, false_positive)))\n",
    "    FN = np.array(list(map(func, false_negative)))\n",
    "    \n",
    "    tpr = TP / (TP + FN)\n",
    "    fpr = FP / (FP + TN)\n",
    "\n",
    "    tpr, fpr = drop_duplicates(tpr, fpr)\n",
    "    return tpr, fpr"
   ]
  },
  {
   "cell_type": "code",
   "execution_count": 9,
   "id": "736baa98-0ebf-4154-b257-819322e6106a",
   "metadata": {},
   "outputs": [],
   "source": [
    "def calculate_auc(tpr, fpr):\n",
    "    delta = (tpr[1:] + tpr[:-1]) /2\n",
    "    distance = abs(fpr[1:] - fpr[:-1])\n",
    "    auc = sum(delta * distance)\n",
    "    return auc"
   ]
  },
  {
   "cell_type": "code",
   "execution_count": 10,
   "id": "9a5d8a59-dfdd-4b93-ae19-976ecb57aaba",
   "metadata": {},
   "outputs": [],
   "source": [
    "def plot_auc(tpr, fpr):\n",
    "    plt.figure(figsize=(12, 6))\n",
    "    \n",
    "    sns.lineplot(\n",
    "        x=fpr,\n",
    "        y=tpr,\n",
    "        linewidth=2,\n",
    "    )\n",
    "\n",
    "    # Draw Rectangle\n",
    "    for idx, x in enumerate(fpr[:-1]):\n",
    "        rect=mpatches.Rectangle(xy=(x,0),\n",
    "                                width=fpr[idx+1] - x,\n",
    "                                height=(tpr[idx] + tpr[idx+1])/2,\n",
    "                                fill = False,\n",
    "                                color = \"purple\",\n",
    "                                linewidth = 0.2)\n",
    "        plt.gca().add_patch(rect)\n",
    "\n",
    "    sns.scatterplot(x=fpr, y=tpr, s=50, marker=\"o\")\n",
    "    sns.lineplot(x=[0, 1], y=[0, 1], linestyle=\"--\", color=\"red\")\n",
    "    plt.xlabel(\"FPR\")\n",
    "    plt.ylabel(\"TPR\");\n",
    "    plt.show();"
   ]
  },
  {
   "cell_type": "markdown",
   "id": "2ea73779-d0b1-47c1-9453-2bc46518fc8a",
   "metadata": {},
   "source": [
    "## Main"
   ]
  },
  {
   "cell_type": "code",
   "execution_count": 14,
   "id": "ea23aa04-4a1b-4f58-8615-5c835a256e39",
   "metadata": {},
   "outputs": [],
   "source": [
    "def get_best_model():\n",
    "    return tf.keras.models.load_model(\"/home/jovyan/ChestXray-14/results/models/EfficientNetB0_None_fold_3.h5\")"
   ]
  },
  {
   "cell_type": "code",
   "execution_count": 15,
   "id": "1141fa4d-4dd7-4a93-8d8f-7625dd671027",
   "metadata": {},
   "outputs": [],
   "source": [
    "def model_predict(model, test_dataset):\n",
    "    return model.predict(test_dataset)"
   ]
  },
  {
   "cell_type": "code",
   "execution_count": 16,
   "id": "baccbac4-095a-4a71-98a5-a6b5b0edbf21",
   "metadata": {},
   "outputs": [],
   "source": [
    "# def get_best_model_prediction_df():\n",
    "#     best_model_prediction = pd.read_csv(\"~/ChestXray-14/results/prediction/EfficientNetB0_imagenet_fold_1.csv\")\n",
    "#     for key,values in best_model_prediction.items():\n",
    "#         best_model_prediction[key] = values.apply(eval).tolist()\n",
    "#     return best_model_prediction"
   ]
  },
  {
   "cell_type": "code",
   "execution_count": 17,
   "id": "91236433-3c31-4e8c-8c7f-f5de3950e08c",
   "metadata": {},
   "outputs": [],
   "source": [
    "def dict_of_auc():\n",
    "    auc_dict = dict()\n",
    "    \n",
    "    FOLDS = 5\n",
    "    dataset = get_test_dataset_5_fold()\n",
    "    model = get_best_model()\n",
    "    # best_model_prediction = get_best_model_prediction_df()\n",
    "    \n",
    "    for i in range(FOLDS):\n",
    "        y_true = get_y_true(dataset[i])\n",
    "        y_preds = model_predict(model, dataset[i])\n",
    "        # y_preds = best_model_prediction[f\"Fold {i+1}\"].values.tolist()\n",
    "        # y_preds = tf.Variable(y_preds)\n",
    "        \n",
    "        m = tf.keras.metrics.AUC(multi_label=True)\n",
    "        m.update_state(y_true, y_preds)\n",
    "        \n",
    "        thresholds = m.thresholds\n",
    "        thresholds_size = len(thresholds)\n",
    "        TP, TN, FP, FN = np.array(m.variables)\n",
    "        \n",
    "        auc_list = []\n",
    "        for label_index in range(15):\n",
    "            tpr, fpr = get_tpr_fpr(TP, TN, FP, FN, label_index)\n",
    "            auc = calculate_auc(tpr, fpr)\n",
    "            auc_list.append(auc)\n",
    "            \n",
    "            try:\n",
    "                auc_dict[f\"Fold {i+1}\"].append(auc)\n",
    "            except KeyError:\n",
    "                auc_dict[f\"Fold {i+1}\"] = [auc]\n",
    "            # print(f\"Class {LABELS[label_index]}: {auc}\")\n",
    "            # plot_auc(tpr, fpr)\n",
    "\n",
    "        print(f\"Average AUC: {np.mean(auc_list)}\")\n",
    "        print(\"From AUC function:\", m.result().numpy())\n",
    "    return auc_dict"
   ]
  },
  {
   "cell_type": "code",
   "execution_count": 18,
   "id": "97996dc2-1b26-4fd9-a3ce-9798825fe652",
   "metadata": {},
   "outputs": [
    {
     "name": "stderr",
     "output_type": "stream",
     "text": [
      "2022-12-25 06:36:48.812933: I tensorflow/core/platform/cpu_feature_guard.cc:193] This TensorFlow binary is optimized with oneAPI Deep Neural Network Library (oneDNN) to use the following CPU instructions in performance-critical operations:  AVX2 AVX512F AVX512_VNNI FMA\n",
      "To enable them in other operations, rebuild TensorFlow with the appropriate compiler flags.\n",
      "2022-12-25 06:36:50.577575: I tensorflow/core/common_runtime/gpu/gpu_device.cc:1532] Created device /job:localhost/replica:0/task:0/device:GPU:0 with 31853 MB memory:  -> device: 0, name: NVIDIA A100-SXM4-40GB, pci bus id: 0000:b1:00.0, compute capability: 8.0\n",
      "2022-12-25 06:37:14.183998: I tensorflow/stream_executor/cuda/cuda_dnn.cc:384] Loaded cuDNN version 8100\n",
      "2022-12-25 06:37:15.435539: I tensorflow/core/platform/default/subprocess.cc:304] Start cannot spawn child process: No such file or directory\n",
      "2022-12-25 06:37:15.436882: I tensorflow/core/platform/default/subprocess.cc:304] Start cannot spawn child process: No such file or directory\n",
      "2022-12-25 06:37:15.436950: W tensorflow/stream_executor/gpu/asm_compiler.cc:80] Couldn't get ptxas version string: INTERNAL: Couldn't invoke ptxas --version\n",
      "2022-12-25 06:37:15.438159: I tensorflow/core/platform/default/subprocess.cc:304] Start cannot spawn child process: No such file or directory\n",
      "2022-12-25 06:37:15.438270: W tensorflow/stream_executor/gpu/redzone_allocator.cc:314] INTERNAL: Failed to launch ptxas\n",
      "Relying on driver to perform ptx compilation. \n",
      "Modify $PATH to customize ptxas location.\n",
      "This message will be only logged once.\n"
     ]
    },
    {
     "name": "stdout",
     "output_type": "stream",
     "text": [
      "      7/Unknown - 9s 28ms/step"
     ]
    },
    {
     "name": "stderr",
     "output_type": "stream",
     "text": [
      "2022-12-25 06:37:19.743189: I tensorflow/stream_executor/cuda/cuda_blas.cc:1786] TensorFloat-32 will be used for the matrix multiplication. This will only be logged once.\n"
     ]
    },
    {
     "name": "stdout",
     "output_type": "stream",
     "text": [
      "1402/1402 [==============================] - 53s 31ms/step\n",
      "Average AUC: 0.7684605109989027\n",
      "From AUC function: 0.7684606\n",
      "1402/1402 [==============================] - 41s 29ms/step\n",
      "Average AUC: 0.7708837067566593\n",
      "From AUC function: 0.77088374\n",
      "1402/1402 [==============================] - 41s 29ms/step\n",
      "WARNING:tensorflow:5 out of the last 5 calls to <function pfor.<locals>.f at 0x7f6a145cd360> triggered tf.function retracing. Tracing is expensive and the excessive number of tracings could be due to (1) creating @tf.function repeatedly in a loop, (2) passing tensors with different shapes, (3) passing Python objects instead of tensors. For (1), please define your @tf.function outside of the loop. For (2), @tf.function has reduce_retracing=True option that can avoid unnecessary retracing. For (3), please refer to https://www.tensorflow.org/guide/function#controlling_retracing and https://www.tensorflow.org/api_docs/python/tf/function for  more details.\n",
      "WARNING:tensorflow:6 out of the last 6 calls to <function pfor.<locals>.f at 0x7f6a145cd090> triggered tf.function retracing. Tracing is expensive and the excessive number of tracings could be due to (1) creating @tf.function repeatedly in a loop, (2) passing tensors with different shapes, (3) passing Python objects instead of tensors. For (1), please define your @tf.function outside of the loop. For (2), @tf.function has reduce_retracing=True option that can avoid unnecessary retracing. For (3), please refer to https://www.tensorflow.org/guide/function#controlling_retracing and https://www.tensorflow.org/api_docs/python/tf/function for  more details.\n",
      "Average AUC: 0.7506393305193811\n",
      "From AUC function: 0.75063926\n",
      "1402/1402 [==============================] - 41s 29ms/step\n",
      "Average AUC: 0.7789387663007499\n",
      "From AUC function: 0.77893883\n",
      "1402/1402 [==============================] - 41s 29ms/step\n",
      "Average AUC: 0.7859009787624086\n",
      "From AUC function: 0.78590095\n"
     ]
    },
    {
     "data": {
      "text/html": [
       "<div>\n",
       "<style scoped>\n",
       "    .dataframe tbody tr th:only-of-type {\n",
       "        vertical-align: middle;\n",
       "    }\n",
       "\n",
       "    .dataframe tbody tr th {\n",
       "        vertical-align: top;\n",
       "    }\n",
       "\n",
       "    .dataframe thead th {\n",
       "        text-align: right;\n",
       "    }\n",
       "</style>\n",
       "<table border=\"1\" class=\"dataframe\">\n",
       "  <thead>\n",
       "    <tr style=\"text-align: right;\">\n",
       "      <th></th>\n",
       "      <th>Fold 1</th>\n",
       "      <th>Fold 2</th>\n",
       "      <th>Fold 3</th>\n",
       "      <th>Fold 4</th>\n",
       "      <th>Fold 5</th>\n",
       "    </tr>\n",
       "  </thead>\n",
       "  <tbody>\n",
       "    <tr>\n",
       "      <th>No Finding</th>\n",
       "      <td>0.774115</td>\n",
       "      <td>0.779931</td>\n",
       "      <td>0.748267</td>\n",
       "      <td>0.784305</td>\n",
       "      <td>0.791973</td>\n",
       "    </tr>\n",
       "    <tr>\n",
       "      <th>Atelectasis</th>\n",
       "      <td>0.779706</td>\n",
       "      <td>0.771103</td>\n",
       "      <td>0.761866</td>\n",
       "      <td>0.785773</td>\n",
       "      <td>0.797538</td>\n",
       "    </tr>\n",
       "    <tr>\n",
       "      <th>Consolidation</th>\n",
       "      <td>0.779879</td>\n",
       "      <td>0.788661</td>\n",
       "      <td>0.778305</td>\n",
       "      <td>0.804929</td>\n",
       "      <td>0.795448</td>\n",
       "    </tr>\n",
       "    <tr>\n",
       "      <th>Infiltration</th>\n",
       "      <td>0.684235</td>\n",
       "      <td>0.695880</td>\n",
       "      <td>0.681055</td>\n",
       "      <td>0.691947</td>\n",
       "      <td>0.697580</td>\n",
       "    </tr>\n",
       "    <tr>\n",
       "      <th>Pneumothorax</th>\n",
       "      <td>0.820415</td>\n",
       "      <td>0.833158</td>\n",
       "      <td>0.794361</td>\n",
       "      <td>0.827699</td>\n",
       "      <td>0.832036</td>\n",
       "    </tr>\n",
       "    <tr>\n",
       "      <th>Edema</th>\n",
       "      <td>0.877054</td>\n",
       "      <td>0.869230</td>\n",
       "      <td>0.876619</td>\n",
       "      <td>0.887434</td>\n",
       "      <td>0.882986</td>\n",
       "    </tr>\n",
       "    <tr>\n",
       "      <th>Emphysema</th>\n",
       "      <td>0.786494</td>\n",
       "      <td>0.779796</td>\n",
       "      <td>0.769780</td>\n",
       "      <td>0.793139</td>\n",
       "      <td>0.806052</td>\n",
       "    </tr>\n",
       "    <tr>\n",
       "      <th>Fibrosis</th>\n",
       "      <td>0.740820</td>\n",
       "      <td>0.736357</td>\n",
       "      <td>0.711822</td>\n",
       "      <td>0.730632</td>\n",
       "      <td>0.735287</td>\n",
       "    </tr>\n",
       "    <tr>\n",
       "      <th>Effusion</th>\n",
       "      <td>0.863438</td>\n",
       "      <td>0.867108</td>\n",
       "      <td>0.846437</td>\n",
       "      <td>0.876592</td>\n",
       "      <td>0.881235</td>\n",
       "    </tr>\n",
       "    <tr>\n",
       "      <th>Pneumonia</th>\n",
       "      <td>0.712934</td>\n",
       "      <td>0.728076</td>\n",
       "      <td>0.689780</td>\n",
       "      <td>0.754504</td>\n",
       "      <td>0.746591</td>\n",
       "    </tr>\n",
       "    <tr>\n",
       "      <th>Pleural_Thickening</th>\n",
       "      <td>0.760587</td>\n",
       "      <td>0.750694</td>\n",
       "      <td>0.736718</td>\n",
       "      <td>0.758592</td>\n",
       "      <td>0.786709</td>\n",
       "    </tr>\n",
       "    <tr>\n",
       "      <th>Cardiomegaly</th>\n",
       "      <td>0.882257</td>\n",
       "      <td>0.896575</td>\n",
       "      <td>0.854619</td>\n",
       "      <td>0.898327</td>\n",
       "      <td>0.912316</td>\n",
       "    </tr>\n",
       "    <tr>\n",
       "      <th>Nodule</th>\n",
       "      <td>0.650476</td>\n",
       "      <td>0.655426</td>\n",
       "      <td>0.631657</td>\n",
       "      <td>0.668177</td>\n",
       "      <td>0.661678</td>\n",
       "    </tr>\n",
       "    <tr>\n",
       "      <th>Mass</th>\n",
       "      <td>0.772662</td>\n",
       "      <td>0.750334</td>\n",
       "      <td>0.746773</td>\n",
       "      <td>0.755451</td>\n",
       "      <td>0.789247</td>\n",
       "    </tr>\n",
       "    <tr>\n",
       "      <th>Hernia</th>\n",
       "      <td>0.641835</td>\n",
       "      <td>0.660926</td>\n",
       "      <td>0.631532</td>\n",
       "      <td>0.666579</td>\n",
       "      <td>0.671840</td>\n",
       "    </tr>\n",
       "  </tbody>\n",
       "</table>\n",
       "</div>"
      ],
      "text/plain": [
       "                      Fold 1    Fold 2    Fold 3    Fold 4    Fold 5\n",
       "No Finding          0.774115  0.779931  0.748267  0.784305  0.791973\n",
       "Atelectasis         0.779706  0.771103  0.761866  0.785773  0.797538\n",
       "Consolidation       0.779879  0.788661  0.778305  0.804929  0.795448\n",
       "Infiltration        0.684235  0.695880  0.681055  0.691947  0.697580\n",
       "Pneumothorax        0.820415  0.833158  0.794361  0.827699  0.832036\n",
       "Edema               0.877054  0.869230  0.876619  0.887434  0.882986\n",
       "Emphysema           0.786494  0.779796  0.769780  0.793139  0.806052\n",
       "Fibrosis            0.740820  0.736357  0.711822  0.730632  0.735287\n",
       "Effusion            0.863438  0.867108  0.846437  0.876592  0.881235\n",
       "Pneumonia           0.712934  0.728076  0.689780  0.754504  0.746591\n",
       "Pleural_Thickening  0.760587  0.750694  0.736718  0.758592  0.786709\n",
       "Cardiomegaly        0.882257  0.896575  0.854619  0.898327  0.912316\n",
       "Nodule              0.650476  0.655426  0.631657  0.668177  0.661678\n",
       "Mass                0.772662  0.750334  0.746773  0.755451  0.789247\n",
       "Hernia              0.641835  0.660926  0.631532  0.666579  0.671840"
      ]
     },
     "execution_count": 18,
     "metadata": {},
     "output_type": "execute_result"
    }
   ],
   "source": [
    "df = pd.DataFrame(dict_of_auc())\n",
    "df.index = LABELS\n",
    "df"
   ]
  },
  {
   "cell_type": "code",
   "execution_count": 19,
   "id": "aaf37cfa-fe53-46fc-8385-96f4de393796",
   "metadata": {},
   "outputs": [],
   "source": [
    "df.to_csv(\"/home/jovyan/ChestXray-14/results/paper/table3/best_model_AUC_on_test_5_folds.csv\", index=True)"
   ]
  },
  {
   "cell_type": "code",
   "execution_count": null,
   "id": "aa0f08fe-c83d-40b7-9771-6b31084a7dae",
   "metadata": {},
   "outputs": [],
   "source": []
  }
 ],
 "metadata": {
  "kernelspec": {
   "display_name": "Python 3 (ipykernel)",
   "language": "python",
   "name": "python3"
  },
  "language_info": {
   "codemirror_mode": {
    "name": "ipython",
    "version": 3
   },
   "file_extension": ".py",
   "mimetype": "text/x-python",
   "name": "python",
   "nbconvert_exporter": "python",
   "pygments_lexer": "ipython3",
   "version": "3.10.5"
  }
 },
 "nbformat": 4,
 "nbformat_minor": 5
}
