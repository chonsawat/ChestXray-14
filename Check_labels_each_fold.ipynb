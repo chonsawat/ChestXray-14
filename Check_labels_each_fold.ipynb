{
 "cells": [
  {
   "cell_type": "code",
   "execution_count": 31,
   "id": "6481efd9-64a4-4984-9b9e-8458611ee30e",
   "metadata": {},
   "outputs": [],
   "source": [
    "import numpy as np\n",
    "from modules.dataset import Dataset"
   ]
  },
  {
   "cell_type": "code",
   "execution_count": 32,
   "id": "8a58bcd9-22d2-4ccc-b0db-044e9d89934e",
   "metadata": {},
   "outputs": [
    {
     "name": "stdout",
     "output_type": "stream",
     "text": [
      "[48201  9334  3773 15943  4256  1857  2029  1367 10692  1137  2722  2219\n",
      "  5046  4641   181]\n",
      "[12160  2225   894  3951  1046   446   487   319  2625   294   663   557\n",
      "  1285  1141    46]\n"
     ]
    }
   ],
   "source": [
    "train, test = Dataset().get_kfold(1)\n",
    "\n",
    "y_list = []\n",
    "for x,y in train:\n",
    "    # print(y)\n",
    "    y_list.append(y)\n",
    "\n",
    "train_labels = np.vstack(y_list)\n",
    "print(train_labels.sum(axis=0))\n",
    "\n",
    "y_list = []\n",
    "for x,y in test:\n",
    "    # print(y)\n",
    "    y_list.append(y)\n",
    "\n",
    "train_labels = np.vstack(y_list)\n",
    "print(train_labels.sum(axis=0))"
   ]
  },
  {
   "cell_type": "code",
   "execution_count": 33,
   "id": "8c638a3c-f79f-4f35-919a-357e0f8a89d5",
   "metadata": {},
   "outputs": [
    {
     "name": "stdout",
     "output_type": "stream",
     "text": [
      "[48321  9233  3699 16008  4229  1855  2017  1343 10576  1146  2715  2184\n",
      "  5047  4643   180]\n",
      "[12040  2326   968  3886  1073   448   499   343  2741   285   670   592\n",
      "  1284  1139    47]\n"
     ]
    }
   ],
   "source": [
    "train, test = Dataset().get_kfold(2)\n",
    "\n",
    "y_list = []\n",
    "for x,y in train:\n",
    "    # print(y)\n",
    "    y_list.append(y)\n",
    "\n",
    "train_labels = np.vstack(y_list)\n",
    "print(train_labels.sum(axis=0))\n",
    "\n",
    "y_list = []\n",
    "for x,y in test:\n",
    "    # print(y)\n",
    "    y_list.append(y)\n",
    "\n",
    "train_labels = np.vstack(y_list)\n",
    "print(train_labels.sum(axis=0))"
   ]
  },
  {
   "cell_type": "code",
   "execution_count": 34,
   "id": "39577d18-6b7f-46cc-9559-5df2db1eedf2",
   "metadata": {},
   "outputs": [
    {
     "name": "stdout",
     "output_type": "stream",
     "text": [
      "[48244  9226  3739 15900  4224  1836  2017  1336 10655  1154  2711  2201\n",
      "  5082  4641   175]\n",
      "[12117  2333   928  3994  1078   467   499   350  2662   277   674   575\n",
      "  1249  1141    52]\n"
     ]
    }
   ],
   "source": [
    "train, test = Dataset().get_kfold(3)\n",
    "\n",
    "y_list = []\n",
    "for x,y in train:\n",
    "    # print(y)\n",
    "    y_list.append(y)\n",
    "\n",
    "train_labels = np.vstack(y_list)\n",
    "print(train_labels.sum(axis=0))\n",
    "\n",
    "y_list = []\n",
    "for x,y in test:\n",
    "    # print(y)\n",
    "    y_list.append(y)\n",
    "\n",
    "train_labels = np.vstack(y_list)\n",
    "print(train_labels.sum(axis=0))"
   ]
  },
  {
   "cell_type": "code",
   "execution_count": 35,
   "id": "51a0a154-9688-44a5-9d7e-8c6627faa53a",
   "metadata": {},
   "outputs": [
    {
     "name": "stdout",
     "output_type": "stream",
     "text": [
      "[48416  9230  3744 15814  4234  1840  2000  1315 10613  1160  2694  2251\n",
      "  5046  4609   183]\n",
      "[11945  2329   923  4080  1068   463   516   371  2704   271   691   525\n",
      "  1285  1173    44]\n"
     ]
    }
   ],
   "source": [
    "train, test = Dataset().get_kfold(4)\n",
    "\n",
    "y_list = []\n",
    "for x,y in train:\n",
    "    # print(y)\n",
    "    y_list.append(y)\n",
    "\n",
    "train_labels = np.vstack(y_list)\n",
    "print(train_labels.sum(axis=0))\n",
    "\n",
    "y_list = []\n",
    "for x,y in test:\n",
    "    # print(y)\n",
    "    y_list.append(y)\n",
    "\n",
    "train_labels = np.vstack(y_list)\n",
    "print(train_labels.sum(axis=0))"
   ]
  },
  {
   "cell_type": "code",
   "execution_count": 36,
   "id": "2b23a5b2-701a-4eb7-94ad-7df844d6c8a9",
   "metadata": {},
   "outputs": [
    {
     "name": "stdout",
     "output_type": "stream",
     "text": [
      "[48262  9213  3713 15911  4265  1824  2001  1383 10732  1127  2698  2249\n",
      "  5103  4594   189]\n",
      "[12099  2346   954  3983  1037   479   515   303  2585   304   687   527\n",
      "  1228  1188    38]\n"
     ]
    }
   ],
   "source": [
    "train, test = Dataset().get_kfold(5)\n",
    "\n",
    "y_list = []\n",
    "for x,y in train:\n",
    "    # print(y)\n",
    "    y_list.append(y)\n",
    "\n",
    "train_labels = np.vstack(y_list)\n",
    "print(train_labels.sum(axis=0))\n",
    "\n",
    "y_list = []\n",
    "for x,y in test:\n",
    "    # print(y)\n",
    "    y_list.append(y)\n",
    "\n",
    "train_labels = np.vstack(y_list)\n",
    "print(train_labels.sum(axis=0))"
   ]
  },
  {
   "cell_type": "code",
   "execution_count": null,
   "id": "1030e59c-a7bf-41a2-afdf-bf24e0dc12a3",
   "metadata": {},
   "outputs": [],
   "source": []
  }
 ],
 "metadata": {
  "kernelspec": {
   "display_name": "Python 3 (ipykernel)",
   "language": "python",
   "name": "python3"
  },
  "language_info": {
   "codemirror_mode": {
    "name": "ipython",
    "version": 3
   },
   "file_extension": ".py",
   "mimetype": "text/x-python",
   "name": "python",
   "nbconvert_exporter": "python",
   "pygments_lexer": "ipython3",
   "version": "3.10.5"
  }
 },
 "nbformat": 4,
 "nbformat_minor": 5
}
