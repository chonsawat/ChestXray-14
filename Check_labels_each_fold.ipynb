{
 "cells": [
  {
   "cell_type": "code",
   "execution_count": 4,
   "id": "6481efd9-64a4-4984-9b9e-8458611ee30e",
   "metadata": {},
   "outputs": [],
   "source": [
    "import numpy as np\n",
    "from modules.dataset import LABELS\n",
    "from modules.dataset import Dataset\n",
    "import pprint"
   ]
  },
  {
   "cell_type": "markdown",
   "id": "9fc17067-772c-4261-813d-389eff98ada0",
   "metadata": {},
   "source": [
    "### Fold 1"
   ]
  },
  {
   "cell_type": "code",
   "execution_count": 11,
   "id": "8a58bcd9-22d2-4ccc-b0db-044e9d89934e",
   "metadata": {},
   "outputs": [
    {
     "name": "stdout",
     "output_type": "stream",
     "text": [
      "[('No Finding', 48201),\n",
      " ('Atelectasis', 9334),\n",
      " ('Consolidation', 3773),\n",
      " ('Infiltration', 15943),\n",
      " ('Pneumothorax', 4256),\n",
      " ('Edema', 1857),\n",
      " ('Emphysema', 2029),\n",
      " ('Fibrosis', 1367),\n",
      " ('Effusion', 10692),\n",
      " ('Pneumonia', 1137),\n",
      " ('Pleural_Thickening', 2722),\n",
      " ('Cardiomegaly', 2219),\n",
      " ('Nodule', 5046),\n",
      " ('Mass', 4641),\n",
      " ('Hernia', 181)]\n",
      "Count: 89696\n",
      "[('No Finding', 12160),\n",
      " ('Atelectasis', 2225),\n",
      " ('Consolidation', 894),\n",
      " ('Infiltration', 3951),\n",
      " ('Pneumothorax', 1046),\n",
      " ('Edema', 446),\n",
      " ('Emphysema', 487),\n",
      " ('Fibrosis', 319),\n",
      " ('Effusion', 2625),\n",
      " ('Pneumonia', 294),\n",
      " ('Pleural_Thickening', 663),\n",
      " ('Cardiomegaly', 557),\n",
      " ('Nodule', 1285),\n",
      " ('Mass', 1141),\n",
      " ('Hernia', 46)]\n",
      "Count:  22424\n",
      "All: 112120\n"
     ]
    }
   ],
   "source": [
    "train, test = Dataset().get_kfold(1)\n",
    "\n",
    "y_list = []\n",
    "for x,y in train:\n",
    "    # print(y)\n",
    "    y_list.append(y)\n",
    "train_labels = np.vstack(y_list)\n",
    "\n",
    "y_list = []\n",
    "for x,y in test:\n",
    "    # print(y)\n",
    "    y_list.append(y)\n",
    "test_labels = np.vstack(y_list)\n",
    "\n",
    "# Print\n",
    "pprint.pprint(list(zip(LABELS,train_labels.sum(axis=0))))\n",
    "print(\"Count:\", len(train_labels))\n",
    "pprint.pprint(list(zip(LABELS, test_labels.sum(axis=0))))\n",
    "print(\"Count: \", len(test_labels))\n",
    "\n",
    "print(\"All:\", len(train_labels)+len(test_labels))"
   ]
  },
  {
   "cell_type": "markdown",
   "id": "ea2f2295-e17b-44d2-aa37-bef387efd864",
   "metadata": {},
   "source": [
    "### Fold 2"
   ]
  },
  {
   "cell_type": "code",
   "execution_count": 12,
   "id": "8c638a3c-f79f-4f35-919a-357e0f8a89d5",
   "metadata": {},
   "outputs": [
    {
     "name": "stdout",
     "output_type": "stream",
     "text": [
      "[('No Finding', 48321),\n",
      " ('Atelectasis', 9233),\n",
      " ('Consolidation', 3699),\n",
      " ('Infiltration', 16008),\n",
      " ('Pneumothorax', 4229),\n",
      " ('Edema', 1855),\n",
      " ('Emphysema', 2017),\n",
      " ('Fibrosis', 1343),\n",
      " ('Effusion', 10576),\n",
      " ('Pneumonia', 1146),\n",
      " ('Pleural_Thickening', 2715),\n",
      " ('Cardiomegaly', 2184),\n",
      " ('Nodule', 5047),\n",
      " ('Mass', 4643),\n",
      " ('Hernia', 180)]\n",
      "Count: 89696\n",
      "[('No Finding', 12040),\n",
      " ('Atelectasis', 2326),\n",
      " ('Consolidation', 968),\n",
      " ('Infiltration', 3886),\n",
      " ('Pneumothorax', 1073),\n",
      " ('Edema', 448),\n",
      " ('Emphysema', 499),\n",
      " ('Fibrosis', 343),\n",
      " ('Effusion', 2741),\n",
      " ('Pneumonia', 285),\n",
      " ('Pleural_Thickening', 670),\n",
      " ('Cardiomegaly', 592),\n",
      " ('Nodule', 1284),\n",
      " ('Mass', 1139),\n",
      " ('Hernia', 47)]\n",
      "Count:  22424\n",
      "All: 112120\n"
     ]
    }
   ],
   "source": [
    "train, test = Dataset().get_kfold(2)\n",
    "\n",
    "y_list = []\n",
    "for x,y in train:\n",
    "    # print(y)\n",
    "    y_list.append(y)\n",
    "train_labels = np.vstack(y_list)\n",
    "\n",
    "\n",
    "y_list = []\n",
    "for x,y in test:\n",
    "    # print(y)\n",
    "    y_list.append(y)\n",
    "test_labels = np.vstack(y_list)\n",
    "\n",
    "# Print\n",
    "pprint.pprint(list(zip(LABELS,train_labels.sum(axis=0))))\n",
    "print(\"Count:\", len(train_labels))\n",
    "pprint.pprint(list(zip(LABELS, test_labels.sum(axis=0))))\n",
    "print(\"Count: \", len(test_labels))\n",
    "\n",
    "print(\"All:\", len(train_labels)+len(test_labels))"
   ]
  },
  {
   "cell_type": "markdown",
   "id": "5f9ad40f-9998-4ea4-ad67-ffe653ec0ac7",
   "metadata": {},
   "source": [
    "### Fold 3"
   ]
  },
  {
   "cell_type": "code",
   "execution_count": 13,
   "id": "39577d18-6b7f-46cc-9559-5df2db1eedf2",
   "metadata": {},
   "outputs": [
    {
     "name": "stdout",
     "output_type": "stream",
     "text": [
      "[('No Finding', 48244),\n",
      " ('Atelectasis', 9226),\n",
      " ('Consolidation', 3739),\n",
      " ('Infiltration', 15900),\n",
      " ('Pneumothorax', 4224),\n",
      " ('Edema', 1836),\n",
      " ('Emphysema', 2017),\n",
      " ('Fibrosis', 1336),\n",
      " ('Effusion', 10655),\n",
      " ('Pneumonia', 1154),\n",
      " ('Pleural_Thickening', 2711),\n",
      " ('Cardiomegaly', 2201),\n",
      " ('Nodule', 5082),\n",
      " ('Mass', 4641),\n",
      " ('Hernia', 175)]\n",
      "Count: 89696\n",
      "[('No Finding', 12117),\n",
      " ('Atelectasis', 2333),\n",
      " ('Consolidation', 928),\n",
      " ('Infiltration', 3994),\n",
      " ('Pneumothorax', 1078),\n",
      " ('Edema', 467),\n",
      " ('Emphysema', 499),\n",
      " ('Fibrosis', 350),\n",
      " ('Effusion', 2662),\n",
      " ('Pneumonia', 277),\n",
      " ('Pleural_Thickening', 674),\n",
      " ('Cardiomegaly', 575),\n",
      " ('Nodule', 1249),\n",
      " ('Mass', 1141),\n",
      " ('Hernia', 52)]\n",
      "Count:  22424\n",
      "All: 112120\n"
     ]
    }
   ],
   "source": [
    "train, test = Dataset().get_kfold(3)\n",
    "\n",
    "y_list = []\n",
    "for x,y in train:\n",
    "    # print(y)\n",
    "    y_list.append(y)\n",
    "train_labels = np.vstack(y_list)\n",
    "\n",
    "\n",
    "y_list = []\n",
    "for x,y in test:\n",
    "    # print(y)\n",
    "    y_list.append(y)\n",
    "test_labels = np.vstack(y_list)\n",
    "\n",
    "# Print\n",
    "pprint.pprint(list(zip(LABELS,train_labels.sum(axis=0))))\n",
    "print(\"Count:\", len(train_labels))\n",
    "pprint.pprint(list(zip(LABELS, test_labels.sum(axis=0))))\n",
    "print(\"Count: \", len(test_labels))\n",
    "\n",
    "print(\"All:\", len(train_labels)+len(test_labels))"
   ]
  },
  {
   "cell_type": "markdown",
   "id": "30c22417-8bf7-4c6e-b921-ff633a7d08ee",
   "metadata": {},
   "source": [
    "### Fold 4"
   ]
  },
  {
   "cell_type": "code",
   "execution_count": 14,
   "id": "51a0a154-9688-44a5-9d7e-8c6627faa53a",
   "metadata": {},
   "outputs": [
    {
     "name": "stdout",
     "output_type": "stream",
     "text": [
      "[('No Finding', 48416),\n",
      " ('Atelectasis', 9230),\n",
      " ('Consolidation', 3744),\n",
      " ('Infiltration', 15814),\n",
      " ('Pneumothorax', 4234),\n",
      " ('Edema', 1840),\n",
      " ('Emphysema', 2000),\n",
      " ('Fibrosis', 1315),\n",
      " ('Effusion', 10613),\n",
      " ('Pneumonia', 1160),\n",
      " ('Pleural_Thickening', 2694),\n",
      " ('Cardiomegaly', 2251),\n",
      " ('Nodule', 5046),\n",
      " ('Mass', 4609),\n",
      " ('Hernia', 183)]\n",
      "Count: 89696\n",
      "[('No Finding', 11945),\n",
      " ('Atelectasis', 2329),\n",
      " ('Consolidation', 923),\n",
      " ('Infiltration', 4080),\n",
      " ('Pneumothorax', 1068),\n",
      " ('Edema', 463),\n",
      " ('Emphysema', 516),\n",
      " ('Fibrosis', 371),\n",
      " ('Effusion', 2704),\n",
      " ('Pneumonia', 271),\n",
      " ('Pleural_Thickening', 691),\n",
      " ('Cardiomegaly', 525),\n",
      " ('Nodule', 1285),\n",
      " ('Mass', 1173),\n",
      " ('Hernia', 44)]\n",
      "Count:  22424\n",
      "All: 112120\n"
     ]
    }
   ],
   "source": [
    "train, test = Dataset().get_kfold(4)\n",
    "\n",
    "y_list = []\n",
    "for x,y in train:\n",
    "    # print(y)\n",
    "    y_list.append(y)\n",
    "train_labels = np.vstack(y_list)\n",
    "\n",
    "y_list = []\n",
    "for x,y in test:\n",
    "    # print(y)\n",
    "    y_list.append(y)\n",
    "test_labels = np.vstack(y_list)\n",
    "\n",
    "# Print\n",
    "pprint.pprint(list(zip(LABELS,train_labels.sum(axis=0))))\n",
    "print(\"Count:\", len(train_labels))\n",
    "pprint.pprint(list(zip(LABELS, test_labels.sum(axis=0))))\n",
    "print(\"Count: \", len(test_labels))\n",
    "\n",
    "print(\"All:\", len(train_labels)+len(test_labels))"
   ]
  },
  {
   "cell_type": "markdown",
   "id": "bc23658d-f1f9-4a6a-9b5d-97011221049f",
   "metadata": {},
   "source": [
    "### Fold 5"
   ]
  },
  {
   "cell_type": "code",
   "execution_count": 15,
   "id": "2b23a5b2-701a-4eb7-94ad-7df844d6c8a9",
   "metadata": {},
   "outputs": [
    {
     "name": "stdout",
     "output_type": "stream",
     "text": [
      "[('No Finding', 48262),\n",
      " ('Atelectasis', 9213),\n",
      " ('Consolidation', 3713),\n",
      " ('Infiltration', 15911),\n",
      " ('Pneumothorax', 4265),\n",
      " ('Edema', 1824),\n",
      " ('Emphysema', 2001),\n",
      " ('Fibrosis', 1383),\n",
      " ('Effusion', 10732),\n",
      " ('Pneumonia', 1127),\n",
      " ('Pleural_Thickening', 2698),\n",
      " ('Cardiomegaly', 2249),\n",
      " ('Nodule', 5103),\n",
      " ('Mass', 4594),\n",
      " ('Hernia', 189)]\n",
      "Count: 89696\n",
      "[('No Finding', 12099),\n",
      " ('Atelectasis', 2346),\n",
      " ('Consolidation', 954),\n",
      " ('Infiltration', 3983),\n",
      " ('Pneumothorax', 1037),\n",
      " ('Edema', 479),\n",
      " ('Emphysema', 515),\n",
      " ('Fibrosis', 303),\n",
      " ('Effusion', 2585),\n",
      " ('Pneumonia', 304),\n",
      " ('Pleural_Thickening', 687),\n",
      " ('Cardiomegaly', 527),\n",
      " ('Nodule', 1228),\n",
      " ('Mass', 1188),\n",
      " ('Hernia', 38)]\n",
      "Count:  22424\n",
      "All: 112120\n"
     ]
    }
   ],
   "source": [
    "train, test = Dataset().get_kfold(5)\n",
    "\n",
    "y_list = []\n",
    "for x,y in train:\n",
    "    # print(y)\n",
    "    y_list.append(y)\n",
    "train_labels = np.vstack(y_list)\n",
    "\n",
    "\n",
    "\n",
    "y_list = []\n",
    "for x,y in test:\n",
    "    # print(y)\n",
    "    y_list.append(y)\n",
    "test_labels = np.vstack(y_list)\n",
    "\n",
    "# Print\n",
    "pprint.pprint(list(zip(LABELS,train_labels.sum(axis=0))))\n",
    "print(\"Count:\", len(train_labels))\n",
    "pprint.pprint(list(zip(LABELS, test_labels.sum(axis=0))))\n",
    "print(\"Count: \", len(test_labels))\n",
    "\n",
    "print(\"All:\", len(train_labels)+len(test_labels))"
   ]
  },
  {
   "cell_type": "code",
   "execution_count": 9,
   "id": "1030e59c-a7bf-41a2-afdf-bf24e0dc12a3",
   "metadata": {},
   "outputs": [],
   "source": []
  },
  {
   "cell_type": "code",
   "execution_count": null,
   "id": "f106560d-34a7-49ba-b42e-21efd3afbed4",
   "metadata": {},
   "outputs": [],
   "source": []
  }
 ],
 "metadata": {
  "kernelspec": {
   "display_name": "Python 3 (ipykernel)",
   "language": "python",
   "name": "python3"
  },
  "language_info": {
   "codemirror_mode": {
    "name": "ipython",
    "version": 3
   },
   "file_extension": ".py",
   "mimetype": "text/x-python",
   "name": "python",
   "nbconvert_exporter": "python",
   "pygments_lexer": "ipython3",
   "version": "3.10.5"
  }
 },
 "nbformat": 4,
 "nbformat_minor": 5
}
