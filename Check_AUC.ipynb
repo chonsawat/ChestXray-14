{
 "cells": [
  {
   "cell_type": "code",
   "execution_count": 1,
   "id": "01d472b3-ae28-490c-bc5e-8b5d6125e6b6",
   "metadata": {},
   "outputs": [
    {
     "data": {
      "text/plain": [
       "{'loss': [0.5024577379226685,\n",
       "  0.22246168553829193,\n",
       "  0.2143031507730484,\n",
       "  0.21363767981529236,\n",
       "  0.2136019915342331,\n",
       "  0.2136247307062149,\n",
       "  0.2136353999376297,\n",
       "  0.21364416182041168,\n",
       "  0.2136487513780594,\n",
       "  0.21364587545394897],\n",
       " 'auc': [0.48173078894615173,\n",
       "  0.48525479435920715,\n",
       "  0.4727247953414917,\n",
       "  0.4666137099266052,\n",
       "  0.4795754551887512,\n",
       "  0.47894996404647827,\n",
       "  0.4734995663166046,\n",
       "  0.46566733717918396,\n",
       "  0.46642807126045227,\n",
       "  0.4657370150089264],\n",
       " 'precision': [0.08275000005960464,\n",
       "  0.08275000005960464,\n",
       "  0.08275000005960464,\n",
       "  0.08275000005960464,\n",
       "  0.08275000005960464,\n",
       "  0.08275000005960464,\n",
       "  0.08275000005960464,\n",
       "  0.08275000005960464,\n",
       "  0.08275000005960464,\n",
       "  0.08275000005960464],\n",
       " 'recall': [1.0, 1.0, 1.0, 1.0, 1.0, 1.0, 1.0, 1.0, 1.0, 1.0],\n",
       " 'f1_score': [array([0.3125997 , 0.19148934, 0.05825243, 0.19727892, 0.05555555,\n",
       "         0.        , 0.        , 0.        , 0.        , 0.        ,\n",
       "         0.        , 0.03302753, 0.        , 0.        , 0.        ],\n",
       "        dtype=float32),\n",
       "  array([0.7044534, 0.       , 0.       , 0.       , 0.       , 0.       ,\n",
       "         0.       , 0.       , 0.       , 0.       , 0.       , 0.       ,\n",
       "         0.       , 0.       , 0.       ], dtype=float32),\n",
       "  array([0.7044534, 0.       , 0.       , 0.       , 0.       , 0.       ,\n",
       "         0.       , 0.       , 0.       , 0.       , 0.       , 0.       ,\n",
       "         0.       , 0.       , 0.       ], dtype=float32),\n",
       "  array([0.67532474, 0.        , 0.        , 0.        , 0.        ,\n",
       "         0.        , 0.        , 0.        , 0.        , 0.        ,\n",
       "         0.        , 0.        , 0.        , 0.        , 0.        ],\n",
       "        dtype=float32),\n",
       "  array([0.67076385, 0.        , 0.        , 0.        , 0.        ,\n",
       "         0.        , 0.        , 0.        , 0.        , 0.        ,\n",
       "         0.        , 0.        , 0.        , 0.        , 0.        ],\n",
       "        dtype=float32),\n",
       "  array([0.67076385, 0.        , 0.        , 0.        , 0.        ,\n",
       "         0.        , 0.        , 0.        , 0.        , 0.        ,\n",
       "         0.        , 0.        , 0.        , 0.        , 0.        ],\n",
       "        dtype=float32),\n",
       "  array([0.65894926, 0.        , 0.        , 0.        , 0.        ,\n",
       "         0.        , 0.        , 0.        , 0.        , 0.        ,\n",
       "         0.        , 0.        , 0.        , 0.        , 0.        ],\n",
       "        dtype=float32),\n",
       "  array([0.65894926, 0.        , 0.        , 0.        , 0.        ,\n",
       "         0.        , 0.        , 0.        , 0.        , 0.        ,\n",
       "         0.        , 0.        , 0.        , 0.        , 0.        ],\n",
       "        dtype=float32),\n",
       "  array([0.65894926, 0.        , 0.        , 0.        , 0.        ,\n",
       "         0.        , 0.        , 0.        , 0.        , 0.        ,\n",
       "         0.        , 0.        , 0.        , 0.        , 0.        ],\n",
       "        dtype=float32),\n",
       "  array([0.65894926, 0.        , 0.        , 0.        , 0.        ,\n",
       "         0.        , 0.        , 0.        , 0.        , 0.        ,\n",
       "         0.        , 0.        , 0.        , 0.        , 0.        ],\n",
       "        dtype=float32)],\n",
       " 'val_loss': [0.27003252506256104,\n",
       "  0.2366020530462265,\n",
       "  0.2344752550125122,\n",
       "  0.23451772332191467,\n",
       "  0.23429477214813232,\n",
       "  0.23443175852298737,\n",
       "  0.2343798279762268,\n",
       "  0.23437881469726562,\n",
       "  0.23436252772808075,\n",
       "  0.23442621529102325],\n",
       " 'val_auc': [0.5,\n",
       "  0.5,\n",
       "  0.5,\n",
       "  0.466092586517334,\n",
       "  0.5060319304466248,\n",
       "  0.5038095116615295,\n",
       "  0.5,\n",
       "  0.5,\n",
       "  0.5,\n",
       "  0.5],\n",
       " 'val_precision': [0.08833333104848862,\n",
       "  0.08833333104848862,\n",
       "  0.08833333104848862,\n",
       "  0.08833333104848862,\n",
       "  0.08833333104848862,\n",
       "  0.08833333104848862,\n",
       "  0.08833333104848862,\n",
       "  0.08833333104848862,\n",
       "  0.08833333104848862,\n",
       "  0.08833333104848862],\n",
       " 'val_recall': [1.0, 1.0, 1.0, 1.0, 1.0, 1.0, 1.0, 1.0, 1.0, 1.0],\n",
       " 'val_f1_score': [array([0.68852454, 0.        , 0.        , 0.        , 0.        ,\n",
       "         0.        , 0.        , 0.        , 0.        , 0.        ,\n",
       "         0.        , 0.        , 0.        , 0.        , 0.        ],\n",
       "        dtype=float32),\n",
       "  array([0.68852454, 0.        , 0.        , 0.        , 0.        ,\n",
       "         0.        , 0.        , 0.        , 0.        , 0.        ,\n",
       "         0.        , 0.        , 0.        , 0.        , 0.        ],\n",
       "        dtype=float32),\n",
       "  array([0.68852454, 0.        , 0.        , 0.        , 0.        ,\n",
       "         0.        , 0.        , 0.        , 0.        , 0.        ,\n",
       "         0.        , 0.        , 0.        , 0.        , 0.        ],\n",
       "        dtype=float32),\n",
       "  array([0.68852454, 0.        , 0.        , 0.        , 0.        ,\n",
       "         0.        , 0.        , 0.        , 0.        , 0.        ,\n",
       "         0.        , 0.        , 0.        , 0.        , 0.        ],\n",
       "        dtype=float32),\n",
       "  array([0.68852454, 0.        , 0.        , 0.        , 0.        ,\n",
       "         0.        , 0.        , 0.        , 0.        , 0.        ,\n",
       "         0.        , 0.        , 0.        , 0.        , 0.        ],\n",
       "        dtype=float32),\n",
       "  array([0.68852454, 0.        , 0.        , 0.        , 0.        ,\n",
       "         0.        , 0.        , 0.        , 0.        , 0.        ,\n",
       "         0.        , 0.        , 0.        , 0.        , 0.        ],\n",
       "        dtype=float32),\n",
       "  array([0.68852454, 0.        , 0.        , 0.        , 0.        ,\n",
       "         0.        , 0.        , 0.        , 0.        , 0.        ,\n",
       "         0.        , 0.        , 0.        , 0.        , 0.        ],\n",
       "        dtype=float32),\n",
       "  array([0.68852454, 0.        , 0.        , 0.        , 0.        ,\n",
       "         0.        , 0.        , 0.        , 0.        , 0.        ,\n",
       "         0.        , 0.        , 0.        , 0.        , 0.        ],\n",
       "        dtype=float32),\n",
       "  array([0.68852454, 0.        , 0.        , 0.        , 0.        ,\n",
       "         0.        , 0.        , 0.        , 0.        , 0.        ,\n",
       "         0.        , 0.        , 0.        , 0.        , 0.        ],\n",
       "        dtype=float32),\n",
       "  array([0.68852454, 0.        , 0.        , 0.        , 0.        ,\n",
       "         0.        , 0.        , 0.        , 0.        , 0.        ,\n",
       "         0.        , 0.        , 0.        , 0.        , 0.        ],\n",
       "        dtype=float32)]}"
      ]
     },
     "execution_count": 1,
     "metadata": {},
     "output_type": "execute_result"
    }
   ],
   "source": [
    "import joblib\n",
    "filename = \"results/history/ResNet50_1_history.sav\"\n",
    "history = joblib.load(filename)\n",
    "history"
   ]
  },
  {
   "cell_type": "code",
   "execution_count": 2,
   "id": "0425eeda-6c57-456c-b553-c0258deb4411",
   "metadata": {},
   "outputs": [
    {
     "name": "stdout",
     "output_type": "stream",
     "text": [
      "/home/jovyan/ChestXray-14\n"
     ]
    }
   ],
   "source": [
    "!pwd"
   ]
  },
  {
   "cell_type": "code",
   "execution_count": 3,
   "id": "a304fa08-4e9d-4989-b143-eff13bab231c",
   "metadata": {},
   "outputs": [],
   "source": [
    "import tensorflow as tf\n",
    "from modules.dataset import Dataset"
   ]
  },
  {
   "cell_type": "code",
   "execution_count": 5,
   "id": "315a6032-e227-4016-a70f-3da68acb908d",
   "metadata": {},
   "outputs": [
    {
     "data": {
      "text/plain": [
       "<PrefetchDataset element_spec=(TensorSpec(shape=(None, 224, 224, 3), dtype=tf.float32, name=None), TensorSpec(shape=(None, 15), dtype=tf.int64, name=None))>"
      ]
     },
     "execution_count": 5,
     "metadata": {},
     "output_type": "execute_result"
    }
   ],
   "source": [
    "train, test = Dataset().get_kfold(1, sample=True)\n",
    "test"
   ]
  },
  {
   "cell_type": "code",
   "execution_count": 14,
   "id": "75e5760b-e1ec-4ab7-a722-8881bb50a5ce",
   "metadata": {},
   "outputs": [
    {
     "data": {
      "text/plain": [
       "<tf.Variable 'Variable:0' shape=(200, 15) dtype=int64, numpy=\n",
       "array([[1, 0, 0, ..., 0, 0, 0],\n",
       "       [1, 0, 0, ..., 0, 0, 0],\n",
       "       [1, 0, 0, ..., 0, 0, 0],\n",
       "       ...,\n",
       "       [0, 0, 0, ..., 0, 0, 0],\n",
       "       [1, 0, 0, ..., 0, 0, 0],\n",
       "       [1, 0, 0, ..., 0, 0, 0]])>"
      ]
     },
     "execution_count": 14,
     "metadata": {},
     "output_type": "execute_result"
    }
   ],
   "source": [
    "y_true=[]\n",
    "for X,y in test:\n",
    "    for label in y:\n",
    "        y_true.append(label)\n",
    "y_true = tf.Variable(y_true)\n",
    "y_true"
   ]
  },
  {
   "cell_type": "code",
   "execution_count": 19,
   "id": "60777b4b-6be8-4d54-bb15-25f0ae9d4568",
   "metadata": {},
   "outputs": [],
   "source": [
    "import tensorflow as tf\n",
    "import wandb\n",
    "from wandb.keras import WandbCallback\n",
    "\n",
    "from modules.dataset import Dataset\n",
    "from modules.models import Model\n",
    "\n",
    "# Constant variables\n",
    "NAME = \"ResNet50\"\n",
    "EPOCHS = 10\n",
    "NUM_FOLDS = 5\n",
    "\n",
    "dataset = Dataset()\n",
    "fold_num = 1\n",
    "\n",
    "# Dataset\n",
    "train_dataset, test_dataset = dataset.get_kfold(fold_num, sample=True)\n",
    "\n",
    "# Modeling\n",
    "model = tf.keras.models.load_model(\"results/models/resnet50_fold1.h5\")"
   ]
  },
  {
   "cell_type": "code",
   "execution_count": 20,
   "id": "a89ab1e2-db02-4104-8283-7817b2580aa6",
   "metadata": {},
   "outputs": [
    {
     "name": "stderr",
     "output_type": "stream",
     "text": [
      "2022-09-15 09:55:47.300044: I tensorflow/stream_executor/cuda/cuda_dnn.cc:384] Loaded cuDNN version 8100\n",
      "2022-09-15 09:55:48.192134: I tensorflow/core/platform/default/subprocess.cc:304] Start cannot spawn child process: No such file or directory\n",
      "2022-09-15 09:55:48.193251: I tensorflow/core/platform/default/subprocess.cc:304] Start cannot spawn child process: No such file or directory\n",
      "2022-09-15 09:55:48.193304: W tensorflow/stream_executor/gpu/asm_compiler.cc:80] Couldn't get ptxas version string: INTERNAL: Couldn't invoke ptxas --version\n",
      "2022-09-15 09:55:48.194344: I tensorflow/core/platform/default/subprocess.cc:304] Start cannot spawn child process: No such file or directory\n",
      "2022-09-15 09:55:48.194550: W tensorflow/stream_executor/gpu/redzone_allocator.cc:314] INTERNAL: Failed to launch ptxas\n",
      "Relying on driver to perform ptx compilation. \n",
      "Modify $PATH to customize ptxas location.\n",
      "This message will be only logged once.\n"
     ]
    },
    {
     "name": "stdout",
     "output_type": "stream",
     "text": [
      "      5/Unknown - 5s 31ms/step"
     ]
    },
    {
     "name": "stderr",
     "output_type": "stream",
     "text": [
      "2022-09-15 09:55:49.484938: I tensorflow/stream_executor/cuda/cuda_blas.cc:1786] TensorFloat-32 will be used for the matrix multiplication. This will only be logged once.\n"
     ]
    },
    {
     "name": "stdout",
     "output_type": "stream",
     "text": [
      "13/13 [==============================] - 5s 86ms/step\n"
     ]
    }
   ],
   "source": [
    "y_preds = model.predict(test_dataset)"
   ]
  },
  {
   "cell_type": "code",
   "execution_count": 30,
   "id": "3ddce97d-2f4d-4d67-9039-e8ee3f8accf1",
   "metadata": {},
   "outputs": [
    {
     "data": {
      "text/plain": [
       "array([[1, 0, 0, ..., 0, 0, 0],\n",
       "       [1, 0, 0, ..., 0, 0, 0],\n",
       "       [1, 0, 0, ..., 0, 0, 0],\n",
       "       ...,\n",
       "       [1, 0, 0, ..., 0, 0, 0],\n",
       "       [1, 0, 0, ..., 0, 0, 0],\n",
       "       [1, 0, 0, ..., 0, 0, 0]], dtype=int16)"
      ]
     },
     "execution_count": 30,
     "metadata": {},
     "output_type": "execute_result"
    }
   ],
   "source": [
    "(y_preds > 0.4).astype('int16')"
   ]
  },
  {
   "cell_type": "code",
   "execution_count": 47,
   "id": "733341f2-d670-48c3-9767-6c94fe6c4a7d",
   "metadata": {},
   "outputs": [
    {
     "data": {
      "text/plain": [
       "array([[0.48581904, 0.10406391, 0.03509307, ..., 0.07648436, 0.08108151,\n",
       "        0.01197154],\n",
       "       [0.48581904, 0.10406391, 0.03509307, ..., 0.07648436, 0.08108151,\n",
       "        0.01197154],\n",
       "       [0.48581904, 0.10406391, 0.03509307, ..., 0.07648436, 0.08108151,\n",
       "        0.01197154],\n",
       "       ...,\n",
       "       [0.48581904, 0.10406391, 0.03509307, ..., 0.07648436, 0.08108151,\n",
       "        0.01197154],\n",
       "       [0.48581904, 0.10406391, 0.03509307, ..., 0.07648436, 0.08108151,\n",
       "        0.01197154],\n",
       "       [0.48581904, 0.10406391, 0.03509307, ..., 0.07648436, 0.08108151,\n",
       "        0.01197154]], dtype=float32)"
      ]
     },
     "execution_count": 47,
     "metadata": {},
     "output_type": "execute_result"
    }
   ],
   "source": [
    "y_preds"
   ]
  },
  {
   "cell_type": "code",
   "execution_count": 31,
   "id": "41c33db2-f2f8-479c-9764-4d9ee815f238",
   "metadata": {},
   "outputs": [
    {
     "data": {
      "text/plain": [
       "0.5"
      ]
     },
     "execution_count": 31,
     "metadata": {},
     "output_type": "execute_result"
    }
   ],
   "source": [
    "m = tf.keras.metrics.AUC(multi_label=True)\n",
    "m.update_state(y_true, y_preds)\n",
    "m.result().numpy()"
   ]
  },
  {
   "cell_type": "code",
   "execution_count": null,
   "id": "a84e1317-133f-4128-9a11-79817ac7d945",
   "metadata": {},
   "outputs": [],
   "source": [
    "import inspect\n",
    "inspect.getmembers(m)"
   ]
  },
  {
   "cell_type": "code",
   "execution_count": 141,
   "id": "bb71b8f9-c22b-4f7b-af05-69bf3fee31e3",
   "metadata": {},
   "outputs": [
    {
     "data": {
      "text/plain": [
       "True"
      ]
     },
     "execution_count": 141,
     "metadata": {},
     "output_type": "execute_result"
    }
   ],
   "source": [
    "\"\"\" Interesting Keys\n",
    ">>* m._thresholds\n",
    ">>> m._non_trainable_weights\n",
    ">>> m._tracking_metadata\n",
    ">>> m._unconditional_checkpoint_dependencies\n",
    ">>* m._unconditional_dependency_names\n",
    "\n",
    ">>* m.true_positives\n",
    ">>* m.true_negatives\n",
    ">>* m.false_positives\n",
    ">>* m.false_negatives\n",
    "\n",
    ">>* m.num_thresholds\n",
    ">>* m.variables\n",
    "\n",
    "for name,value in m._unconditional_checkpoint_dependencies:\n",
    "    print(value.numpy())\n",
    "\"\"\"\n",
    "\n",
    "m.variables == list(m.weights)"
   ]
  },
  {
   "cell_type": "code",
   "execution_count": 165,
   "id": "1bcfe961-ad08-4bca-aeef-999282cd1d99",
   "metadata": {},
   "outputs": [],
   "source": [
    "for value, value_2 in zip(m.variables, [m.true_positives.numpy().tolist(), \n",
    "                                        m.true_negatives.numpy().tolist(),\n",
    "                                        m.false_positives.numpy().tolist(),\n",
    "                                        m.false_negatives.numpy().tolist()]):\n",
    "    assert value.numpy().tolist() == value_2, \"Not Equal\""
   ]
  },
  {
   "cell_type": "code",
   "execution_count": 161,
   "id": "819d136e-12ae-44d7-b1cf-251b6f3e3898",
   "metadata": {},
   "outputs": [
    {
     "data": {
      "text/plain": [
       "15"
      ]
     },
     "execution_count": 161,
     "metadata": {},
     "output_type": "execute_result"
    }
   ],
   "source": []
  },
  {
   "cell_type": "code",
   "execution_count": null,
   "id": "f2257fd2-f356-447e-b5a9-54ad947c55ef",
   "metadata": {},
   "outputs": [],
   "source": []
  }
 ],
 "metadata": {
  "kernelspec": {
   "display_name": "Python 3 (ipykernel)",
   "language": "python",
   "name": "python3"
  },
  "language_info": {
   "codemirror_mode": {
    "name": "ipython",
    "version": 3
   },
   "file_extension": ".py",
   "mimetype": "text/x-python",
   "name": "python",
   "nbconvert_exporter": "python",
   "pygments_lexer": "ipython3",
   "version": "3.10.5"
  }
 },
 "nbformat": 4,
 "nbformat_minor": 5
}
