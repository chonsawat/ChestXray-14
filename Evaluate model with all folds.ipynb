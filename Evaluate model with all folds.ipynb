{
 "cells": [
  {
   "cell_type": "code",
   "execution_count": 91,
   "id": "a1d4952b-6eee-4bf7-997e-b3e127ccfcd6",
   "metadata": {},
   "outputs": [
    {
     "name": "stdout",
     "output_type": "stream",
     "text": [
      "Looking in indexes: https://pypi.org/simple, https://pypi.ngc.nvidia.com\n",
      "Collecting tensorflow_addons\n",
      "  Downloading tensorflow_addons-0.18.0-cp310-cp310-manylinux_2_17_x86_64.manylinux2014_x86_64.whl (1.1 MB)\n",
      "\u001b[2K     \u001b[90m━━━━━━━━━━━━━━━━━━━━━━━━━━━━━━━━━━━━━━━━\u001b[0m \u001b[32m1.1/1.1 MB\u001b[0m \u001b[31m7.1 MB/s\u001b[0m eta \u001b[36m0:00:00\u001b[0ma \u001b[36m0:00:01\u001b[0m\n",
      "\u001b[?25hRequirement already satisfied: packaging in /opt/conda/lib/python3.10/site-packages (from tensorflow_addons) (21.3)\n",
      "Collecting typeguard>=2.7\n",
      "  Downloading typeguard-2.13.3-py3-none-any.whl (17 kB)\n",
      "Requirement already satisfied: pyparsing!=3.0.5,>=2.0.2 in /opt/conda/lib/python3.10/site-packages (from packaging->tensorflow_addons) (3.0.9)\n",
      "Installing collected packages: typeguard, tensorflow_addons\n",
      "Successfully installed tensorflow_addons-0.18.0 typeguard-2.13.3\n"
     ]
    }
   ],
   "source": [
    "!pip install tensorflow_addons"
   ]
  },
  {
   "cell_type": "code",
   "execution_count": 92,
   "id": "02034222-754f-417c-bdbb-36779f7ffb5e",
   "metadata": {},
   "outputs": [],
   "source": [
    "import numpy as np\n",
    "import pandas as pd\n",
    "import seaborn as sns\n",
    "import tensorflow as tf\n",
    "import matplotlib.pyplot as plt\n",
    "import tensorflow_addons as tfa\n",
    "from modules.dataset import LABELS, Dataset"
   ]
  },
  {
   "cell_type": "markdown",
   "id": "05034553-8f6a-4c1c-9d82-5a9735937076",
   "metadata": {
    "tags": []
   },
   "source": [
    "## Evaluate Function"
   ]
  },
  {
   "cell_type": "code",
   "execution_count": 49,
   "id": "23b5161c-a021-42ce-9627-5d1dbc8f9386",
   "metadata": {},
   "outputs": [],
   "source": [
    "def preprocessing_data(x):\n",
    "    if \"e+\" in x:\n",
    "        values = eval(x.replace(\" \", \", \"))\n",
    "        return np.array(values)\n",
    "    else:\n",
    "        values = eval(x.replace(\"\\n\", \"\").replace(\". \", \".,\"))\n",
    "        return np.array(values)"
   ]
  },
  {
   "cell_type": "code",
   "execution_count": 59,
   "id": "3e87c0cd-ef54-4d67-a584-ed9d2cb5cc0b",
   "metadata": {},
   "outputs": [],
   "source": [
    "def get_confusion(path):\n",
    "    \"\"\"\n",
    "    Parameters\n",
    "    ----------\n",
    "    path: str\n",
    "        path to confusion metrics csv file of needed model\n",
    "    \"\"\"\n",
    "    df = pd.read_csv(path)\n",
    "    thresholds = df[\"thresholds\"].values\n",
    "    TP = df[\"TP\"].apply(preprocessing_data).values\n",
    "    TN = df[\"TN\"].apply(preprocessing_data).values\n",
    "    FP = df[\"FP\"].apply(preprocessing_data).values\n",
    "    FN = df[\"FN\"].apply(preprocessing_data).values\n",
    "    return thresholds, TP, TN, FP, FN"
   ]
  },
  {
   "cell_type": "code",
   "execution_count": 60,
   "id": "a8efc140-7e7b-4ac1-90be-61b970a3013a",
   "metadata": {},
   "outputs": [],
   "source": [
    "def get_f1_dict(thresholds, TP, TN, FP, FN):\n",
    "    f1_thresholds_dict = dict()\n",
    "    for i_thresh, (tps, tns, fps, fns) in enumerate(zip(TP, TN, FP, FN)):\n",
    "        for label, tp, tn, fp, fn in zip(LABELS, tps, tns, fps, fns):\n",
    "            f1_score = 2*tp / (2*tp + fp + fn)\n",
    "            try: \n",
    "                f1_thresholds_dict[label].append((thresholds[i_thresh], f1_score))\n",
    "            except:\n",
    "                f1_thresholds_dict[label] = [(thresholds[i_thresh], f1_score)]\n",
    "    return f1_thresholds_dict"
   ]
  },
  {
   "cell_type": "code",
   "execution_count": 85,
   "id": "8266d5d5-abd2-41c2-9bba-a492c6d98aa2",
   "metadata": {},
   "outputs": [],
   "source": [
    "def get_best_multiple_threshold(dictionary, name=\"F1-score vs. Thresholds\", x_label='Thresholds', y_label='F1-scores', plot_compare=False):\n",
    "    if plot_compare:\n",
    "        plt.figure(figsize=(20,12))\n",
    "    best_multiple_threshold_list = []\n",
    "    for i, (label, value) in enumerate(dictionary.items()):\n",
    "        x, y = zip(*value)\n",
    "        if plot_compare:\n",
    "            plt.plot(x, y, marker='.', label=label)\n",
    "        \n",
    "        y = np.array(y)\n",
    "        best = y.argmax()\n",
    "        if plot_compare:\n",
    "            sns.scatterplot(x=[x[best]], y=[y[best]], marker=\"X\", s=300)\n",
    "        \n",
    "        best_multiple_threshold_list.append(x[y.argmax()])\n",
    "\n",
    "    if plot_compare:\n",
    "        plt.title(name)\n",
    "        plt.legend()\n",
    "        plt.xlabel(x_label, fontweight='bold')\n",
    "        plt.ylabel(y_label, fontweight='bold')\n",
    "        plt.ylim(-0.05, 1.05)\n",
    "        plt.xlim(-0.05, 1.05)\n",
    "        plt.show()\n",
    "    return best_multiple_threshold_list"
   ]
  },
  {
   "cell_type": "code",
   "execution_count": 96,
   "id": "d9f3fa12-1a40-4a0b-8816-5f1e4737677c",
   "metadata": {},
   "outputs": [],
   "source": [
    "def get_thresholds(path):\n",
    "    confusion = get_confusion(path)\n",
    "    f1_dicts = get_f1_dict(*confusion)\n",
    "    best_thresholds = get_best_multiple_threshold(f1_dicts, plot_compare=False)\n",
    "    return best_thresholds"
   ]
  },
  {
   "cell_type": "code",
   "execution_count": 137,
   "id": "e15e0352-5d4a-46d5-8df7-14f85fd4d6a3",
   "metadata": {},
   "outputs": [],
   "source": [
    "def get_confusion_metrics(trues, prediction, thresh_value):\n",
    "    metric = tfa.metrics.MultiLabelConfusionMatrix(num_classes=15)\n",
    "    metric.update_state(trues,\n",
    "                        np.greater_equal(prediction, thresh_value).astype('int8'))\n",
    "    return metric.result()"
   ]
  },
  {
   "cell_type": "markdown",
   "id": "f0014678-4f61-4e27-b867-2bfc03b45b68",
   "metadata": {
    "tags": []
   },
   "source": [
    "## Main Function"
   ]
  },
  {
   "cell_type": "code",
   "execution_count": 19,
   "id": "d906e0cb-eadf-4ee1-a6ac-a9aeae8238a6",
   "metadata": {},
   "outputs": [],
   "source": [
    "def get_model(model_path):\n",
    "    return tf.keras.models.load_model(model_path)"
   ]
  },
  {
   "cell_type": "code",
   "execution_count": 124,
   "id": "9329f9d8-c85a-4ade-829f-ffb1b6d291e9",
   "metadata": {},
   "outputs": [],
   "source": [
    "def get_filename(model_path):\n",
    "    return model_path.split(\".\")[0].split(\"/\")[-1]"
   ]
  },
  {
   "cell_type": "code",
   "execution_count": 20,
   "id": "8131704a-09ff-48cd-9587-a47efc9bd158",
   "metadata": {},
   "outputs": [],
   "source": [
    "def get_y_true(data):\n",
    "    y_true=[]\n",
    "    for X,y in data:\n",
    "        for label in y:\n",
    "            y_true.append(label)\n",
    "    y_true = tf.Variable(y_true)\n",
    "    return y_true"
   ]
  },
  {
   "cell_type": "code",
   "execution_count": 28,
   "id": "3dafaafc-8b7b-4282-a585-0170d139476f",
   "metadata": {},
   "outputs": [],
   "source": [
    "def get_test_dataset_5_fold():\n",
    "    dataset = Dataset()\n",
    "    _, test_dataset_fold_1 = dataset.get_kfold(fold_number=1, sample=False)\n",
    "    _, test_dataset_fold_2 = dataset.get_kfold(fold_number=2, sample=False)\n",
    "    _, test_dataset_fold_3 = dataset.get_kfold(fold_number=3, sample=False)\n",
    "    _, test_dataset_fold_4 = dataset.get_kfold(fold_number=4, sample=False)\n",
    "    _, test_dataset_fold_5 = dataset.get_kfold(fold_number=5, sample=False)\n",
    "    return (\n",
    "        test_dataset_fold_1,\n",
    "        test_dataset_fold_2,\n",
    "        test_dataset_fold_3,\n",
    "        test_dataset_fold_4,\n",
    "        test_dataset_fold_5\n",
    "    )"
   ]
  },
  {
   "cell_type": "code",
   "execution_count": 44,
   "id": "b3868fcf-4507-4229-b082-ec9dab100264",
   "metadata": {},
   "outputs": [],
   "source": [
    "def model_predict(model, test_dataset):\n",
    "    return model.predict(test_dataset)"
   ]
  },
  {
   "cell_type": "code",
   "execution_count": 138,
   "id": "b93fe214-a3e4-4686-b1b7-cf34960178e2",
   "metadata": {},
   "outputs": [],
   "source": [
    "def evaluate(model, test_dataset, file_name):\n",
    "    best_thresholds = get_thresholds(f\"/home/jovyan/ChestXray-14/results/confusion/{file_name}.csv\")\n",
    "    y_true = get_y_true(test_dataset)\n",
    "    y_preds = model_predict(model, test_dataset)\n",
    "    confusion_metrics = get_confusion_metrics(y_true, y_preds, best_thresholds)\n",
    "    return calculate_f1_scores(confusion_metrics).mean()"
   ]
  },
  {
   "cell_type": "markdown",
   "id": "ea1ff23c-b0f3-4631-a00f-c85439739d23",
   "metadata": {},
   "source": [
    "## Main"
   ]
  },
  {
   "cell_type": "code",
   "execution_count": 139,
   "id": "45af2c8c-cf6f-4bde-9d0c-293c7d91632e",
   "metadata": {},
   "outputs": [],
   "source": [
    "test_dataset = get_test_dataset_5_fold()"
   ]
  },
  {
   "cell_type": "code",
   "execution_count": 145,
   "id": "a987c1a4-2af2-4c2e-8e00-9cc01709f764",
   "metadata": {},
   "outputs": [],
   "source": [
    "def evaluate_5_folds(path):\n",
    "    \"\"\"\n",
    "    Parameter\n",
    "    ---------\n",
    "    path: str\n",
    "        path to best model\n",
    "    \"\"\"\n",
    "    model = get_model(path)\n",
    "    file_name = get_filename(path)\n",
    "    \n",
    "    f1_score_5_folds = []\n",
    "    print(f\"===== {file_name} =====\")\n",
    "    for i in range(1, 6): # 5 Folds\n",
    "        f1_score = evaluate(model=model, test_dataset=test_dataset[i-1], file_name=file_name)\n",
    "        f1_score_5_folds.append(f1_score)\n",
    "        print(f\">> Fold {i} = {f1_score}\")\n",
    "    \n",
    "    print(f\"Average F1-score of {file_name} = {np.mean(f1_score_5_folds)}\")"
   ]
  },
  {
   "cell_type": "code",
   "execution_count": 147,
   "id": "c6d8e816-68eb-4bf3-823a-b7abab67ece8",
   "metadata": {},
   "outputs": [
    {
     "name": "stdout",
     "output_type": "stream",
     "text": [
      "===== DenseNet121_None_fold_3 =====\n",
      "1402/1402 [==============================] - 53s 36ms/step\n",
      ">> Fold 1 = 0.24538062512874603\n",
      "1402/1402 [==============================] - 52s 37ms/step\n",
      ">> Fold 2 = 0.2464958280324936\n",
      "1402/1402 [==============================] - 51s 36ms/step\n",
      ">> Fold 3 = 0.24230287969112396\n",
      "1402/1402 [==============================] - 51s 37ms/step\n",
      ">> Fold 4 = 0.24926969408988953\n",
      "1402/1402 [==============================] - 52s 37ms/step\n",
      ">> Fold 5 = 0.27010810375213623\n",
      "Average F1-score of DenseNet121_None_fold_3 = 0.2507114112377167\n"
     ]
    }
   ],
   "source": [
    "evaluate_5_folds(\"/home/jovyan/ChestXray-14/results/models/DenseNet121_None_fold_3.h5\")"
   ]
  },
  {
   "cell_type": "code",
   "execution_count": null,
   "id": "5efa2470-91a2-40d9-a91e-ab2b4fe2888d",
   "metadata": {},
   "outputs": [],
   "source": []
  }
 ],
 "metadata": {
  "kernelspec": {
   "display_name": "Python 3 (ipykernel)",
   "language": "python",
   "name": "python3"
  },
  "language_info": {
   "codemirror_mode": {
    "name": "ipython",
    "version": 3
   },
   "file_extension": ".py",
   "mimetype": "text/x-python",
   "name": "python",
   "nbconvert_exporter": "python",
   "pygments_lexer": "ipython3",
   "version": "3.10.5"
  }
 },
 "nbformat": 4,
 "nbformat_minor": 5
}
