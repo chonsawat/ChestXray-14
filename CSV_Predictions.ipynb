{
 "cells": [
  {
   "cell_type": "code",
   "execution_count": 48,
   "id": "0fcb463a-655b-4279-8b57-7ef524d02a7c",
   "metadata": {},
   "outputs": [],
   "source": [
    "import numpy as np\n",
    "import pandas as pd\n",
    "import tensorflow as tf\n",
    "from modules.dataset import LABELS, Dataset"
   ]
  },
  {
   "cell_type": "code",
   "execution_count": 2,
   "id": "48108748-99c4-4559-908c-d73b90c2de22",
   "metadata": {},
   "outputs": [],
   "source": [
    "def get_test_dataset_5_fold():\n",
    "    dataset = Dataset()\n",
    "    _, test_dataset_fold_1 = dataset.get_kfold(fold_number=1, sample=False)\n",
    "    _, test_dataset_fold_2 = dataset.get_kfold(fold_number=2, sample=False)\n",
    "    _, test_dataset_fold_3 = dataset.get_kfold(fold_number=3, sample=False)\n",
    "    _, test_dataset_fold_4 = dataset.get_kfold(fold_number=4, sample=False)\n",
    "    _, test_dataset_fold_5 = dataset.get_kfold(fold_number=5, sample=False)\n",
    "    return (\n",
    "        test_dataset_fold_1,\n",
    "        test_dataset_fold_2,\n",
    "        test_dataset_fold_3,\n",
    "        test_dataset_fold_4,\n",
    "        test_dataset_fold_5\n",
    "    )"
   ]
  },
  {
   "cell_type": "code",
   "execution_count": 3,
   "id": "61737882-def2-4f5d-a868-3401d5f9900e",
   "metadata": {},
   "outputs": [],
   "source": [
    "def get_model(model_path):\n",
    "    return tf.keras.models.load_model(model_path)"
   ]
  },
  {
   "cell_type": "code",
   "execution_count": 41,
   "id": "9d588079-c600-4657-b12b-f981bdaf3765",
   "metadata": {},
   "outputs": [],
   "source": [
    "def get_name(path):\n",
    "    \"\"\"\n",
    "    Parameter\n",
    "    ---------\n",
    "    path: str\n",
    "        absolute path to model \n",
    "    \n",
    "    Examples\n",
    "    --------\n",
    "    >> get_name('/home/jovyan/ChestXray-14/results/models/DenseNet121_None_fold_1.h5')\n",
    "    DenseNet121_None_fold_1.h5\n",
    "    \"\"\"\n",
    "    return path.split(\"/\")[-1]"
   ]
  },
  {
   "cell_type": "code",
   "execution_count": 4,
   "id": "ff8590f7-e956-4fd2-a795-25af0a292e38",
   "metadata": {},
   "outputs": [],
   "source": [
    "def model_predict(model, test_dataset):\n",
    "    return model.predict(test_dataset)"
   ]
  },
  {
   "cell_type": "code",
   "execution_count": 89,
   "id": "d7dd3783-16f6-4c98-b65d-1a662746aab9",
   "metadata": {},
   "outputs": [],
   "source": [
    "def create_prediction_dataframe(model, test_dataset, fold_numbers=5):\n",
    "    df_dict = dict()\n",
    "    for idx, dataset in zip(range(fold_numbers), test_dataset):\n",
    "        y_preds = model_predict(model, dataset)\n",
    "        df_dict[f\"Fold {idx+1}\"] = y_preds.tolist()\n",
    "    return pd.DataFrame(df_dict)"
   ]
  },
  {
   "cell_type": "code",
   "execution_count": 93,
   "id": "ad46e776-eb26-4df9-8897-867cf132e3fd",
   "metadata": {},
   "outputs": [],
   "source": [
    "def write_csv(dataframe, name):\n",
    "    assert isinstance(dataframe, pd.DataFrame), \"Value is not DataFrame\"\n",
    "    absolute_path = f\"/home/jovyan/ChestXray-14/results/prediction/{name.split('.')[0]}.csv\"\n",
    "    dataframe.to_csv(absolute_path, index=False)\n",
    "    print(f\"{absolute_path} was Created !\")"
   ]
  },
  {
   "cell_type": "markdown",
   "id": "d73402ce-5e53-4b51-8d53-853f85cef78e",
   "metadata": {},
   "source": [
    "## Main"
   ]
  },
  {
   "cell_type": "markdown",
   "id": "55fd0a25-32ba-4fa0-8b5b-740f51ce0a2d",
   "metadata": {},
   "source": [
    "ดึง `path` ของทุกโมเดล"
   ]
  },
  {
   "cell_type": "code",
   "execution_count": null,
   "id": "ef0324e4-4165-424b-bb21-48a70b87b21d",
   "metadata": {},
   "outputs": [
    {
     "data": {
      "text/plain": [
       "['/home/jovyan/ChestXray-14/results/models/DenseNet121_None_fold_1.h5',\n",
       " '/home/jovyan/ChestXray-14/results/models/DenseNet121_None_fold_2.h5',\n",
       " '/home/jovyan/ChestXray-14/results/models/DenseNet121_None_fold_3.h5',\n",
       " '/home/jovyan/ChestXray-14/results/models/DenseNet121_None_fold_4.h5',\n",
       " '/home/jovyan/ChestXray-14/results/models/DenseNet121_None_fold_5.h5']"
      ]
     },
     "execution_count": 38,
     "metadata": {},
     "output_type": "execute_result"
    }
   ],
   "source": [
    "path_models = sorted(tf.io.gfile.glob(\"/home/jovyan/ChestXray-14/results/models/*.h5\"))\n",
    "path_models[:5]"
   ]
  },
  {
   "cell_type": "markdown",
   "id": "841c2f22-863a-468f-964f-8236d08b7f94",
   "metadata": {},
   "source": [
    "ดึง `Test Dataset`"
   ]
  },
  {
   "cell_type": "code",
   "execution_count": null,
   "id": "b00256a1-0d67-4ad2-a112-8ffb07ace287",
   "metadata": {},
   "outputs": [],
   "source": [
    "test_dataset = get_test_dataset_5_fold()"
   ]
  },
  {
   "cell_type": "markdown",
   "id": "b8f2f1c5-512b-452e-85b3-221a6efca7dc",
   "metadata": {},
   "source": [
    "ดึงโมเดลมาทำนายและเก็บผลไว้ที่ `ChestXray-14/results/prediction`"
   ]
  },
  {
   "cell_type": "code",
   "execution_count": 94,
   "id": "d4e0a8b7-57b7-48bc-94fc-661316a0bf01",
   "metadata": {},
   "outputs": [
    {
     "name": "stdout",
     "output_type": "stream",
     "text": [
      "1402/1402 [==============================] - 55s 38ms/step\n",
      "1402/1402 [==============================] - 52s 37ms/step\n",
      "1402/1402 [==============================] - 52s 37ms/step\n",
      "1402/1402 [==============================] - 53s 37ms/step\n",
      "1402/1402 [==============================] - 52s 37ms/step\n",
      "/home/jovyan/ChestXray-14/results/prediction/DenseNet121_None_fold_1.csv was Created !\n",
      "1402/1402 [==============================] - 56s 39ms/step\n",
      "1402/1402 [==============================] - 54s 38ms/step\n",
      "1402/1402 [==============================] - 54s 39ms/step\n",
      "1402/1402 [==============================] - 55s 39ms/step\n",
      "1402/1402 [==============================] - 54s 39ms/step\n",
      "/home/jovyan/ChestXray-14/results/prediction/DenseNet121_None_fold_2.csv was Created !\n",
      "1402/1402 [==============================] - 55s 38ms/step\n",
      "1402/1402 [==============================] - 53s 38ms/step\n",
      "1402/1402 [==============================] - 53s 37ms/step\n",
      "1402/1402 [==============================] - 53s 38ms/step\n",
      "1402/1402 [==============================] - 53s 38ms/step\n",
      "/home/jovyan/ChestXray-14/results/prediction/DenseNet121_None_fold_3.csv was Created !\n",
      "1402/1402 [==============================] - 55s 37ms/step\n",
      "1402/1402 [==============================] - 53s 37ms/step\n",
      "1402/1402 [==============================] - 52s 37ms/step\n",
      "1402/1402 [==============================] - 53s 38ms/step\n",
      "1402/1402 [==============================] - 54s 38ms/step\n",
      "/home/jovyan/ChestXray-14/results/prediction/DenseNet121_None_fold_4.csv was Created !\n",
      "1402/1402 [==============================] - 56s 38ms/step\n",
      "1402/1402 [==============================] - 54s 38ms/step\n",
      "1402/1402 [==============================] - 53s 38ms/step\n",
      "1402/1402 [==============================] - 53s 38ms/step\n",
      "1402/1402 [==============================] - 54s 38ms/step\n",
      "/home/jovyan/ChestXray-14/results/prediction/DenseNet121_None_fold_5.csv was Created !\n",
      "1402/1402 [==============================] - 59s 41ms/step\n",
      "1402/1402 [==============================] - 57s 40ms/step\n",
      "1402/1402 [==============================] - 57s 41ms/step\n",
      "1402/1402 [==============================] - 57s 41ms/step\n",
      "1402/1402 [==============================] - 57s 40ms/step\n",
      "/home/jovyan/ChestXray-14/results/prediction/DenseNet121_imagenet_fold_1.csv was Created !\n",
      "1402/1402 [==============================] - 56s 38ms/step\n",
      "1402/1402 [==============================] - 53s 38ms/step\n",
      "1402/1402 [==============================] - 53s 38ms/step\n",
      "1402/1402 [==============================] - 53s 38ms/step\n",
      "1402/1402 [==============================] - 53s 38ms/step\n",
      "/home/jovyan/ChestXray-14/results/prediction/DenseNet121_imagenet_fold_2.csv was Created !\n",
      "1402/1402 [==============================] - 58s 40ms/step\n",
      "1402/1402 [==============================] - 56s 40ms/step\n",
      "1402/1402 [==============================] - 56s 40ms/step\n",
      "1402/1402 [==============================] - 56s 40ms/step\n",
      "1402/1402 [==============================] - 55s 39ms/step\n",
      "/home/jovyan/ChestXray-14/results/prediction/DenseNet121_imagenet_fold_3.csv was Created !\n",
      "1402/1402 [==============================] - 58s 40ms/step\n",
      "1402/1402 [==============================] - 55s 39ms/step\n",
      "1402/1402 [==============================] - 53s 37ms/step\n",
      "1402/1402 [==============================] - 52s 37ms/step\n",
      "1402/1402 [==============================] - 52s 37ms/step\n",
      "/home/jovyan/ChestXray-14/results/prediction/DenseNet121_imagenet_fold_4.csv was Created !\n",
      "1402/1402 [==============================] - 52s 36ms/step\n",
      "1402/1402 [==============================] - 51s 36ms/step\n",
      "1402/1402 [==============================] - 54s 39ms/step\n",
      "1402/1402 [==============================] - 55s 39ms/step\n",
      "1402/1402 [==============================] - 54s 38ms/step\n",
      "/home/jovyan/ChestXray-14/results/prediction/DenseNet121_imagenet_fold_5.csv was Created !\n",
      "1402/1402 [==============================] - 47s 30ms/step\n",
      "1402/1402 [==============================] - 41s 29ms/step\n",
      "1402/1402 [==============================] - 41s 29ms/step\n",
      "1402/1402 [==============================] - 41s 29ms/step\n",
      "1402/1402 [==============================] - 41s 29ms/step\n",
      "/home/jovyan/ChestXray-14/results/prediction/EfficientNetB0_None_fold_1.csv was Created !\n",
      "1402/1402 [==============================] - 42s 29ms/step\n",
      "1402/1402 [==============================] - 40s 29ms/step\n",
      "1402/1402 [==============================] - 41s 29ms/step\n",
      "1402/1402 [==============================] - 41s 29ms/step\n",
      "1402/1402 [==============================] - 42s 30ms/step\n",
      "/home/jovyan/ChestXray-14/results/prediction/EfficientNetB0_None_fold_2.csv was Created !\n",
      "1402/1402 [==============================] - 42s 29ms/step\n",
      "1402/1402 [==============================] - 41s 29ms/step\n",
      "1402/1402 [==============================] - 41s 29ms/step\n",
      "1402/1402 [==============================] - 41s 29ms/step\n",
      "1402/1402 [==============================] - 41s 29ms/step\n",
      "/home/jovyan/ChestXray-14/results/prediction/EfficientNetB0_None_fold_3.csv was Created !\n",
      "1402/1402 [==============================] - 42s 29ms/step\n",
      "1402/1402 [==============================] - 41s 29ms/step\n",
      "1402/1402 [==============================] - 41s 29ms/step\n",
      "1402/1402 [==============================] - 41s 29ms/step\n",
      "1402/1402 [==============================] - 41s 29ms/step\n",
      "/home/jovyan/ChestXray-14/results/prediction/EfficientNetB0_None_fold_4.csv was Created !\n",
      "1402/1402 [==============================] - 42s 29ms/step\n",
      "1402/1402 [==============================] - 41s 29ms/step\n",
      "1402/1402 [==============================] - 41s 29ms/step\n",
      "1402/1402 [==============================] - 42s 30ms/step\n",
      "1402/1402 [==============================] - 41s 29ms/step\n",
      "/home/jovyan/ChestXray-14/results/prediction/EfficientNetB0_None_fold_5.csv was Created !\n",
      "1402/1402 [==============================] - 42s 29ms/step\n",
      "1402/1402 [==============================] - 40s 29ms/step\n",
      "1402/1402 [==============================] - 41s 29ms/step\n",
      "1402/1402 [==============================] - 40s 29ms/step\n",
      "1402/1402 [==============================] - 41s 29ms/step\n",
      "/home/jovyan/ChestXray-14/results/prediction/EfficientNetB0_imagenet_fold_1.csv was Created !\n",
      "1402/1402 [==============================] - 43s 29ms/step\n",
      "1402/1402 [==============================] - 41s 29ms/step\n",
      "1402/1402 [==============================] - 41s 29ms/step\n",
      "1402/1402 [==============================] - 41s 29ms/step\n",
      "1402/1402 [==============================] - 41s 29ms/step\n",
      "/home/jovyan/ChestXray-14/results/prediction/EfficientNetB0_imagenet_fold_2.csv was Created !\n",
      "1402/1402 [==============================] - 42s 29ms/step\n",
      "1402/1402 [==============================] - 41s 29ms/step\n",
      "1402/1402 [==============================] - 41s 29ms/step\n",
      "1402/1402 [==============================] - 41s 29ms/step\n",
      "1402/1402 [==============================] - 40s 29ms/step\n",
      "/home/jovyan/ChestXray-14/results/prediction/EfficientNetB0_imagenet_fold_3.csv was Created !\n",
      "1402/1402 [==============================] - 42s 29ms/step\n",
      "1402/1402 [==============================] - 41s 29ms/step\n",
      "1402/1402 [==============================] - 41s 29ms/step\n",
      "1402/1402 [==============================] - 41s 29ms/step\n",
      "1402/1402 [==============================] - 41s 29ms/step\n",
      "/home/jovyan/ChestXray-14/results/prediction/EfficientNetB0_imagenet_fold_4.csv was Created !\n",
      "1402/1402 [==============================] - 43s 29ms/step\n",
      "1402/1402 [==============================] - 41s 29ms/step\n",
      "1402/1402 [==============================] - 41s 29ms/step\n",
      "1402/1402 [==============================] - 41s 29ms/step\n",
      "1402/1402 [==============================] - 41s 29ms/step\n",
      "/home/jovyan/ChestXray-14/results/prediction/EfficientNetB0_imagenet_fold_5.csv was Created !\n",
      "1402/1402 [==============================] - 40s 27ms/step\n",
      "1402/1402 [==============================] - 36s 25ms/step\n",
      "1402/1402 [==============================] - 36s 26ms/step\n",
      "1402/1402 [==============================] - 36s 26ms/step\n",
      "1402/1402 [==============================] - 36s 25ms/step\n",
      "/home/jovyan/ChestXray-14/results/prediction/Resnet50_fold_1.csv was Created !\n",
      "1402/1402 [==============================] - 37s 26ms/step\n",
      "1402/1402 [==============================] - 36s 26ms/step\n",
      "1402/1402 [==============================] - 36s 26ms/step\n",
      "1402/1402 [==============================] - 36s 26ms/step\n",
      "1402/1402 [==============================] - 36s 26ms/step\n",
      "/home/jovyan/ChestXray-14/results/prediction/Resnet50_fold_2.csv was Created !\n",
      "1402/1402 [==============================] - 37s 26ms/step\n",
      "1402/1402 [==============================] - 37s 26ms/step\n",
      "1402/1402 [==============================] - 36s 26ms/step\n",
      "1402/1402 [==============================] - 36s 26ms/step\n",
      "1402/1402 [==============================] - 36s 26ms/step\n",
      "/home/jovyan/ChestXray-14/results/prediction/Resnet50_fold_3.csv was Created !\n",
      "1402/1402 [==============================] - 37s 26ms/step\n",
      "1402/1402 [==============================] - 36s 26ms/step\n",
      "1402/1402 [==============================] - 36s 25ms/step\n",
      "1402/1402 [==============================] - 36s 25ms/step\n",
      "1402/1402 [==============================] - 36s 26ms/step\n",
      "/home/jovyan/ChestXray-14/results/prediction/Resnet50_fold_4.csv was Created !\n",
      "1402/1402 [==============================] - 37s 26ms/step\n",
      "1402/1402 [==============================] - 36s 26ms/step\n",
      "1402/1402 [==============================] - 36s 26ms/step\n",
      "1402/1402 [==============================] - 36s 26ms/step\n",
      "1402/1402 [==============================] - 37s 26ms/step\n",
      "/home/jovyan/ChestXray-14/results/prediction/Resnet50_fold_5.csv was Created !\n",
      "1402/1402 [==============================] - 37s 26ms/step\n",
      "1402/1402 [==============================] - 36s 26ms/step\n",
      "1402/1402 [==============================] - 36s 26ms/step\n",
      "1402/1402 [==============================] - 36s 26ms/step\n",
      "1402/1402 [==============================] - 36s 26ms/step\n",
      "/home/jovyan/ChestXray-14/results/prediction/Resnet50_imagenet_fold_1.csv was Created !\n",
      "1402/1402 [==============================] - 37s 26ms/step\n",
      "1402/1402 [==============================] - 36s 26ms/step\n",
      "1402/1402 [==============================] - 36s 26ms/step\n",
      "1402/1402 [==============================] - 36s 25ms/step\n",
      "1402/1402 [==============================] - 36s 26ms/step\n",
      "/home/jovyan/ChestXray-14/results/prediction/Resnet50_imagenet_fold_2.csv was Created !\n",
      "1402/1402 [==============================] - 37s 26ms/step\n",
      "1402/1402 [==============================] - 36s 25ms/step\n",
      "1402/1402 [==============================] - 36s 25ms/step\n",
      "1402/1402 [==============================] - 36s 25ms/step\n",
      "1402/1402 [==============================] - 36s 25ms/step\n",
      "/home/jovyan/ChestXray-14/results/prediction/Resnet50_imagenet_fold_3.csv was Created !\n",
      "1402/1402 [==============================] - 37s 25ms/step\n",
      "1402/1402 [==============================] - 36s 26ms/step\n",
      "1402/1402 [==============================] - 36s 25ms/step\n",
      "1402/1402 [==============================] - 36s 26ms/step\n",
      "1402/1402 [==============================] - 36s 26ms/step\n",
      "/home/jovyan/ChestXray-14/results/prediction/Resnet50_imagenet_fold_4.csv was Created !\n",
      "1402/1402 [==============================] - 37s 25ms/step\n",
      "1402/1402 [==============================] - 36s 26ms/step\n",
      "1402/1402 [==============================] - 36s 26ms/step\n",
      "1402/1402 [==============================] - 36s 26ms/step\n",
      "1402/1402 [==============================] - 36s 26ms/step\n",
      "/home/jovyan/ChestXray-14/results/prediction/Resnet50_imagenet_fold_5.csv was Created !\n"
     ]
    }
   ],
   "source": [
    "for path in path_models:\n",
    "    model = get_model(path)\n",
    "    model_name = get_name(path)\n",
    "    df = create_prediction_dataframe(model, test_dataset)\n",
    "    write_csv(df, model_name)"
   ]
  },
  {
   "cell_type": "code",
   "execution_count": null,
   "id": "e863846b-9fd7-4303-82c1-aada2e6bda0e",
   "metadata": {},
   "outputs": [],
   "source": []
  }
 ],
 "metadata": {
  "kernelspec": {
   "display_name": "Python 3 (ipykernel)",
   "language": "python",
   "name": "python3"
  },
  "language_info": {
   "codemirror_mode": {
    "name": "ipython",
    "version": 3
   },
   "file_extension": ".py",
   "mimetype": "text/x-python",
   "name": "python",
   "nbconvert_exporter": "python",
   "pygments_lexer": "ipython3",
   "version": "3.10.5"
  }
 },
 "nbformat": 4,
 "nbformat_minor": 5
}
