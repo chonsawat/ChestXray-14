{
 "cells": [
  {
   "cell_type": "code",
   "execution_count": 1,
   "id": "f270416f-9842-4549-9804-ee43c03c7023",
   "metadata": {},
   "outputs": [],
   "source": [
    "import sys\n",
    "sys.path.append('/home/jovyan/ChestXray-14')"
   ]
  },
  {
   "cell_type": "code",
   "execution_count": 2,
   "id": "c4e1d0be-0c9b-4db0-9fb0-a2d3fbecf033",
   "metadata": {},
   "outputs": [
    {
     "name": "stderr",
     "output_type": "stream",
     "text": [
      "2023-02-17 23:30:33.757751: I tensorflow/core/util/util.cc:169] oneDNN custom operations are on. You may see slightly different numerical results due to floating-point round-off errors from different computation orders. To turn them off, set the environment variable `TF_ENABLE_ONEDNN_OPTS=0`.\n"
     ]
    }
   ],
   "source": [
    "import tensorflow as tf\n",
    "from modules.models import Model\n",
    "from modules.utils import get_dataset\n",
    "from tensorflow.keras.callbacks import ModelCheckpoint, CSVLogger, EarlyStopping, ReduceLROnPlateau, LearningRateScheduler"
   ]
  },
  {
   "cell_type": "code",
   "execution_count": 3,
   "id": "6456e8ae-84da-49d5-b819-5309e2de554c",
   "metadata": {},
   "outputs": [],
   "source": [
    "INPUT_PATH = \"/home/jovyan/ChestXray-14/dataset/ChestXray NIH\"\n",
    "LABELS = ['No Finding', 'Atelectasis', 'Consolidation', 'Infiltration', 'Pneumothorax', 'Edema', 'Emphysema', 'Fibrosis', 'Effusion', 'Pneumonia', 'Pleural_Thickening', 'Cardiomegaly', 'Nodule', 'Mass', 'Hernia']"
   ]
  },
  {
   "cell_type": "code",
   "execution_count": 4,
   "id": "443087f8-639b-4996-996c-654d483be88f",
   "metadata": {},
   "outputs": [],
   "source": [
    "class Dataset:\n",
    "    INPUT_PATH = INPUT_PATH\n",
    "    \n",
    "    def get_train(self):\n",
    "        filenames = tf.io.gfile.glob(f'{self.INPUT_PATH}/data/under_sampling/train/*.tfrec')\n",
    "        dataset = get_dataset(filenames)\n",
    "        return dataset\n",
    "\n",
    "    def get_test(self):\n",
    "        filenames = tf.io.gfile.glob(f'{self.INPUT_PATH}/data/under_sampling/test/*.tfrec')\n",
    "        dataset = get_dataset(filenames)\n",
    "        return dataset"
   ]
  },
  {
   "cell_type": "markdown",
   "id": "f35e2b49-0fb1-46e8-b1fc-470624d2bbb0",
   "metadata": {},
   "source": [
    "## Train Model"
   ]
  },
  {
   "cell_type": "code",
   "execution_count": 5,
   "id": "77aea50a-998f-4331-a935-2abde166f541",
   "metadata": {},
   "outputs": [
    {
     "data": {
      "text/plain": [
       "'/home/jovyan/ChestXray-14/Sampling'"
      ]
     },
     "execution_count": 5,
     "metadata": {},
     "output_type": "execute_result"
    }
   ],
   "source": [
    "import os\n",
    "CURRENT_PATH = os.path.abspath(\"\")\n",
    "CURRENT_PATH"
   ]
  },
  {
   "cell_type": "code",
   "execution_count": 6,
   "id": "cf91af28-761a-4cd2-bd19-6c686221e8de",
   "metadata": {},
   "outputs": [],
   "source": [
    "# Learning rate\n",
    "def lr_schedule(epoch, learning_rate):\n",
    "    tf.summary.scalar('learning rate', data=learning_rate, step=epoch)\n",
    "    return learning_rate"
   ]
  },
  {
   "cell_type": "code",
   "execution_count": 7,
   "id": "d8a7df27-29e5-402a-829a-9f2030135fae",
   "metadata": {},
   "outputs": [],
   "source": [
    "def get_callbacks(NAME, weight_option, fold_num=None):\n",
    "    model_checkpoint_callback = ModelCheckpoint(f'results/models/FacalLoss/{NAME}_{weight_option}.h5', monitor='val_loss', mode='min', save_best_only=True)\n",
    "    early_stop_callback = EarlyStopping(monitor='val_loss', mode=\"min\", patience=20, verbose=1)\n",
    "    reduce_lr_callback = ReduceLROnPlateau(monitor='val_loss', mode=\"min\", factor=0.5, patience=3, verbose=1)\n",
    "    lr_logging_callback = LearningRateScheduler(lr_schedule)\n",
    "    \n",
    "    return model_checkpoint_callback, early_stop_callback, reduce_lr_callback, lr_logging_callback"
   ]
  },
  {
   "cell_type": "code",
   "execution_count": 8,
   "id": "037c2b0a-b089-411d-916f-a5cbb21aee01",
   "metadata": {},
   "outputs": [],
   "source": [
    "# Constant variables\n",
    "NAME = \"EfficientNetB0\"\n",
    "EPOCHS = 100\n",
    "NUM_FOLDS = 5"
   ]
  },
  {
   "cell_type": "code",
   "execution_count": 9,
   "id": "7140b11e-29f1-4224-800a-49590f5ffece",
   "metadata": {},
   "outputs": [],
   "source": [
    "weight_option = None # use `imagenet` or `None` only"
   ]
  },
  {
   "cell_type": "code",
   "execution_count": 10,
   "id": "3bb1f244-8639-417a-9690-522443f513d8",
   "metadata": {},
   "outputs": [
    {
     "name": "stderr",
     "output_type": "stream",
     "text": [
      "2023-02-17 23:30:36.264411: I tensorflow/core/platform/cpu_feature_guard.cc:193] This TensorFlow binary is optimized with oneAPI Deep Neural Network Library (oneDNN) to use the following CPU instructions in performance-critical operations:  AVX2 AVX512F AVX512_VNNI FMA\n",
      "To enable them in other operations, rebuild TensorFlow with the appropriate compiler flags.\n",
      "2023-02-17 23:30:38.063592: I tensorflow/core/common_runtime/gpu/gpu_device.cc:1532] Created device /job:localhost/replica:0/task:0/device:GPU:0 with 31725 MB memory:  -> device: 0, name: NVIDIA A100-SXM4-40GB, pci bus id: 0000:31:00.0, compute capability: 8.0\n"
     ]
    },
    {
     "name": "stdout",
     "output_type": "stream",
     "text": [
      "Model: \"FacalLossOnSamplingDataset\"\n",
      "_________________________________________________________________\n",
      " Layer (type)                Output Shape              Param #   \n",
      "=================================================================\n",
      " efficientnetb0 (Functional)  (None, 7, 7, 1280)       4049571   \n",
      "                                                                 \n",
      " flatten (Flatten)           (None, 62720)             0         \n",
      "                                                                 \n",
      " dense (Dense)               (None, 128)               8028288   \n",
      "                                                                 \n",
      " dense_1 (Dense)             (None, 128)               16512     \n",
      "                                                                 \n",
      " dense_2 (Dense)             (None, 64)                8256      \n",
      "                                                                 \n",
      " dense_3 (Dense)             (None, 64)                4160      \n",
      "                                                                 \n",
      " dense_4 (Dense)             (None, 15)                975       \n",
      "                                                                 \n",
      "=================================================================\n",
      "Total params: 12,107,762\n",
      "Trainable params: 12,065,739\n",
      "Non-trainable params: 42,023\n",
      "_________________________________________________________________\n"
     ]
    }
   ],
   "source": [
    "# Callbacks\n",
    "model_checkpoint_callback, early_stop_callback, reduce_lr_callback, lr_logging_callback = get_callbacks(NAME, weight_option)\n",
    "\n",
    "# Path for CSV\n",
    "path = os.path.join(CURRENT_PATH, \"results\", \"history\", \"training_with_FacalLoss\", f\"{NAME}_{weight_option}\")\n",
    "os.makedirs(path, exist_ok=True)\n",
    "\n",
    "# CSV Logger\n",
    "csv_logger = CSVLogger(os.path.join(path, f\"EfficialNetB0_None.csv\"))\n",
    "\n",
    "# Dataset\n",
    "train_dataset, test_dataset = Dataset().get_train(), Dataset().get_test()\n",
    "\n",
    "# Modeling\n",
    "transfer_model = tf.keras.applications.efficientnet.EfficientNetB0(\n",
    "    include_top=False, \n",
    "    weights=weight_option,\n",
    "    input_shape=(224, 224, 3),\n",
    "    pooling=None\n",
    ")\n",
    "\n",
    "model = Model(\n",
    "    transfer_model,\n",
    ")\n",
    "model = model.get_model(flatten=True)\n",
    "model._name = \"FacalLossOnSamplingDataset\"\n",
    "model.summary()"
   ]
  },
  {
   "cell_type": "code",
   "execution_count": 11,
   "id": "f63264c8-d816-41c3-acc6-1f4d0f0ec004",
   "metadata": {},
   "outputs": [
    {
     "name": "stdout",
     "output_type": "stream",
     "text": [
      "Epoch 1/100\n"
     ]
    },
    {
     "name": "stderr",
     "output_type": "stream",
     "text": [
      "2023-02-17 23:30:50.821343: I tensorflow/stream_executor/cuda/cuda_dnn.cc:384] Loaded cuDNN version 8100\n",
      "2023-02-17 23:30:52.037709: I tensorflow/core/platform/default/subprocess.cc:304] Start cannot spawn child process: No such file or directory\n",
      "2023-02-17 23:30:52.039741: I tensorflow/core/platform/default/subprocess.cc:304] Start cannot spawn child process: No such file or directory\n",
      "2023-02-17 23:30:52.039803: W tensorflow/stream_executor/gpu/asm_compiler.cc:80] Couldn't get ptxas version string: INTERNAL: Couldn't invoke ptxas --version\n",
      "2023-02-17 23:30:52.041050: I tensorflow/core/platform/default/subprocess.cc:304] Start cannot spawn child process: No such file or directory\n",
      "2023-02-17 23:30:52.041170: W tensorflow/stream_executor/gpu/redzone_allocator.cc:314] INTERNAL: Failed to launch ptxas\n",
      "Relying on driver to perform ptx compilation. \n",
      "Modify $PATH to customize ptxas location.\n",
      "This message will be only logged once.\n",
      "2023-02-17 23:30:56.703086: I tensorflow/stream_executor/cuda/cuda_blas.cc:1786] TensorFloat-32 will be used for the matrix multiplication. This will only be logged once.\n"
     ]
    },
    {
     "name": "stdout",
     "output_type": "stream",
     "text": [
      "3060/3060 [==============================] - 685s 217ms/step - loss: 0.2832 - auc: 0.5815 - val_loss: 0.2766 - val_auc: 0.6293 - lr: 0.0010\n",
      "Epoch 2/100\n",
      "3060/3060 [==============================] - 658s 215ms/step - loss: 0.2757 - auc: 0.6201 - val_loss: 0.2745 - val_auc: 0.6319 - lr: 0.0010\n",
      "Epoch 3/100\n",
      "3060/3060 [==============================] - 654s 214ms/step - loss: 0.2742 - auc: 0.6254 - val_loss: 0.2889 - val_auc: 0.6129 - lr: 0.0010\n",
      "Epoch 4/100\n",
      "3060/3060 [==============================] - 657s 215ms/step - loss: 0.2713 - auc: 0.6463 - val_loss: 0.2684 - val_auc: 0.6645 - lr: 0.0010\n",
      "Epoch 5/100\n",
      "3060/3060 [==============================] - 654s 214ms/step - loss: 0.2694 - auc: 0.6596 - val_loss: 0.2687 - val_auc: 0.6665 - lr: 0.0010\n",
      "Epoch 6/100\n",
      "3060/3060 [==============================] - 656s 214ms/step - loss: 0.2657 - auc: 0.6798 - val_loss: 0.2660 - val_auc: 0.6800 - lr: 0.0010\n",
      "Epoch 7/100\n",
      "3060/3060 [==============================] - 655s 214ms/step - loss: 0.2636 - auc: 0.6901 - val_loss: 0.2664 - val_auc: 0.6837 - lr: 0.0010\n",
      "Epoch 8/100\n",
      "3060/3060 [==============================] - 656s 214ms/step - loss: 0.2617 - auc: 0.6986 - val_loss: 0.2636 - val_auc: 0.6942 - lr: 0.0010\n",
      "Epoch 9/100\n",
      "3060/3060 [==============================] - 653s 213ms/step - loss: 0.2610 - auc: 0.7033 - val_loss: 0.2653 - val_auc: 0.6855 - lr: 0.0010\n",
      "Epoch 10/100\n",
      "3060/3060 [==============================] - 656s 214ms/step - loss: 0.2594 - auc: 0.7116 - val_loss: 0.2617 - val_auc: 0.6996 - lr: 0.0010\n",
      "Epoch 11/100\n",
      "3060/3060 [==============================] - 656s 214ms/step - loss: 0.2587 - auc: 0.7116 - val_loss: 0.2617 - val_auc: 0.6982 - lr: 0.0010\n",
      "Epoch 12/100\n",
      "3060/3060 [==============================] - 656s 214ms/step - loss: 0.2576 - auc: 0.7188 - val_loss: 0.2616 - val_auc: 0.7030 - lr: 0.0010\n",
      "Epoch 13/100\n",
      "3060/3060 [==============================] - 657s 215ms/step - loss: 0.2555 - auc: 0.7242 - val_loss: 0.2608 - val_auc: 0.7011 - lr: 0.0010\n",
      "Epoch 14/100\n",
      "3060/3060 [==============================] - 653s 213ms/step - loss: 0.2541 - auc: 0.7312 - val_loss: 0.2600 - val_auc: 0.7056 - lr: 0.0010\n",
      "Epoch 15/100\n",
      "3060/3060 [==============================] - 654s 214ms/step - loss: 0.2583 - auc: 0.7138 - val_loss: 0.2600 - val_auc: 0.7060 - lr: 0.0010\n",
      "Epoch 16/100\n",
      "3060/3060 [==============================] - 654s 214ms/step - loss: 0.2532 - auc: 0.7343 - val_loss: 0.2600 - val_auc: 0.7080 - lr: 0.0010\n",
      "Epoch 17/100\n",
      "3060/3060 [==============================] - ETA: 0s - loss: 0.2512 - auc: 0.7417\n",
      "Epoch 17: ReduceLROnPlateau reducing learning rate to 0.0005000000237487257.\n",
      "3060/3060 [==============================] - 653s 213ms/step - loss: 0.2512 - auc: 0.7417 - val_loss: 0.2614 - val_auc: 0.7015 - lr: 5.0000e-04\n",
      "Epoch 18/100\n",
      "3060/3060 [==============================] - 653s 213ms/step - loss: 0.2461 - auc: 0.7578 - val_loss: 0.2603 - val_auc: 0.7079 - lr: 5.0000e-04\n",
      "Epoch 19/100\n",
      "3060/3060 [==============================] - 654s 214ms/step - loss: 0.2435 - auc: 0.7645 - val_loss: 0.2620 - val_auc: 0.7025 - lr: 5.0000e-04\n",
      "Epoch 20/100\n",
      "3060/3060 [==============================] - ETA: 0s - loss: 0.2424 - auc: 0.7680\n",
      "Epoch 20: ReduceLROnPlateau reducing learning rate to 0.0002500000118743628.\n",
      "3060/3060 [==============================] - 652s 213ms/step - loss: 0.2424 - auc: 0.7680 - val_loss: 0.2621 - val_auc: 0.7054 - lr: 2.5000e-04\n",
      "Epoch 21/100\n",
      "3060/3060 [==============================] - 653s 213ms/step - loss: 0.2362 - auc: 0.7842 - val_loss: 0.2645 - val_auc: 0.7055 - lr: 2.5000e-04\n",
      "Epoch 22/100\n",
      "3060/3060 [==============================] - 652s 213ms/step - loss: 0.2336 - auc: 0.7927 - val_loss: 0.2669 - val_auc: 0.7020 - lr: 2.5000e-04\n",
      "Epoch 23/100\n",
      "3060/3060 [==============================] - ETA: 0s - loss: 0.2307 - auc: 0.7975\n",
      "Epoch 23: ReduceLROnPlateau reducing learning rate to 0.0001250000059371814.\n",
      "3060/3060 [==============================] - 654s 214ms/step - loss: 0.2307 - auc: 0.7975 - val_loss: 0.2685 - val_auc: 0.6996 - lr: 1.2500e-04\n",
      "Epoch 24/100\n",
      "3060/3060 [==============================] - 628s 205ms/step - loss: 0.2263 - auc: 0.8085 - val_loss: 0.2717 - val_auc: 0.6991 - lr: 1.2500e-04\n",
      "Epoch 25/100\n",
      "3060/3060 [==============================] - 652s 213ms/step - loss: 0.2241 - auc: 0.8138 - val_loss: 0.2726 - val_auc: 0.6999 - lr: 1.2500e-04\n",
      "Epoch 26/100\n",
      "3060/3060 [==============================] - ETA: 0s - loss: 0.2220 - auc: 0.8174\n",
      "Epoch 26: ReduceLROnPlateau reducing learning rate to 6.25000029685907e-05.\n",
      "3060/3060 [==============================] - 654s 214ms/step - loss: 0.2220 - auc: 0.8174 - val_loss: 0.2756 - val_auc: 0.6959 - lr: 6.2500e-05\n",
      "Epoch 27/100\n",
      "3060/3060 [==============================] - 654s 214ms/step - loss: 0.2196 - auc: 0.8228 - val_loss: 0.2765 - val_auc: 0.6977 - lr: 6.2500e-05\n",
      "Epoch 28/100\n",
      "3060/3060 [==============================] - 654s 214ms/step - loss: 0.2180 - auc: 0.8244 - val_loss: 0.2791 - val_auc: 0.6956 - lr: 6.2500e-05\n",
      "Epoch 29/100\n",
      "3060/3060 [==============================] - ETA: 0s - loss: 0.2168 - auc: 0.8278\n",
      "Epoch 29: ReduceLROnPlateau reducing learning rate to 3.125000148429535e-05.\n",
      "3060/3060 [==============================] - 657s 215ms/step - loss: 0.2168 - auc: 0.8278 - val_loss: 0.2805 - val_auc: 0.6935 - lr: 3.1250e-05\n",
      "Epoch 30/100\n",
      "3060/3060 [==============================] - 653s 213ms/step - loss: 0.2162 - auc: 0.8288 - val_loss: 0.2815 - val_auc: 0.6961 - lr: 3.1250e-05\n",
      "Epoch 31/100\n",
      "3060/3060 [==============================] - 653s 213ms/step - loss: 0.2148 - auc: 0.8340 - val_loss: 0.2812 - val_auc: 0.6968 - lr: 3.1250e-05\n",
      "Epoch 32/100\n",
      "3060/3060 [==============================] - ETA: 0s - loss: 0.2144 - auc: 0.8316\n",
      "Epoch 32: ReduceLROnPlateau reducing learning rate to 1.5625000742147677e-05.\n",
      "3060/3060 [==============================] - 657s 215ms/step - loss: 0.2144 - auc: 0.8316 - val_loss: 0.2824 - val_auc: 0.6970 - lr: 1.5625e-05\n",
      "Epoch 33/100\n",
      "3060/3060 [==============================] - 653s 213ms/step - loss: 0.2136 - auc: 0.8336 - val_loss: 0.2830 - val_auc: 0.6957 - lr: 1.5625e-05\n",
      "Epoch 34/100\n",
      "3060/3060 [==============================] - 656s 214ms/step - loss: 0.2132 - auc: 0.8355 - val_loss: 0.2833 - val_auc: 0.6957 - lr: 1.5625e-05\n",
      "Epoch 35/100\n",
      "3060/3060 [==============================] - ETA: 0s - loss: 0.2124 - auc: 0.8361\n",
      "Epoch 35: ReduceLROnPlateau reducing learning rate to 7.812500371073838e-06.\n",
      "3060/3060 [==============================] - 654s 214ms/step - loss: 0.2124 - auc: 0.8361 - val_loss: 0.2836 - val_auc: 0.6959 - lr: 7.8125e-06\n",
      "Epoch 36/100\n",
      "3060/3060 [==============================] - 651s 213ms/step - loss: 0.2122 - auc: 0.8372 - val_loss: 0.2832 - val_auc: 0.6948 - lr: 7.8125e-06\n",
      "Epoch 36: early stopping\n"
     ]
    }
   ],
   "source": [
    "# Visualize\n",
    "history = model.fit(\n",
    "    train_dataset,\n",
    "    epochs=EPOCHS,\n",
    "    validation_data=test_dataset,\n",
    "    verbose=1, # Show Progress Bar while Traning\n",
    "    callbacks=[model_checkpoint_callback, csv_logger, early_stop_callback, reduce_lr_callback, lr_logging_callback]\n",
    ")"
   ]
  },
  {
   "cell_type": "code",
   "execution_count": null,
   "id": "5bb7556f-4e4f-46b6-a5a1-757045344204",
   "metadata": {},
   "outputs": [],
   "source": []
  }
 ],
 "metadata": {
  "kernelspec": {
   "display_name": "Python 3 (ipykernel)",
   "language": "python",
   "name": "python3"
  },
  "language_info": {
   "codemirror_mode": {
    "name": "ipython",
    "version": 3
   },
   "file_extension": ".py",
   "mimetype": "text/x-python",
   "name": "python",
   "nbconvert_exporter": "python",
   "pygments_lexer": "ipython3",
   "version": "3.10.5"
  }
 },
 "nbformat": 4,
 "nbformat_minor": 5
}
