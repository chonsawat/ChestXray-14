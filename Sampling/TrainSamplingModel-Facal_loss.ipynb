{
 "cells": [
  {
   "cell_type": "code",
   "execution_count": 1,
   "id": "f270416f-9842-4549-9804-ee43c03c7023",
   "metadata": {},
   "outputs": [],
   "source": [
    "import sys\n",
    "sys.path.append('/home/jovyan/ChestXray-14')"
   ]
  },
  {
   "cell_type": "code",
   "execution_count": 2,
   "id": "c4e1d0be-0c9b-4db0-9fb0-a2d3fbecf033",
   "metadata": {},
   "outputs": [
    {
     "name": "stderr",
     "output_type": "stream",
     "text": [
      "2023-02-21 17:50:35.488715: I tensorflow/core/util/util.cc:169] oneDNN custom operations are on. You may see slightly different numerical results due to floating-point round-off errors from different computation orders. To turn them off, set the environment variable `TF_ENABLE_ONEDNN_OPTS=0`.\n"
     ]
    }
   ],
   "source": [
    "import tensorflow as tf\n",
    "from modules.models import Model\n",
    "from modules.utils import get_dataset\n",
    "from tensorflow.keras.callbacks import ModelCheckpoint, CSVLogger, EarlyStopping, ReduceLROnPlateau, LearningRateScheduler"
   ]
  },
  {
   "cell_type": "code",
   "execution_count": 3,
   "id": "6456e8ae-84da-49d5-b819-5309e2de554c",
   "metadata": {},
   "outputs": [],
   "source": [
    "INPUT_PATH = \"/home/jovyan/ChestXray-14/dataset/ChestXray NIH\"\n",
    "LABELS = ['No Finding', 'Atelectasis', 'Consolidation', 'Infiltration', 'Pneumothorax', 'Edema', 'Emphysema', 'Fibrosis', 'Effusion', 'Pneumonia', 'Pleural_Thickening', 'Cardiomegaly', 'Nodule', 'Mass', 'Hernia']"
   ]
  },
  {
   "cell_type": "code",
   "execution_count": 4,
   "id": "443087f8-639b-4996-996c-654d483be88f",
   "metadata": {},
   "outputs": [],
   "source": [
    "class Dataset:\n",
    "    INPUT_PATH = INPUT_PATH\n",
    "    \n",
    "    def get_train(self):\n",
    "        filenames = tf.io.gfile.glob(f'{self.INPUT_PATH}/data/under_sampling/train/*.tfrec')\n",
    "        dataset = get_dataset(filenames)\n",
    "        return dataset\n",
    "\n",
    "    def get_test(self):\n",
    "        filenames = tf.io.gfile.glob(f'{self.INPUT_PATH}/data/under_sampling/test/*.tfrec')\n",
    "        dataset = get_dataset(filenames)\n",
    "        return dataset"
   ]
  },
  {
   "cell_type": "markdown",
   "id": "f35e2b49-0fb1-46e8-b1fc-470624d2bbb0",
   "metadata": {},
   "source": [
    "## Train Model"
   ]
  },
  {
   "cell_type": "code",
   "execution_count": 5,
   "id": "77aea50a-998f-4331-a935-2abde166f541",
   "metadata": {},
   "outputs": [
    {
     "data": {
      "text/plain": [
       "'/home/jovyan/ChestXray-14/Sampling'"
      ]
     },
     "execution_count": 5,
     "metadata": {},
     "output_type": "execute_result"
    }
   ],
   "source": [
    "import os\n",
    "CURRENT_PATH = os.path.abspath(\"\")\n",
    "CURRENT_PATH"
   ]
  },
  {
   "cell_type": "code",
   "execution_count": 6,
   "id": "cf91af28-761a-4cd2-bd19-6c686221e8de",
   "metadata": {},
   "outputs": [],
   "source": [
    "# Learning rate\n",
    "def lr_schedule(epoch, learning_rate):\n",
    "    tf.summary.scalar('learning rate', data=learning_rate, step=epoch)\n",
    "    return learning_rate"
   ]
  },
  {
   "cell_type": "code",
   "execution_count": 7,
   "id": "d8a7df27-29e5-402a-829a-9f2030135fae",
   "metadata": {},
   "outputs": [],
   "source": [
    "def get_callbacks(NAME, weight_option, fold_num=None):\n",
    "    model_checkpoint_callback = ModelCheckpoint(f'results/models/FacalLoss/{NAME}_{weight_option}.h5', monitor='val_loss', mode='min', save_best_only=True)\n",
    "    early_stop_callback = EarlyStopping(monitor='val_loss', mode=\"min\", patience=20, verbose=1)\n",
    "    reduce_lr_callback = ReduceLROnPlateau(monitor='val_loss', mode=\"min\", factor=0.5, patience=3, verbose=1)\n",
    "    lr_logging_callback = LearningRateScheduler(lr_schedule)\n",
    "    \n",
    "    return model_checkpoint_callback, early_stop_callback, reduce_lr_callback, lr_logging_callback"
   ]
  },
  {
   "cell_type": "code",
   "execution_count": 8,
   "id": "037c2b0a-b089-411d-916f-a5cbb21aee01",
   "metadata": {},
   "outputs": [],
   "source": [
    "# Constant variables\n",
    "NAME = \"EfficientNetB0\"\n",
    "EPOCHS = 100\n",
    "NUM_FOLDS = 5"
   ]
  },
  {
   "cell_type": "code",
   "execution_count": 9,
   "id": "7140b11e-29f1-4224-800a-49590f5ffece",
   "metadata": {},
   "outputs": [],
   "source": [
    "weight_option = None # use `imagenet` or `None` only"
   ]
  },
  {
   "cell_type": "code",
   "execution_count": 10,
   "id": "3bb1f244-8639-417a-9690-522443f513d8",
   "metadata": {},
   "outputs": [
    {
     "name": "stderr",
     "output_type": "stream",
     "text": [
      "2023-02-21 17:50:38.088580: I tensorflow/core/platform/cpu_feature_guard.cc:193] This TensorFlow binary is optimized with oneAPI Deep Neural Network Library (oneDNN) to use the following CPU instructions in performance-critical operations:  AVX2 AVX512F AVX512_VNNI FMA\n",
      "To enable them in other operations, rebuild TensorFlow with the appropriate compiler flags.\n",
      "2023-02-21 17:50:39.863570: I tensorflow/core/common_runtime/gpu/gpu_device.cc:1532] Created device /job:localhost/replica:0/task:0/device:GPU:0 with 31725 MB memory:  -> device: 0, name: NVIDIA A100-SXM4-40GB, pci bus id: 0000:ca:00.0, compute capability: 8.0\n"
     ]
    },
    {
     "name": "stdout",
     "output_type": "stream",
     "text": [
      "Model: \"FacalLossOnSamplingDataset\"\n",
      "_________________________________________________________________\n",
      " Layer (type)                Output Shape              Param #   \n",
      "=================================================================\n",
      " efficientnetb0 (Functional)  (None, 7, 7, 1280)       4049571   \n",
      "                                                                 \n",
      " flatten (Flatten)           (None, 62720)             0         \n",
      "                                                                 \n",
      " dense (Dense)               (None, 128)               8028288   \n",
      "                                                                 \n",
      " dense_1 (Dense)             (None, 128)               16512     \n",
      "                                                                 \n",
      " dense_2 (Dense)             (None, 64)                8256      \n",
      "                                                                 \n",
      " dense_3 (Dense)             (None, 64)                4160      \n",
      "                                                                 \n",
      " dense_4 (Dense)             (None, 15)                975       \n",
      "                                                                 \n",
      "=================================================================\n",
      "Total params: 12,107,762\n",
      "Trainable params: 12,065,739\n",
      "Non-trainable params: 42,023\n",
      "_________________________________________________________________\n"
     ]
    }
   ],
   "source": [
    "# Callbacks\n",
    "model_checkpoint_callback, early_stop_callback, reduce_lr_callback, lr_logging_callback = get_callbacks(NAME, weight_option)\n",
    "\n",
    "# Path for CSV\n",
    "path = os.path.join(CURRENT_PATH, \"results\", \"history\", \"training_with_FacalLoss\", f\"{NAME}_{weight_option}\")\n",
    "os.makedirs(path, exist_ok=True)\n",
    "\n",
    "# CSV Logger\n",
    "csv_logger = CSVLogger(os.path.join(path, f\"EfficialNetB0_None.csv\"))\n",
    "\n",
    "# Dataset\n",
    "train_dataset, test_dataset = Dataset().get_train(), Dataset().get_test()\n",
    "\n",
    "# Modeling\n",
    "transfer_model = tf.keras.applications.efficientnet.EfficientNetB0(\n",
    "    include_top=False, \n",
    "    weights=weight_option,\n",
    "    input_shape=(224, 224, 3),\n",
    "    pooling=None\n",
    ")\n",
    "\n",
    "model = Model(\n",
    "    transfer_model,\n",
    ")\n",
    "model.loss = tf.keras.losses.BinaryFocalCrossentropy(\n",
    "    from_logits=True,\n",
    ")\n",
    "model = model.get_model(flatten=True)\n",
    "model._name = \"FacalLossOnSamplingDataset\"\n",
    "model.summary()"
   ]
  },
  {
   "cell_type": "code",
   "execution_count": 11,
   "id": "f63264c8-d816-41c3-acc6-1f4d0f0ec004",
   "metadata": {},
   "outputs": [
    {
     "name": "stdout",
     "output_type": "stream",
     "text": [
      "Epoch 1/100\n"
     ]
    },
    {
     "name": "stderr",
     "output_type": "stream",
     "text": [
      "2023-02-21 17:50:52.324043: I tensorflow/stream_executor/cuda/cuda_dnn.cc:384] Loaded cuDNN version 8100\n",
      "2023-02-21 17:50:53.441364: I tensorflow/core/platform/default/subprocess.cc:304] Start cannot spawn child process: No such file or directory\n",
      "2023-02-21 17:50:53.442386: I tensorflow/core/platform/default/subprocess.cc:304] Start cannot spawn child process: No such file or directory\n",
      "2023-02-21 17:50:53.442430: W tensorflow/stream_executor/gpu/asm_compiler.cc:80] Couldn't get ptxas version string: INTERNAL: Couldn't invoke ptxas --version\n",
      "2023-02-21 17:50:53.443448: I tensorflow/core/platform/default/subprocess.cc:304] Start cannot spawn child process: No such file or directory\n",
      "2023-02-21 17:50:53.443497: W tensorflow/stream_executor/gpu/redzone_allocator.cc:314] INTERNAL: Failed to launch ptxas\n",
      "Relying on driver to perform ptx compilation. \n",
      "Modify $PATH to customize ptxas location.\n",
      "This message will be only logged once.\n",
      "2023-02-21 17:50:57.674049: I tensorflow/stream_executor/cuda/cuda_blas.cc:1786] TensorFloat-32 will be used for the matrix multiplication. This will only be logged once.\n"
     ]
    },
    {
     "name": "stdout",
     "output_type": "stream",
     "text": [
      "3060/3060 [==============================] - 687s 218ms/step - loss: 0.0688 - auc: 0.5575 - val_loss: 0.0665 - val_auc: 0.6167 - lr: 0.0010\n",
      "Epoch 2/100\n",
      "3060/3060 [==============================] - 655s 214ms/step - loss: 0.0656 - auc: 0.6276 - val_loss: 0.0653 - val_auc: 0.6575 - lr: 0.0010\n",
      "Epoch 3/100\n",
      "3060/3060 [==============================] - 654s 214ms/step - loss: 0.0652 - auc: 0.6398 - val_loss: 0.0683 - val_auc: 0.6038 - lr: 0.0010\n",
      "Epoch 4/100\n",
      "3060/3060 [==============================] - 657s 215ms/step - loss: 0.0646 - auc: 0.6558 - val_loss: 0.0642 - val_auc: 0.6761 - lr: 0.0010\n",
      "Epoch 5/100\n",
      "3060/3060 [==============================] - 657s 215ms/step - loss: 0.0639 - auc: 0.6712 - val_loss: 0.0636 - val_auc: 0.6906 - lr: 0.0010\n",
      "Epoch 6/100\n",
      "3060/3060 [==============================] - 655s 214ms/step - loss: 0.0634 - auc: 0.6790 - val_loss: 0.0634 - val_auc: 0.6930 - lr: 0.0010\n",
      "Epoch 7/100\n",
      "3060/3060 [==============================] - 653s 213ms/step - loss: 0.0629 - auc: 0.6894 - val_loss: 0.0639 - val_auc: 0.6787 - lr: 0.0010\n",
      "Epoch 8/100\n",
      "3060/3060 [==============================] - 655s 214ms/step - loss: 0.0626 - auc: 0.6969 - val_loss: 0.0643 - val_auc: 0.6775 - lr: 0.0010\n",
      "Epoch 9/100\n",
      "3060/3060 [==============================] - 655s 214ms/step - loss: 0.0625 - auc: 0.6987 - val_loss: 0.0633 - val_auc: 0.6889 - lr: 0.0010\n",
      "Epoch 10/100\n",
      "3060/3060 [==============================] - 655s 214ms/step - loss: 0.0622 - auc: 0.7044 - val_loss: 0.0625 - val_auc: 0.7036 - lr: 0.0010\n",
      "Epoch 11/100\n",
      "3060/3060 [==============================] - 656s 214ms/step - loss: 0.0619 - auc: 0.7120 - val_loss: 0.0624 - val_auc: 0.7072 - lr: 0.0010\n",
      "Epoch 12/100\n",
      "3060/3060 [==============================] - 653s 213ms/step - loss: 0.0615 - auc: 0.7185 - val_loss: 0.0624 - val_auc: 0.7054 - lr: 0.0010\n",
      "Epoch 13/100\n",
      "3060/3060 [==============================] - 655s 214ms/step - loss: 0.0613 - auc: 0.7218 - val_loss: 0.0622 - val_auc: 0.7123 - lr: 0.0010\n",
      "Epoch 14/100\n",
      "3060/3060 [==============================] - 653s 213ms/step - loss: 0.0609 - auc: 0.7276 - val_loss: 0.0622 - val_auc: 0.7117 - lr: 0.0010\n",
      "Epoch 15/100\n",
      "3060/3060 [==============================] - 654s 214ms/step - loss: 0.0608 - auc: 0.7291 - val_loss: 0.0623 - val_auc: 0.7100 - lr: 0.0010\n",
      "Epoch 16/100\n",
      "3060/3060 [==============================] - ETA: 0s - loss: 0.0604 - auc: 0.7365\n",
      "Epoch 16: ReduceLROnPlateau reducing learning rate to 0.0005000000237487257.\n",
      "3060/3060 [==============================] - 654s 214ms/step - loss: 0.0604 - auc: 0.7365 - val_loss: 0.0625 - val_auc: 0.7043 - lr: 5.0000e-04\n",
      "Epoch 17/100\n",
      "3060/3060 [==============================] - 654s 214ms/step - loss: 0.0591 - auc: 0.7563 - val_loss: 0.0619 - val_auc: 0.7156 - lr: 5.0000e-04\n",
      "Epoch 18/100\n",
      "3060/3060 [==============================] - 653s 213ms/step - loss: 0.0584 - auc: 0.7669 - val_loss: 0.0623 - val_auc: 0.7153 - lr: 5.0000e-04\n",
      "Epoch 19/100\n",
      "3060/3060 [==============================] - 652s 213ms/step - loss: 0.0578 - auc: 0.7743 - val_loss: 0.0623 - val_auc: 0.7165 - lr: 5.0000e-04\n",
      "Epoch 20/100\n",
      "3060/3060 [==============================] - ETA: 0s - loss: 0.0574 - auc: 0.7801\n",
      "Epoch 20: ReduceLROnPlateau reducing learning rate to 0.0002500000118743628.\n",
      "3060/3060 [==============================] - 655s 214ms/step - loss: 0.0574 - auc: 0.7801 - val_loss: 0.0627 - val_auc: 0.7168 - lr: 2.5000e-04\n",
      "Epoch 21/100\n",
      "3060/3060 [==============================] - 656s 214ms/step - loss: 0.0561 - auc: 0.7949 - val_loss: 0.0633 - val_auc: 0.7139 - lr: 2.5000e-04\n",
      "Epoch 22/100\n",
      "3060/3060 [==============================] - 653s 213ms/step - loss: 0.0553 - auc: 0.8016 - val_loss: 0.0635 - val_auc: 0.7135 - lr: 2.5000e-04\n",
      "Epoch 23/100\n",
      "3060/3060 [==============================] - ETA: 0s - loss: 0.0547 - auc: 0.8094\n",
      "Epoch 23: ReduceLROnPlateau reducing learning rate to 0.0001250000059371814.\n",
      "3060/3060 [==============================] - 653s 213ms/step - loss: 0.0547 - auc: 0.8094 - val_loss: 0.0639 - val_auc: 0.7132 - lr: 1.2500e-04\n",
      "Epoch 24/100\n",
      "3060/3060 [==============================] - 654s 214ms/step - loss: 0.0537 - auc: 0.8192 - val_loss: 0.0645 - val_auc: 0.7108 - lr: 1.2500e-04\n",
      "Epoch 25/100\n",
      "3060/3060 [==============================] - 643s 210ms/step - loss: 0.0531 - auc: 0.8244 - val_loss: 0.0651 - val_auc: 0.7099 - lr: 1.2500e-04\n",
      "Epoch 26/100\n",
      "3060/3060 [==============================] - ETA: 0s - loss: 0.0526 - auc: 0.8296\n",
      "Epoch 26: ReduceLROnPlateau reducing learning rate to 6.25000029685907e-05.\n",
      "3060/3060 [==============================] - 657s 215ms/step - loss: 0.0526 - auc: 0.8296 - val_loss: 0.0654 - val_auc: 0.7092 - lr: 6.2500e-05\n",
      "Epoch 27/100\n",
      "3060/3060 [==============================] - 653s 213ms/step - loss: 0.0520 - auc: 0.8340 - val_loss: 0.0656 - val_auc: 0.7091 - lr: 6.2500e-05\n",
      "Epoch 28/100\n",
      "3060/3060 [==============================] - 654s 214ms/step - loss: 0.0516 - auc: 0.8383 - val_loss: 0.0660 - val_auc: 0.7066 - lr: 6.2500e-05\n",
      "Epoch 29/100\n",
      "3060/3060 [==============================] - ETA: 0s - loss: 0.0513 - auc: 0.8404\n",
      "Epoch 29: ReduceLROnPlateau reducing learning rate to 3.125000148429535e-05.\n",
      "3060/3060 [==============================] - 650s 212ms/step - loss: 0.0513 - auc: 0.8404 - val_loss: 0.0663 - val_auc: 0.7061 - lr: 3.1250e-05\n",
      "Epoch 30/100\n",
      "3060/3060 [==============================] - 653s 213ms/step - loss: 0.0510 - auc: 0.8421 - val_loss: 0.0665 - val_auc: 0.7030 - lr: 3.1250e-05\n",
      "Epoch 31/100\n",
      "3060/3060 [==============================] - 654s 214ms/step - loss: 0.0507 - auc: 0.8456 - val_loss: 0.0668 - val_auc: 0.7044 - lr: 3.1250e-05\n",
      "Epoch 32/100\n",
      "3060/3060 [==============================] - ETA: 0s - loss: 0.0505 - auc: 0.8467\n",
      "Epoch 32: ReduceLROnPlateau reducing learning rate to 1.5625000742147677e-05.\n",
      "3060/3060 [==============================] - 652s 213ms/step - loss: 0.0505 - auc: 0.8467 - val_loss: 0.0670 - val_auc: 0.7040 - lr: 1.5625e-05\n",
      "Epoch 33/100\n",
      "3060/3060 [==============================] - 653s 213ms/step - loss: 0.0504 - auc: 0.8488 - val_loss: 0.0672 - val_auc: 0.7027 - lr: 1.5625e-05\n",
      "Epoch 34/100\n",
      "3060/3060 [==============================] - 654s 214ms/step - loss: 0.0503 - auc: 0.8484 - val_loss: 0.0672 - val_auc: 0.7036 - lr: 1.5625e-05\n",
      "Epoch 35/100\n",
      "3060/3060 [==============================] - ETA: 0s - loss: 0.0502 - auc: 0.8494\n",
      "Epoch 35: ReduceLROnPlateau reducing learning rate to 7.812500371073838e-06.\n",
      "3060/3060 [==============================] - 653s 213ms/step - loss: 0.0502 - auc: 0.8494 - val_loss: 0.0674 - val_auc: 0.7019 - lr: 7.8125e-06\n",
      "Epoch 36/100\n",
      "3060/3060 [==============================] - 652s 213ms/step - loss: 0.0501 - auc: 0.8502 - val_loss: 0.0674 - val_auc: 0.7023 - lr: 7.8125e-06\n",
      "Epoch 37/100\n",
      "3060/3060 [==============================] - 652s 213ms/step - loss: 0.0501 - auc: 0.8505 - val_loss: 0.0675 - val_auc: 0.7021 - lr: 7.8125e-06\n",
      "Epoch 37: early stopping\n"
     ]
    }
   ],
   "source": [
    "# Visualize\n",
    "history = model.fit(\n",
    "    train_dataset,\n",
    "    epochs=EPOCHS,\n",
    "    validation_data=test_dataset,\n",
    "    verbose=1, # Show Progress Bar while Traning\n",
    "    callbacks=[model_checkpoint_callback, csv_logger, early_stop_callback, reduce_lr_callback, lr_logging_callback]\n",
    ")"
   ]
  },
  {
   "cell_type": "code",
   "execution_count": null,
   "id": "5bb7556f-4e4f-46b6-a5a1-757045344204",
   "metadata": {},
   "outputs": [],
   "source": []
  }
 ],
 "metadata": {
  "kernelspec": {
   "display_name": "Python 3 (ipykernel)",
   "language": "python",
   "name": "python3"
  },
  "language_info": {
   "codemirror_mode": {
    "name": "ipython",
    "version": 3
   },
   "file_extension": ".py",
   "mimetype": "text/x-python",
   "name": "python",
   "nbconvert_exporter": "python",
   "pygments_lexer": "ipython3",
   "version": "3.10.5"
  }
 },
 "nbformat": 4,
 "nbformat_minor": 5
}
