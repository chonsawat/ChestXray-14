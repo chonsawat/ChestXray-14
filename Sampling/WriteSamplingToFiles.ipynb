{
 "cells": [
  {
   "cell_type": "markdown",
   "id": "8b792cf7-4c23-4100-a54c-8bb00927f2b1",
   "metadata": {},
   "source": [
    "## Initial PATH"
   ]
  },
  {
   "cell_type": "code",
   "execution_count": 1,
   "id": "8eef4e4c-35e7-4bb4-bf42-2a112550a332",
   "metadata": {},
   "outputs": [],
   "source": [
    "import os"
   ]
  },
  {
   "cell_type": "code",
   "execution_count": 2,
   "id": "34b04ef4-7d5d-4216-bc02-c0b2787e6656",
   "metadata": {},
   "outputs": [
    {
     "data": {
      "text/plain": [
       "'/home/jovyan/ChestXray-14/dataset/ChestXray NIH/data/under_sampling'"
      ]
     },
     "execution_count": 2,
     "metadata": {},
     "output_type": "execute_result"
    }
   ],
   "source": [
    "OUT_PATH = os.path.abspath(\"../../ChestXray-14/dataset/ChestXray NIH/data\" + \"/under_sampling\")\n",
    "OUT_PATH"
   ]
  },
  {
   "cell_type": "code",
   "execution_count": 3,
   "id": "65e557bd-5054-4499-970c-ca1d01d68739",
   "metadata": {},
   "outputs": [],
   "source": [
    "OUT_TRAIN_PATH = OUT_PATH + \"/train\"\n",
    "OUT_TEST_PATH = OUT_PATH + \"/test\""
   ]
  },
  {
   "cell_type": "code",
   "execution_count": 4,
   "id": "16fd1d52-3d41-4eec-ad2d-a963ba1ca758",
   "metadata": {},
   "outputs": [
    {
     "name": "stdout",
     "output_type": "stream",
     "text": [
      "PATH `/home/jovyan/ChestXray-14/dataset/ChestXray NIH/data/under_sampling` already exist!\n",
      "PATH `/home/jovyan/ChestXray-14/dataset/ChestXray NIH/data/under_sampling/train` already exist!\n",
      "PATH `/home/jovyan/ChestXray-14/dataset/ChestXray NIH/data/under_sampling/test/test` already exist!\n"
     ]
    }
   ],
   "source": [
    "if not os.path.exists(OUT_PATH):\n",
    "    os.makedirs(OUT_PATH)\n",
    "    os.makedirs(OUT_TRAIN_PATH)\n",
    "    os.makedirs(OUT_TEST_PATH)\n",
    "    print(f\"PATH create `{OUT_PATH}`\")\n",
    "    print(f\"PATH create `{OUT_TRAIN_PATH}`\")\n",
    "    print(f\"PATH create `{OUT_TEST_PATH}`\")\n",
    "else:\n",
    "    print(f\"PATH `{OUT_PATH}` already exist!\")\n",
    "    print(f\"PATH `{OUT_TRAIN_PATH}` already exist!\")\n",
    "    print(f\"PATH `{OUT_TEST_PATH}/test` already exist!\")"
   ]
  },
  {
   "cell_type": "markdown",
   "id": "190853cd-a5b7-4176-b6e9-b973a7b2eb85",
   "metadata": {},
   "source": [
    "## Load Sampling Dataset"
   ]
  },
  {
   "cell_type": "code",
   "execution_count": 5,
   "id": "4df5e4bf-dd5d-4349-8081-10cf406d1c35",
   "metadata": {},
   "outputs": [],
   "source": [
    "import pandas as pd"
   ]
  },
  {
   "cell_type": "code",
   "execution_count": 6,
   "id": "5b98d140-9af8-4023-bbca-cd8f549a084e",
   "metadata": {},
   "outputs": [],
   "source": [
    "FILE_PATH = '/home/jovyan/ChestXray-14/dataset/ChestXray NIH/under_sampling_data.csv'"
   ]
  },
  {
   "cell_type": "code",
   "execution_count": 7,
   "id": "3800e19a-e7b0-40d4-9118-db7618fcd73b",
   "metadata": {},
   "outputs": [
    {
     "data": {
      "text/html": [
       "<div>\n",
       "<style scoped>\n",
       "    .dataframe tbody tr th:only-of-type {\n",
       "        vertical-align: middle;\n",
       "    }\n",
       "\n",
       "    .dataframe tbody tr th {\n",
       "        vertical-align: top;\n",
       "    }\n",
       "\n",
       "    .dataframe thead th {\n",
       "        text-align: right;\n",
       "    }\n",
       "</style>\n",
       "<table border=\"1\" class=\"dataframe\">\n",
       "  <thead>\n",
       "    <tr style=\"text-align: right;\">\n",
       "      <th></th>\n",
       "      <th>No Finding</th>\n",
       "      <th>Atelectasis</th>\n",
       "      <th>Consolidation</th>\n",
       "      <th>Infiltration</th>\n",
       "      <th>Pneumothorax</th>\n",
       "      <th>Edema</th>\n",
       "      <th>Emphysema</th>\n",
       "      <th>Fibrosis</th>\n",
       "      <th>Effusion</th>\n",
       "      <th>Pneumonia</th>\n",
       "      <th>Pleural_Thickening</th>\n",
       "      <th>Cardiomegaly</th>\n",
       "      <th>Nodule</th>\n",
       "      <th>Mass</th>\n",
       "      <th>Hernia</th>\n",
       "    </tr>\n",
       "    <tr>\n",
       "      <th>index</th>\n",
       "      <th></th>\n",
       "      <th></th>\n",
       "      <th></th>\n",
       "      <th></th>\n",
       "      <th></th>\n",
       "      <th></th>\n",
       "      <th></th>\n",
       "      <th></th>\n",
       "      <th></th>\n",
       "      <th></th>\n",
       "      <th></th>\n",
       "      <th></th>\n",
       "      <th></th>\n",
       "      <th></th>\n",
       "      <th></th>\n",
       "    </tr>\n",
       "  </thead>\n",
       "  <tbody>\n",
       "    <tr>\n",
       "      <th>/home/jovyan/ChestXray-14/dataset/ChestXray NIH/images_004/images/00007691_004.png</th>\n",
       "      <td>0</td>\n",
       "      <td>0</td>\n",
       "      <td>0</td>\n",
       "      <td>0</td>\n",
       "      <td>0</td>\n",
       "      <td>0</td>\n",
       "      <td>0</td>\n",
       "      <td>0</td>\n",
       "      <td>0</td>\n",
       "      <td>0</td>\n",
       "      <td>0</td>\n",
       "      <td>0</td>\n",
       "      <td>0</td>\n",
       "      <td>1</td>\n",
       "      <td>0</td>\n",
       "    </tr>\n",
       "    <tr>\n",
       "      <th>/home/jovyan/ChestXray-14/dataset/ChestXray NIH/images_004/images/00008468_018.png</th>\n",
       "      <td>0</td>\n",
       "      <td>0</td>\n",
       "      <td>0</td>\n",
       "      <td>0</td>\n",
       "      <td>0</td>\n",
       "      <td>0</td>\n",
       "      <td>1</td>\n",
       "      <td>0</td>\n",
       "      <td>0</td>\n",
       "      <td>0</td>\n",
       "      <td>0</td>\n",
       "      <td>0</td>\n",
       "      <td>0</td>\n",
       "      <td>0</td>\n",
       "      <td>0</td>\n",
       "    </tr>\n",
       "    <tr>\n",
       "      <th>/home/jovyan/ChestXray-14/dataset/ChestXray NIH/images_002/images/00003427_000.png</th>\n",
       "      <td>0</td>\n",
       "      <td>0</td>\n",
       "      <td>0</td>\n",
       "      <td>0</td>\n",
       "      <td>0</td>\n",
       "      <td>0</td>\n",
       "      <td>0</td>\n",
       "      <td>1</td>\n",
       "      <td>0</td>\n",
       "      <td>0</td>\n",
       "      <td>0</td>\n",
       "      <td>0</td>\n",
       "      <td>0</td>\n",
       "      <td>0</td>\n",
       "      <td>0</td>\n",
       "    </tr>\n",
       "    <tr>\n",
       "      <th>/home/jovyan/ChestXray-14/dataset/ChestXray NIH/images_001/images/00001052_001.png</th>\n",
       "      <td>0</td>\n",
       "      <td>0</td>\n",
       "      <td>0</td>\n",
       "      <td>1</td>\n",
       "      <td>0</td>\n",
       "      <td>0</td>\n",
       "      <td>0</td>\n",
       "      <td>1</td>\n",
       "      <td>0</td>\n",
       "      <td>0</td>\n",
       "      <td>0</td>\n",
       "      <td>0</td>\n",
       "      <td>0</td>\n",
       "      <td>0</td>\n",
       "      <td>0</td>\n",
       "    </tr>\n",
       "    <tr>\n",
       "      <th>/home/jovyan/ChestXray-14/dataset/ChestXray NIH/images_001/images/00000459_037.png</th>\n",
       "      <td>0</td>\n",
       "      <td>0</td>\n",
       "      <td>0</td>\n",
       "      <td>1</td>\n",
       "      <td>0</td>\n",
       "      <td>0</td>\n",
       "      <td>0</td>\n",
       "      <td>0</td>\n",
       "      <td>0</td>\n",
       "      <td>0</td>\n",
       "      <td>0</td>\n",
       "      <td>0</td>\n",
       "      <td>0</td>\n",
       "      <td>0</td>\n",
       "      <td>0</td>\n",
       "    </tr>\n",
       "    <tr>\n",
       "      <th>...</th>\n",
       "      <td>...</td>\n",
       "      <td>...</td>\n",
       "      <td>...</td>\n",
       "      <td>...</td>\n",
       "      <td>...</td>\n",
       "      <td>...</td>\n",
       "      <td>...</td>\n",
       "      <td>...</td>\n",
       "      <td>...</td>\n",
       "      <td>...</td>\n",
       "      <td>...</td>\n",
       "      <td>...</td>\n",
       "      <td>...</td>\n",
       "      <td>...</td>\n",
       "      <td>...</td>\n",
       "    </tr>\n",
       "    <tr>\n",
       "      <th>/home/jovyan/ChestXray-14/dataset/ChestXray NIH/images_007/images/00014004_047.png</th>\n",
       "      <td>1</td>\n",
       "      <td>0</td>\n",
       "      <td>0</td>\n",
       "      <td>0</td>\n",
       "      <td>0</td>\n",
       "      <td>0</td>\n",
       "      <td>0</td>\n",
       "      <td>0</td>\n",
       "      <td>0</td>\n",
       "      <td>0</td>\n",
       "      <td>0</td>\n",
       "      <td>0</td>\n",
       "      <td>0</td>\n",
       "      <td>0</td>\n",
       "      <td>0</td>\n",
       "    </tr>\n",
       "    <tr>\n",
       "      <th>/home/jovyan/ChestXray-14/dataset/ChestXray NIH/images_009/images/00020843_000.png</th>\n",
       "      <td>0</td>\n",
       "      <td>0</td>\n",
       "      <td>0</td>\n",
       "      <td>1</td>\n",
       "      <td>0</td>\n",
       "      <td>0</td>\n",
       "      <td>0</td>\n",
       "      <td>0</td>\n",
       "      <td>0</td>\n",
       "      <td>0</td>\n",
       "      <td>0</td>\n",
       "      <td>0</td>\n",
       "      <td>1</td>\n",
       "      <td>0</td>\n",
       "      <td>0</td>\n",
       "    </tr>\n",
       "    <tr>\n",
       "      <th>/home/jovyan/ChestXray-14/dataset/ChestXray NIH/images_009/images/00020429_003.png</th>\n",
       "      <td>0</td>\n",
       "      <td>1</td>\n",
       "      <td>0</td>\n",
       "      <td>1</td>\n",
       "      <td>0</td>\n",
       "      <td>0</td>\n",
       "      <td>0</td>\n",
       "      <td>0</td>\n",
       "      <td>1</td>\n",
       "      <td>0</td>\n",
       "      <td>0</td>\n",
       "      <td>0</td>\n",
       "      <td>0</td>\n",
       "      <td>0</td>\n",
       "      <td>0</td>\n",
       "    </tr>\n",
       "    <tr>\n",
       "      <th>/home/jovyan/ChestXray-14/dataset/ChestXray NIH/images_011/images/00027919_000.png</th>\n",
       "      <td>0</td>\n",
       "      <td>0</td>\n",
       "      <td>0</td>\n",
       "      <td>1</td>\n",
       "      <td>0</td>\n",
       "      <td>0</td>\n",
       "      <td>0</td>\n",
       "      <td>0</td>\n",
       "      <td>0</td>\n",
       "      <td>0</td>\n",
       "      <td>0</td>\n",
       "      <td>0</td>\n",
       "      <td>0</td>\n",
       "      <td>0</td>\n",
       "      <td>0</td>\n",
       "    </tr>\n",
       "    <tr>\n",
       "      <th>/home/jovyan/ChestXray-14/dataset/ChestXray NIH/images_003/images/00005892_020.png</th>\n",
       "      <td>1</td>\n",
       "      <td>0</td>\n",
       "      <td>0</td>\n",
       "      <td>0</td>\n",
       "      <td>0</td>\n",
       "      <td>0</td>\n",
       "      <td>0</td>\n",
       "      <td>0</td>\n",
       "      <td>0</td>\n",
       "      <td>0</td>\n",
       "      <td>0</td>\n",
       "      <td>0</td>\n",
       "      <td>0</td>\n",
       "      <td>0</td>\n",
       "      <td>0</td>\n",
       "    </tr>\n",
       "  </tbody>\n",
       "</table>\n",
       "<p>61195 rows × 15 columns</p>\n",
       "</div>"
      ],
      "text/plain": [
       "                                                    No Finding  Atelectasis  \\\n",
       "index                                                                         \n",
       "/home/jovyan/ChestXray-14/dataset/ChestXray NIH...           0            0   \n",
       "/home/jovyan/ChestXray-14/dataset/ChestXray NIH...           0            0   \n",
       "/home/jovyan/ChestXray-14/dataset/ChestXray NIH...           0            0   \n",
       "/home/jovyan/ChestXray-14/dataset/ChestXray NIH...           0            0   \n",
       "/home/jovyan/ChestXray-14/dataset/ChestXray NIH...           0            0   \n",
       "...                                                        ...          ...   \n",
       "/home/jovyan/ChestXray-14/dataset/ChestXray NIH...           1            0   \n",
       "/home/jovyan/ChestXray-14/dataset/ChestXray NIH...           0            0   \n",
       "/home/jovyan/ChestXray-14/dataset/ChestXray NIH...           0            1   \n",
       "/home/jovyan/ChestXray-14/dataset/ChestXray NIH...           0            0   \n",
       "/home/jovyan/ChestXray-14/dataset/ChestXray NIH...           1            0   \n",
       "\n",
       "                                                    Consolidation  \\\n",
       "index                                                               \n",
       "/home/jovyan/ChestXray-14/dataset/ChestXray NIH...              0   \n",
       "/home/jovyan/ChestXray-14/dataset/ChestXray NIH...              0   \n",
       "/home/jovyan/ChestXray-14/dataset/ChestXray NIH...              0   \n",
       "/home/jovyan/ChestXray-14/dataset/ChestXray NIH...              0   \n",
       "/home/jovyan/ChestXray-14/dataset/ChestXray NIH...              0   \n",
       "...                                                           ...   \n",
       "/home/jovyan/ChestXray-14/dataset/ChestXray NIH...              0   \n",
       "/home/jovyan/ChestXray-14/dataset/ChestXray NIH...              0   \n",
       "/home/jovyan/ChestXray-14/dataset/ChestXray NIH...              0   \n",
       "/home/jovyan/ChestXray-14/dataset/ChestXray NIH...              0   \n",
       "/home/jovyan/ChestXray-14/dataset/ChestXray NIH...              0   \n",
       "\n",
       "                                                    Infiltration  \\\n",
       "index                                                              \n",
       "/home/jovyan/ChestXray-14/dataset/ChestXray NIH...             0   \n",
       "/home/jovyan/ChestXray-14/dataset/ChestXray NIH...             0   \n",
       "/home/jovyan/ChestXray-14/dataset/ChestXray NIH...             0   \n",
       "/home/jovyan/ChestXray-14/dataset/ChestXray NIH...             1   \n",
       "/home/jovyan/ChestXray-14/dataset/ChestXray NIH...             1   \n",
       "...                                                          ...   \n",
       "/home/jovyan/ChestXray-14/dataset/ChestXray NIH...             0   \n",
       "/home/jovyan/ChestXray-14/dataset/ChestXray NIH...             1   \n",
       "/home/jovyan/ChestXray-14/dataset/ChestXray NIH...             1   \n",
       "/home/jovyan/ChestXray-14/dataset/ChestXray NIH...             1   \n",
       "/home/jovyan/ChestXray-14/dataset/ChestXray NIH...             0   \n",
       "\n",
       "                                                    Pneumothorax  Edema  \\\n",
       "index                                                                     \n",
       "/home/jovyan/ChestXray-14/dataset/ChestXray NIH...             0      0   \n",
       "/home/jovyan/ChestXray-14/dataset/ChestXray NIH...             0      0   \n",
       "/home/jovyan/ChestXray-14/dataset/ChestXray NIH...             0      0   \n",
       "/home/jovyan/ChestXray-14/dataset/ChestXray NIH...             0      0   \n",
       "/home/jovyan/ChestXray-14/dataset/ChestXray NIH...             0      0   \n",
       "...                                                          ...    ...   \n",
       "/home/jovyan/ChestXray-14/dataset/ChestXray NIH...             0      0   \n",
       "/home/jovyan/ChestXray-14/dataset/ChestXray NIH...             0      0   \n",
       "/home/jovyan/ChestXray-14/dataset/ChestXray NIH...             0      0   \n",
       "/home/jovyan/ChestXray-14/dataset/ChestXray NIH...             0      0   \n",
       "/home/jovyan/ChestXray-14/dataset/ChestXray NIH...             0      0   \n",
       "\n",
       "                                                    Emphysema  Fibrosis  \\\n",
       "index                                                                     \n",
       "/home/jovyan/ChestXray-14/dataset/ChestXray NIH...          0         0   \n",
       "/home/jovyan/ChestXray-14/dataset/ChestXray NIH...          1         0   \n",
       "/home/jovyan/ChestXray-14/dataset/ChestXray NIH...          0         1   \n",
       "/home/jovyan/ChestXray-14/dataset/ChestXray NIH...          0         1   \n",
       "/home/jovyan/ChestXray-14/dataset/ChestXray NIH...          0         0   \n",
       "...                                                       ...       ...   \n",
       "/home/jovyan/ChestXray-14/dataset/ChestXray NIH...          0         0   \n",
       "/home/jovyan/ChestXray-14/dataset/ChestXray NIH...          0         0   \n",
       "/home/jovyan/ChestXray-14/dataset/ChestXray NIH...          0         0   \n",
       "/home/jovyan/ChestXray-14/dataset/ChestXray NIH...          0         0   \n",
       "/home/jovyan/ChestXray-14/dataset/ChestXray NIH...          0         0   \n",
       "\n",
       "                                                    Effusion  Pneumonia  \\\n",
       "index                                                                     \n",
       "/home/jovyan/ChestXray-14/dataset/ChestXray NIH...         0          0   \n",
       "/home/jovyan/ChestXray-14/dataset/ChestXray NIH...         0          0   \n",
       "/home/jovyan/ChestXray-14/dataset/ChestXray NIH...         0          0   \n",
       "/home/jovyan/ChestXray-14/dataset/ChestXray NIH...         0          0   \n",
       "/home/jovyan/ChestXray-14/dataset/ChestXray NIH...         0          0   \n",
       "...                                                      ...        ...   \n",
       "/home/jovyan/ChestXray-14/dataset/ChestXray NIH...         0          0   \n",
       "/home/jovyan/ChestXray-14/dataset/ChestXray NIH...         0          0   \n",
       "/home/jovyan/ChestXray-14/dataset/ChestXray NIH...         1          0   \n",
       "/home/jovyan/ChestXray-14/dataset/ChestXray NIH...         0          0   \n",
       "/home/jovyan/ChestXray-14/dataset/ChestXray NIH...         0          0   \n",
       "\n",
       "                                                    Pleural_Thickening  \\\n",
       "index                                                                    \n",
       "/home/jovyan/ChestXray-14/dataset/ChestXray NIH...                   0   \n",
       "/home/jovyan/ChestXray-14/dataset/ChestXray NIH...                   0   \n",
       "/home/jovyan/ChestXray-14/dataset/ChestXray NIH...                   0   \n",
       "/home/jovyan/ChestXray-14/dataset/ChestXray NIH...                   0   \n",
       "/home/jovyan/ChestXray-14/dataset/ChestXray NIH...                   0   \n",
       "...                                                                ...   \n",
       "/home/jovyan/ChestXray-14/dataset/ChestXray NIH...                   0   \n",
       "/home/jovyan/ChestXray-14/dataset/ChestXray NIH...                   0   \n",
       "/home/jovyan/ChestXray-14/dataset/ChestXray NIH...                   0   \n",
       "/home/jovyan/ChestXray-14/dataset/ChestXray NIH...                   0   \n",
       "/home/jovyan/ChestXray-14/dataset/ChestXray NIH...                   0   \n",
       "\n",
       "                                                    Cardiomegaly  Nodule  \\\n",
       "index                                                                      \n",
       "/home/jovyan/ChestXray-14/dataset/ChestXray NIH...             0       0   \n",
       "/home/jovyan/ChestXray-14/dataset/ChestXray NIH...             0       0   \n",
       "/home/jovyan/ChestXray-14/dataset/ChestXray NIH...             0       0   \n",
       "/home/jovyan/ChestXray-14/dataset/ChestXray NIH...             0       0   \n",
       "/home/jovyan/ChestXray-14/dataset/ChestXray NIH...             0       0   \n",
       "...                                                          ...     ...   \n",
       "/home/jovyan/ChestXray-14/dataset/ChestXray NIH...             0       0   \n",
       "/home/jovyan/ChestXray-14/dataset/ChestXray NIH...             0       1   \n",
       "/home/jovyan/ChestXray-14/dataset/ChestXray NIH...             0       0   \n",
       "/home/jovyan/ChestXray-14/dataset/ChestXray NIH...             0       0   \n",
       "/home/jovyan/ChestXray-14/dataset/ChestXray NIH...             0       0   \n",
       "\n",
       "                                                    Mass  Hernia  \n",
       "index                                                             \n",
       "/home/jovyan/ChestXray-14/dataset/ChestXray NIH...     1       0  \n",
       "/home/jovyan/ChestXray-14/dataset/ChestXray NIH...     0       0  \n",
       "/home/jovyan/ChestXray-14/dataset/ChestXray NIH...     0       0  \n",
       "/home/jovyan/ChestXray-14/dataset/ChestXray NIH...     0       0  \n",
       "/home/jovyan/ChestXray-14/dataset/ChestXray NIH...     0       0  \n",
       "...                                                  ...     ...  \n",
       "/home/jovyan/ChestXray-14/dataset/ChestXray NIH...     0       0  \n",
       "/home/jovyan/ChestXray-14/dataset/ChestXray NIH...     0       0  \n",
       "/home/jovyan/ChestXray-14/dataset/ChestXray NIH...     0       0  \n",
       "/home/jovyan/ChestXray-14/dataset/ChestXray NIH...     0       0  \n",
       "/home/jovyan/ChestXray-14/dataset/ChestXray NIH...     0       0  \n",
       "\n",
       "[61195 rows x 15 columns]"
      ]
     },
     "execution_count": 7,
     "metadata": {},
     "output_type": "execute_result"
    }
   ],
   "source": [
    "df = pd.read_csv(FILE_PATH)\n",
    "df[\"index\"] = df[\"index\"].apply(\n",
    "    lambda x: os.path.abspath(f\"../{x}\")\n",
    ")\n",
    "df = df.set_index(\"index\")\n",
    "df"
   ]
  },
  {
   "cell_type": "markdown",
   "id": "f0335a96-cc33-4902-bb63-a361275580cf",
   "metadata": {
    "tags": []
   },
   "source": [
    "## Preprocessing"
   ]
  },
  {
   "cell_type": "code",
   "execution_count": 8,
   "id": "3e2b127c-9a2e-4853-9f1e-35b0b3d00654",
   "metadata": {},
   "outputs": [],
   "source": [
    "import numpy as np\n",
    "import sys\n",
    "sys.path.append('/home/jovyan/ChestXray-14')"
   ]
  },
  {
   "cell_type": "code",
   "execution_count": 9,
   "id": "dff2c0ee-2fd8-498b-a5c0-d910ce37625f",
   "metadata": {},
   "outputs": [
    {
     "name": "stderr",
     "output_type": "stream",
     "text": [
      "2023-02-21 09:38:11.291052: I tensorflow/core/util/util.cc:169] oneDNN custom operations are on. You may see slightly different numerical results due to floating-point round-off errors from different computation orders. To turn them off, set the environment variable `TF_ENABLE_ONEDNN_OPTS=0`.\n"
     ]
    }
   ],
   "source": [
    "from tqdm.notebook import tqdm\n",
    "from modules.utils import serialize_fold"
   ]
  },
  {
   "cell_type": "code",
   "execution_count": 10,
   "id": "18ac2d4e-8f84-4940-b852-3306c23f3c5f",
   "metadata": {},
   "outputs": [],
   "source": [
    "from sklearn.model_selection import train_test_split"
   ]
  },
  {
   "cell_type": "code",
   "execution_count": 11,
   "id": "14ef7f28-f7ae-46b8-854d-145cd9532df6",
   "metadata": {},
   "outputs": [],
   "source": [
    "SEED = 42"
   ]
  },
  {
   "cell_type": "code",
   "execution_count": 12,
   "id": "4d335e66-7c47-4c6b-bcf6-9ecf6793ce33",
   "metadata": {},
   "outputs": [],
   "source": [
    "df_train, df_test = train_test_split(df, \n",
    "                                     test_size=0.2,\n",
    "                                     random_state=SEED)"
   ]
  },
  {
   "cell_type": "code",
   "execution_count": 13,
   "id": "79918c1b-730f-4510-acbb-2efc279fedb1",
   "metadata": {},
   "outputs": [
    {
     "name": "stdout",
     "output_type": "stream",
     "text": [
      "Dataset Infomation:\n",
      "    >> Train: 48,956\n",
      "    >> Test: 12,239\n",
      "    >> Total: 61,195\n",
      "\n"
     ]
    }
   ],
   "source": [
    "print(f\"\"\"\\\n",
    "Dataset Infomation:\n",
    "    >> Train: {len(df_train) :,}\n",
    "    >> Test: {len(df_test) :,}\n",
    "    >> Total: {len(df) :,}\n",
    "\"\"\")"
   ]
  },
  {
   "cell_type": "code",
   "execution_count": 14,
   "id": "eec84295-d284-4620-8774-3eeff0f1afc7",
   "metadata": {},
   "outputs": [],
   "source": [
    "NUM_FILES = 100"
   ]
  },
  {
   "cell_type": "code",
   "execution_count": 15,
   "id": "2c595f10-02f7-4536-904a-263efa2cb4e6",
   "metadata": {},
   "outputs": [
    {
     "data": {
      "application/vnd.jupyter.widget-view+json": {
       "model_id": "6df24a9ac9494c669ef2d64f7823850e",
       "version_major": 2,
       "version_minor": 0
      },
      "text/plain": [
       "  0%|          | 0/100 [00:00<?, ?it/s]"
      ]
     },
     "metadata": {},
     "output_type": "display_data"
    },
    {
     "name": "stderr",
     "output_type": "stream",
     "text": [
      "2023-02-21 09:38:13.820647: I tensorflow/core/platform/cpu_feature_guard.cc:193] This TensorFlow binary is optimized with oneAPI Deep Neural Network Library (oneDNN) to use the following CPU instructions in performance-critical operations:  AVX2 AVX512F AVX512_VNNI FMA\n",
      "To enable them in other operations, rebuild TensorFlow with the appropriate compiler flags.\n",
      "2023-02-21 09:38:15.642100: I tensorflow/core/common_runtime/gpu/gpu_device.cc:1532] Created device /job:localhost/replica:0/task:0/device:GPU:0 with 30994 MB memory:  -> device: 0, name: NVIDIA A100-SXM4-40GB, pci bus id: 0000:ca:00.0, compute capability: 8.0\n",
      "2023-02-21 09:46:45.174630: W tensorflow/core/lib/png/png_io.cc:88] PNG warning: iCCP: profile 'ICC Profile': 'GRAY': Gray color space not permitted on RGB PNG\n"
     ]
    }
   ],
   "source": [
    "# Train\n",
    "for i, data in tqdm(\n",
    "    enumerate(np.array_split(df_train, NUM_FILES)),\n",
    "    total=NUM_FILES\n",
    "):\n",
    "    serialize_fold(\n",
    "        data, \n",
    "        name=f'{OUT_TRAIN_PATH}/{i:03d}-{len(data):03d}'\n",
    "    )"
   ]
  },
  {
   "cell_type": "code",
   "execution_count": 16,
   "id": "fb4e1119-5766-4f9a-aeb2-52f2a04d64df",
   "metadata": {},
   "outputs": [
    {
     "data": {
      "application/vnd.jupyter.widget-view+json": {
       "model_id": "ba9e9f7e2d2941eb8d3beeef799feeb2",
       "version_major": 2,
       "version_minor": 0
      },
      "text/plain": [
       "  0%|          | 0/100 [00:00<?, ?it/s]"
      ]
     },
     "metadata": {},
     "output_type": "display_data"
    },
    {
     "name": "stderr",
     "output_type": "stream",
     "text": [
      "2023-02-21 09:54:35.690099: W tensorflow/core/lib/png/png_io.cc:88] PNG warning: iCCP: profile 'ICC Profile': 'GRAY': Gray color space not permitted on RGB PNG\n"
     ]
    }
   ],
   "source": [
    "# Test\n",
    "for i, data in tqdm(\n",
    "    enumerate(np.array_split(df_test, NUM_FILES)),\n",
    "    total=NUM_FILES\n",
    "):\n",
    "    serialize_fold(\n",
    "        data, \n",
    "        name=f'{OUT_TEST_PATH}/{i:03d}-{len(data):03d}'\n",
    "    )"
   ]
  },
  {
   "cell_type": "code",
   "execution_count": null,
   "id": "a86ea02a-c191-41da-b11c-edb8f30f86a0",
   "metadata": {},
   "outputs": [],
   "source": []
  }
 ],
 "metadata": {
  "kernelspec": {
   "display_name": "Python 3 (ipykernel)",
   "language": "python",
   "name": "python3"
  },
  "language_info": {
   "codemirror_mode": {
    "name": "ipython",
    "version": 3
   },
   "file_extension": ".py",
   "mimetype": "text/x-python",
   "name": "python",
   "nbconvert_exporter": "python",
   "pygments_lexer": "ipython3",
   "version": "3.10.5"
  }
 },
 "nbformat": 4,
 "nbformat_minor": 5
}
