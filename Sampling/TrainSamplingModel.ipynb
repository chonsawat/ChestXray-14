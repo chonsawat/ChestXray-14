{
 "cells": [
  {
   "cell_type": "code",
   "execution_count": 1,
   "id": "f270416f-9842-4549-9804-ee43c03c7023",
   "metadata": {},
   "outputs": [],
   "source": [
    "import sys\n",
    "sys.path.append('/home/jovyan/ChestXray-14')"
   ]
  },
  {
   "cell_type": "code",
   "execution_count": 2,
   "id": "c4e1d0be-0c9b-4db0-9fb0-a2d3fbecf033",
   "metadata": {},
   "outputs": [
    {
     "name": "stderr",
     "output_type": "stream",
     "text": [
      "2023-02-17 07:45:03.789592: I tensorflow/core/util/util.cc:169] oneDNN custom operations are on. You may see slightly different numerical results due to floating-point round-off errors from different computation orders. To turn them off, set the environment variable `TF_ENABLE_ONEDNN_OPTS=0`.\n"
     ]
    }
   ],
   "source": [
    "import tensorflow as tf\n",
    "from modules.models import Model\n",
    "from modules.utils import get_dataset\n",
    "from tensorflow.keras.callbacks import ModelCheckpoint, CSVLogger, EarlyStopping, ReduceLROnPlateau, LearningRateScheduler"
   ]
  },
  {
   "cell_type": "code",
   "execution_count": 3,
   "id": "6456e8ae-84da-49d5-b819-5309e2de554c",
   "metadata": {},
   "outputs": [],
   "source": [
    "INPUT_PATH = \"/home/jovyan/ChestXray-14/dataset/ChestXray NIH\"\n",
    "LABELS = ['No Finding', 'Atelectasis', 'Consolidation', 'Infiltration', 'Pneumothorax', 'Edema', 'Emphysema', 'Fibrosis', 'Effusion', 'Pneumonia', 'Pleural_Thickening', 'Cardiomegaly', 'Nodule', 'Mass', 'Hernia']"
   ]
  },
  {
   "cell_type": "code",
   "execution_count": 4,
   "id": "443087f8-639b-4996-996c-654d483be88f",
   "metadata": {},
   "outputs": [],
   "source": [
    "class Dataset:\n",
    "    INPUT_PATH = INPUT_PATH\n",
    "    \n",
    "    def get_train(self):\n",
    "        filenames = tf.io.gfile.glob(f'{self.INPUT_PATH}/data/under_sampling/train/*.tfrec')\n",
    "        dataset = get_dataset(filenames)\n",
    "        return dataset\n",
    "\n",
    "    def get_test(self):\n",
    "        filenames = tf.io.gfile.glob(f'{self.INPUT_PATH}/data/under_sampling/test/*.tfrec')\n",
    "        dataset = get_dataset(filenames)\n",
    "        return dataset"
   ]
  },
  {
   "cell_type": "markdown",
   "id": "f35e2b49-0fb1-46e8-b1fc-470624d2bbb0",
   "metadata": {},
   "source": [
    "## Train Model"
   ]
  },
  {
   "cell_type": "code",
   "execution_count": 5,
   "id": "77aea50a-998f-4331-a935-2abde166f541",
   "metadata": {},
   "outputs": [
    {
     "data": {
      "text/plain": [
       "'/home/jovyan/ChestXray-14/Sampling'"
      ]
     },
     "execution_count": 5,
     "metadata": {},
     "output_type": "execute_result"
    }
   ],
   "source": [
    "import os\n",
    "CURRENT_PATH = os.path.abspath(\"\")\n",
    "CURRENT_PATH"
   ]
  },
  {
   "cell_type": "code",
   "execution_count": 6,
   "id": "cf91af28-761a-4cd2-bd19-6c686221e8de",
   "metadata": {},
   "outputs": [],
   "source": [
    "# Learning rate\n",
    "def lr_schedule(epoch, learning_rate):\n",
    "    tf.summary.scalar('learning rate', data=learning_rate, step=epoch)\n",
    "    return learning_rate"
   ]
  },
  {
   "cell_type": "code",
   "execution_count": 7,
   "id": "d8a7df27-29e5-402a-829a-9f2030135fae",
   "metadata": {},
   "outputs": [],
   "source": [
    "def get_callbacks(NAME, weight_option, fold_num=None):\n",
    "    model_checkpoint_callback = ModelCheckpoint(f'results/models/CrossEntropy/{NAME}_{weight_option}.h5', monitor='val_loss', mode='min', save_best_only=True)\n",
    "    early_stop_callback = EarlyStopping(monitor='val_loss', mode=\"min\", patience=20, verbose=1)\n",
    "    reduce_lr_callback = ReduceLROnPlateau(monitor='val_loss', mode=\"min\", factor=0.5, patience=3, verbose=1)\n",
    "    lr_logging_callback = LearningRateScheduler(lr_schedule)\n",
    "    \n",
    "    return model_checkpoint_callback, early_stop_callback, reduce_lr_callback, lr_logging_callback\n",
    "    "
   ]
  },
  {
   "cell_type": "code",
   "execution_count": 8,
   "id": "037c2b0a-b089-411d-916f-a5cbb21aee01",
   "metadata": {},
   "outputs": [],
   "source": [
    "# Constant variables\n",
    "NAME = \"EfficientNetB0\"\n",
    "EPOCHS = 100\n",
    "NUM_FOLDS = 5"
   ]
  },
  {
   "cell_type": "code",
   "execution_count": 9,
   "id": "7140b11e-29f1-4224-800a-49590f5ffece",
   "metadata": {},
   "outputs": [],
   "source": [
    "weight_option = None # use `imagenet` or `None` only"
   ]
  },
  {
   "cell_type": "code",
   "execution_count": 10,
   "id": "3bb1f244-8639-417a-9690-522443f513d8",
   "metadata": {},
   "outputs": [
    {
     "name": "stderr",
     "output_type": "stream",
     "text": [
      "2023-02-17 07:45:06.214219: I tensorflow/core/platform/cpu_feature_guard.cc:193] This TensorFlow binary is optimized with oneAPI Deep Neural Network Library (oneDNN) to use the following CPU instructions in performance-critical operations:  AVX2 AVX512F AVX512_VNNI FMA\n",
      "To enable them in other operations, rebuild TensorFlow with the appropriate compiler flags.\n",
      "2023-02-17 07:45:07.975649: I tensorflow/core/common_runtime/gpu/gpu_device.cc:1532] Created device /job:localhost/replica:0/task:0/device:GPU:0 with 31741 MB memory:  -> device: 0, name: NVIDIA A100-SXM4-40GB, pci bus id: 0000:b1:00.0, compute capability: 8.0\n"
     ]
    },
    {
     "name": "stdout",
     "output_type": "stream",
     "text": [
      "Model: \"CrossEntropyOnSamplingDataset\"\n",
      "_________________________________________________________________\n",
      " Layer (type)                Output Shape              Param #   \n",
      "=================================================================\n",
      " efficientnetb0 (Functional)  (None, 7, 7, 1280)       4049571   \n",
      "                                                                 \n",
      " flatten (Flatten)           (None, 62720)             0         \n",
      "                                                                 \n",
      " dense (Dense)               (None, 128)               8028288   \n",
      "                                                                 \n",
      " dense_1 (Dense)             (None, 128)               16512     \n",
      "                                                                 \n",
      " dense_2 (Dense)             (None, 64)                8256      \n",
      "                                                                 \n",
      " dense_3 (Dense)             (None, 64)                4160      \n",
      "                                                                 \n",
      " dense_4 (Dense)             (None, 15)                975       \n",
      "                                                                 \n",
      "=================================================================\n",
      "Total params: 12,107,762\n",
      "Trainable params: 12,065,739\n",
      "Non-trainable params: 42,023\n",
      "_________________________________________________________________\n"
     ]
    }
   ],
   "source": [
    "# Callbacks\n",
    "model_checkpoint_callback, early_stop_callback, reduce_lr_callback, lr_logging_callback = get_callbacks(NAME, weight_option)\n",
    "\n",
    "# Path for CSV\n",
    "path = os.path.join(CURRENT_PATH, \"results\", \"history\", \"training_with_CrossEntroy\", f\"{NAME}_{weight_option}\")\n",
    "os.makedirs(path, exist_ok=True)\n",
    "\n",
    "# CSV Logger\n",
    "csv_logger = CSVLogger(os.path.join(path, f\"CrossEntropy.csv\"))\n",
    "\n",
    "# Dataset\n",
    "train_dataset, test_dataset = Dataset().get_train(), Dataset().get_test()\n",
    "\n",
    "# Modeling\n",
    "transfer_model = tf.keras.applications.efficientnet.EfficientNetB0(\n",
    "    include_top=False, \n",
    "    weights=weight_option,\n",
    "    input_shape=(224, 224, 3),\n",
    "    pooling=None\n",
    ")\n",
    "\n",
    "model = Model(\n",
    "    transfer_model,\n",
    ")\n",
    "model = model.get_model(flatten=True)\n",
    "model._name = \"CrossEntropyOnSamplingDataset\"\n",
    "model.summary()"
   ]
  },
  {
   "cell_type": "code",
   "execution_count": 11,
   "id": "f63264c8-d816-41c3-acc6-1f4d0f0ec004",
   "metadata": {},
   "outputs": [
    {
     "name": "stdout",
     "output_type": "stream",
     "text": [
      "Epoch 1/100\n"
     ]
    },
    {
     "name": "stderr",
     "output_type": "stream",
     "text": [
      "2023-02-17 07:45:20.619110: I tensorflow/stream_executor/cuda/cuda_dnn.cc:384] Loaded cuDNN version 8100\n",
      "2023-02-17 07:45:21.752355: I tensorflow/core/platform/default/subprocess.cc:304] Start cannot spawn child process: No such file or directory\n",
      "2023-02-17 07:45:21.753274: I tensorflow/core/platform/default/subprocess.cc:304] Start cannot spawn child process: No such file or directory\n",
      "2023-02-17 07:45:21.753292: W tensorflow/stream_executor/gpu/asm_compiler.cc:80] Couldn't get ptxas version string: INTERNAL: Couldn't invoke ptxas --version\n",
      "2023-02-17 07:45:21.754073: I tensorflow/core/platform/default/subprocess.cc:304] Start cannot spawn child process: No such file or directory\n",
      "2023-02-17 07:45:21.754221: W tensorflow/stream_executor/gpu/redzone_allocator.cc:314] INTERNAL: Failed to launch ptxas\n",
      "Relying on driver to perform ptx compilation. \n",
      "Modify $PATH to customize ptxas location.\n",
      "This message will be only logged once.\n",
      "2023-02-17 07:45:25.873367: I tensorflow/stream_executor/cuda/cuda_blas.cc:1786] TensorFloat-32 will be used for the matrix multiplication. This will only be logged once.\n"
     ]
    },
    {
     "name": "stdout",
     "output_type": "stream",
     "text": [
      "3060/3060 [==============================] - 670s 213ms/step - loss: 0.2896 - auc: 0.5297 - val_loss: 0.2823 - val_auc: 0.5844 - lr: 0.0010\n",
      "Epoch 2/100\n",
      "3060/3060 [==============================] - 641s 209ms/step - loss: 0.2801 - auc: 0.5828 - val_loss: 0.2796 - val_auc: 0.5914 - lr: 0.0010\n",
      "Epoch 3/100\n",
      "3060/3060 [==============================] - 618s 202ms/step - loss: 0.2767 - auc: 0.6083 - val_loss: 0.2743 - val_auc: 0.6265 - lr: 0.0010\n",
      "Epoch 4/100\n",
      "3060/3060 [==============================] - 641s 210ms/step - loss: 0.2732 - auc: 0.6312 - val_loss: 0.2729 - val_auc: 0.6400 - lr: 0.0010\n",
      "Epoch 5/100\n",
      "3060/3060 [==============================] - 644s 210ms/step - loss: 0.2713 - auc: 0.6426 - val_loss: 0.2694 - val_auc: 0.6517 - lr: 0.0010\n",
      "Epoch 6/100\n",
      "3060/3060 [==============================] - 637s 208ms/step - loss: 0.2686 - auc: 0.6598 - val_loss: 0.2697 - val_auc: 0.6579 - lr: 0.0010\n",
      "Epoch 7/100\n",
      "3060/3060 [==============================] - 640s 209ms/step - loss: 0.2678 - auc: 0.6645 - val_loss: 0.2673 - val_auc: 0.6702 - lr: 0.0010\n",
      "Epoch 8/100\n",
      "3060/3060 [==============================] - 640s 209ms/step - loss: 0.2661 - auc: 0.6748 - val_loss: 0.2659 - val_auc: 0.6798 - lr: 0.0010\n",
      "Epoch 9/100\n",
      "3060/3060 [==============================] - 643s 210ms/step - loss: 0.2634 - auc: 0.6894 - val_loss: 0.2635 - val_auc: 0.6846 - lr: 0.0010\n",
      "Epoch 10/100\n",
      "3060/3060 [==============================] - 642s 210ms/step - loss: 0.2615 - auc: 0.6981 - val_loss: 0.2624 - val_auc: 0.6962 - lr: 0.0010\n",
      "Epoch 11/100\n",
      "3060/3060 [==============================] - 636s 208ms/step - loss: 0.2605 - auc: 0.7037 - val_loss: 0.2624 - val_auc: 0.6929 - lr: 0.0010\n",
      "Epoch 12/100\n",
      "3060/3060 [==============================] - 642s 210ms/step - loss: 0.2597 - auc: 0.7057 - val_loss: 0.2617 - val_auc: 0.6930 - lr: 0.0010\n",
      "Epoch 13/100\n",
      "3060/3060 [==============================] - 640s 209ms/step - loss: 0.2585 - auc: 0.7099 - val_loss: 0.2596 - val_auc: 0.7054 - lr: 0.0010\n",
      "Epoch 14/100\n",
      "3060/3060 [==============================] - 641s 209ms/step - loss: 0.2567 - auc: 0.7195 - val_loss: 0.2604 - val_auc: 0.7024 - lr: 0.0010\n",
      "Epoch 15/100\n",
      "3060/3060 [==============================] - 641s 209ms/step - loss: 0.2566 - auc: 0.7187 - val_loss: 0.2592 - val_auc: 0.7053 - lr: 0.0010\n",
      "Epoch 16/100\n",
      "3060/3060 [==============================] - 644s 210ms/step - loss: 0.2557 - auc: 0.7241 - val_loss: 0.2586 - val_auc: 0.7087 - lr: 0.0010\n",
      "Epoch 17/100\n",
      "3060/3060 [==============================] - 640s 209ms/step - loss: 0.2542 - auc: 0.7274 - val_loss: 0.2583 - val_auc: 0.7115 - lr: 0.0010\n",
      "Epoch 18/100\n",
      "3060/3060 [==============================] - 640s 209ms/step - loss: 0.2525 - auc: 0.7350 - val_loss: 0.2578 - val_auc: 0.7134 - lr: 0.0010\n",
      "Epoch 19/100\n",
      "3060/3060 [==============================] - 641s 209ms/step - loss: 0.2525 - auc: 0.7343 - val_loss: 0.2568 - val_auc: 0.7149 - lr: 0.0010\n",
      "Epoch 20/100\n",
      "3060/3060 [==============================] - 641s 209ms/step - loss: 0.2506 - auc: 0.7430 - val_loss: 0.2574 - val_auc: 0.7178 - lr: 0.0010\n",
      "Epoch 21/100\n",
      "3060/3060 [==============================] - 641s 209ms/step - loss: 0.2487 - auc: 0.7478 - val_loss: 0.2568 - val_auc: 0.7194 - lr: 0.0010\n",
      "Epoch 22/100\n",
      "3060/3060 [==============================] - 641s 209ms/step - loss: 0.2476 - auc: 0.7507 - val_loss: 0.2567 - val_auc: 0.7216 - lr: 0.0010\n",
      "Epoch 23/100\n",
      "3060/3060 [==============================] - 640s 209ms/step - loss: 0.2458 - auc: 0.7583 - val_loss: 0.2580 - val_auc: 0.7197 - lr: 0.0010\n",
      "Epoch 24/100\n",
      "3060/3060 [==============================] - 642s 210ms/step - loss: 0.2447 - auc: 0.7596 - val_loss: 0.2588 - val_auc: 0.7188 - lr: 0.0010\n",
      "Epoch 25/100\n",
      "3060/3060 [==============================] - ETA: 0s - loss: 0.2426 - auc: 0.7651\n",
      "Epoch 25: ReduceLROnPlateau reducing learning rate to 0.0005000000237487257.\n",
      "3060/3060 [==============================] - 642s 210ms/step - loss: 0.2426 - auc: 0.7651 - val_loss: 0.2601 - val_auc: 0.7137 - lr: 5.0000e-04\n",
      "Epoch 26/100\n",
      "3060/3060 [==============================] - 642s 210ms/step - loss: 0.2362 - auc: 0.7839 - val_loss: 0.2619 - val_auc: 0.7133 - lr: 5.0000e-04\n",
      "Epoch 27/100\n",
      "3060/3060 [==============================] - 641s 210ms/step - loss: 0.2325 - auc: 0.7942 - val_loss: 0.2637 - val_auc: 0.7141 - lr: 5.0000e-04\n",
      "Epoch 28/100\n",
      "3060/3060 [==============================] - ETA: 0s - loss: 0.2292 - auc: 0.8023\n",
      "Epoch 28: ReduceLROnPlateau reducing learning rate to 0.0002500000118743628.\n",
      "3060/3060 [==============================] - 639s 209ms/step - loss: 0.2292 - auc: 0.8023 - val_loss: 0.2663 - val_auc: 0.7117 - lr: 2.5000e-04\n",
      "Epoch 29/100\n",
      "3060/3060 [==============================] - 642s 210ms/step - loss: 0.2231 - auc: 0.8154 - val_loss: 0.2679 - val_auc: 0.7094 - lr: 2.5000e-04\n",
      "Epoch 30/100\n",
      "3060/3060 [==============================] - 640s 209ms/step - loss: 0.2198 - auc: 0.8220 - val_loss: 0.2713 - val_auc: 0.7077 - lr: 2.5000e-04\n",
      "Epoch 31/100\n",
      "3060/3060 [==============================] - ETA: 0s - loss: 0.2173 - auc: 0.8262\n",
      "Epoch 31: ReduceLROnPlateau reducing learning rate to 0.0001250000059371814.\n",
      "3060/3060 [==============================] - 640s 209ms/step - loss: 0.2173 - auc: 0.8262 - val_loss: 0.2730 - val_auc: 0.7034 - lr: 1.2500e-04\n",
      "Epoch 32/100\n",
      "3060/3060 [==============================] - 641s 209ms/step - loss: 0.2140 - auc: 0.8334 - val_loss: 0.2757 - val_auc: 0.7036 - lr: 1.2500e-04\n",
      "Epoch 33/100\n",
      "3060/3060 [==============================] - 642s 210ms/step - loss: 0.2117 - auc: 0.8366 - val_loss: 0.2782 - val_auc: 0.7063 - lr: 1.2500e-04\n",
      "Epoch 34/100\n",
      "3060/3060 [==============================] - ETA: 0s - loss: 0.2100 - auc: 0.8403\n",
      "Epoch 34: ReduceLROnPlateau reducing learning rate to 6.25000029685907e-05.\n",
      "3060/3060 [==============================] - 642s 210ms/step - loss: 0.2100 - auc: 0.8403 - val_loss: 0.2797 - val_auc: 0.7018 - lr: 6.2500e-05\n",
      "Epoch 35/100\n",
      "3060/3060 [==============================] - 640s 209ms/step - loss: 0.2080 - auc: 0.8424 - val_loss: 0.2820 - val_auc: 0.7007 - lr: 6.2500e-05\n",
      "Epoch 36/100\n",
      "3060/3060 [==============================] - 640s 209ms/step - loss: 0.2064 - auc: 0.8462 - val_loss: 0.2838 - val_auc: 0.6995 - lr: 6.2500e-05\n",
      "Epoch 37/100\n",
      "3060/3060 [==============================] - ETA: 0s - loss: 0.2054 - auc: 0.8486\n",
      "Epoch 37: ReduceLROnPlateau reducing learning rate to 3.125000148429535e-05.\n",
      "3060/3060 [==============================] - 640s 209ms/step - loss: 0.2054 - auc: 0.8486 - val_loss: 0.2844 - val_auc: 0.6990 - lr: 3.1250e-05\n",
      "Epoch 38/100\n",
      "3060/3060 [==============================] - 639s 209ms/step - loss: 0.2047 - auc: 0.8501 - val_loss: 0.2863 - val_auc: 0.6990 - lr: 3.1250e-05\n",
      "Epoch 39/100\n",
      "3060/3060 [==============================] - 639s 209ms/step - loss: 0.2037 - auc: 0.8514 - val_loss: 0.2868 - val_auc: 0.6998 - lr: 3.1250e-05\n",
      "Epoch 40/100\n",
      "3060/3060 [==============================] - ETA: 0s - loss: 0.2032 - auc: 0.8525\n",
      "Epoch 40: ReduceLROnPlateau reducing learning rate to 1.5625000742147677e-05.\n",
      "3060/3060 [==============================] - 639s 209ms/step - loss: 0.2032 - auc: 0.8525 - val_loss: 0.2872 - val_auc: 0.6988 - lr: 1.5625e-05\n",
      "Epoch 41/100\n",
      "3060/3060 [==============================] - 638s 208ms/step - loss: 0.2027 - auc: 0.8522 - val_loss: 0.2872 - val_auc: 0.6994 - lr: 1.5625e-05\n",
      "Epoch 42/100\n",
      "3060/3060 [==============================] - 638s 209ms/step - loss: 0.2024 - auc: 0.8532 - val_loss: 0.2874 - val_auc: 0.6994 - lr: 1.5625e-05\n",
      "Epoch 42: early stopping\n"
     ]
    }
   ],
   "source": [
    "# Visualize\n",
    "history = model.fit(\n",
    "    train_dataset,\n",
    "    epochs=EPOCHS,\n",
    "    validation_data=test_dataset,\n",
    "    verbose=1, # Show Progress Bar while Traning\n",
    "    callbacks=[model_checkpoint_callback, csv_logger, early_stop_callback, reduce_lr_callback, lr_logging_callback]\n",
    ")"
   ]
  },
  {
   "cell_type": "code",
   "execution_count": null,
   "id": "5bb7556f-4e4f-46b6-a5a1-757045344204",
   "metadata": {},
   "outputs": [],
   "source": []
  }
 ],
 "metadata": {
  "kernelspec": {
   "display_name": "Python 3 (ipykernel)",
   "language": "python",
   "name": "python3"
  },
  "language_info": {
   "codemirror_mode": {
    "name": "ipython",
    "version": 3
   },
   "file_extension": ".py",
   "mimetype": "text/x-python",
   "name": "python",
   "nbconvert_exporter": "python",
   "pygments_lexer": "ipython3",
   "version": "3.10.5"
  }
 },
 "nbformat": 4,
 "nbformat_minor": 5
}
