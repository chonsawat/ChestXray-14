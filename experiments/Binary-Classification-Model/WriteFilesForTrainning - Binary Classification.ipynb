{
 "cells": [
  {
   "cell_type": "markdown",
   "id": "8b792cf7-4c23-4100-a54c-8bb00927f2b1",
   "metadata": {},
   "source": [
    "## Initial PATH"
   ]
  },
  {
   "cell_type": "code",
   "execution_count": 1,
   "id": "10fc9f56-9d94-410d-b836-300449d49586",
   "metadata": {},
   "outputs": [],
   "source": [
    "import os\n",
    "ROOT_PATH = \"/home/jovyan/ChestXray-14\"\n",
    "INPUT_PATH = \"/home/jovyan/ChestXray-14/dataset/ChestXray NIH\"\n",
    "INPUT_PATH = os.path.abspath(INPUT_PATH)"
   ]
  },
  {
   "cell_type": "code",
   "execution_count": 2,
   "id": "f697bcae-94dd-44e8-983f-923a47366bbb",
   "metadata": {},
   "outputs": [],
   "source": [
    "BATCH_SIZE = 128 # 128 only on Binary Classification\n",
    "IMG_SIZE = 224\n",
    "SEED = 42"
   ]
  },
  {
   "cell_type": "code",
   "execution_count": 3,
   "id": "34b04ef4-7d5d-4216-bc02-c0b2787e6656",
   "metadata": {},
   "outputs": [
    {
     "data": {
      "text/plain": [
       "'/home/jovyan/ChestXray-14/dataset/ChestXray NIH/data/Binary Classification'"
      ]
     },
     "execution_count": 3,
     "metadata": {},
     "output_type": "execute_result"
    }
   ],
   "source": [
    "EXPERIMENT_NAME = \"binary_dataset\"\n",
    "OUT_PATH = os.path.abspath(f\"{INPUT_PATH}/data/{EXPERIMENT_NAME}\")\n",
    "OUT_PATH"
   ]
  },
  {
   "cell_type": "markdown",
   "id": "190853cd-a5b7-4176-b6e9-b973a7b2eb85",
   "metadata": {},
   "source": [
    "## Load Full Dataset"
   ]
  },
  {
   "cell_type": "code",
   "execution_count": 4,
   "id": "4df5e4bf-dd5d-4349-8081-10cf406d1c35",
   "metadata": {},
   "outputs": [],
   "source": [
    "import pandas as pd\n",
    "DEFAULT_DISPLAY_ROWS = 10 # defualt is 10\n",
    "pd.set_option('display.max_rows', DEFAULT_DISPLAY_ROWS)"
   ]
  },
  {
   "cell_type": "code",
   "execution_count": 5,
   "id": "5b98d140-9af8-4023-bbca-cd8f549a084e",
   "metadata": {},
   "outputs": [],
   "source": [
    "FILE_PATH = f\"{INPUT_PATH}/preprocessed_data.csv\""
   ]
  },
  {
   "cell_type": "code",
   "execution_count": 6,
   "id": "3800e19a-e7b0-40d4-9118-db7618fcd73b",
   "metadata": {},
   "outputs": [
    {
     "data": {
      "text/html": [
       "<div>\n",
       "<style scoped>\n",
       "    .dataframe tbody tr th:only-of-type {\n",
       "        vertical-align: middle;\n",
       "    }\n",
       "\n",
       "    .dataframe tbody tr th {\n",
       "        vertical-align: top;\n",
       "    }\n",
       "\n",
       "    .dataframe thead th {\n",
       "        text-align: right;\n",
       "    }\n",
       "</style>\n",
       "<table border=\"1\" class=\"dataframe\">\n",
       "  <thead>\n",
       "    <tr style=\"text-align: right;\">\n",
       "      <th></th>\n",
       "      <th>No Finding</th>\n",
       "      <th>Atelectasis</th>\n",
       "      <th>Consolidation</th>\n",
       "      <th>Infiltration</th>\n",
       "      <th>Pneumothorax</th>\n",
       "      <th>Edema</th>\n",
       "      <th>Emphysema</th>\n",
       "      <th>Fibrosis</th>\n",
       "      <th>Effusion</th>\n",
       "      <th>Pneumonia</th>\n",
       "      <th>Pleural_Thickening</th>\n",
       "      <th>Cardiomegaly</th>\n",
       "      <th>Nodule</th>\n",
       "      <th>Mass</th>\n",
       "      <th>Hernia</th>\n",
       "    </tr>\n",
       "    <tr>\n",
       "      <th>index</th>\n",
       "      <th></th>\n",
       "      <th></th>\n",
       "      <th></th>\n",
       "      <th></th>\n",
       "      <th></th>\n",
       "      <th></th>\n",
       "      <th></th>\n",
       "      <th></th>\n",
       "      <th></th>\n",
       "      <th></th>\n",
       "      <th></th>\n",
       "      <th></th>\n",
       "      <th></th>\n",
       "      <th></th>\n",
       "      <th></th>\n",
       "    </tr>\n",
       "  </thead>\n",
       "  <tbody>\n",
       "    <tr>\n",
       "      <th>/home/jovyan/ChestXray-14/dataset/ChestXray NIH/images_001/images/00000001_000.png</th>\n",
       "      <td>False</td>\n",
       "      <td>False</td>\n",
       "      <td>False</td>\n",
       "      <td>False</td>\n",
       "      <td>False</td>\n",
       "      <td>False</td>\n",
       "      <td>False</td>\n",
       "      <td>False</td>\n",
       "      <td>False</td>\n",
       "      <td>False</td>\n",
       "      <td>False</td>\n",
       "      <td>True</td>\n",
       "      <td>False</td>\n",
       "      <td>False</td>\n",
       "      <td>False</td>\n",
       "    </tr>\n",
       "    <tr>\n",
       "      <th>/home/jovyan/ChestXray-14/dataset/ChestXray NIH/images_001/images/00000001_001.png</th>\n",
       "      <td>False</td>\n",
       "      <td>False</td>\n",
       "      <td>False</td>\n",
       "      <td>False</td>\n",
       "      <td>False</td>\n",
       "      <td>False</td>\n",
       "      <td>True</td>\n",
       "      <td>False</td>\n",
       "      <td>False</td>\n",
       "      <td>False</td>\n",
       "      <td>False</td>\n",
       "      <td>True</td>\n",
       "      <td>False</td>\n",
       "      <td>False</td>\n",
       "      <td>False</td>\n",
       "    </tr>\n",
       "    <tr>\n",
       "      <th>/home/jovyan/ChestXray-14/dataset/ChestXray NIH/images_001/images/00000001_002.png</th>\n",
       "      <td>False</td>\n",
       "      <td>False</td>\n",
       "      <td>False</td>\n",
       "      <td>False</td>\n",
       "      <td>False</td>\n",
       "      <td>False</td>\n",
       "      <td>False</td>\n",
       "      <td>False</td>\n",
       "      <td>True</td>\n",
       "      <td>False</td>\n",
       "      <td>False</td>\n",
       "      <td>True</td>\n",
       "      <td>False</td>\n",
       "      <td>False</td>\n",
       "      <td>False</td>\n",
       "    </tr>\n",
       "    <tr>\n",
       "      <th>/home/jovyan/ChestXray-14/dataset/ChestXray NIH/images_001/images/00000002_000.png</th>\n",
       "      <td>True</td>\n",
       "      <td>False</td>\n",
       "      <td>False</td>\n",
       "      <td>False</td>\n",
       "      <td>False</td>\n",
       "      <td>False</td>\n",
       "      <td>False</td>\n",
       "      <td>False</td>\n",
       "      <td>False</td>\n",
       "      <td>False</td>\n",
       "      <td>False</td>\n",
       "      <td>False</td>\n",
       "      <td>False</td>\n",
       "      <td>False</td>\n",
       "      <td>False</td>\n",
       "    </tr>\n",
       "    <tr>\n",
       "      <th>/home/jovyan/ChestXray-14/dataset/ChestXray NIH/images_001/images/00000003_000.png</th>\n",
       "      <td>False</td>\n",
       "      <td>False</td>\n",
       "      <td>False</td>\n",
       "      <td>False</td>\n",
       "      <td>False</td>\n",
       "      <td>False</td>\n",
       "      <td>False</td>\n",
       "      <td>False</td>\n",
       "      <td>False</td>\n",
       "      <td>False</td>\n",
       "      <td>False</td>\n",
       "      <td>False</td>\n",
       "      <td>False</td>\n",
       "      <td>False</td>\n",
       "      <td>True</td>\n",
       "    </tr>\n",
       "    <tr>\n",
       "      <th>...</th>\n",
       "      <td>...</td>\n",
       "      <td>...</td>\n",
       "      <td>...</td>\n",
       "      <td>...</td>\n",
       "      <td>...</td>\n",
       "      <td>...</td>\n",
       "      <td>...</td>\n",
       "      <td>...</td>\n",
       "      <td>...</td>\n",
       "      <td>...</td>\n",
       "      <td>...</td>\n",
       "      <td>...</td>\n",
       "      <td>...</td>\n",
       "      <td>...</td>\n",
       "      <td>...</td>\n",
       "    </tr>\n",
       "    <tr>\n",
       "      <th>/home/jovyan/ChestXray-14/dataset/ChestXray NIH/images_012/images/00030801_001.png</th>\n",
       "      <td>False</td>\n",
       "      <td>False</td>\n",
       "      <td>False</td>\n",
       "      <td>False</td>\n",
       "      <td>False</td>\n",
       "      <td>False</td>\n",
       "      <td>False</td>\n",
       "      <td>False</td>\n",
       "      <td>False</td>\n",
       "      <td>True</td>\n",
       "      <td>False</td>\n",
       "      <td>False</td>\n",
       "      <td>False</td>\n",
       "      <td>True</td>\n",
       "      <td>False</td>\n",
       "    </tr>\n",
       "    <tr>\n",
       "      <th>/home/jovyan/ChestXray-14/dataset/ChestXray NIH/images_012/images/00030802_000.png</th>\n",
       "      <td>True</td>\n",
       "      <td>False</td>\n",
       "      <td>False</td>\n",
       "      <td>False</td>\n",
       "      <td>False</td>\n",
       "      <td>False</td>\n",
       "      <td>False</td>\n",
       "      <td>False</td>\n",
       "      <td>False</td>\n",
       "      <td>False</td>\n",
       "      <td>False</td>\n",
       "      <td>False</td>\n",
       "      <td>False</td>\n",
       "      <td>False</td>\n",
       "      <td>False</td>\n",
       "    </tr>\n",
       "    <tr>\n",
       "      <th>/home/jovyan/ChestXray-14/dataset/ChestXray NIH/images_012/images/00030803_000.png</th>\n",
       "      <td>True</td>\n",
       "      <td>False</td>\n",
       "      <td>False</td>\n",
       "      <td>False</td>\n",
       "      <td>False</td>\n",
       "      <td>False</td>\n",
       "      <td>False</td>\n",
       "      <td>False</td>\n",
       "      <td>False</td>\n",
       "      <td>False</td>\n",
       "      <td>False</td>\n",
       "      <td>False</td>\n",
       "      <td>False</td>\n",
       "      <td>False</td>\n",
       "      <td>False</td>\n",
       "    </tr>\n",
       "    <tr>\n",
       "      <th>/home/jovyan/ChestXray-14/dataset/ChestXray NIH/images_012/images/00030804_000.png</th>\n",
       "      <td>True</td>\n",
       "      <td>False</td>\n",
       "      <td>False</td>\n",
       "      <td>False</td>\n",
       "      <td>False</td>\n",
       "      <td>False</td>\n",
       "      <td>False</td>\n",
       "      <td>False</td>\n",
       "      <td>False</td>\n",
       "      <td>False</td>\n",
       "      <td>False</td>\n",
       "      <td>False</td>\n",
       "      <td>False</td>\n",
       "      <td>False</td>\n",
       "      <td>False</td>\n",
       "    </tr>\n",
       "    <tr>\n",
       "      <th>/home/jovyan/ChestXray-14/dataset/ChestXray NIH/images_012/images/00030805_000.png</th>\n",
       "      <td>True</td>\n",
       "      <td>False</td>\n",
       "      <td>False</td>\n",
       "      <td>False</td>\n",
       "      <td>False</td>\n",
       "      <td>False</td>\n",
       "      <td>False</td>\n",
       "      <td>False</td>\n",
       "      <td>False</td>\n",
       "      <td>False</td>\n",
       "      <td>False</td>\n",
       "      <td>False</td>\n",
       "      <td>False</td>\n",
       "      <td>False</td>\n",
       "      <td>False</td>\n",
       "    </tr>\n",
       "  </tbody>\n",
       "</table>\n",
       "<p>112120 rows × 15 columns</p>\n",
       "</div>"
      ],
      "text/plain": [
       "                                                    No Finding  Atelectasis  \\\n",
       "index                                                                         \n",
       "/home/jovyan/ChestXray-14/dataset/ChestXray NIH...       False        False   \n",
       "/home/jovyan/ChestXray-14/dataset/ChestXray NIH...       False        False   \n",
       "/home/jovyan/ChestXray-14/dataset/ChestXray NIH...       False        False   \n",
       "/home/jovyan/ChestXray-14/dataset/ChestXray NIH...        True        False   \n",
       "/home/jovyan/ChestXray-14/dataset/ChestXray NIH...       False        False   \n",
       "...                                                        ...          ...   \n",
       "/home/jovyan/ChestXray-14/dataset/ChestXray NIH...       False        False   \n",
       "/home/jovyan/ChestXray-14/dataset/ChestXray NIH...        True        False   \n",
       "/home/jovyan/ChestXray-14/dataset/ChestXray NIH...        True        False   \n",
       "/home/jovyan/ChestXray-14/dataset/ChestXray NIH...        True        False   \n",
       "/home/jovyan/ChestXray-14/dataset/ChestXray NIH...        True        False   \n",
       "\n",
       "                                                    Consolidation  \\\n",
       "index                                                               \n",
       "/home/jovyan/ChestXray-14/dataset/ChestXray NIH...          False   \n",
       "/home/jovyan/ChestXray-14/dataset/ChestXray NIH...          False   \n",
       "/home/jovyan/ChestXray-14/dataset/ChestXray NIH...          False   \n",
       "/home/jovyan/ChestXray-14/dataset/ChestXray NIH...          False   \n",
       "/home/jovyan/ChestXray-14/dataset/ChestXray NIH...          False   \n",
       "...                                                           ...   \n",
       "/home/jovyan/ChestXray-14/dataset/ChestXray NIH...          False   \n",
       "/home/jovyan/ChestXray-14/dataset/ChestXray NIH...          False   \n",
       "/home/jovyan/ChestXray-14/dataset/ChestXray NIH...          False   \n",
       "/home/jovyan/ChestXray-14/dataset/ChestXray NIH...          False   \n",
       "/home/jovyan/ChestXray-14/dataset/ChestXray NIH...          False   \n",
       "\n",
       "                                                    Infiltration  \\\n",
       "index                                                              \n",
       "/home/jovyan/ChestXray-14/dataset/ChestXray NIH...         False   \n",
       "/home/jovyan/ChestXray-14/dataset/ChestXray NIH...         False   \n",
       "/home/jovyan/ChestXray-14/dataset/ChestXray NIH...         False   \n",
       "/home/jovyan/ChestXray-14/dataset/ChestXray NIH...         False   \n",
       "/home/jovyan/ChestXray-14/dataset/ChestXray NIH...         False   \n",
       "...                                                          ...   \n",
       "/home/jovyan/ChestXray-14/dataset/ChestXray NIH...         False   \n",
       "/home/jovyan/ChestXray-14/dataset/ChestXray NIH...         False   \n",
       "/home/jovyan/ChestXray-14/dataset/ChestXray NIH...         False   \n",
       "/home/jovyan/ChestXray-14/dataset/ChestXray NIH...         False   \n",
       "/home/jovyan/ChestXray-14/dataset/ChestXray NIH...         False   \n",
       "\n",
       "                                                    Pneumothorax  Edema  \\\n",
       "index                                                                     \n",
       "/home/jovyan/ChestXray-14/dataset/ChestXray NIH...         False  False   \n",
       "/home/jovyan/ChestXray-14/dataset/ChestXray NIH...         False  False   \n",
       "/home/jovyan/ChestXray-14/dataset/ChestXray NIH...         False  False   \n",
       "/home/jovyan/ChestXray-14/dataset/ChestXray NIH...         False  False   \n",
       "/home/jovyan/ChestXray-14/dataset/ChestXray NIH...         False  False   \n",
       "...                                                          ...    ...   \n",
       "/home/jovyan/ChestXray-14/dataset/ChestXray NIH...         False  False   \n",
       "/home/jovyan/ChestXray-14/dataset/ChestXray NIH...         False  False   \n",
       "/home/jovyan/ChestXray-14/dataset/ChestXray NIH...         False  False   \n",
       "/home/jovyan/ChestXray-14/dataset/ChestXray NIH...         False  False   \n",
       "/home/jovyan/ChestXray-14/dataset/ChestXray NIH...         False  False   \n",
       "\n",
       "                                                    Emphysema  Fibrosis  \\\n",
       "index                                                                     \n",
       "/home/jovyan/ChestXray-14/dataset/ChestXray NIH...      False     False   \n",
       "/home/jovyan/ChestXray-14/dataset/ChestXray NIH...       True     False   \n",
       "/home/jovyan/ChestXray-14/dataset/ChestXray NIH...      False     False   \n",
       "/home/jovyan/ChestXray-14/dataset/ChestXray NIH...      False     False   \n",
       "/home/jovyan/ChestXray-14/dataset/ChestXray NIH...      False     False   \n",
       "...                                                       ...       ...   \n",
       "/home/jovyan/ChestXray-14/dataset/ChestXray NIH...      False     False   \n",
       "/home/jovyan/ChestXray-14/dataset/ChestXray NIH...      False     False   \n",
       "/home/jovyan/ChestXray-14/dataset/ChestXray NIH...      False     False   \n",
       "/home/jovyan/ChestXray-14/dataset/ChestXray NIH...      False     False   \n",
       "/home/jovyan/ChestXray-14/dataset/ChestXray NIH...      False     False   \n",
       "\n",
       "                                                    Effusion  Pneumonia  \\\n",
       "index                                                                     \n",
       "/home/jovyan/ChestXray-14/dataset/ChestXray NIH...     False      False   \n",
       "/home/jovyan/ChestXray-14/dataset/ChestXray NIH...     False      False   \n",
       "/home/jovyan/ChestXray-14/dataset/ChestXray NIH...      True      False   \n",
       "/home/jovyan/ChestXray-14/dataset/ChestXray NIH...     False      False   \n",
       "/home/jovyan/ChestXray-14/dataset/ChestXray NIH...     False      False   \n",
       "...                                                      ...        ...   \n",
       "/home/jovyan/ChestXray-14/dataset/ChestXray NIH...     False       True   \n",
       "/home/jovyan/ChestXray-14/dataset/ChestXray NIH...     False      False   \n",
       "/home/jovyan/ChestXray-14/dataset/ChestXray NIH...     False      False   \n",
       "/home/jovyan/ChestXray-14/dataset/ChestXray NIH...     False      False   \n",
       "/home/jovyan/ChestXray-14/dataset/ChestXray NIH...     False      False   \n",
       "\n",
       "                                                    Pleural_Thickening  \\\n",
       "index                                                                    \n",
       "/home/jovyan/ChestXray-14/dataset/ChestXray NIH...               False   \n",
       "/home/jovyan/ChestXray-14/dataset/ChestXray NIH...               False   \n",
       "/home/jovyan/ChestXray-14/dataset/ChestXray NIH...               False   \n",
       "/home/jovyan/ChestXray-14/dataset/ChestXray NIH...               False   \n",
       "/home/jovyan/ChestXray-14/dataset/ChestXray NIH...               False   \n",
       "...                                                                ...   \n",
       "/home/jovyan/ChestXray-14/dataset/ChestXray NIH...               False   \n",
       "/home/jovyan/ChestXray-14/dataset/ChestXray NIH...               False   \n",
       "/home/jovyan/ChestXray-14/dataset/ChestXray NIH...               False   \n",
       "/home/jovyan/ChestXray-14/dataset/ChestXray NIH...               False   \n",
       "/home/jovyan/ChestXray-14/dataset/ChestXray NIH...               False   \n",
       "\n",
       "                                                    Cardiomegaly  Nodule  \\\n",
       "index                                                                      \n",
       "/home/jovyan/ChestXray-14/dataset/ChestXray NIH...          True   False   \n",
       "/home/jovyan/ChestXray-14/dataset/ChestXray NIH...          True   False   \n",
       "/home/jovyan/ChestXray-14/dataset/ChestXray NIH...          True   False   \n",
       "/home/jovyan/ChestXray-14/dataset/ChestXray NIH...         False   False   \n",
       "/home/jovyan/ChestXray-14/dataset/ChestXray NIH...         False   False   \n",
       "...                                                          ...     ...   \n",
       "/home/jovyan/ChestXray-14/dataset/ChestXray NIH...         False   False   \n",
       "/home/jovyan/ChestXray-14/dataset/ChestXray NIH...         False   False   \n",
       "/home/jovyan/ChestXray-14/dataset/ChestXray NIH...         False   False   \n",
       "/home/jovyan/ChestXray-14/dataset/ChestXray NIH...         False   False   \n",
       "/home/jovyan/ChestXray-14/dataset/ChestXray NIH...         False   False   \n",
       "\n",
       "                                                     Mass  Hernia  \n",
       "index                                                              \n",
       "/home/jovyan/ChestXray-14/dataset/ChestXray NIH...  False   False  \n",
       "/home/jovyan/ChestXray-14/dataset/ChestXray NIH...  False   False  \n",
       "/home/jovyan/ChestXray-14/dataset/ChestXray NIH...  False   False  \n",
       "/home/jovyan/ChestXray-14/dataset/ChestXray NIH...  False   False  \n",
       "/home/jovyan/ChestXray-14/dataset/ChestXray NIH...  False    True  \n",
       "...                                                   ...     ...  \n",
       "/home/jovyan/ChestXray-14/dataset/ChestXray NIH...   True   False  \n",
       "/home/jovyan/ChestXray-14/dataset/ChestXray NIH...  False   False  \n",
       "/home/jovyan/ChestXray-14/dataset/ChestXray NIH...  False   False  \n",
       "/home/jovyan/ChestXray-14/dataset/ChestXray NIH...  False   False  \n",
       "/home/jovyan/ChestXray-14/dataset/ChestXray NIH...  False   False  \n",
       "\n",
       "[112120 rows x 15 columns]"
      ]
     },
     "execution_count": 6,
     "metadata": {},
     "output_type": "execute_result"
    }
   ],
   "source": [
    "df = pd.read_csv(FILE_PATH, index_col=0)\n",
    "df = df.reset_index()\n",
    "df[\"index\"] = df[\"index\"].apply(\n",
    "    lambda x: os.path.abspath(f\"{ROOT_PATH}/{x}\")\n",
    ")\n",
    "df = df.set_index(\"index\")\n",
    "df"
   ]
  },
  {
   "cell_type": "markdown",
   "id": "f0335a96-cc33-4902-bb63-a361275580cf",
   "metadata": {
    "tags": []
   },
   "source": [
    "## Preprocessing"
   ]
  },
  {
   "cell_type": "code",
   "execution_count": 7,
   "id": "3e2b127c-9a2e-4853-9f1e-35b0b3d00654",
   "metadata": {},
   "outputs": [],
   "source": [
    "import numpy as np\n",
    "import sys\n",
    "sys.path.append('/home/jovyan/ChestXray-14')"
   ]
  },
  {
   "cell_type": "code",
   "execution_count": 8,
   "id": "dff2c0ee-2fd8-498b-a5c0-d910ce37625f",
   "metadata": {},
   "outputs": [
    {
     "name": "stderr",
     "output_type": "stream",
     "text": [
      "2023-03-29 12:48:16.732782: I tensorflow/core/util/util.cc:169] oneDNN custom operations are on. You may see slightly different numerical results due to floating-point round-off errors from different computation orders. To turn them off, set the environment variable `TF_ENABLE_ONEDNN_OPTS=0`.\n"
     ]
    }
   ],
   "source": [
    "from tqdm.notebook import tqdm\n",
    "from modules.utils import serialize_fold"
   ]
  },
  {
   "cell_type": "code",
   "execution_count": 9,
   "id": "18ac2d4e-8f84-4940-b852-3306c23f3c5f",
   "metadata": {},
   "outputs": [],
   "source": [
    "from sklearn.model_selection import train_test_split"
   ]
  },
  {
   "cell_type": "code",
   "execution_count": 10,
   "id": "69865008-f407-402e-b1c5-0c899b8f5481",
   "metadata": {},
   "outputs": [],
   "source": [
    "from sklearn.utils import shuffle\n",
    "\n",
    "df = df.astype(\"int16\")\n",
    "df = shuffle(df, random_state=SEED)\n",
    "# df[\"Abnormal\"] = (df[\"No Finding\"] == 0).astype('int16')\n",
    "df_temp = df[[\"No Finding\"]].copy()\n",
    "df1, df2, df3, df4, df5 = np.split(df_temp, 5)\n",
    "NUM_TO_SPLIT_FILES = 100"
   ]
  },
  {
   "cell_type": "code",
   "execution_count": 11,
   "id": "50918459-1590-4d67-b2e5-4af9b1449684",
   "metadata": {},
   "outputs": [
    {
     "data": {
      "text/html": [
       "<div>\n",
       "<style scoped>\n",
       "    .dataframe tbody tr th:only-of-type {\n",
       "        vertical-align: middle;\n",
       "    }\n",
       "\n",
       "    .dataframe tbody tr th {\n",
       "        vertical-align: top;\n",
       "    }\n",
       "\n",
       "    .dataframe thead th {\n",
       "        text-align: right;\n",
       "    }\n",
       "</style>\n",
       "<table border=\"1\" class=\"dataframe\">\n",
       "  <thead>\n",
       "    <tr style=\"text-align: right;\">\n",
       "      <th></th>\n",
       "      <th>No Finding</th>\n",
       "    </tr>\n",
       "    <tr>\n",
       "      <th>index</th>\n",
       "      <th></th>\n",
       "    </tr>\n",
       "  </thead>\n",
       "  <tbody>\n",
       "    <tr>\n",
       "      <th>/home/jovyan/ChestXray-14/dataset/ChestXray NIH/images_010/images/00022260_003.png</th>\n",
       "      <td>1</td>\n",
       "    </tr>\n",
       "    <tr>\n",
       "      <th>/home/jovyan/ChestXray-14/dataset/ChestXray NIH/images_006/images/00012048_007.png</th>\n",
       "      <td>0</td>\n",
       "    </tr>\n",
       "    <tr>\n",
       "      <th>/home/jovyan/ChestXray-14/dataset/ChestXray NIH/images_007/images/00014352_005.png</th>\n",
       "      <td>1</td>\n",
       "    </tr>\n",
       "    <tr>\n",
       "      <th>/home/jovyan/ChestXray-14/dataset/ChestXray NIH/images_003/images/00006040_001.png</th>\n",
       "      <td>1</td>\n",
       "    </tr>\n",
       "    <tr>\n",
       "      <th>/home/jovyan/ChestXray-14/dataset/ChestXray NIH/images_005/images/00011202_002.png</th>\n",
       "      <td>1</td>\n",
       "    </tr>\n",
       "    <tr>\n",
       "      <th>...</th>\n",
       "      <td>...</td>\n",
       "    </tr>\n",
       "    <tr>\n",
       "      <th>/home/jovyan/ChestXray-14/dataset/ChestXray NIH/images_009/images/00018865_040.png</th>\n",
       "      <td>0</td>\n",
       "    </tr>\n",
       "    <tr>\n",
       "      <th>/home/jovyan/ChestXray-14/dataset/ChestXray NIH/images_012/images/00030028_001.png</th>\n",
       "      <td>0</td>\n",
       "    </tr>\n",
       "    <tr>\n",
       "      <th>/home/jovyan/ChestXray-14/dataset/ChestXray NIH/images_011/images/00027679_000.png</th>\n",
       "      <td>1</td>\n",
       "    </tr>\n",
       "    <tr>\n",
       "      <th>/home/jovyan/ChestXray-14/dataset/ChestXray NIH/images_001/images/00000211_014.png</th>\n",
       "      <td>0</td>\n",
       "    </tr>\n",
       "    <tr>\n",
       "      <th>/home/jovyan/ChestXray-14/dataset/ChestXray NIH/images_003/images/00004169_002.png</th>\n",
       "      <td>1</td>\n",
       "    </tr>\n",
       "  </tbody>\n",
       "</table>\n",
       "<p>112120 rows × 1 columns</p>\n",
       "</div>"
      ],
      "text/plain": [
       "                                                    No Finding\n",
       "index                                                         \n",
       "/home/jovyan/ChestXray-14/dataset/ChestXray NIH...           1\n",
       "/home/jovyan/ChestXray-14/dataset/ChestXray NIH...           0\n",
       "/home/jovyan/ChestXray-14/dataset/ChestXray NIH...           1\n",
       "/home/jovyan/ChestXray-14/dataset/ChestXray NIH...           1\n",
       "/home/jovyan/ChestXray-14/dataset/ChestXray NIH...           1\n",
       "...                                                        ...\n",
       "/home/jovyan/ChestXray-14/dataset/ChestXray NIH...           0\n",
       "/home/jovyan/ChestXray-14/dataset/ChestXray NIH...           0\n",
       "/home/jovyan/ChestXray-14/dataset/ChestXray NIH...           1\n",
       "/home/jovyan/ChestXray-14/dataset/ChestXray NIH...           0\n",
       "/home/jovyan/ChestXray-14/dataset/ChestXray NIH...           1\n",
       "\n",
       "[112120 rows x 1 columns]"
      ]
     },
     "execution_count": 11,
     "metadata": {},
     "output_type": "execute_result"
    }
   ],
   "source": [
    "df_temp"
   ]
  },
  {
   "cell_type": "markdown",
   "id": "831a4303-1ecb-4c4d-99a4-c65f9bb89540",
   "metadata": {},
   "source": [
    "## EDA"
   ]
  },
  {
   "cell_type": "code",
   "execution_count": 12,
   "id": "4dd5117d-2f4c-4924-a4af-a7b11d12bdd3",
   "metadata": {},
   "outputs": [
    {
     "name": "stdout",
     "output_type": "stream",
     "text": [
      "======== ======== ======== ======== ======== ======== ======== ======== ======== ======== \n",
      "Fold 0             Count\n",
      "Abnormal    41495\n",
      "No Finding  48201\n",
      "    Dataset Infomation:\n",
      "        >> Train: 89,696\n",
      "        >> Test: 22,424\n",
      "        >> Total: 112,120\n",
      "    \n"
     ]
    },
    {
     "data": {
      "image/png": "[encoded data removed]",
      "text/plain": [
       "<Figure size 600x200 with 1 Axes>"
      ]
     },
     "metadata": {},
     "output_type": "display_data"
    },
    {
     "name": "stdout",
     "output_type": "stream",
     "text": [
      "======== ======== ======== ======== ======== ======== ======== ======== ======== ======== \n",
      "Fold 1             Count\n",
      "Abnormal    41375\n",
      "No Finding  48321\n",
      "    Dataset Infomation:\n",
      "        >> Train: 89,696\n",
      "        >> Test: 22,424\n",
      "        >> Total: 112,120\n",
      "    \n"
     ]
    },
    {
     "data": {
      "image/png": "[encoded data removed]",
      "text/plain": [
       "<Figure size 600x200 with 1 Axes>"
      ]
     },
     "metadata": {},
     "output_type": "display_data"
    },
    {
     "name": "stdout",
     "output_type": "stream",
     "text": [
      "======== ======== ======== ======== ======== ======== ======== ======== ======== ======== \n",
      "Fold 2             Count\n",
      "Abnormal    41452\n",
      "No Finding  48244\n",
      "    Dataset Infomation:\n",
      "        >> Train: 89,696\n",
      "        >> Test: 22,424\n",
      "        >> Total: 112,120\n",
      "    \n"
     ]
    },
    {
     "data": {
      "image/png": "[encoded data removed]",
      "text/plain": [
       "<Figure size 600x200 with 1 Axes>"
      ]
     },
     "metadata": {},
     "output_type": "display_data"
    },
    {
     "name": "stdout",
     "output_type": "stream",
     "text": [
      "======== ======== ======== ======== ======== ======== ======== ======== ======== ======== \n",
      "Fold 3             Count\n",
      "Abnormal    41280\n",
      "No Finding  48416\n",
      "    Dataset Infomation:\n",
      "        >> Train: 89,696\n",
      "        >> Test: 22,424\n",
      "        >> Total: 112,120\n",
      "    \n"
     ]
    },
    {
     "data": {
      "image/png": "[encoded data removed]",
      "text/plain": [
       "<Figure size 600x200 with 1 Axes>"
      ]
     },
     "metadata": {},
     "output_type": "display_data"
    },
    {
     "name": "stdout",
     "output_type": "stream",
     "text": [
      "======== ======== ======== ======== ======== ======== ======== ======== ======== ======== \n",
      "Fold 4             Count\n",
      "Abnormal    41434\n",
      "No Finding  48262\n",
      "    Dataset Infomation:\n",
      "        >> Train: 89,696\n",
      "        >> Test: 22,424\n",
      "        >> Total: 112,120\n",
      "    \n"
     ]
    },
    {
     "data": {
      "image/png": "[encoded data removed]",
      "text/plain": [
       "<Figure size 600x200 with 1 Axes>"
      ]
     },
     "metadata": {},
     "output_type": "display_data"
    }
   ],
   "source": [
    "import matplotlib.pyplot as plt\n",
    "\n",
    "def plot_label_histogram(fold_num, df_train):\n",
    "    \n",
    "    count_class = {}\n",
    "    for each_class in df_train.columns[:] :\n",
    "        df_new = df_train[each_class].value_counts() \n",
    "        count_class[\"Abnormal\"] = [df_new[0]]\n",
    "        count_class[df_new.name] = [df_new[1]]\n",
    "\n",
    "    df_count_class = pd.DataFrame(count_class).T\n",
    "    df_count_class.set_axis([\"Count\"], axis=\"columns\", inplace=True)\n",
    "\n",
    "    print(\"======== \" * 10)\n",
    "    print(f\"Fold {fold_num}\", df_count_class)\n",
    "    \n",
    "    print(f\"\"\"\\\n",
    "    Dataset Infomation:\n",
    "        >> Train: {len(df_train) :,}\n",
    "        >> Test: {len(df_test) :,}\n",
    "        >> Total: {len(df_train) + len(df_test) :,}\n",
    "    \"\"\")\n",
    "    \n",
    "    fig, ax1 = plt.subplots(\n",
    "        nrows=1, \n",
    "        ncols=1,\n",
    "        constrained_layout = True,\n",
    "        figsize=(6,2)\n",
    "    )\n",
    "\n",
    "    plt.title(f\"Test Fold: {fold_num+1}\")\n",
    "    X_LABELS = df_count_class.index\n",
    "    X_axis = np.arange(len(df_count_class))\n",
    "    ax1.set_xticks(X_axis, X_LABELS)\n",
    "\n",
    "    ax1.bar(X_axis, df_count_class[\"Count\"], 0.8, label=\"Binary Classification Dataset\",\n",
    "            color=[\"Salmon\", \"limegreen\"])\n",
    "    plt.legend()\n",
    "    plt.show()\n",
    "    \n",
    "    \n",
    "for (fold_num, (df_train, df_test)) in enumerate([\n",
    "    (pd.concat([df2, df3, df4, df5]), df1),\n",
    "    (pd.concat([df1, df3, df4, df5]), df2),\n",
    "    (pd.concat([df1, df2, df4, df5]), df3),\n",
    "    (pd.concat([df1, df2, df3, df5]), df4),\n",
    "    (pd.concat([df1, df2, df3, df4]), df5)\n",
    "        ]):\n",
    "    \n",
    "    plot_label_histogram(fold_num, df_train)"
   ]
  },
  {
   "cell_type": "markdown",
   "id": "1404fa03-4d62-4851-842e-2647ce42dd3f",
   "metadata": {},
   "source": [
    "## Writea File as Binary"
   ]
  },
  {
   "cell_type": "code",
   "execution_count": 13,
   "id": "561522e7-d3f2-4640-a4de-785250391dff",
   "metadata": {},
   "outputs": [],
   "source": [
    "class Directory:\n",
    "    def create_folds_folder(self):\n",
    "        os.makedirs(os.path.join(INPUT_PATH, \"data\", \"binary_dataset\", \"folds\", \"fold1\"), exist_ok=True)\n",
    "        os.makedirs(os.path.join(INPUT_PATH, \"data\", \"binary_dataset\", \"folds\", \"fold2\"), exist_ok=True)\n",
    "        os.makedirs(os.path.join(INPUT_PATH, \"data\", \"binary_dataset\", \"folds\", \"fold3\"), exist_ok=True)\n",
    "        os.makedirs(os.path.join(INPUT_PATH, \"data\", \"binary_dataset\", \"folds\", \"fold4\"), exist_ok=True)\n",
    "        os.makedirs(os.path.join(INPUT_PATH, \"data\", \"binary_dataset\", \"folds\", \"fold5\"), exist_ok=True)\n",
    "        \n",
    "NUM_TO_SPLIT_FILES = 100\n",
    "Directory().create_folds_folder()"
   ]
  },
  {
   "cell_type": "code",
   "execution_count": 14,
   "id": "a86ea02a-c191-41da-b11c-edb8f30f86a0",
   "metadata": {},
   "outputs": [
    {
     "data": {
      "application/vnd.jupyter.widget-view+json": {
       "model_id": "",
       "version_major": 2,
       "version_minor": 0
      },
      "text/plain": [
       "  0%|          | 0/100 [00:00<?, ?it/s]"
      ]
     },
     "metadata": {},
     "output_type": "display_data"
    },
    {
     "name": "stderr",
     "output_type": "stream",
     "text": [
      "2023-03-29 12:48:18.960834: I tensorflow/core/platform/cpu_feature_guard.cc:193] This TensorFlow binary is optimized with oneAPI Deep Neural Network Library (oneDNN) to use the following CPU instructions in performance-critical operations:  AVX2 AVX512F AVX512_VNNI FMA\n",
      "To enable them in other operations, rebuild TensorFlow with the appropriate compiler flags.\n",
      "2023-03-29 12:48:19.449879: I tensorflow/core/common_runtime/gpu/gpu_device.cc:1532] Created device /job:localhost/replica:0/task:0/device:GPU:0 with 8013 MB memory:  -> device: 0, name: NVIDIA A100-SXM4-40GB MIG 2g.10gb, pci bus id: 0000:31:00.0, compute capability: 8.0\n"
     ]
    },
    {
     "data": {
      "application/vnd.jupyter.widget-view+json": {
       "model_id": "",
       "version_major": 2,
       "version_minor": 0
      },
      "text/plain": [
       "  0%|          | 0/100 [00:00<?, ?it/s]"
      ]
     },
     "metadata": {},
     "output_type": "display_data"
    },
    {
     "name": "stderr",
     "output_type": "stream",
     "text": [
      "2023-03-29 12:59:33.830785: W tensorflow/core/lib/png/png_io.cc:88] PNG warning: iCCP: profile 'ICC Profile': 'GRAY': Gray color space not permitted on RGB PNG\n"
     ]
    },
    {
     "data": {
      "application/vnd.jupyter.widget-view+json": {
       "model_id": "",
       "version_major": 2,
       "version_minor": 0
      },
      "text/plain": [
       "  0%|          | 0/100 [00:00<?, ?it/s]"
      ]
     },
     "metadata": {},
     "output_type": "display_data"
    },
    {
     "data": {
      "application/vnd.jupyter.widget-view+json": {
       "model_id": "",
       "version_major": 2,
       "version_minor": 0
      },
      "text/plain": [
       "  0%|          | 0/100 [00:00<?, ?it/s]"
      ]
     },
     "metadata": {},
     "output_type": "display_data"
    },
    {
     "data": {
      "application/vnd.jupyter.widget-view+json": {
       "model_id": "",
       "version_major": 2,
       "version_minor": 0
      },
      "text/plain": [
       "  0%|          | 0/100 [00:00<?, ?it/s]"
      ]
     },
     "metadata": {},
     "output_type": "display_data"
    },
    {
     "name": "stderr",
     "output_type": "stream",
     "text": [
      "2023-03-29 13:25:11.391664: W tensorflow/core/lib/png/png_io.cc:88] PNG warning: iCCP: profile 'ICC Profile': 'GRAY': Gray color space not permitted on RGB PNG\n"
     ]
    },
    {
     "name": "stdout",
     "output_type": "stream",
     "text": [
      "Done Preparing!!\n"
     ]
    }
   ],
   "source": [
    "\n",
    "\n",
    "# Fold1\n",
    "tfrec_path = f'{INPUT_PATH}/data/binary_dataset/folds/fold1'\n",
    "for i, fold in tqdm(enumerate(np.array_split(df1, NUM_TO_SPLIT_FILES)), total=NUM_TO_SPLIT_FILES):\n",
    "    serialize_fold(fold, name=f'{tfrec_path}/{i:03d}-{len(fold):03d}')\n",
    "\n",
    "# Fold2\n",
    "tfrec_path = f'{INPUT_PATH}/data/binary_dataset/folds/fold2'\n",
    "for i, fold in tqdm(enumerate(np.array_split(df2, NUM_TO_SPLIT_FILES)), total=NUM_TO_SPLIT_FILES):\n",
    "    serialize_fold(fold, name=f'{tfrec_path}/{i:03d}-{len(fold):03d}')\n",
    "\n",
    "# Fold3\n",
    "tfrec_path = f'{INPUT_PATH}/data/binary_dataset/folds/fold3'\n",
    "for i, fold in tqdm(enumerate(np.array_split(df3, NUM_TO_SPLIT_FILES)), total=NUM_TO_SPLIT_FILES):\n",
    "    serialize_fold(fold, name=f'{tfrec_path}/{i:03d}-{len(fold):03d}')\n",
    "\n",
    "# Fold4\n",
    "tfrec_path = f'{INPUT_PATH}/data/binary_dataset/folds/fold4'\n",
    "for i, fold in tqdm(enumerate(np.array_split(df4, NUM_TO_SPLIT_FILES)), total=NUM_TO_SPLIT_FILES):\n",
    "    serialize_fold(fold, name=f'{tfrec_path}/{i:03d}-{len(fold):03d}')\n",
    "\n",
    "# Fold5\n",
    "tfrec_path = f'{INPUT_PATH}/data/binary_dataset/folds/fold5'\n",
    "for i, fold in tqdm(enumerate(np.array_split(df5, NUM_TO_SPLIT_FILES)), total=NUM_TO_SPLIT_FILES):\n",
    "    serialize_fold(fold, name=f'{tfrec_path}/{i:03d}-{len(fold):03d}')\n",
    "    \n",
    "print(\"Done Preparing!!\")\n"
   ]
  },
  {
   "cell_type": "code",
   "execution_count": 15,
   "id": "67bf3535-93b5-41ca-a494-42acea02d964",
   "metadata": {
    "tags": []
   },
   "outputs": [
    {
     "name": "stdout",
     "output_type": "stream",
     "text": [
      "Wed Mar 29 13:26:56 2023       \n",
      "+-----------------------------------------------------------------------------+\n",
      "| NVIDIA-SMI 510.47.03    Driver Version: 510.47.03    CUDA Version: 11.6     |\n",
      "|-------------------------------+----------------------+----------------------+\n",
      "| GPU  Name        Persistence-M| Bus-Id        Disp.A | Volatile Uncorr. ECC |\n",
      "| Fan  Temp  Perf  Pwr:Usage/Cap|         Memory-Usage | GPU-Util  Compute M. |\n",
      "|                               |                      |               MIG M. |\n",
      "|===============================+======================+======================|\n",
      "|   0  NVIDIA A100-SXM...  On   | 00000000:31:00.0 Off |                   On |\n",
      "| N/A   43C    P0   151W / 400W |                  N/A |     N/A      Default |\n",
      "|                               |                      |              Enabled |\n",
      "+-------------------------------+----------------------+----------------------+\n",
      "\n",
      "+-----------------------------------------------------------------------------+\n",
      "| MIG devices:                                                                |\n",
      "+------------------+----------------------+-----------+-----------------------+\n",
      "| GPU  GI  CI  MIG |         Memory-Usage |        Vol|         Shared        |\n",
      "|      ID  ID  Dev |           BAR1-Usage | SM     Unc| CE  ENC  DEC  OFA  JPG|\n",
      "|                  |                      |        ECC|                       |\n",
      "|==================+======================+===========+=======================|\n",
      "|  0    3   0   0  |   8322MiB /  9856MiB | 28      0 |  2   0    1    0    0 |\n",
      "|                  |      2MiB / 16383MiB |           |                       |\n",
      "+------------------+----------------------+-----------+-----------------------+\n",
      "                                                                               \n",
      "+-----------------------------------------------------------------------------+\n",
      "| Processes:                                                                  |\n",
      "|  GPU   GI   CI        PID   Type   Process name                  GPU Memory |\n",
      "|        ID   ID                                                   Usage      |\n",
      "|=============================================================================|\n",
      "|    0    3    0    3511919      C                                    8303MiB |\n",
      "+-----------------------------------------------------------------------------+\n"
     ]
    }
   ],
   "source": [
    "!nvidia-smi"
   ]
  },
  {
   "cell_type": "code",
   "execution_count": null,
   "id": "73d9fa12-fa9a-40fc-b059-a3f246ff4ec2",
   "metadata": {},
   "outputs": [],
   "source": []
  }
 ],
 "metadata": {
  "kernelspec": {
   "display_name": "Python 3 (ipykernel)",
   "language": "python",
   "name": "python3"
  },
  "language_info": {
   "codemirror_mode": {
    "name": "ipython",
    "version": 3
   },
   "file_extension": ".py",
   "mimetype": "text/x-python",
   "name": "python",
   "nbconvert_exporter": "python",
   "pygments_lexer": "ipython3",
   "version": "3.10.5"
  }
 },
 "nbformat": 4,
 "nbformat_minor": 5
}
