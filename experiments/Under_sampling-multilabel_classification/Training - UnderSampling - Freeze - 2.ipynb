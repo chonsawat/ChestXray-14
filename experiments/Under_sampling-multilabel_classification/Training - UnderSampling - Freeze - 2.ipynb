{
 "cells": [
  {
   "cell_type": "code",
   "execution_count": 1,
   "id": "6b2af8bd-eae8-4240-90fa-bc9a9a43954a",
   "metadata": {},
   "outputs": [
    {
     "name": "stdout",
     "output_type": "stream",
     "text": [
      "Looking in indexes: https://pypi.org/simple, https://pypi.ngc.nvidia.com\n",
      "Requirement already satisfied: tensorflow_addons in /opt/conda/lib/python3.10/site-packages (0.19.0)\n",
      "Requirement already satisfied: typeguard>=2.7 in /opt/conda/lib/python3.10/site-packages (from tensorflow_addons) (3.0.2)\n",
      "Requirement already satisfied: packaging in /opt/conda/lib/python3.10/site-packages (from tensorflow_addons) (21.3)\n",
      "Requirement already satisfied: typing-extensions>=4.4.0 in /opt/conda/lib/python3.10/site-packages (from typeguard>=2.7->tensorflow_addons) (4.5.0)\n",
      "Requirement already satisfied: pyparsing!=3.0.5,>=2.0.2 in /opt/conda/lib/python3.10/site-packages (from packaging->tensorflow_addons) (3.0.9)\n"
     ]
    }
   ],
   "source": [
    "!pip install tensorflow_addons"
   ]
  },
  {
   "cell_type": "code",
   "execution_count": 2,
   "id": "d66c840d-74ed-4dce-8715-96701c28615d",
   "metadata": {},
   "outputs": [],
   "source": [
    "import sys\n",
    "sys.path.append('/home/jovyan/ChestXray-14')"
   ]
  },
  {
   "cell_type": "code",
   "execution_count": 3,
   "id": "67f814fb-1441-4f0d-a350-2721d6466e42",
   "metadata": {},
   "outputs": [
    {
     "name": "stderr",
     "output_type": "stream",
     "text": [
      "2023-04-05 04:58:22.151726: I tensorflow/core/util/util.cc:169] oneDNN custom operations are on. You may see slightly different numerical results due to floating-point round-off errors from different computation orders. To turn them off, set the environment variable `TF_ENABLE_ONEDNN_OPTS=0`.\n"
     ]
    }
   ],
   "source": [
    "import tensorflow as tf\n",
    "\n",
    "from modules.models import Model_with_dropout\n",
    "from modules.utils import get_dataset\n",
    "\n",
    "from tensorflow.keras.callbacks import ModelCheckpoint, CSVLogger, EarlyStopping, ReduceLROnPlateau, LearningRateScheduler, TensorBoard"
   ]
  },
  {
   "cell_type": "code",
   "execution_count": 4,
   "id": "87330b2b-aa47-44bf-8983-f444e98f6db9",
   "metadata": {},
   "outputs": [],
   "source": [
    "from modules.dataset import LABELS"
   ]
  },
  {
   "cell_type": "code",
   "execution_count": 5,
   "id": "711e4ac0-979b-41ff-a33a-78744a989705",
   "metadata": {},
   "outputs": [],
   "source": [
    "ROOT_PATH = \"/home/jovyan/ChestXray-14\"\n",
    "INPUT_PATH = f\"{ROOT_PATH}/dataset/ChestXray NIH\"\n",
    "EXPERIMENT_NAME = \"under_sampling_5_folds_with_cross_entropy_loss_freeze_imagenet\""
   ]
  },
  {
   "cell_type": "code",
   "execution_count": 6,
   "id": "9811ebd7-bcf0-4396-93b7-5d16bef984de",
   "metadata": {},
   "outputs": [],
   "source": [
    "class Dataset:\n",
    "    INPUT_PATH = INPUT_PATH\n",
    "    \n",
    "    def __init__(self, fold_num):\n",
    "        self.fold_num = fold_num\n",
    "    \n",
    "    def get_train(self):\n",
    "        filenames = tf.io.gfile.glob(f'{self.INPUT_PATH}/data/under_sampling_5_folds_dataset/folds/fold{self.fold_num}/train/*.tfrec')\n",
    "        dataset = get_dataset(filenames)\n",
    "        return dataset\n",
    "\n",
    "    def get_test(self):\n",
    "        filenames = tf.io.gfile.glob(f'{self.INPUT_PATH}/data/under_sampling_5_folds_dataset/folds/fold{self.fold_num}/test/*.tfrec')\n",
    "        dataset = get_dataset(filenames)\n",
    "        return dataset"
   ]
  },
  {
   "cell_type": "markdown",
   "id": "c6921d57-6abb-4b49-9cb4-2e5936693205",
   "metadata": {},
   "source": [
    "## tf.keras.mixed_precision for faster training"
   ]
  },
  {
   "cell_type": "code",
   "execution_count": 7,
   "id": "baf35f1f-497b-48ae-a90e-bc251210b8e3",
   "metadata": {},
   "outputs": [
    {
     "name": "stdout",
     "output_type": "stream",
     "text": [
      "<Policy \"float32\">\n",
      "<Policy \"float32\">\n"
     ]
    }
   ],
   "source": [
    "print(tf.keras.mixed_precision.global_policy())\n",
    "# tf.keras.mixed_precision.set_global_policy('mixed_float16')\n",
    "print(tf.keras.mixed_precision.global_policy())"
   ]
  },
  {
   "cell_type": "markdown",
   "id": "3cdc0ba5-7306-4e81-aaef-22dace23181a",
   "metadata": {},
   "source": [
    "## Model Training"
   ]
  },
  {
   "cell_type": "code",
   "execution_count": 8,
   "id": "439fd766-e37c-49f6-8caf-63bce64aec3a",
   "metadata": {},
   "outputs": [
    {
     "data": {
      "text/plain": [
       "'/home/jovyan/ChestXray-14/experiments/Under_sampling-multilabel_classification'"
      ]
     },
     "execution_count": 8,
     "metadata": {},
     "output_type": "execute_result"
    }
   ],
   "source": [
    "import os\n",
    "CURRENT_PATH = os.path.abspath(\"\")\n",
    "CURRENT_PATH"
   ]
  },
  {
   "cell_type": "code",
   "execution_count": 9,
   "id": "216058d6-20e5-443e-b13d-a94a4a4b0914",
   "metadata": {},
   "outputs": [],
   "source": [
    "# Learning rate\n",
    "def lr_schedule(epoch, learning_rate):\n",
    "    tf.summary.scalar('learning rate', data=learning_rate, step=epoch)\n",
    "    return learning_rate"
   ]
  },
  {
   "cell_type": "code",
   "execution_count": 10,
   "id": "6d999200-df17-42e2-9df8-260023ed90e5",
   "metadata": {},
   "outputs": [],
   "source": [
    "import datetime\n",
    "\n",
    "def get_callbacks(NAME, weight_option, fold_num):\n",
    "    log_dir = f\"{CURRENT_PATH}/logs/{EXPERIMENT_NAME}/{NAME}_{weight_option}_FOLD_{fold_num}_\" + datetime.datetime.now().strftime(\"%Y%m%d-%H%M%S\")\n",
    "    tensorboard_callback = TensorBoard(log_dir=log_dir, histogram_freq=1)\n",
    "    \n",
    "    model_checkpoint_callback = ModelCheckpoint(f'results/models/{EXPERIMENT_NAME}/{NAME}_{weight_option}_FOLD_{fold_num}.h5', monitor='val_loss', mode='min', save_best_only=True)\n",
    "    early_stop_callback = EarlyStopping(monitor='val_loss', mode=\"min\", patience=20, verbose=1)\n",
    "    reduce_lr_callback = ReduceLROnPlateau(monitor='val_loss', mode=\"min\", factor=0.5, patience=3, verbose=1)\n",
    "    lr_logging_callback = LearningRateScheduler(lr_schedule)\n",
    "    \n",
    "    return model_checkpoint_callback, early_stop_callback, reduce_lr_callback, lr_logging_callback, tensorboard_callback"
   ]
  },
  {
   "cell_type": "code",
   "execution_count": 11,
   "id": "53c9d439-b8ef-4a49-b442-1a544fec7d79",
   "metadata": {},
   "outputs": [],
   "source": [
    "# Constant variables\n",
    "NAME = \"EfficientNetB0\"\n",
    "EPOCHS = 100"
   ]
  },
  {
   "cell_type": "code",
   "execution_count": 12,
   "id": "4b8e8006-ad20-442d-bd3b-475550d842b5",
   "metadata": {},
   "outputs": [],
   "source": [
    "import pprint\n",
    "import numpy as np\n",
    "\n",
    "def check_label_on_dataset(train_dataset, test_dataset):\n",
    "    y_list = []\n",
    "    for x,y in train_dataset:\n",
    "        # print(y)\n",
    "        y_list.append(y)\n",
    "    train_labels = np.vstack(y_list)\n",
    "\n",
    "    y_list = []\n",
    "    for x,y in test_dataset:\n",
    "        # print(y)\n",
    "        y_list.append(y)\n",
    "    test_labels = np.vstack(y_list)\n",
    "\n",
    "    # Print\n",
    "    pprint.pprint(list(zip(LABELS,train_labels.sum(axis=0))))\n",
    "    print(\"Count:\", len(train_labels))\n",
    "    pprint.pprint(list(zip(LABELS, test_labels.sum(axis=0))))\n",
    "    print(\"Count: \", len(test_labels))\n",
    "\n",
    "    print(\"All:\", len(train_labels)+len(test_labels))"
   ]
  },
  {
   "cell_type": "code",
   "execution_count": 13,
   "id": "8e5b9344-3839-4867-9b84-42c57b5115e8",
   "metadata": {},
   "outputs": [
    {
     "data": {
      "application/vnd.jupyter.widget-view+json": {
       "model_id": "62bf14ec63394242bada1f894725b4df",
       "version_major": 2,
       "version_minor": 0
      },
      "text/plain": [
       "  0%|          | 0/2 [00:00<?, ?it/s]"
      ]
     },
     "metadata": {},
     "output_type": "display_data"
    },
    {
     "name": "stderr",
     "output_type": "stream",
     "text": [
      "2023-04-05 04:58:25.306914: I tensorflow/core/platform/cpu_feature_guard.cc:193] This TensorFlow binary is optimized with oneAPI Deep Neural Network Library (oneDNN) to use the following CPU instructions in performance-critical operations:  AVX2 AVX512F AVX512_VNNI FMA\n",
      "To enable them in other operations, rebuild TensorFlow with the appropriate compiler flags.\n",
      "2023-04-05 04:58:26.060776: I tensorflow/core/common_runtime/gpu/gpu_device.cc:1532] Created device /job:localhost/replica:0/task:0/device:GPU:0 with 8011 MB memory:  -> device: 0, name: NVIDIA A100-SXM4-40GB MIG 2g.10gb, pci bus id: 0000:31:00.0, compute capability: 8.0\n"
     ]
    },
    {
     "name": "stdout",
     "output_type": "stream",
     "text": [
      "[('No Finding', 7560),\n",
      " ('Atelectasis', 9334),\n",
      " ('Consolidation', 3773),\n",
      " ('Infiltration', 15943),\n",
      " ('Pneumothorax', 4256),\n",
      " ('Edema', 1857),\n",
      " ('Emphysema', 2029),\n",
      " ('Fibrosis', 1367),\n",
      " ('Effusion', 10692),\n",
      " ('Pneumonia', 1137),\n",
      " ('Pleural_Thickening', 2722),\n",
      " ('Cardiomegaly', 2219),\n",
      " ('Nodule', 5046),\n",
      " ('Mass', 4641),\n",
      " ('Hernia', 181)]\n",
      "Count: 49055\n",
      "[('No Finding', 12160),\n",
      " ('Atelectasis', 2225),\n",
      " ('Consolidation', 894),\n",
      " ('Infiltration', 3951),\n",
      " ('Pneumothorax', 1046),\n",
      " ('Edema', 446),\n",
      " ('Emphysema', 487),\n",
      " ('Fibrosis', 319),\n",
      " ('Effusion', 2625),\n",
      " ('Pneumonia', 294),\n",
      " ('Pleural_Thickening', 663),\n",
      " ('Cardiomegaly', 557),\n",
      " ('Nodule', 1285),\n",
      " ('Mass', 1141),\n",
      " ('Hernia', 46)]\n",
      "Count:  22424\n",
      "All: 71479\n",
      "Model: \"under_sampling_5_folds_with_cross_entropy_loss_freeze_imagenet_FOLD_1\"\n",
      "_________________________________________________________________\n",
      " Layer (type)                Output Shape              Param #   \n",
      "=================================================================\n",
      " efficientnetb0 (Functional)  (None, 7, 7, 1280)       4049571   \n",
      "                                                                 \n",
      " conv2d (Conv2D)             (None, 5, 5, 128)         1474688   \n",
      "                                                                 \n",
      " max_pooling2d (MaxPooling2D  (None, 2, 2, 128)        0         \n",
      " )                                                               \n",
      "                                                                 \n",
      " flatten (Flatten)           (None, 512)               0         \n",
      "                                                                 \n",
      " dense (Dense)               (None, 128)               65664     \n",
      "                                                                 \n",
      " dropout (Dropout)           (None, 128)               0         \n",
      "                                                                 \n",
      " dense_1 (Dense)             (None, 128)               16512     \n",
      "                                                                 \n",
      " dense_2 (Dense)             (None, 64)                8256      \n",
      "                                                                 \n",
      " dropout_1 (Dropout)         (None, 64)                0         \n",
      "                                                                 \n",
      " dense_3 (Dense)             (None, 64)                4160      \n",
      "                                                                 \n",
      " dense_4 (Dense)             (None, 15)                975       \n",
      "                                                                 \n",
      "=================================================================\n",
      "Total params: 5,619,826\n",
      "Trainable params: 1,570,255\n",
      "Non-trainable params: 4,049,571\n",
      "_________________________________________________________________\n",
      "Epoch 1/100\n"
     ]
    },
    {
     "name": "stderr",
     "output_type": "stream",
     "text": [
      "2023-04-05 04:58:58.755565: I tensorflow/stream_executor/cuda/cuda_dnn.cc:384] Loaded cuDNN version 8100\n",
      "2023-04-05 04:58:59.660595: I tensorflow/core/platform/default/subprocess.cc:304] Start cannot spawn child process: No such file or directory\n",
      "2023-04-05 04:58:59.661815: I tensorflow/core/platform/default/subprocess.cc:304] Start cannot spawn child process: No such file or directory\n",
      "2023-04-05 04:58:59.661853: W tensorflow/stream_executor/gpu/asm_compiler.cc:80] Couldn't get ptxas version string: INTERNAL: Couldn't invoke ptxas --version\n",
      "2023-04-05 04:58:59.662655: I tensorflow/core/platform/default/subprocess.cc:304] Start cannot spawn child process: No such file or directory\n",
      "2023-04-05 04:58:59.662712: W tensorflow/stream_executor/gpu/redzone_allocator.cc:314] INTERNAL: Failed to launch ptxas\n",
      "Relying on driver to perform ptx compilation. \n",
      "Modify $PATH to customize ptxas location.\n",
      "This message will be only logged once.\n",
      "2023-04-05 04:59:00.747469: I tensorflow/stream_executor/cuda/cuda_blas.cc:1786] TensorFloat-32 will be used for the matrix multiplication. This will only be logged once.\n"
     ]
    },
    {
     "name": "stdout",
     "output_type": "stream",
     "text": [
      "3066/3066 [==============================] - 186s 58ms/step - loss: 0.2910 - auc: 0.5007 - f1_score: 0.0373 - precision: 0.1547 - recall: 0.0020 - val_loss: 0.2606 - val_auc: 0.5000 - val_f1_score: 0.0200 - val_precision: 0.0000e+00 - val_recall: 0.0000e+00 - lr: 0.0010\n",
      "Epoch 2/100\n",
      "3066/3066 [==============================] - 171s 56ms/step - loss: 0.2862 - auc: 0.4980 - f1_score: 0.0327 - precision: 0.0000e+00 - recall: 0.0000e+00 - val_loss: 0.2586 - val_auc: 0.5000 - val_f1_score: 0.0200 - val_precision: 0.0000e+00 - val_recall: 0.0000e+00 - lr: 0.0010\n",
      "Epoch 3/100\n",
      "3066/3066 [==============================] - 172s 56ms/step - loss: 0.2856 - auc: 0.5017 - f1_score: 0.0327 - precision: 0.0000e+00 - recall: 0.0000e+00 - val_loss: 0.2579 - val_auc: 0.5000 - val_f1_score: 0.0200 - val_precision: 0.0000e+00 - val_recall: 0.0000e+00 - lr: 0.0010\n",
      "Epoch 4/100\n",
      "3066/3066 [==============================] - 172s 56ms/step - loss: 0.2854 - auc: 0.4996 - f1_score: 0.0327 - precision: 0.0000e+00 - recall: 0.0000e+00 - val_loss: 0.2575 - val_auc: 0.5000 - val_f1_score: 0.0200 - val_precision: 0.0000e+00 - val_recall: 0.0000e+00 - lr: 0.0010\n",
      "Epoch 5/100\n",
      "3066/3066 [==============================] - 171s 56ms/step - loss: 0.2853 - auc: 0.4997 - f1_score: 0.0327 - precision: 0.0000e+00 - recall: 0.0000e+00 - val_loss: 0.2573 - val_auc: 0.5000 - val_f1_score: 0.0200 - val_precision: 0.0000e+00 - val_recall: 0.0000e+00 - lr: 0.0010\n",
      "Epoch 6/100\n",
      "3066/3066 [==============================] - 171s 56ms/step - loss: 0.2853 - auc: 0.4981 - f1_score: 0.0327 - precision: 0.0000e+00 - recall: 0.0000e+00 - val_loss: 0.2575 - val_auc: 0.5000 - val_f1_score: 0.0200 - val_precision: 0.0000e+00 - val_recall: 0.0000e+00 - lr: 0.0010\n",
      "Epoch 7/100\n",
      "3066/3066 [==============================] - 171s 56ms/step - loss: 0.2853 - auc: 0.4984 - f1_score: 0.0327 - precision: 0.0000e+00 - recall: 0.0000e+00 - val_loss: 0.2575 - val_auc: 0.5000 - val_f1_score: 0.0200 - val_precision: 0.0000e+00 - val_recall: 0.0000e+00 - lr: 0.0010\n",
      "Epoch 8/100\n",
      "3065/3066 [============================>.] - ETA: 0s - loss: 0.2853 - auc: 0.4988 - f1_score: 0.0327 - precision: 0.0000e+00 - recall: 0.0000e+00\n",
      "Epoch 8: ReduceLROnPlateau reducing learning rate to 0.0005000000237487257.\n",
      "3066/3066 [==============================] - 171s 56ms/step - loss: 0.2853 - auc: 0.4988 - f1_score: 0.0327 - precision: 0.0000e+00 - recall: 0.0000e+00 - val_loss: 0.2575 - val_auc: 0.5000 - val_f1_score: 0.0200 - val_precision: 0.0000e+00 - val_recall: 0.0000e+00 - lr: 5.0000e-04\n",
      "Epoch 9/100\n",
      "3066/3066 [==============================] - 172s 56ms/step - loss: 0.2852 - auc: 0.4987 - f1_score: 0.0327 - precision: 0.0000e+00 - recall: 0.0000e+00 - val_loss: 0.2570 - val_auc: 0.5000 - val_f1_score: 0.0200 - val_precision: 0.0000e+00 - val_recall: 0.0000e+00 - lr: 5.0000e-04\n",
      "Epoch 10/100\n",
      "3066/3066 [==============================] - 172s 56ms/step - loss: 0.2852 - auc: 0.4987 - f1_score: 0.0327 - precision: 0.0000e+00 - recall: 0.0000e+00 - val_loss: 0.2570 - val_auc: 0.5000 - val_f1_score: 0.0200 - val_precision: 0.0000e+00 - val_recall: 0.0000e+00 - lr: 5.0000e-04\n",
      "Epoch 11/100\n",
      "3066/3066 [==============================] - 172s 56ms/step - loss: 0.2852 - auc: 0.4990 - f1_score: 0.0327 - precision: 0.0000e+00 - recall: 0.0000e+00 - val_loss: 0.2570 - val_auc: 0.5000 - val_f1_score: 0.0200 - val_precision: 0.0000e+00 - val_recall: 0.0000e+00 - lr: 5.0000e-04\n",
      "Epoch 12/100\n",
      "3066/3066 [==============================] - ETA: 0s - loss: 0.2852 - auc: 0.4990 - f1_score: 0.0327 - precision: 0.0000e+00 - recall: 0.0000e+00\n",
      "Epoch 12: ReduceLROnPlateau reducing learning rate to 0.0002500000118743628.\n",
      "3066/3066 [==============================] - 171s 56ms/step - loss: 0.2852 - auc: 0.4990 - f1_score: 0.0327 - precision: 0.0000e+00 - recall: 0.0000e+00 - val_loss: 0.2570 - val_auc: 0.5000 - val_f1_score: 0.0200 - val_precision: 0.0000e+00 - val_recall: 0.0000e+00 - lr: 2.5000e-04\n",
      "Epoch 13/100\n",
      "3066/3066 [==============================] - 170s 55ms/step - loss: 0.2851 - auc: 0.4988 - f1_score: 0.0327 - precision: 0.0000e+00 - recall: 0.0000e+00 - val_loss: 0.2565 - val_auc: 0.5000 - val_f1_score: 0.0200 - val_precision: 0.0000e+00 - val_recall: 0.0000e+00 - lr: 2.5000e-04\n",
      "Epoch 14/100\n",
      "3066/3066 [==============================] - 170s 55ms/step - loss: 0.2851 - auc: 0.4981 - f1_score: 0.0327 - precision: 0.0000e+00 - recall: 0.0000e+00 - val_loss: 0.2565 - val_auc: 0.5000 - val_f1_score: 0.0200 - val_precision: 0.0000e+00 - val_recall: 0.0000e+00 - lr: 2.5000e-04\n",
      "Epoch 15/100\n",
      "3066/3066 [==============================] - 171s 56ms/step - loss: 0.2851 - auc: 0.4981 - f1_score: 0.0327 - precision: 0.0000e+00 - recall: 0.0000e+00 - val_loss: 0.2565 - val_auc: 0.5000 - val_f1_score: 0.0200 - val_precision: 0.0000e+00 - val_recall: 0.0000e+00 - lr: 2.5000e-04\n",
      "Epoch 16/100\n",
      "3066/3066 [==============================] - ETA: 0s - loss: 0.2851 - auc: 0.4981 - f1_score: 0.0327 - precision: 0.0000e+00 - recall: 0.0000e+00\n",
      "Epoch 16: ReduceLROnPlateau reducing learning rate to 0.0001250000059371814.\n",
      "3066/3066 [==============================] - 172s 56ms/step - loss: 0.2851 - auc: 0.4981 - f1_score: 0.0327 - precision: 0.0000e+00 - recall: 0.0000e+00 - val_loss: 0.2565 - val_auc: 0.5000 - val_f1_score: 0.0200 - val_precision: 0.0000e+00 - val_recall: 0.0000e+00 - lr: 1.2500e-04\n",
      "Epoch 17/100\n",
      "3066/3066 [==============================] - 171s 56ms/step - loss: 0.2851 - auc: 0.4980 - f1_score: 0.0327 - precision: 0.0000e+00 - recall: 0.0000e+00 - val_loss: 0.2562 - val_auc: 0.5000 - val_f1_score: 0.0200 - val_precision: 0.0000e+00 - val_recall: 0.0000e+00 - lr: 1.2500e-04\n",
      "Epoch 18/100\n",
      "3066/3066 [==============================] - 171s 56ms/step - loss: 0.2851 - auc: 0.4976 - f1_score: 0.0327 - precision: 0.0000e+00 - recall: 0.0000e+00 - val_loss: 0.2562 - val_auc: 0.5000 - val_f1_score: 0.0200 - val_precision: 0.0000e+00 - val_recall: 0.0000e+00 - lr: 1.2500e-04\n",
      "Epoch 19/100\n",
      "3066/3066 [==============================] - 171s 56ms/step - loss: 0.2851 - auc: 0.4977 - f1_score: 0.0327 - precision: 0.0000e+00 - recall: 0.0000e+00 - val_loss: 0.2562 - val_auc: 0.5000 - val_f1_score: 0.0200 - val_precision: 0.0000e+00 - val_recall: 0.0000e+00 - lr: 1.2500e-04\n",
      "Epoch 20/100\n",
      "3066/3066 [==============================] - ETA: 0s - loss: 0.2851 - auc: 0.4978 - f1_score: 0.0327 - precision: 0.0000e+00 - recall: 0.0000e+00\n",
      "Epoch 20: ReduceLROnPlateau reducing learning rate to 6.25000029685907e-05.\n",
      "3066/3066 [==============================] - 170s 55ms/step - loss: 0.2851 - auc: 0.4978 - f1_score: 0.0327 - precision: 0.0000e+00 - recall: 0.0000e+00 - val_loss: 0.2562 - val_auc: 0.5000 - val_f1_score: 0.0200 - val_precision: 0.0000e+00 - val_recall: 0.0000e+00 - lr: 6.2500e-05\n",
      "Epoch 21/100\n",
      "3066/3066 [==============================] - 171s 56ms/step - loss: 0.2851 - auc: 0.4980 - f1_score: 0.0327 - precision: 0.0000e+00 - recall: 0.0000e+00 - val_loss: 0.2559 - val_auc: 0.5000 - val_f1_score: 0.0200 - val_precision: 0.0000e+00 - val_recall: 0.0000e+00 - lr: 6.2500e-05\n",
      "Epoch 22/100\n",
      "3066/3066 [==============================] - 171s 56ms/step - loss: 0.2851 - auc: 0.4983 - f1_score: 0.0327 - precision: 0.0000e+00 - recall: 0.0000e+00 - val_loss: 0.2559 - val_auc: 0.5000 - val_f1_score: 0.0200 - val_precision: 0.0000e+00 - val_recall: 0.0000e+00 - lr: 6.2500e-05\n",
      "Epoch 23/100\n",
      "3066/3066 [==============================] - 170s 56ms/step - loss: 0.2851 - auc: 0.4985 - f1_score: 0.0327 - precision: 0.0000e+00 - recall: 0.0000e+00 - val_loss: 0.2559 - val_auc: 0.5000 - val_f1_score: 0.0200 - val_precision: 0.0000e+00 - val_recall: 0.0000e+00 - lr: 6.2500e-05\n",
      "Epoch 24/100\n",
      "3066/3066 [==============================] - ETA: 0s - loss: 0.2851 - auc: 0.4983 - f1_score: 0.0327 - precision: 0.0000e+00 - recall: 0.0000e+00\n",
      "Epoch 24: ReduceLROnPlateau reducing learning rate to 3.125000148429535e-05.\n",
      "3066/3066 [==============================] - 171s 56ms/step - loss: 0.2851 - auc: 0.4983 - f1_score: 0.0327 - precision: 0.0000e+00 - recall: 0.0000e+00 - val_loss: 0.2559 - val_auc: 0.5000 - val_f1_score: 0.0200 - val_precision: 0.0000e+00 - val_recall: 0.0000e+00 - lr: 3.1250e-05\n",
      "Epoch 25/100\n",
      "3066/3066 [==============================] - 171s 56ms/step - loss: 0.2850 - auc: 0.4986 - f1_score: 0.0327 - precision: 0.0000e+00 - recall: 0.0000e+00 - val_loss: 0.2558 - val_auc: 0.5000 - val_f1_score: 0.0200 - val_precision: 0.0000e+00 - val_recall: 0.0000e+00 - lr: 3.1250e-05\n",
      "Epoch 26/100\n",
      "3066/3066 [==============================] - 171s 56ms/step - loss: 0.2850 - auc: 0.4985 - f1_score: 0.0327 - precision: 0.0000e+00 - recall: 0.0000e+00 - val_loss: 0.2557 - val_auc: 0.5000 - val_f1_score: 0.0200 - val_precision: 0.0000e+00 - val_recall: 0.0000e+00 - lr: 3.1250e-05\n",
      "Epoch 27/100\n",
      "3066/3066 [==============================] - 171s 56ms/step - loss: 0.2850 - auc: 0.4989 - f1_score: 0.0327 - precision: 0.0000e+00 - recall: 0.0000e+00 - val_loss: 0.2557 - val_auc: 0.5000 - val_f1_score: 0.0200 - val_precision: 0.0000e+00 - val_recall: 0.0000e+00 - lr: 3.1250e-05\n",
      "Epoch 28/100\n",
      "3065/3066 [============================>.] - ETA: 0s - loss: 0.2851 - auc: 0.4989 - f1_score: 0.0327 - precision: 0.0000e+00 - recall: 0.0000e+00\n",
      "Epoch 28: ReduceLROnPlateau reducing learning rate to 1.5625000742147677e-05.\n",
      "3066/3066 [==============================] - 171s 56ms/step - loss: 0.2850 - auc: 0.4989 - f1_score: 0.0327 - precision: 0.0000e+00 - recall: 0.0000e+00 - val_loss: 0.2557 - val_auc: 0.5000 - val_f1_score: 0.0200 - val_precision: 0.0000e+00 - val_recall: 0.0000e+00 - lr: 1.5625e-05\n",
      "Epoch 29/100\n",
      "3066/3066 [==============================] - 171s 56ms/step - loss: 0.2850 - auc: 0.4992 - f1_score: 0.0327 - precision: 0.0000e+00 - recall: 0.0000e+00 - val_loss: 0.2557 - val_auc: 0.5000 - val_f1_score: 0.0200 - val_precision: 0.0000e+00 - val_recall: 0.0000e+00 - lr: 1.5625e-05\n",
      "Epoch 30/100\n",
      "3066/3066 [==============================] - 171s 56ms/step - loss: 0.2850 - auc: 0.4992 - f1_score: 0.0327 - precision: 0.0000e+00 - recall: 0.0000e+00 - val_loss: 0.2556 - val_auc: 0.5000 - val_f1_score: 0.0200 - val_precision: 0.0000e+00 - val_recall: 0.0000e+00 - lr: 1.5625e-05\n",
      "Epoch 31/100\n",
      "3066/3066 [==============================] - 171s 56ms/step - loss: 0.2850 - auc: 0.4990 - f1_score: 0.0327 - precision: 0.0000e+00 - recall: 0.0000e+00 - val_loss: 0.2556 - val_auc: 0.5000 - val_f1_score: 0.0200 - val_precision: 0.0000e+00 - val_recall: 0.0000e+00 - lr: 1.5625e-05\n",
      "Epoch 32/100\n",
      "3065/3066 [============================>.] - ETA: 0s - loss: 0.2851 - auc: 0.4989 - f1_score: 0.0327 - precision: 0.0000e+00 - recall: 0.0000e+00\n",
      "Epoch 32: ReduceLROnPlateau reducing learning rate to 7.812500371073838e-06.\n",
      "3066/3066 [==============================] - 171s 56ms/step - loss: 0.2850 - auc: 0.4990 - f1_score: 0.0327 - precision: 0.0000e+00 - recall: 0.0000e+00 - val_loss: 0.2556 - val_auc: 0.5000 - val_f1_score: 0.0200 - val_precision: 0.0000e+00 - val_recall: 0.0000e+00 - lr: 7.8125e-06\n",
      "Epoch 33/100\n",
      "3066/3066 [==============================] - 171s 56ms/step - loss: 0.2850 - auc: 0.4991 - f1_score: 0.0327 - precision: 0.0000e+00 - recall: 0.0000e+00 - val_loss: 0.2556 - val_auc: 0.5000 - val_f1_score: 0.0200 - val_precision: 0.0000e+00 - val_recall: 0.0000e+00 - lr: 7.8125e-06\n",
      "Epoch 34/100\n",
      "3066/3066 [==============================] - 171s 56ms/step - loss: 0.2850 - auc: 0.4990 - f1_score: 0.0327 - precision: 0.0000e+00 - recall: 0.0000e+00 - val_loss: 0.2556 - val_auc: 0.5000 - val_f1_score: 0.0200 - val_precision: 0.0000e+00 - val_recall: 0.0000e+00 - lr: 7.8125e-06\n",
      "Epoch 35/100\n",
      "3066/3066 [==============================] - 171s 56ms/step - loss: 0.2850 - auc: 0.4991 - f1_score: 0.0327 - precision: 0.0000e+00 - recall: 0.0000e+00 - val_loss: 0.2556 - val_auc: 0.5000 - val_f1_score: 0.0200 - val_precision: 0.0000e+00 - val_recall: 0.0000e+00 - lr: 7.8125e-06\n",
      "Epoch 36/100\n",
      "3066/3066 [==============================] - 171s 56ms/step - loss: 0.2850 - auc: 0.4992 - f1_score: 0.0327 - precision: 0.0000e+00 - recall: 0.0000e+00 - val_loss: 0.2555 - val_auc: 0.5000 - val_f1_score: 0.0200 - val_precision: 0.0000e+00 - val_recall: 0.0000e+00 - lr: 7.8125e-06\n",
      "Epoch 37/100\n",
      "3066/3066 [==============================] - 170s 56ms/step - loss: 0.2850 - auc: 0.4993 - f1_score: 0.0327 - precision: 0.0000e+00 - recall: 0.0000e+00 - val_loss: 0.2555 - val_auc: 0.5000 - val_f1_score: 0.0200 - val_precision: 0.0000e+00 - val_recall: 0.0000e+00 - lr: 7.8125e-06\n",
      "Epoch 38/100\n",
      "3066/3066 [==============================] - ETA: 0s - loss: 0.2850 - auc: 0.4995 - f1_score: 0.0327 - precision: 0.0000e+00 - recall: 0.0000e+00\n",
      "Epoch 38: ReduceLROnPlateau reducing learning rate to 3.906250185536919e-06.\n",
      "3066/3066 [==============================] - 171s 56ms/step - loss: 0.2850 - auc: 0.4995 - f1_score: 0.0327 - precision: 0.0000e+00 - recall: 0.0000e+00 - val_loss: 0.2555 - val_auc: 0.5000 - val_f1_score: 0.0200 - val_precision: 0.0000e+00 - val_recall: 0.0000e+00 - lr: 3.9063e-06\n",
      "Epoch 39/100\n",
      "3066/3066 [==============================] - 171s 56ms/step - loss: 0.2850 - auc: 0.4992 - f1_score: 0.0327 - precision: 0.0000e+00 - recall: 0.0000e+00 - val_loss: 0.2555 - val_auc: 0.5000 - val_f1_score: 0.0200 - val_precision: 0.0000e+00 - val_recall: 0.0000e+00 - lr: 3.9063e-06\n",
      "Epoch 40/100\n",
      "3066/3066 [==============================] - 171s 56ms/step - loss: 0.2850 - auc: 0.4991 - f1_score: 0.0327 - precision: 0.0000e+00 - recall: 0.0000e+00 - val_loss: 0.2555 - val_auc: 0.5000 - val_f1_score: 0.0200 - val_precision: 0.0000e+00 - val_recall: 0.0000e+00 - lr: 3.9063e-06\n",
      "Epoch 41/100\n",
      "3065/3066 [============================>.] - ETA: 0s - loss: 0.2850 - auc: 0.4991 - f1_score: 0.0327 - precision: 0.0000e+00 - recall: 0.0000e+00\n",
      "Epoch 41: ReduceLROnPlateau reducing learning rate to 1.9531250927684596e-06.\n",
      "3066/3066 [==============================] - 171s 56ms/step - loss: 0.2850 - auc: 0.4991 - f1_score: 0.0327 - precision: 0.0000e+00 - recall: 0.0000e+00 - val_loss: 0.2555 - val_auc: 0.5000 - val_f1_score: 0.0200 - val_precision: 0.0000e+00 - val_recall: 0.0000e+00 - lr: 1.9531e-06\n",
      "Epoch 42/100\n",
      "3066/3066 [==============================] - 171s 56ms/step - loss: 0.2850 - auc: 0.4991 - f1_score: 0.0327 - precision: 0.0000e+00 - recall: 0.0000e+00 - val_loss: 0.2555 - val_auc: 0.5000 - val_f1_score: 0.0200 - val_precision: 0.0000e+00 - val_recall: 0.0000e+00 - lr: 1.9531e-06\n",
      "Epoch 43/100\n",
      "3066/3066 [==============================] - 172s 56ms/step - loss: 0.2850 - auc: 0.4991 - f1_score: 0.0327 - precision: 0.0000e+00 - recall: 0.0000e+00 - val_loss: 0.2555 - val_auc: 0.5000 - val_f1_score: 0.0200 - val_precision: 0.0000e+00 - val_recall: 0.0000e+00 - lr: 1.9531e-06\n",
      "Epoch 44/100\n",
      "3065/3066 [============================>.] - ETA: 0s - loss: 0.2850 - auc: 0.4991 - f1_score: 0.0327 - precision: 0.0000e+00 - recall: 0.0000e+00\n",
      "Epoch 44: ReduceLROnPlateau reducing learning rate to 9.765625463842298e-07.\n",
      "3066/3066 [==============================] - 171s 56ms/step - loss: 0.2850 - auc: 0.4991 - f1_score: 0.0327 - precision: 0.0000e+00 - recall: 0.0000e+00 - val_loss: 0.2555 - val_auc: 0.5000 - val_f1_score: 0.0200 - val_precision: 0.0000e+00 - val_recall: 0.0000e+00 - lr: 9.7656e-07\n",
      "Epoch 45/100\n",
      "3066/3066 [==============================] - 171s 56ms/step - loss: 0.2850 - auc: 0.4995 - f1_score: 0.0327 - precision: 0.0000e+00 - recall: 0.0000e+00 - val_loss: 0.2555 - val_auc: 0.5000 - val_f1_score: 0.0200 - val_precision: 0.0000e+00 - val_recall: 0.0000e+00 - lr: 9.7656e-07\n",
      "Epoch 46/100\n",
      "3066/3066 [==============================] - 171s 56ms/step - loss: 0.2850 - auc: 0.4994 - f1_score: 0.0327 - precision: 0.0000e+00 - recall: 0.0000e+00 - val_loss: 0.2555 - val_auc: 0.5000 - val_f1_score: 0.0200 - val_precision: 0.0000e+00 - val_recall: 0.0000e+00 - lr: 9.7656e-07\n",
      "Epoch 47/100\n",
      "3066/3066 [==============================] - ETA: 0s - loss: 0.2850 - auc: 0.4993 - f1_score: 0.0327 - precision: 0.0000e+00 - recall: 0.0000e+00\n",
      "Epoch 47: ReduceLROnPlateau reducing learning rate to 4.882812731921149e-07.\n",
      "3066/3066 [==============================] - 171s 56ms/step - loss: 0.2850 - auc: 0.4993 - f1_score: 0.0327 - precision: 0.0000e+00 - recall: 0.0000e+00 - val_loss: 0.2555 - val_auc: 0.5000 - val_f1_score: 0.0200 - val_precision: 0.0000e+00 - val_recall: 0.0000e+00 - lr: 4.8828e-07\n",
      "Epoch 48/100\n",
      "3066/3066 [==============================] - 171s 56ms/step - loss: 0.2850 - auc: 0.4991 - f1_score: 0.0327 - precision: 0.0000e+00 - recall: 0.0000e+00 - val_loss: 0.2555 - val_auc: 0.5000 - val_f1_score: 0.0200 - val_precision: 0.0000e+00 - val_recall: 0.0000e+00 - lr: 4.8828e-07\n",
      "Epoch 49/100\n",
      "3066/3066 [==============================] - 168s 55ms/step - loss: 0.2850 - auc: 0.4991 - f1_score: 0.0327 - precision: 0.0000e+00 - recall: 0.0000e+00 - val_loss: 0.2555 - val_auc: 0.5000 - val_f1_score: 0.0200 - val_precision: 0.0000e+00 - val_recall: 0.0000e+00 - lr: 4.8828e-07\n",
      "Epoch 50/100\n",
      "3065/3066 [============================>.] - ETA: 0s - loss: 0.2850 - auc: 0.4992 - f1_score: 0.0327 - precision: 0.0000e+00 - recall: 0.0000e+00\n",
      "Epoch 50: ReduceLROnPlateau reducing learning rate to 2.4414063659605745e-07.\n",
      "3066/3066 [==============================] - 171s 56ms/step - loss: 0.2850 - auc: 0.4992 - f1_score: 0.0327 - precision: 0.0000e+00 - recall: 0.0000e+00 - val_loss: 0.2555 - val_auc: 0.5000 - val_f1_score: 0.0200 - val_precision: 0.0000e+00 - val_recall: 0.0000e+00 - lr: 2.4414e-07\n",
      "Epoch 51/100\n",
      "3066/3066 [==============================] - 171s 56ms/step - loss: 0.2850 - auc: 0.4996 - f1_score: 0.0327 - precision: 0.0000e+00 - recall: 0.0000e+00 - val_loss: 0.2555 - val_auc: 0.5000 - val_f1_score: 0.0200 - val_precision: 0.0000e+00 - val_recall: 0.0000e+00 - lr: 2.4414e-07\n",
      "Epoch 52/100\n",
      "3066/3066 [==============================] - 170s 56ms/step - loss: 0.2850 - auc: 0.4997 - f1_score: 0.0327 - precision: 0.0000e+00 - recall: 0.0000e+00 - val_loss: 0.2555 - val_auc: 0.5000 - val_f1_score: 0.0200 - val_precision: 0.0000e+00 - val_recall: 0.0000e+00 - lr: 2.4414e-07\n",
      "Epoch 53/100\n",
      "3065/3066 [============================>.] - ETA: 0s - loss: 0.2850 - auc: 0.4996 - f1_score: 0.0327 - precision: 0.0000e+00 - recall: 0.0000e+00\n",
      "Epoch 53: ReduceLROnPlateau reducing learning rate to 1.2207031829802872e-07.\n",
      "3066/3066 [==============================] - 171s 56ms/step - loss: 0.2850 - auc: 0.4996 - f1_score: 0.0327 - precision: 0.0000e+00 - recall: 0.0000e+00 - val_loss: 0.2555 - val_auc: 0.5000 - val_f1_score: 0.0200 - val_precision: 0.0000e+00 - val_recall: 0.0000e+00 - lr: 1.2207e-07\n",
      "Epoch 54/100\n",
      "3066/3066 [==============================] - 171s 56ms/step - loss: 0.2850 - auc: 0.4999 - f1_score: 0.0327 - precision: 0.0000e+00 - recall: 0.0000e+00 - val_loss: 0.2555 - val_auc: 0.5000 - val_f1_score: 0.0200 - val_precision: 0.0000e+00 - val_recall: 0.0000e+00 - lr: 1.2207e-07\n",
      "Epoch 55/100\n",
      "3066/3066 [==============================] - 171s 56ms/step - loss: 0.2850 - auc: 0.4999 - f1_score: 0.0327 - precision: 0.0000e+00 - recall: 0.0000e+00 - val_loss: 0.2555 - val_auc: 0.5000 - val_f1_score: 0.0200 - val_precision: 0.0000e+00 - val_recall: 0.0000e+00 - lr: 1.2207e-07\n",
      "Epoch 56/100\n",
      "3065/3066 [============================>.] - ETA: 0s - loss: 0.2850 - auc: 0.4998 - f1_score: 0.0327 - precision: 0.0000e+00 - recall: 0.0000e+00\n",
      "Epoch 56: ReduceLROnPlateau reducing learning rate to 6.103515914901436e-08.\n",
      "3066/3066 [==============================] - 170s 55ms/step - loss: 0.2850 - auc: 0.4998 - f1_score: 0.0327 - precision: 0.0000e+00 - recall: 0.0000e+00 - val_loss: 0.2555 - val_auc: 0.5000 - val_f1_score: 0.0200 - val_precision: 0.0000e+00 - val_recall: 0.0000e+00 - lr: 6.1035e-08\n",
      "Epoch 57/100\n",
      "3066/3066 [==============================] - 171s 56ms/step - loss: 0.2850 - auc: 0.5000 - f1_score: 0.0327 - precision: 0.0000e+00 - recall: 0.0000e+00 - val_loss: 0.2555 - val_auc: 0.5000 - val_f1_score: 0.0200 - val_precision: 0.0000e+00 - val_recall: 0.0000e+00 - lr: 6.1035e-08\n",
      "Epoch 58/100\n",
      "3066/3066 [==============================] - 170s 55ms/step - loss: 0.2850 - auc: 0.5000 - f1_score: 0.0327 - precision: 0.0000e+00 - recall: 0.0000e+00 - val_loss: 0.2555 - val_auc: 0.5000 - val_f1_score: 0.0200 - val_precision: 0.0000e+00 - val_recall: 0.0000e+00 - lr: 6.1035e-08\n",
      "Epoch 59/100\n",
      "3065/3066 [============================>.] - ETA: 0s - loss: 0.2850 - auc: 0.5000 - f1_score: 0.0327 - precision: 0.0000e+00 - recall: 0.0000e+00\n",
      "Epoch 59: ReduceLROnPlateau reducing learning rate to 3.051757957450718e-08.\n",
      "3066/3066 [==============================] - 170s 55ms/step - loss: 0.2850 - auc: 0.5000 - f1_score: 0.0327 - precision: 0.0000e+00 - recall: 0.0000e+00 - val_loss: 0.2555 - val_auc: 0.5000 - val_f1_score: 0.0200 - val_precision: 0.0000e+00 - val_recall: 0.0000e+00 - lr: 3.0518e-08\n",
      "Epoch 60/100\n",
      "3066/3066 [==============================] - 170s 55ms/step - loss: 0.2850 - auc: 0.5000 - f1_score: 0.0327 - precision: 0.0000e+00 - recall: 0.0000e+00 - val_loss: 0.2555 - val_auc: 0.5000 - val_f1_score: 0.0200 - val_precision: 0.0000e+00 - val_recall: 0.0000e+00 - lr: 3.0518e-08\n",
      "Epoch 61/100\n",
      "3066/3066 [==============================] - 170s 56ms/step - loss: 0.2850 - auc: 0.5000 - f1_score: 0.0327 - precision: 0.0000e+00 - recall: 0.0000e+00 - val_loss: 0.2555 - val_auc: 0.5000 - val_f1_score: 0.0200 - val_precision: 0.0000e+00 - val_recall: 0.0000e+00 - lr: 3.0518e-08\n",
      "Epoch 62/100\n",
      "3065/3066 [============================>.] - ETA: 0s - loss: 0.2850 - auc: 0.5000 - f1_score: 0.0327 - precision: 0.0000e+00 - recall: 0.0000e+00\n",
      "Epoch 62: ReduceLROnPlateau reducing learning rate to 1.525878978725359e-08.\n",
      "3066/3066 [==============================] - 170s 56ms/step - loss: 0.2850 - auc: 0.5000 - f1_score: 0.0327 - precision: 0.0000e+00 - recall: 0.0000e+00 - val_loss: 0.2555 - val_auc: 0.5000 - val_f1_score: 0.0200 - val_precision: 0.0000e+00 - val_recall: 0.0000e+00 - lr: 1.5259e-08\n",
      "Epoch 63/100\n",
      "3066/3066 [==============================] - 171s 56ms/step - loss: 0.2850 - auc: 0.5000 - f1_score: 0.0327 - precision: 0.0000e+00 - recall: 0.0000e+00 - val_loss: 0.2555 - val_auc: 0.5000 - val_f1_score: 0.0200 - val_precision: 0.0000e+00 - val_recall: 0.0000e+00 - lr: 1.5259e-08\n",
      "Epoch 64/100\n",
      "3066/3066 [==============================] - 170s 55ms/step - loss: 0.2850 - auc: 0.5000 - f1_score: 0.0327 - precision: 0.0000e+00 - recall: 0.0000e+00 - val_loss: 0.2555 - val_auc: 0.5000 - val_f1_score: 0.0200 - val_precision: 0.0000e+00 - val_recall: 0.0000e+00 - lr: 1.5259e-08\n",
      "Epoch 65/100\n",
      "3066/3066 [==============================] - ETA: 0s - loss: 0.2850 - auc: 0.5000 - f1_score: 0.0327 - precision: 0.0000e+00 - recall: 0.0000e+00\n",
      "Epoch 65: ReduceLROnPlateau reducing learning rate to 7.629394893626795e-09.\n",
      "3066/3066 [==============================] - 171s 56ms/step - loss: 0.2850 - auc: 0.5000 - f1_score: 0.0327 - precision: 0.0000e+00 - recall: 0.0000e+00 - val_loss: 0.2555 - val_auc: 0.5000 - val_f1_score: 0.0200 - val_precision: 0.0000e+00 - val_recall: 0.0000e+00 - lr: 7.6294e-09\n",
      "Epoch 66/100\n",
      "3066/3066 [==============================] - 170s 55ms/step - loss: 0.2850 - auc: 0.5000 - f1_score: 0.0327 - precision: 0.0000e+00 - recall: 0.0000e+00 - val_loss: 0.2555 - val_auc: 0.5000 - val_f1_score: 0.0200 - val_precision: 0.0000e+00 - val_recall: 0.0000e+00 - lr: 7.6294e-09\n",
      "Epoch 67/100\n",
      "3066/3066 [==============================] - 170s 56ms/step - loss: 0.2850 - auc: 0.5000 - f1_score: 0.0327 - precision: 0.0000e+00 - recall: 0.0000e+00 - val_loss: 0.2555 - val_auc: 0.5000 - val_f1_score: 0.0200 - val_precision: 0.0000e+00 - val_recall: 0.0000e+00 - lr: 7.6294e-09\n",
      "Epoch 68/100\n",
      "3065/3066 [============================>.] - ETA: 0s - loss: 0.2850 - auc: 0.5000 - f1_score: 0.0327 - precision: 0.0000e+00 - recall: 0.0000e+00\n",
      "Epoch 68: ReduceLROnPlateau reducing learning rate to 3.814697446813398e-09.\n",
      "3066/3066 [==============================] - 170s 55ms/step - loss: 0.2850 - auc: 0.5000 - f1_score: 0.0327 - precision: 0.0000e+00 - recall: 0.0000e+00 - val_loss: 0.2555 - val_auc: 0.5000 - val_f1_score: 0.0200 - val_precision: 0.0000e+00 - val_recall: 0.0000e+00 - lr: 3.8147e-09\n",
      "Epoch 69/100\n",
      "3066/3066 [==============================] - 170s 55ms/step - loss: 0.2850 - auc: 0.5000 - f1_score: 0.0327 - precision: 0.0000e+00 - recall: 0.0000e+00 - val_loss: 0.2555 - val_auc: 0.5000 - val_f1_score: 0.0200 - val_precision: 0.0000e+00 - val_recall: 0.0000e+00 - lr: 3.8147e-09\n",
      "Epoch 70/100\n",
      "3066/3066 [==============================] - 170s 56ms/step - loss: 0.2850 - auc: 0.5000 - f1_score: 0.0327 - precision: 0.0000e+00 - recall: 0.0000e+00 - val_loss: 0.2555 - val_auc: 0.5000 - val_f1_score: 0.0200 - val_precision: 0.0000e+00 - val_recall: 0.0000e+00 - lr: 3.8147e-09\n",
      "Epoch 71/100\n",
      "3065/3066 [============================>.] - ETA: 0s - loss: 0.2850 - auc: 0.5000 - f1_score: 0.0327 - precision: 0.0000e+00 - recall: 0.0000e+00\n",
      "Epoch 71: ReduceLROnPlateau reducing learning rate to 1.907348723406699e-09.\n",
      "3066/3066 [==============================] - 170s 55ms/step - loss: 0.2850 - auc: 0.5000 - f1_score: 0.0327 - precision: 0.0000e+00 - recall: 0.0000e+00 - val_loss: 0.2555 - val_auc: 0.5000 - val_f1_score: 0.0200 - val_precision: 0.0000e+00 - val_recall: 0.0000e+00 - lr: 1.9073e-09\n",
      "Epoch 72/100\n",
      "3066/3066 [==============================] - 171s 56ms/step - loss: 0.2850 - auc: 0.5000 - f1_score: 0.0327 - precision: 0.0000e+00 - recall: 0.0000e+00 - val_loss: 0.2555 - val_auc: 0.5000 - val_f1_score: 0.0200 - val_precision: 0.0000e+00 - val_recall: 0.0000e+00 - lr: 1.9073e-09\n",
      "Epoch 73/100\n",
      "3066/3066 [==============================] - 171s 56ms/step - loss: 0.2850 - auc: 0.5000 - f1_score: 0.0327 - precision: 0.0000e+00 - recall: 0.0000e+00 - val_loss: 0.2555 - val_auc: 0.5000 - val_f1_score: 0.0200 - val_precision: 0.0000e+00 - val_recall: 0.0000e+00 - lr: 1.9073e-09\n",
      "Epoch 74/100\n",
      "3066/3066 [==============================] - ETA: 0s - loss: 0.2850 - auc: 0.5000 - f1_score: 0.0327 - precision: 0.0000e+00 - recall: 0.0000e+00\n",
      "Epoch 74: ReduceLROnPlateau reducing learning rate to 9.536743617033494e-10.\n",
      "3066/3066 [==============================] - 171s 56ms/step - loss: 0.2850 - auc: 0.5000 - f1_score: 0.0327 - precision: 0.0000e+00 - recall: 0.0000e+00 - val_loss: 0.2555 - val_auc: 0.5000 - val_f1_score: 0.0200 - val_precision: 0.0000e+00 - val_recall: 0.0000e+00 - lr: 9.5367e-10\n",
      "Epoch 75/100\n",
      "3066/3066 [==============================] - 170s 56ms/step - loss: 0.2850 - auc: 0.5000 - f1_score: 0.0327 - precision: 0.0000e+00 - recall: 0.0000e+00 - val_loss: 0.2555 - val_auc: 0.5000 - val_f1_score: 0.0200 - val_precision: 0.0000e+00 - val_recall: 0.0000e+00 - lr: 9.5367e-10\n",
      "Epoch 76/100\n",
      "3066/3066 [==============================] - 171s 56ms/step - loss: 0.2850 - auc: 0.5000 - f1_score: 0.0327 - precision: 0.0000e+00 - recall: 0.0000e+00 - val_loss: 0.2555 - val_auc: 0.5000 - val_f1_score: 0.0200 - val_precision: 0.0000e+00 - val_recall: 0.0000e+00 - lr: 9.5367e-10\n",
      "Epoch 77/100\n",
      "3065/3066 [============================>.] - ETA: 0s - loss: 0.2850 - auc: 0.5000 - f1_score: 0.0327 - precision: 0.0000e+00 - recall: 0.0000e+00\n",
      "Epoch 77: ReduceLROnPlateau reducing learning rate to 4.768371808516747e-10.\n",
      "3066/3066 [==============================] - 171s 56ms/step - loss: 0.2850 - auc: 0.5000 - f1_score: 0.0327 - precision: 0.0000e+00 - recall: 0.0000e+00 - val_loss: 0.2555 - val_auc: 0.5000 - val_f1_score: 0.0200 - val_precision: 0.0000e+00 - val_recall: 0.0000e+00 - lr: 4.7684e-10\n",
      "Epoch 77: early stopping\n",
      "===== ===== ===== ===== =====  Model Traninig for: 13174.00 second(s) ===== ===== ===== ===== =====  \n",
      "\n",
      "\n"
     ]
    }
   ],
   "source": [
    "# TODO: Main\n",
    "import time\n",
    "from tqdm.notebook import tqdm\n",
    "\n",
    "NUM_FOLDS = 5\n",
    "weight_option = 'imagenet' # use `imagenet` or `None` only\n",
    "\n",
    "# Fold [1, 3]\n",
    "for fold_num in tqdm([1, 3]):\n",
    "    \n",
    "    # Callbacks\n",
    "    (\n",
    "        model_checkpoint_callback, \n",
    "        early_stop_callback, \n",
    "        reduce_lr_callback, \n",
    "        lr_logging_callback, \n",
    "        tensorboard_callback\n",
    "    ) = get_callbacks(\n",
    "        NAME, weight_option, fold_num\n",
    "    )\n",
    "\n",
    "    # Path for CSV\n",
    "    path = os.path.join(CURRENT_PATH, \"results\", \"history\", EXPERIMENT_NAME, f\"{NAME}_{weight_option}_FOLD_{fold_num}\")\n",
    "    os.makedirs(path, exist_ok=True)\n",
    "\n",
    "    # CSV Logger\n",
    "    csv_logger = CSVLogger(os.path.join(path, f\"history.csv\"))\n",
    "\n",
    "    # Dataset\n",
    "    dataset = Dataset(fold_num)\n",
    "    train_dataset, test_dataset = dataset.get_train(), dataset.get_test()\n",
    "    check_label_on_dataset(train_dataset, test_dataset)\n",
    "\n",
    "    # Modeling\n",
    "    transfer_model = tf.keras.applications.efficientnet.EfficientNetB0(\n",
    "        include_top=False, \n",
    "        weights=weight_option,\n",
    "        input_shape=(224, 224, 3),\n",
    "        pooling=None\n",
    "    )\n",
    "    transfer_model.trainable = False\n",
    "\n",
    "    model = Model_with_dropout(\n",
    "        transfer_model,\n",
    "    )\n",
    "    model = model.get_model()\n",
    "    model._name = f\"{EXPERIMENT_NAME}_FOLD_{fold_num}\"\n",
    "    model.summary()\n",
    "\n",
    "    # Record time for training\n",
    "    start = time.time()\n",
    "    \n",
    "    # Visualize\n",
    "    history = model.fit(\n",
    "        train_dataset,\n",
    "        epochs=EPOCHS,\n",
    "        validation_data=test_dataset,\n",
    "        verbose=1, # Show Progress Bar while Traning\n",
    "        callbacks=[model_checkpoint_callback, csv_logger, early_stop_callback, reduce_lr_callback, lr_logging_callback]\n",
    "    )\n",
    "    \n",
    "    end = time.time()\n",
    "    print(\n",
    "        \"===== \" * 5,\n",
    "        \"Model Traninig for: {:.2f} second(s)\".format(end - start),\n",
    "        \"===== \" * 5,\n",
    "        \"\\n\\n\"\n",
    "    )\n",
    "    \n",
    "    break"
   ]
  },
  {
   "cell_type": "code",
   "execution_count": 15,
   "id": "37ebf808-192e-4e87-bfef-cc6a686943a4",
   "metadata": {},
   "outputs": [
    {
     "name": "stdout",
     "output_type": "stream",
     "text": [
      "Done\n"
     ]
    }
   ],
   "source": [
    "print(\"Done\")"
   ]
  },
  {
   "cell_type": "code",
   "execution_count": null,
   "id": "e721f4ff-13b9-4e14-9886-d7c5555d7142",
   "metadata": {},
   "outputs": [],
   "source": []
  }
 ],
 "metadata": {
  "kernelspec": {
   "display_name": "Python 3 (ipykernel)",
   "language": "python",
   "name": "python3"
  },
  "language_info": {
   "codemirror_mode": {
    "name": "ipython",
    "version": 3
   },
   "file_extension": ".py",
   "mimetype": "text/x-python",
   "name": "python",
   "nbconvert_exporter": "python",
   "pygments_lexer": "ipython3",
   "version": "3.10.5"
  }
 },
 "nbformat": 4,
 "nbformat_minor": 5
}
