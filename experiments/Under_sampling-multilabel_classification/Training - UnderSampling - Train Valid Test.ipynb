{
 "cells": [
  {
   "cell_type": "code",
   "execution_count": 1,
   "id": "91f8b3e8-9de0-405a-8f97-f40c9a63b379",
   "metadata": {},
   "outputs": [],
   "source": [
    "import os\n",
    "ROOT_PATH = os.path.abspath(\"../..\") # \"/home/jovyan/ChestXray-14\""
   ]
  },
  {
   "cell_type": "code",
   "execution_count": 2,
   "id": "d66c840d-74ed-4dce-8715-96701c28615d",
   "metadata": {},
   "outputs": [],
   "source": [
    "import sys\n",
    "sys.path.append(ROOT_PATH)"
   ]
  },
  {
   "cell_type": "code",
   "execution_count": 3,
   "id": "67f814fb-1441-4f0d-a350-2721d6466e42",
   "metadata": {},
   "outputs": [
    {
     "name": "stderr",
     "output_type": "stream",
     "text": [
      "2023-04-08 14:18:04.797665: I tensorflow/core/util/util.cc:169] oneDNN custom operations are on. You may see slightly different numerical results due to floating-point round-off errors from different computation orders. To turn them off, set the environment variable `TF_ENABLE_ONEDNN_OPTS=0`.\n"
     ]
    }
   ],
   "source": [
    "import tensorflow as tf\n",
    "\n",
    "from modules.utils import get_dataset\n",
    "from tensorflow.keras.callbacks import ModelCheckpoint, CSVLogger, EarlyStopping, ReduceLROnPlateau, LearningRateScheduler, TensorBoard"
   ]
  },
  {
   "cell_type": "code",
   "execution_count": 4,
   "id": "87330b2b-aa47-44bf-8983-f444e98f6db9",
   "metadata": {},
   "outputs": [
    {
     "name": "stdout",
     "output_type": "stream",
     "text": [
      "ROOT_PATH: /home/jovyan/ChestXray-14/experiments/Under_sampling-multilabel_classification\n"
     ]
    }
   ],
   "source": [
    "from modules.dataset import LABELS"
   ]
  },
  {
   "cell_type": "code",
   "execution_count": 5,
   "id": "711e4ac0-979b-41ff-a33a-78744a989705",
   "metadata": {},
   "outputs": [],
   "source": [
    "ROOT_PATH = os.path.abspath(\"../..\") # \"/home/jovyan/ChestXray-14\"\n",
    "INPUT_PATH = f\"{ROOT_PATH}/dataset/ChestXray NIH\"\n",
    "EXPERIMENT_NAME = \"under_sampling_5_folds_with_cross_entropy_loss_with_model_under_sampling_dropout\""
   ]
  },
  {
   "cell_type": "code",
   "execution_count": 6,
   "id": "9811ebd7-bcf0-4396-93b7-5d16bef984de",
   "metadata": {},
   "outputs": [],
   "source": [
    "class Dataset:\n",
    "    INPUT_PATH = INPUT_PATH\n",
    "    \n",
    "    def __init__(self, fold_num):\n",
    "        self.fold_num = fold_num\n",
    "        self.DATA_PATH = \"under_sampling_5_folds_dataset_train_valid_test\"\n",
    "    \n",
    "    def get_train(self):\n",
    "        filenames = tf.io.gfile.glob(f'{self.INPUT_PATH}/data/{self.DATA_PATH}/folds/fold{self.fold_num}/train/*.tfrec')\n",
    "        dataset = get_dataset(filenames)\n",
    "        return dataset\n",
    "\n",
    "    def get_valid(self):\n",
    "        filenames = tf.io.gfile.glob(f'{self.INPUT_PATH}/data/{self.DATA_PATH}/folds/fold{self.fold_num}/valid/*.tfrec')\n",
    "        dataset = get_dataset(filenames)\n",
    "        return dataset\n",
    "    \n",
    "    def get_test(self):\n",
    "        filenames = tf.io.gfile.glob(f'{self.INPUT_PATH}/data/{self.DATA_PATH}/test/*.tfrec')\n",
    "        dataset = get_dataset(filenames)\n",
    "        return dataset"
   ]
  },
  {
   "cell_type": "markdown",
   "id": "c6921d57-6abb-4b49-9cb4-2e5936693205",
   "metadata": {},
   "source": [
    "## tf.keras.mixed_precision for faster training"
   ]
  },
  {
   "cell_type": "code",
   "execution_count": 7,
   "id": "baf35f1f-497b-48ae-a90e-bc251210b8e3",
   "metadata": {},
   "outputs": [
    {
     "name": "stdout",
     "output_type": "stream",
     "text": [
      "<Policy \"float32\">\n",
      "INFO:tensorflow:Mixed precision compatibility check (mixed_float16): OK\n",
      "Your GPU will likely run quickly with dtype policy mixed_float16 as it has compute capability of at least 7.0. Your GPU: NVIDIA A100-SXM4-40GB MIG 2g.10gb, compute capability 8.0\n",
      "<Policy \"mixed_float16\">\n"
     ]
    }
   ],
   "source": [
    "print(tf.keras.mixed_precision.global_policy())\n",
    "tf.keras.mixed_precision.set_global_policy('mixed_float16')\n",
    "print(tf.keras.mixed_precision.global_policy())"
   ]
  },
  {
   "cell_type": "markdown",
   "id": "3cdc0ba5-7306-4e81-aaef-22dace23181a",
   "metadata": {},
   "source": [
    "## Model Training"
   ]
  },
  {
   "cell_type": "code",
   "execution_count": 8,
   "id": "439fd766-e37c-49f6-8caf-63bce64aec3a",
   "metadata": {},
   "outputs": [
    {
     "data": {
      "text/plain": [
       "'/home/jovyan/ChestXray-14/experiments/Under_sampling-multilabel_classification'"
      ]
     },
     "execution_count": 8,
     "metadata": {},
     "output_type": "execute_result"
    }
   ],
   "source": [
    "CURRENT_PATH = os.path.abspath(\"\")\n",
    "CURRENT_PATH"
   ]
  },
  {
   "cell_type": "code",
   "execution_count": 9,
   "id": "216058d6-20e5-443e-b13d-a94a4a4b0914",
   "metadata": {},
   "outputs": [],
   "source": [
    "# Learning rate\n",
    "def lr_schedule(epoch, learning_rate):\n",
    "    tf.summary.scalar('learning rate', data=learning_rate, step=epoch)\n",
    "    return learning_rate"
   ]
  },
  {
   "cell_type": "code",
   "execution_count": 10,
   "id": "6d999200-df17-42e2-9df8-260023ed90e5",
   "metadata": {},
   "outputs": [],
   "source": [
    "import datetime\n",
    "\n",
    "def get_callbacks(NAME, weight_option, fold_num):\n",
    "    log_dir = f\"{CURRENT_PATH}/logs/{EXPERIMENT_NAME}/{NAME}_{weight_option}_FOLD_{fold_num}_\" + datetime.datetime.now().strftime(\"%Y%m%d-%H%M%S\")\n",
    "    tensorboard_callback = TensorBoard(log_dir=log_dir, histogram_freq=1)\n",
    "    \n",
    "    model_checkpoint_callback = ModelCheckpoint(f'results/models/{EXPERIMENT_NAME}/{NAME}_{weight_option}_FOLD_{fold_num}.h5', monitor='val_loss', mode='min', save_best_only=True)\n",
    "    early_stop_callback = EarlyStopping(monitor='val_loss', mode=\"min\", patience=20, verbose=1)\n",
    "    reduce_lr_callback = ReduceLROnPlateau(monitor='val_loss', mode=\"min\", factor=0.5, patience=3, verbose=1)\n",
    "    lr_logging_callback = LearningRateScheduler(lr_schedule)\n",
    "    \n",
    "    return model_checkpoint_callback, early_stop_callback, reduce_lr_callback, lr_logging_callback, tensorboard_callback"
   ]
  },
  {
   "cell_type": "code",
   "execution_count": 11,
   "id": "53c9d439-b8ef-4a49-b442-1a544fec7d79",
   "metadata": {},
   "outputs": [],
   "source": [
    "# Constant variables\n",
    "NAME = \"EfficientNetB0\"\n",
    "EPOCHS = 100\n",
    "weight_option = None # use `imagenet` or `None` only"
   ]
  },
  {
   "cell_type": "code",
   "execution_count": 12,
   "id": "4b8e8006-ad20-442d-bd3b-475550d842b5",
   "metadata": {},
   "outputs": [],
   "source": [
    "import pprint\n",
    "import numpy as np\n",
    "\n",
    "def check_label_on_dataset(train_dataset, test_dataset):\n",
    "    y_list = []\n",
    "    for x,y in train_dataset:\n",
    "        # print(y)\n",
    "        y_list.append(y)\n",
    "    train_labels = np.vstack(y_list)\n",
    "\n",
    "    y_list = []\n",
    "    for x,y in test_dataset:\n",
    "        # print(y)\n",
    "        y_list.append(y)\n",
    "    test_labels = np.vstack(y_list)\n",
    "\n",
    "    # Print\n",
    "    pprint.pprint(list(zip(LABELS,train_labels.sum(axis=0))))\n",
    "    print(\"Count:\", len(train_labels))\n",
    "    pprint.pprint(list(zip(LABELS, test_labels.sum(axis=0))))\n",
    "    print(\"Count: \", len(test_labels))\n",
    "\n",
    "    print(\"All:\", len(train_labels)+len(test_labels))"
   ]
  },
  {
   "cell_type": "code",
   "execution_count": 13,
   "id": "5bf64277-0d0e-4e74-98ad-1bf0db6e89c7",
   "metadata": {},
   "outputs": [],
   "source": [
    "from modules.models import Model_under_sampling_dropout"
   ]
  },
  {
   "cell_type": "code",
   "execution_count": null,
   "id": "8e5b9344-3839-4867-9b84-42c57b5115e8",
   "metadata": {},
   "outputs": [
    {
     "data": {
      "application/vnd.jupyter.widget-view+json": {
       "model_id": "600f6b900061432aa7619bfa49026c21",
       "version_major": 2,
       "version_minor": 0
      },
      "text/plain": [
       "  0%|          | 0/5 [00:00<?, ?it/s]"
      ]
     },
     "metadata": {},
     "output_type": "display_data"
    },
    {
     "name": "stderr",
     "output_type": "stream",
     "text": [
      "2023-04-08 14:18:07.965079: I tensorflow/core/platform/cpu_feature_guard.cc:193] This TensorFlow binary is optimized with oneAPI Deep Neural Network Library (oneDNN) to use the following CPU instructions in performance-critical operations:  AVX2 AVX512F AVX512_VNNI FMA\n",
      "To enable them in other operations, rebuild TensorFlow with the appropriate compiler flags.\n",
      "2023-04-08 14:18:08.714702: I tensorflow/core/common_runtime/gpu/gpu_device.cc:1532] Created device /job:localhost/replica:0/task:0/device:GPU:0 with 8011 MB memory:  -> device: 0, name: NVIDIA A100-SXM4-40GB MIG 2g.10gb, pci bus id: 0000:31:00.0, compute capability: 8.0\n"
     ]
    },
    {
     "name": "stdout",
     "output_type": "stream",
     "text": [
      "[('No Finding', 6057),\n",
      " ('Atelectasis', 7541),\n",
      " ('Consolidation', 2994),\n",
      " ('Infiltration', 12735),\n",
      " ('Pneumothorax', 3407),\n",
      " ('Edema', 1471),\n",
      " ('Emphysema', 1607),\n",
      " ('Fibrosis', 1099),\n",
      " ('Effusion', 8531),\n",
      " ('Pneumonia', 909),\n",
      " ('Pleural_Thickening', 2190),\n",
      " ('Cardiomegaly', 1789),\n",
      " ('Nodule', 4053),\n",
      " ('Mass', 3750),\n",
      " ('Hernia', 139)]\n",
      "Count: 39244\n",
      "[('No Finding', 1503),\n",
      " ('Atelectasis', 1793),\n",
      " ('Consolidation', 779),\n",
      " ('Infiltration', 3208),\n",
      " ('Pneumothorax', 849),\n",
      " ('Edema', 386),\n",
      " ('Emphysema', 422),\n",
      " ('Fibrosis', 268),\n",
      " ('Effusion', 2161),\n",
      " ('Pneumonia', 228),\n",
      " ('Pleural_Thickening', 532),\n",
      " ('Cardiomegaly', 430),\n",
      " ('Nodule', 993),\n",
      " ('Mass', 891),\n",
      " ('Hernia', 42)]\n",
      "Count:  9811\n",
      "All: 49055\n",
      "Model: \"under_sampling_5_folds_with_cross_entropy_loss_with_model_under_sampling_dropout_FOLD_1\"\n",
      "_________________________________________________________________\n",
      " Layer (type)                Output Shape              Param #   \n",
      "=================================================================\n",
      " efficientnetb0 (Functional)  (None, 7, 7, 1280)       4049571   \n",
      "                                                                 \n",
      " flatten (Flatten)           (None, 62720)             0         \n",
      "                                                                 \n",
      " dense (Dense)               (None, 128)               8028288   \n",
      "                                                                 \n",
      " dropout (Dropout)           (None, 128)               0         \n",
      "                                                                 \n",
      " dense_1 (Dense)             (None, 128)               16512     \n",
      "                                                                 \n",
      " dropout_1 (Dropout)         (None, 128)               0         \n",
      "                                                                 \n",
      " dense_2 (Dense)             (None, 64)                8256      \n",
      "                                                                 \n",
      " dropout_2 (Dropout)         (None, 64)                0         \n",
      "                                                                 \n",
      " dense_3 (Dense)             (None, 64)                4160      \n",
      "                                                                 \n",
      " dropout_3 (Dropout)         (None, 64)                0         \n",
      "                                                                 \n",
      " dense_4 (Dense)             (None, 15)                975       \n",
      "                                                                 \n",
      "=================================================================\n",
      "Total params: 12,107,762\n",
      "Trainable params: 12,065,739\n",
      "Non-trainable params: 42,023\n",
      "_________________________________________________________________\n",
      "Epoch 1/100\n"
     ]
    },
    {
     "name": "stderr",
     "output_type": "stream",
     "text": [
      "2023-04-08 14:18:39.489210: I tensorflow/stream_executor/cuda/cuda_dnn.cc:384] Loaded cuDNN version 8100\n",
      "2023-04-08 14:18:40.398749: I tensorflow/core/platform/default/subprocess.cc:304] Start cannot spawn child process: No such file or directory\n",
      "2023-04-08 14:18:40.400184: I tensorflow/core/platform/default/subprocess.cc:304] Start cannot spawn child process: No such file or directory\n",
      "2023-04-08 14:18:40.400240: W tensorflow/stream_executor/gpu/asm_compiler.cc:80] Couldn't get ptxas version string: INTERNAL: Couldn't invoke ptxas --version\n",
      "2023-04-08 14:18:40.401517: I tensorflow/core/platform/default/subprocess.cc:304] Start cannot spawn child process: No such file or directory\n",
      "2023-04-08 14:18:40.401636: W tensorflow/stream_executor/gpu/redzone_allocator.cc:314] INTERNAL: Failed to launch ptxas\n",
      "Relying on driver to perform ptx compilation. \n",
      "Modify $PATH to customize ptxas location.\n",
      "This message will be only logged once.\n"
     ]
    },
    {
     "name": "stdout",
     "output_type": "stream",
     "text": [
      "   1681/Unknown - 190s 104ms/step - loss: 0.3132 - auc: 0.5003 - f1_score: 0.0535 - precision: 0.1606 - recall: 0.0179"
     ]
    }
   ],
   "source": [
    "# TODO: Main\n",
    "import time\n",
    "from tqdm.notebook import tqdm\n",
    "\n",
    "NUM_FOLDS = 5\n",
    "for fold_num in tqdm(range(1, NUM_FOLDS + 1)):\n",
    "    \n",
    "    # Callbacks\n",
    "    (\n",
    "        model_checkpoint_callback, \n",
    "        early_stop_callback, \n",
    "        reduce_lr_callback, \n",
    "        lr_logging_callback, \n",
    "        tensorboard_callback\n",
    "    ) = get_callbacks(\n",
    "        NAME, weight_option, fold_num\n",
    "    )\n",
    "\n",
    "    # Path for CSV\n",
    "    path = os.path.join(CURRENT_PATH, \"results\", \"history\", EXPERIMENT_NAME, f\"{NAME}_{weight_option}_FOLD_{fold_num}\")\n",
    "    os.makedirs(path, exist_ok=True)\n",
    "\n",
    "    # CSV Logger\n",
    "    csv_logger = CSVLogger(os.path.join(path, f\"history.csv\"))\n",
    "\n",
    "    # Dataset\n",
    "    dataset = Dataset(fold_num)\n",
    "    train_dataset, validation_dataset = dataset.get_train(), dataset.get_valid()\n",
    "    check_label_on_dataset(train_dataset, validation_dataset)\n",
    "\n",
    "    # Modeling\n",
    "    transfer_model = tf.keras.applications.efficientnet.EfficientNetB0(\n",
    "        include_top=False, \n",
    "        weights=weight_option,\n",
    "        input_shape=(224, 224, 3),\n",
    "        pooling=None\n",
    "    )\n",
    "\n",
    "    model = Model_under_sampling_dropout(\n",
    "        transfer_model,\n",
    "    )\n",
    "    model = model.get_model()\n",
    "    model._name = f\"{EXPERIMENT_NAME}_FOLD_{fold_num}\"\n",
    "    model.summary()\n",
    "\n",
    "    # Record time for training\n",
    "    start = time.time()\n",
    "    \n",
    "    # Visualize\n",
    "    history = model.fit(\n",
    "        train_dataset,\n",
    "        epochs=EPOCHS,\n",
    "        validation_data=validation_dataset,\n",
    "        verbose=1, # Show Progress Bar while Traning\n",
    "        callbacks=[model_checkpoint_callback, csv_logger, early_stop_callback, reduce_lr_callback, lr_logging_callback]\n",
    "    )\n",
    "    \n",
    "    end = time.time()\n",
    "    print(\n",
    "        \"===== \" * 5,\n",
    "        \"Model Traninig for: {:.2f} second(s)\".format(end - start),\n",
    "        \"===== \" * 5,\n",
    "        \"\\n\\n\"\n",
    "    )"
   ]
  },
  {
   "cell_type": "code",
   "execution_count": null,
   "id": "37ebf808-192e-4e87-bfef-cc6a686943a4",
   "metadata": {},
   "outputs": [],
   "source": [
    "print(\"Done\")"
   ]
  },
  {
   "cell_type": "code",
   "execution_count": null,
   "id": "a6d72844-9a81-4982-b56c-ac6ad3d9acde",
   "metadata": {},
   "outputs": [],
   "source": []
  }
 ],
 "metadata": {
  "kernelspec": {
   "display_name": "Python 3 (ipykernel)",
   "language": "python",
   "name": "python3"
  },
  "language_info": {
   "codemirror_mode": {
    "name": "ipython",
    "version": 3
   },
   "file_extension": ".py",
   "mimetype": "text/x-python",
   "name": "python",
   "nbconvert_exporter": "python",
   "pygments_lexer": "ipython3",
   "version": "3.10.5"
  }
 },
 "nbformat": 4,
 "nbformat_minor": 5
}
