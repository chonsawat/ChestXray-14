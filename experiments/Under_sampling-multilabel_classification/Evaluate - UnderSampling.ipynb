{
 "cells": [
  {
   "cell_type": "code",
   "execution_count": 1,
   "id": "928302db-884a-441d-bf11-f999b5a8fcce",
   "metadata": {},
   "outputs": [
    {
     "name": "stdout",
     "output_type": "stream",
     "text": [
      "Looking in indexes: https://pypi.org/simple, https://pypi.ngc.nvidia.com\n",
      "Requirement already satisfied: tensorflow_addons in /opt/conda/lib/python3.10/site-packages (0.19.0)\n",
      "Requirement already satisfied: packaging in /opt/conda/lib/python3.10/site-packages (from tensorflow_addons) (21.3)\n",
      "Requirement already satisfied: typeguard>=2.7 in /opt/conda/lib/python3.10/site-packages (from tensorflow_addons) (3.0.2)\n",
      "Requirement already satisfied: typing-extensions>=4.4.0 in /opt/conda/lib/python3.10/site-packages (from typeguard>=2.7->tensorflow_addons) (4.5.0)\n",
      "Requirement already satisfied: pyparsing!=3.0.5,>=2.0.2 in /opt/conda/lib/python3.10/site-packages (from packaging->tensorflow_addons) (3.0.9)\n"
     ]
    }
   ],
   "source": [
    "!pip3 install tensorflow_addons"
   ]
  },
  {
   "cell_type": "code",
   "execution_count": 2,
   "id": "49bfdc98-319c-497f-a9ee-34b3cfcf752d",
   "metadata": {},
   "outputs": [],
   "source": [
    "import sys\n",
    "sys.path.append('/home/jovyan/ChestXray-14')"
   ]
  },
  {
   "cell_type": "code",
   "execution_count": 3,
   "id": "7739146d-c2dd-441c-948b-8a9d4ea282f3",
   "metadata": {},
   "outputs": [
    {
     "name": "stderr",
     "output_type": "stream",
     "text": [
      "2023-04-02 15:39:18.314668: I tensorflow/core/util/util.cc:169] oneDNN custom operations are on. You may see slightly different numerical results due to floating-point round-off errors from different computation orders. To turn them off, set the environment variable `TF_ENABLE_ONEDNN_OPTS=0`.\n"
     ]
    }
   ],
   "source": [
    "import numpy as np\n",
    "import pandas as pd\n",
    "import tensorflow as tf\n",
    "import tensorflow_addons as tfa\n",
    "\n",
    "from modules.utils import get_dataset\n",
    "from modules.dataset import LABELS"
   ]
  },
  {
   "cell_type": "code",
   "execution_count": 4,
   "id": "cea76338-b06c-4dc8-975d-ce4418a2531e",
   "metadata": {},
   "outputs": [],
   "source": [
    "import os\n",
    "import pprint"
   ]
  },
  {
   "cell_type": "code",
   "execution_count": 5,
   "id": "8b9cbf21-3ab7-48b6-bdd0-6916d7c00866",
   "metadata": {},
   "outputs": [],
   "source": [
    "from pathlib import Path"
   ]
  },
  {
   "cell_type": "code",
   "execution_count": 6,
   "id": "76728576-9809-4f19-bf73-e7268ae50a19",
   "metadata": {},
   "outputs": [
    {
     "data": {
      "text/plain": [
       "'/home/jovyan/ChestXray-14/experiments/Under_sampling-multilabel_classification'"
      ]
     },
     "execution_count": 6,
     "metadata": {},
     "output_type": "execute_result"
    }
   ],
   "source": [
    "CURRENT_PATH = os.path.abspath(\"\")\n",
    "CURRENT_PATH"
   ]
  },
  {
   "cell_type": "code",
   "execution_count": 7,
   "id": "266bf9c6-86c1-48b5-923b-d2374cd84d8d",
   "metadata": {},
   "outputs": [],
   "source": [
    "num_class = 15 # TODO: change to 15 for multi-labels\n",
    "ROOT_PATH = \"/home/jovyan/ChestXray-14\"\n",
    "INPUT_PATH = f\"{ROOT_PATH}/dataset/ChestXray NIH\"\n",
    "EXPERIMENT_NAME = \"under_sampling_5_folds_with_cross_entropy_loss\""
   ]
  },
  {
   "cell_type": "code",
   "execution_count": 8,
   "id": "93b9d419-7180-4e46-baba-ef0e61d56396",
   "metadata": {},
   "outputs": [],
   "source": [
    "class Dataset:\n",
    "    INPUT_PATH = INPUT_PATH\n",
    "    \n",
    "    def __init__(self, fold_num):\n",
    "        self.fold_num = fold_num\n",
    "    \n",
    "    def get_train(self):\n",
    "        filenames = tf.io.gfile.glob(f'{self.INPUT_PATH}/data/under_sampling_5_folds_dataset/folds/fold{self.fold_num}/train/*.tfrec')\n",
    "        dataset = get_dataset(filenames)\n",
    "        return dataset\n",
    "\n",
    "    def get_test(self):\n",
    "        filenames = tf.io.gfile.glob(f'{self.INPUT_PATH}/data/under_sampling_5_folds_dataset/folds/fold{self.fold_num}/test/*.tfrec')\n",
    "        dataset = get_dataset(filenames)\n",
    "        return dataset"
   ]
  },
  {
   "cell_type": "markdown",
   "id": "a36ec3de-064c-47be-b49e-2783f22f56c6",
   "metadata": {
    "tags": []
   },
   "source": [
    "## Experiment"
   ]
  },
  {
   "cell_type": "code",
   "execution_count": 9,
   "id": "9073b134-f958-4389-a98c-2a100ed9be51",
   "metadata": {
    "tags": []
   },
   "outputs": [],
   "source": [
    "class Evaluate:\n",
    "    def __init__(self, model_path):\n",
    "        self.y_true = None\n",
    "        self.y_preds = None\n",
    "        self.model_path = model_path\n",
    "        self.model = self.get_model(model_path)\n",
    "        self.best_thresholds = None\n",
    "        self.thresholds_200 = None\n",
    "    \n",
    "    def get_model(self, path):\n",
    "        return tf.keras.models.load_model(path)\n",
    "    \n",
    "    def get_y_true(self, data):\n",
    "        y_true=[]\n",
    "        for X,y in data:\n",
    "            for label in y:\n",
    "                y_true.append(label)\n",
    "        y_true = tf.Variable(y_true)\n",
    "        self.y_true = y_true\n",
    "        return y_true\n",
    "\n",
    "    def get_confusion_metrics(self, y_true, y_preds):\n",
    "        m = tf.keras.metrics.AUC(multi_label=True)\n",
    "        m.update_state(y_true, y_preds)\n",
    "\n",
    "        thresholds = m.thresholds\n",
    "        variables = m.variables\n",
    "        TP = variables[0]\n",
    "        TN = variables[1]\n",
    "        FP = variables[2]\n",
    "        FN = variables[3]\n",
    "        return thresholds, TP, TN, FP, FN\n",
    "\n",
    "    def model_predict(self, test_dataset):\n",
    "        return self.model.predict(test_dataset)\n",
    "\n",
    "    def get_f1_scores_200_thresholds(self, test_dataset):\n",
    "        self.y_true = self.get_y_true(test_dataset)\n",
    "        self.y_preds = self.model_predict(test_dataset)\n",
    "        \n",
    "        confusion_metrics = self.get_confusion_metrics(self.y_true, self.y_preds)\n",
    "        thresholds, TP, TN, FP, FN = confusion_metrics\n",
    "        self.thresholds_200 = thresholds\n",
    "        f1_class_dict = dict()\n",
    "        for i in range(len(thresholds)):\n",
    "            tp, tn, fp, fn = TP[i], TN[i], FP[i], FN[i]\n",
    "            for label_index in range(num_class):\n",
    "                f1_score = 2*tp[label_index] / (2*tp[label_index] + fp[label_index] + fn[label_index])\n",
    "                try:\n",
    "                    f1_class_dict[LABELS[label_index]].append(f1_score)\n",
    "                except KeyError:\n",
    "                    f1_class_dict[LABELS[label_index]] = [f1_score]\n",
    "        print(LABELS)\n",
    "        return f1_class_dict\n",
    "    \n",
    "    def get_f1_scores(self, test_dataset):\n",
    "        self.y_true = self.get_y_true(test_dataset)\n",
    "        self.y_preds = self.model_predict(test_dataset)\n",
    "        metric = tfa.metrics.MultiLabelConfusionMatrix(num_classes=num_class)\n",
    "        metric.update_state(self.y_true,\n",
    "                            np.greater_equal(self.y_preds, self.best_thresholds).astype('int8'))\n",
    "        result = metric.result()\n",
    "        \n",
    "        f1_class_dict = dict()\n",
    "        for idx, confusion in enumerate(result):\n",
    "            label = LABELS[idx]\n",
    "            TP, TN, FP, FN = (confusion[1, 1],\n",
    "                              confusion[0, 0],\n",
    "                              confusion[0, 1],\n",
    "                              confusion[1, 0])\n",
    "            f1_score = 2*TP / (2*TP + FP + FN)\n",
    "            f1_class_dict[label] = [f1_score.numpy()]\n",
    "        return f1_class_dict\n",
    "    \n",
    "    def get_precision_scores(self, test_dataset, new_calculate=True):\n",
    "        if new_calculate is True:\n",
    "            self.y_true = self.get_y_true(test_dataset)\n",
    "            self.y_preds = self.model_predict(test_dataset)\n",
    "        metric = tfa.metrics.MultiLabelConfusionMatrix(num_classes=num_class)\n",
    "        metric.update_state(self.y_true,\n",
    "                            np.greater_equal(self.y_preds, self.best_thresholds).astype('int8'))\n",
    "        result = metric.result()\n",
    "        \n",
    "        precision_class_dict = dict()\n",
    "        for idx, confusion in enumerate(result):\n",
    "            label = LABELS[idx]\n",
    "            TP, TN, FP, FN = (confusion[1, 1],\n",
    "                              confusion[0, 0],\n",
    "                              confusion[0, 1],\n",
    "                              confusion[1, 0])\n",
    "            precision = TP / (TP + FP)\n",
    "            precision_class_dict[label] = [precision.numpy()]\n",
    "        return precision_class_dict\n",
    "    \n",
    "    def get_recall_scores(self, test_dataset, new_calculate=True):\n",
    "        if new_calculate is True:\n",
    "            self.y_true = self.get_y_true(test_dataset)\n",
    "            self.y_preds = self.model_predict(test_dataset)\n",
    "        metric = tfa.metrics.MultiLabelConfusionMatrix(num_classes=num_class)\n",
    "        metric.update_state(self.y_true,\n",
    "                            np.greater_equal(self.y_preds, self.best_thresholds).astype('int8'))\n",
    "        result = metric.result()\n",
    "        \n",
    "        recall_class_dict = dict()\n",
    "        for idx, confusion in enumerate(result):\n",
    "            label = LABELS[idx]\n",
    "            TP, TN, FP, FN = (confusion[1, 1],\n",
    "                              confusion[0, 0],\n",
    "                              confusion[0, 1],\n",
    "                              confusion[1, 0])\n",
    "            recall = TP / (TP + FN)\n",
    "            recall_class_dict[label] = [recall.numpy()]\n",
    "        return recall_class_dict\n",
    "    \n",
    "    def get_best_threshold(self,\n",
    "                           test_dataset=None,\n",
    "                           save_best_thresholds=f\"{ROOT_PATH}/results/paper/table3_1/best_thresholds.csv\",\n",
    "                           save_200_thresholds=f\"{ROOT_PATH}/results/paper/table3_1/f1_per_thresholds.csv\"):\n",
    "        if test_dataset is None:\n",
    "            assert ValueError(\"test dataset is None\")\n",
    "        \n",
    "        f1_scores_dict = self.get_f1_scores_200_thresholds(test_dataset)\n",
    "        best_thresholds_dict = {\"thresholds\": [], \"f1_most\": [], \"label\": []}\n",
    "        for key, value in f1_scores_dict.items():\n",
    "            f1_arg_max = np.argmax(value)\n",
    "            best_thresholds_dict[\"f1_most\"].append(value[f1_arg_max].numpy())\n",
    "            best_thresholds_dict[\"label\"].append(key)\n",
    "            best_thresholds_dict[\"thresholds\"].append(self.thresholds_200[f1_arg_max])\n",
    "        \n",
    "        df = pd.DataFrame(best_thresholds_dict)\n",
    "        df = df.set_index(\"label\")\n",
    "        df.to_csv(save_best_thresholds, index=True)\n",
    "        print(f\"{save_best_thresholds} was success!\")\n",
    "        # print(df)\n",
    "        \n",
    "        df_200_thresholds = pd.DataFrame(f1_scores_dict)\n",
    "        df_200_thresholds.to_csv(save_200_thresholds, index=True)\n",
    "        print(f\"{save_200_thresholds} was success!\")\n",
    "        self.best_thresholds = df.copy()[\"thresholds\"].values\n",
    "\n",
    "    def __enter__(self):\n",
    "        print(\"Doing ...!\")\n",
    "        return self\n",
    "\n",
    "    def __exit__(self, *arg):\n",
    "        self.y_true = None\n",
    "        self.y_preds = None\n",
    "        print(\"Done!\")"
   ]
  },
  {
   "cell_type": "markdown",
   "id": "1ed0ad33-18d0-4dc8-8466-3e3eabd50c71",
   "metadata": {},
   "source": [
    "## Using"
   ]
  },
  {
   "cell_type": "code",
   "execution_count": 10,
   "id": "c2a41b42-8525-40e9-bd59-0784db8b1bab",
   "metadata": {},
   "outputs": [],
   "source": [
    "from tqdm.notebook import tqdm"
   ]
  },
  {
   "cell_type": "code",
   "execution_count": 11,
   "id": "11d4c2b3-4f53-4487-a122-b40171f91905",
   "metadata": {},
   "outputs": [],
   "source": [
    "import time\n",
    "\n",
    "class TimeUsed:\n",
    "    def start(self):\n",
    "        self.start = time.time()\n",
    "     \n",
    "    def stop_and_report(self):\n",
    "        self.end = time.time()\n",
    "        print(\n",
    "            \"===== \" * 5,\n",
    "            \"Model used for: {:.2f} second(s)\".format(self.end - self.start),\n",
    "            \"===== \" * 5,\n",
    "            \"\\n\\n\"\n",
    "        )"
   ]
  },
  {
   "cell_type": "code",
   "execution_count": 12,
   "id": "7f05c990-8093-4093-b47b-cd896ac283fe",
   "metadata": {},
   "outputs": [
    {
     "data": {
      "text/plain": [
       "'under_sampling_5_folds_with_cross_entropy_loss'"
      ]
     },
     "execution_count": 12,
     "metadata": {},
     "output_type": "execute_result"
    }
   ],
   "source": [
    "EXPERIMENT_NAME"
   ]
  },
  {
   "cell_type": "code",
   "execution_count": 13,
   "id": "bd80be50-824b-4fc7-821d-bbec8843c8ad",
   "metadata": {},
   "outputs": [
    {
     "data": {
      "application/vnd.jupyter.widget-view+json": {
       "model_id": "fdb7df6fb78b43f8be8f8713717633ca",
       "version_major": 2,
       "version_minor": 0
      },
      "text/plain": [
       "  0%|          | 0/5 [00:00<?, ?it/s]"
      ]
     },
     "metadata": {},
     "output_type": "display_data"
    },
    {
     "name": "stderr",
     "output_type": "stream",
     "text": [
      "2023-04-02 15:39:21.117211: I tensorflow/core/platform/cpu_feature_guard.cc:193] This TensorFlow binary is optimized with oneAPI Deep Neural Network Library (oneDNN) to use the following CPU instructions in performance-critical operations:  AVX2 AVX512F AVX512_VNNI FMA\n",
      "To enable them in other operations, rebuild TensorFlow with the appropriate compiler flags.\n",
      "2023-04-02 15:39:21.829871: I tensorflow/core/common_runtime/gpu/gpu_device.cc:1532] Created device /job:localhost/replica:0/task:0/device:GPU:0 with 8011 MB memory:  -> device: 0, name: NVIDIA A100-SXM4-40GB MIG 2g.10gb, pci bus id: 0000:ca:00.0, compute capability: 8.0\n"
     ]
    },
    {
     "name": "stdout",
     "output_type": "stream",
     "text": [
      "INFO:tensorflow:Mixed precision compatibility check (mixed_float16): OK\n",
      "Your GPU will likely run quickly with dtype policy mixed_float16 as it has compute capability of at least 7.0. Your GPU: NVIDIA A100-SXM4-40GB MIG 2g.10gb, compute capability 8.0\n"
     ]
    },
    {
     "name": "stderr",
     "output_type": "stream",
     "text": [
      "2023-04-02 15:39:39.791016: I tensorflow/stream_executor/cuda/cuda_dnn.cc:384] Loaded cuDNN version 8100\n",
      "2023-04-02 15:39:40.686372: I tensorflow/core/platform/default/subprocess.cc:304] Start cannot spawn child process: No such file or directory\n",
      "2023-04-02 15:39:40.687550: I tensorflow/core/platform/default/subprocess.cc:304] Start cannot spawn child process: No such file or directory\n",
      "2023-04-02 15:39:40.687606: W tensorflow/stream_executor/gpu/asm_compiler.cc:80] Couldn't get ptxas version string: INTERNAL: Couldn't invoke ptxas --version\n",
      "2023-04-02 15:39:40.688809: I tensorflow/core/platform/default/subprocess.cc:304] Start cannot spawn child process: No such file or directory\n",
      "2023-04-02 15:39:40.689038: W tensorflow/stream_executor/gpu/redzone_allocator.cc:314] INTERNAL: Failed to launch ptxas\n",
      "Relying on driver to perform ptx compilation. \n",
      "Modify $PATH to customize ptxas location.\n",
      "This message will be only logged once.\n"
     ]
    },
    {
     "name": "stdout",
     "output_type": "stream",
     "text": [
      "1402/1402 [==============================] - 37s 23ms/step\n",
      "['No Finding', 'Atelectasis', 'Consolidation', 'Infiltration', 'Pneumothorax', 'Edema', 'Emphysema', 'Fibrosis', 'Effusion', 'Pneumonia', 'Pleural_Thickening', 'Cardiomegaly', 'Nodule', 'Mass', 'Hernia']\n",
      "/home/jovyan/ChestXray-14/experiments/Under_sampling-multilabel_classification/results/evaluate/under_sampling_5_folds_with_cross_entropy_loss/EfficientNetB0_None/Folds/fold_1/best_thresholds.csv was success!\n",
      "/home/jovyan/ChestXray-14/experiments/Under_sampling-multilabel_classification/results/evaluate/under_sampling_5_folds_with_cross_entropy_loss/EfficientNetB0_None/Folds/fold_1/f1_per_thresholds.csv was success!\n",
      "Doing ...!\n",
      "1402/1402 [==============================] - 32s 23ms/step\n",
      "{'Atelectasis': [0.30961096],\n",
      " 'Cardiomegaly': [0.28722468],\n",
      " 'Consolidation': [0.18299975],\n",
      " 'Edema': [0.20405494],\n",
      " 'Effusion': [0.46085674],\n",
      " 'Emphysema': [0.1355674],\n",
      " 'Fibrosis': [0.088921286],\n",
      " 'Hernia': [0.03],\n",
      " 'Infiltration': [0.32778108],\n",
      " 'Mass': [0.19994925],\n",
      " 'No Finding': [0.73613906],\n",
      " 'Nodule': [0.12403296],\n",
      " 'Pleural_Thickening': [0.1595179],\n",
      " 'Pneumonia': [0.060544904],\n",
      " 'Pneumothorax': [0.26800805]}\n",
      "Done!\n",
      "===== ===== ===== ===== =====  Model used for: 100.06 second(s) ===== ===== ===== ===== =====  \n",
      "\n",
      "\n",
      "1402/1402 [==============================] - 34s 23ms/step\n",
      "['No Finding', 'Atelectasis', 'Consolidation', 'Infiltration', 'Pneumothorax', 'Edema', 'Emphysema', 'Fibrosis', 'Effusion', 'Pneumonia', 'Pleural_Thickening', 'Cardiomegaly', 'Nodule', 'Mass', 'Hernia']\n",
      "/home/jovyan/ChestXray-14/experiments/Under_sampling-multilabel_classification/results/evaluate/under_sampling_5_folds_with_cross_entropy_loss/EfficientNetB0_None/Folds/fold_2/best_thresholds.csv was success!\n",
      "/home/jovyan/ChestXray-14/experiments/Under_sampling-multilabel_classification/results/evaluate/under_sampling_5_folds_with_cross_entropy_loss/EfficientNetB0_None/Folds/fold_2/f1_per_thresholds.csv was success!\n",
      "Doing ...!\n",
      "1402/1402 [==============================] - 32s 23ms/step\n",
      "{'Atelectasis': [0.30961707],\n",
      " 'Cardiomegaly': [0.3031641],\n",
      " 'Consolidation': [0.19575371],\n",
      " 'Edema': [0.20152883],\n",
      " 'Effusion': [0.47971255],\n",
      " 'Emphysema': [0.10907541],\n",
      " 'Fibrosis': [0.067168504],\n",
      " 'Hernia': [0.012578616],\n",
      " 'Infiltration': [0.357528],\n",
      " 'Mass': [0.21112311],\n",
      " 'No Finding': [0.7355695],\n",
      " 'Nodule': [0.1319209],\n",
      " 'Pleural_Thickening': [0.15484515],\n",
      " 'Pneumonia': [0.07008086],\n",
      " 'Pneumothorax': [0.27218935]}\n",
      "Done!\n",
      "===== ===== ===== ===== =====  Model used for: 97.67 second(s) ===== ===== ===== ===== =====  \n",
      "\n",
      "\n",
      "1402/1402 [==============================] - 34s 23ms/step\n",
      "WARNING:tensorflow:5 out of the last 5 calls to <function pfor.<locals>.f at 0x7fa0ac636d40> triggered tf.function retracing. Tracing is expensive and the excessive number of tracings could be due to (1) creating @tf.function repeatedly in a loop, (2) passing tensors with different shapes, (3) passing Python objects instead of tensors. For (1), please define your @tf.function outside of the loop. For (2), @tf.function has reduce_retracing=True option that can avoid unnecessary retracing. For (3), please refer to https://www.tensorflow.org/guide/function#controlling_retracing and https://www.tensorflow.org/api_docs/python/tf/function for  more details.\n",
      "WARNING:tensorflow:6 out of the last 6 calls to <function pfor.<locals>.f at 0x7fa0ac636b00> triggered tf.function retracing. Tracing is expensive and the excessive number of tracings could be due to (1) creating @tf.function repeatedly in a loop, (2) passing tensors with different shapes, (3) passing Python objects instead of tensors. For (1), please define your @tf.function outside of the loop. For (2), @tf.function has reduce_retracing=True option that can avoid unnecessary retracing. For (3), please refer to https://www.tensorflow.org/guide/function#controlling_retracing and https://www.tensorflow.org/api_docs/python/tf/function for  more details.\n",
      "['No Finding', 'Atelectasis', 'Consolidation', 'Infiltration', 'Pneumothorax', 'Edema', 'Emphysema', 'Fibrosis', 'Effusion', 'Pneumonia', 'Pleural_Thickening', 'Cardiomegaly', 'Nodule', 'Mass', 'Hernia']\n",
      "/home/jovyan/ChestXray-14/experiments/Under_sampling-multilabel_classification/results/evaluate/under_sampling_5_folds_with_cross_entropy_loss/EfficientNetB0_None/Folds/fold_3/best_thresholds.csv was success!\n",
      "/home/jovyan/ChestXray-14/experiments/Under_sampling-multilabel_classification/results/evaluate/under_sampling_5_folds_with_cross_entropy_loss/EfficientNetB0_None/Folds/fold_3/f1_per_thresholds.csv was success!\n",
      "Doing ...!\n",
      "1402/1402 [==============================] - 32s 22ms/step\n",
      "{'Atelectasis': [0.32138154],\n",
      " 'Cardiomegaly': [0.30604982],\n",
      " 'Consolidation': [0.20210896],\n",
      " 'Edema': [0.21213406],\n",
      " 'Effusion': [0.4599186],\n",
      " 'Emphysema': [0.13852814],\n",
      " 'Fibrosis': [0.06464981],\n",
      " 'Hernia': [0.01718213],\n",
      " 'Infiltration': [0.3536662],\n",
      " 'Mass': [0.18974486],\n",
      " 'No Finding': [0.73225176],\n",
      " 'Nodule': [0.12155575],\n",
      " 'Pleural_Thickening': [0.16304792],\n",
      " 'Pneumonia': [0.064579256],\n",
      " 'Pneumothorax': [0.27817032]}\n",
      "Done!\n",
      "===== ===== ===== ===== =====  Model used for: 98.36 second(s) ===== ===== ===== ===== =====  \n",
      "\n",
      "\n",
      "1402/1402 [==============================] - 33s 23ms/step\n",
      "['No Finding', 'Atelectasis', 'Consolidation', 'Infiltration', 'Pneumothorax', 'Edema', 'Emphysema', 'Fibrosis', 'Effusion', 'Pneumonia', 'Pleural_Thickening', 'Cardiomegaly', 'Nodule', 'Mass', 'Hernia']\n",
      "/home/jovyan/ChestXray-14/experiments/Under_sampling-multilabel_classification/results/evaluate/under_sampling_5_folds_with_cross_entropy_loss/EfficientNetB0_None/Folds/fold_4/best_thresholds.csv was success!\n",
      "/home/jovyan/ChestXray-14/experiments/Under_sampling-multilabel_classification/results/evaluate/under_sampling_5_folds_with_cross_entropy_loss/EfficientNetB0_None/Folds/fold_4/f1_per_thresholds.csv was success!\n",
      "Doing ...!\n",
      "1402/1402 [==============================] - 32s 23ms/step\n",
      "{'Atelectasis': [0.30810535],\n",
      " 'Cardiomegaly': [0.3164983],\n",
      " 'Consolidation': [0.21177714],\n",
      " 'Edema': [0.22497933],\n",
      " 'Effusion': [0.46679047],\n",
      " 'Emphysema': [0.12969035],\n",
      " 'Fibrosis': [0.07596068],\n",
      " 'Hernia': [0.019704433],\n",
      " 'Infiltration': [0.35195228],\n",
      " 'Mass': [0.18555817],\n",
      " 'No Finding': [0.72634727],\n",
      " 'Nodule': [0.12604547],\n",
      " 'Pleural_Thickening': [0.13557288],\n",
      " 'Pneumonia': [0.059790734],\n",
      " 'Pneumothorax': [0.25587043]}\n",
      "Done!\n",
      "===== ===== ===== ===== =====  Model used for: 96.89 second(s) ===== ===== ===== ===== =====  \n",
      "\n",
      "\n",
      "1402/1402 [==============================] - 34s 23ms/step\n",
      "['No Finding', 'Atelectasis', 'Consolidation', 'Infiltration', 'Pneumothorax', 'Edema', 'Emphysema', 'Fibrosis', 'Effusion', 'Pneumonia', 'Pleural_Thickening', 'Cardiomegaly', 'Nodule', 'Mass', 'Hernia']\n",
      "/home/jovyan/ChestXray-14/experiments/Under_sampling-multilabel_classification/results/evaluate/under_sampling_5_folds_with_cross_entropy_loss/EfficientNetB0_None/Folds/fold_5/best_thresholds.csv was success!\n",
      "/home/jovyan/ChestXray-14/experiments/Under_sampling-multilabel_classification/results/evaluate/under_sampling_5_folds_with_cross_entropy_loss/EfficientNetB0_None/Folds/fold_5/f1_per_thresholds.csv was success!\n",
      "Doing ...!\n",
      "1402/1402 [==============================] - 32s 23ms/step\n",
      "{'Atelectasis': [0.3261397],\n",
      " 'Cardiomegaly': [0.34053588],\n",
      " 'Consolidation': [0.20009597],\n",
      " 'Edema': [0.20911855],\n",
      " 'Effusion': [0.4747183],\n",
      " 'Emphysema': [0.1308615],\n",
      " 'Fibrosis': [0.06384976],\n",
      " 'Hernia': [0.028169014],\n",
      " 'Infiltration': [0.34662247],\n",
      " 'Mass': [0.22304833],\n",
      " 'No Finding': [0.73404866],\n",
      " 'Nodule': [0.118560486],\n",
      " 'Pleural_Thickening': [0.17306946],\n",
      " 'Pneumonia': [0.06418219],\n",
      " 'Pneumothorax': [0.26125512]}\n",
      "Done!\n",
      "===== ===== ===== ===== =====  Model used for: 97.36 second(s) ===== ===== ===== ===== =====  \n",
      "\n",
      "\n"
     ]
    }
   ],
   "source": [
    "for fold_num in tqdm(range(1, 5+1)):\n",
    "    time_counter = TimeUsed()\n",
    "    time_counter.start()\n",
    "    \n",
    "    # Record time for training\n",
    "    MODEL_PATH = f'{CURRENT_PATH}/results/models/{EXPERIMENT_NAME}/EfficientNetB0_None_FOLD_{fold_num}.h5'\n",
    "    RESULT_EVALUATE_PATH = os.path.join(CURRENT_PATH, \"results\", \"evaluate\", EXPERIMENT_NAME, \"EfficientNetB0_None\", \"Folds\", f\"fold_{fold_num}\")\n",
    "    Path(RESULT_EVALUATE_PATH).mkdir(parents=True, exist_ok=True)\n",
    "    \n",
    "    test_dataset = Dataset(fold_num).get_test()\n",
    "    \n",
    "    best_model = Evaluate(MODEL_PATH)\n",
    "    best_model.get_best_threshold(\n",
    "        test_dataset=test_dataset,\n",
    "        save_best_thresholds=f\"{RESULT_EVALUATE_PATH}/best_thresholds.csv\",\n",
    "        save_200_thresholds=f\"{RESULT_EVALUATE_PATH}/f1_per_thresholds.csv\"\n",
    "    )\n",
    "    \n",
    "    with best_model:\n",
    "        f1_each_class = best_model.get_f1_scores(test_dataset)\n",
    "        pprint.pprint(f1_each_class)\n",
    "        df = pd.DataFrame(f1_each_class)\n",
    "        df.to_csv(f\"{RESULT_EVALUATE_PATH}/f1_scores.csv\", index=False)\n",
    "\n",
    "        precision_each_class = best_model.get_precision_scores(test_dataset, new_calculate=False)\n",
    "        pd.DataFrame(precision_each_class)\\\n",
    "            .to_csv(f\"{RESULT_EVALUATE_PATH}/precision.csv\", index=False)\n",
    "\n",
    "        recall_each_class = best_model.get_recall_scores(test_dataset, new_calculate=False)\n",
    "        pd.DataFrame(recall_each_class)\\\n",
    "            .to_csv(f\"{RESULT_EVALUATE_PATH}/recall.csv\", index=False)\n",
    "\n",
    "        # print(df)\n",
    "    \n",
    "    time_counter.stop_and_report()"
   ]
  }
 ],
 "metadata": {
  "kernelspec": {
   "display_name": "Python 3 (ipykernel)",
   "language": "python",
   "name": "python3"
  },
  "language_info": {
   "codemirror_mode": {
    "name": "ipython",
    "version": 3
   },
   "file_extension": ".py",
   "mimetype": "text/x-python",
   "name": "python",
   "nbconvert_exporter": "python",
   "pygments_lexer": "ipython3",
   "version": "3.10.5"
  }
 },
 "nbformat": 4,
 "nbformat_minor": 5
}
