{
 "cells": [
  {
   "cell_type": "code",
   "execution_count": 1,
   "id": "d66c840d-74ed-4dce-8715-96701c28615d",
   "metadata": {},
   "outputs": [],
   "source": [
    "import sys\n",
    "sys.path.append('/home/jovyan/ChestXray-14')"
   ]
  },
  {
   "cell_type": "code",
   "execution_count": 2,
   "id": "67f814fb-1441-4f0d-a350-2721d6466e42",
   "metadata": {},
   "outputs": [
    {
     "name": "stderr",
     "output_type": "stream",
     "text": [
      "2023-04-01 10:25:47.766374: I tensorflow/core/util/util.cc:169] oneDNN custom operations are on. You may see slightly different numerical results due to floating-point round-off errors from different computation orders. To turn them off, set the environment variable `TF_ENABLE_ONEDNN_OPTS=0`.\n"
     ]
    }
   ],
   "source": [
    "import tensorflow as tf\n",
    "\n",
    "from modules.models import Model\n",
    "from modules.utils import get_dataset\n",
    "\n",
    "from tensorflow.keras.callbacks import ModelCheckpoint, CSVLogger, EarlyStopping, ReduceLROnPlateau, LearningRateScheduler, TensorBoard"
   ]
  },
  {
   "cell_type": "code",
   "execution_count": 3,
   "id": "87330b2b-aa47-44bf-8983-f444e98f6db9",
   "metadata": {},
   "outputs": [],
   "source": [
    "from modules.dataset import LABELS"
   ]
  },
  {
   "cell_type": "code",
   "execution_count": 4,
   "id": "711e4ac0-979b-41ff-a33a-78744a989705",
   "metadata": {},
   "outputs": [],
   "source": [
    "ROOT_PATH = \"/home/jovyan/ChestXray-14\"\n",
    "INPUT_PATH = f\"{ROOT_PATH}/dataset/ChestXray NIH\"\n",
    "EXPERIMENT_NAME = \"under_sampling_5_folds_with_cross_entropy_loss\""
   ]
  },
  {
   "cell_type": "code",
   "execution_count": 5,
   "id": "9811ebd7-bcf0-4396-93b7-5d16bef984de",
   "metadata": {},
   "outputs": [],
   "source": [
    "class Dataset:\n",
    "    INPUT_PATH = INPUT_PATH\n",
    "    \n",
    "    def __init__(self, fold_num):\n",
    "        self.fold_num = fold_num\n",
    "    \n",
    "    def get_train(self):\n",
    "        filenames = tf.io.gfile.glob(f'{self.INPUT_PATH}/data/under_sampling_5_folds_dataset/folds/fold{self.fold_num}/train/*.tfrec')\n",
    "        dataset = get_dataset(filenames)\n",
    "        return dataset\n",
    "\n",
    "    def get_test(self):\n",
    "        filenames = tf.io.gfile.glob(f'{self.INPUT_PATH}/data/under_sampling_5_folds_dataset/folds/fold{self.fold_num}/test/*.tfrec')\n",
    "        dataset = get_dataset(filenames)\n",
    "        return dataset"
   ]
  },
  {
   "cell_type": "markdown",
   "id": "c6921d57-6abb-4b49-9cb4-2e5936693205",
   "metadata": {},
   "source": [
    "## tf.keras.mixed_precision for faster training"
   ]
  },
  {
   "cell_type": "code",
   "execution_count": 6,
   "id": "baf35f1f-497b-48ae-a90e-bc251210b8e3",
   "metadata": {},
   "outputs": [
    {
     "name": "stdout",
     "output_type": "stream",
     "text": [
      "<Policy \"float32\">\n",
      "INFO:tensorflow:Mixed precision compatibility check (mixed_float16): OK\n",
      "Your GPU will likely run quickly with dtype policy mixed_float16 as it has compute capability of at least 7.0. Your GPU: NVIDIA A100-SXM4-40GB MIG 2g.10gb, compute capability 8.0\n",
      "<Policy \"mixed_float16\">\n"
     ]
    }
   ],
   "source": [
    "print(tf.keras.mixed_precision.global_policy())\n",
    "tf.keras.mixed_precision.set_global_policy('mixed_float16')\n",
    "print(tf.keras.mixed_precision.global_policy())"
   ]
  },
  {
   "cell_type": "markdown",
   "id": "3cdc0ba5-7306-4e81-aaef-22dace23181a",
   "metadata": {},
   "source": [
    "## Model Training"
   ]
  },
  {
   "cell_type": "code",
   "execution_count": 7,
   "id": "439fd766-e37c-49f6-8caf-63bce64aec3a",
   "metadata": {},
   "outputs": [
    {
     "data": {
      "text/plain": [
       "'/home/jovyan/ChestXray-14/experiments/Under_sampling-multilabel_classification'"
      ]
     },
     "execution_count": 7,
     "metadata": {},
     "output_type": "execute_result"
    }
   ],
   "source": [
    "import os\n",
    "CURRENT_PATH = os.path.abspath(\"\")\n",
    "CURRENT_PATH"
   ]
  },
  {
   "cell_type": "code",
   "execution_count": 8,
   "id": "216058d6-20e5-443e-b13d-a94a4a4b0914",
   "metadata": {},
   "outputs": [],
   "source": [
    "# Learning rate\n",
    "def lr_schedule(epoch, learning_rate):\n",
    "    tf.summary.scalar('learning rate', data=learning_rate, step=epoch)\n",
    "    return learning_rate"
   ]
  },
  {
   "cell_type": "code",
   "execution_count": 9,
   "id": "6d999200-df17-42e2-9df8-260023ed90e5",
   "metadata": {},
   "outputs": [],
   "source": [
    "import datetime\n",
    "\n",
    "def get_callbacks(NAME, weight_option, fold_num):\n",
    "    log_dir = f\"{CURRENT_PATH}/logs/{EXPERIMENT_NAME}/{NAME}_{weight_option}_FOLD_{fold_num}_\" + datetime.datetime.now().strftime(\"%Y%m%d-%H%M%S\")\n",
    "    tensorboard_callback = TensorBoard(log_dir=log_dir, histogram_freq=1)\n",
    "    \n",
    "    model_checkpoint_callback = ModelCheckpoint(f'results/models/{EXPERIMENT_NAME}/{NAME}_{weight_option}_FOLD_{fold_num}.h5', monitor='val_loss', mode='min', save_best_only=True)\n",
    "    early_stop_callback = EarlyStopping(monitor='val_loss', mode=\"min\", patience=20, verbose=1)\n",
    "    reduce_lr_callback = ReduceLROnPlateau(monitor='val_loss', mode=\"min\", factor=0.5, patience=3, verbose=1)\n",
    "    lr_logging_callback = LearningRateScheduler(lr_schedule)\n",
    "    \n",
    "    return model_checkpoint_callback, early_stop_callback, reduce_lr_callback, lr_logging_callback, tensorboard_callback"
   ]
  },
  {
   "cell_type": "code",
   "execution_count": 10,
   "id": "53c9d439-b8ef-4a49-b442-1a544fec7d79",
   "metadata": {},
   "outputs": [],
   "source": [
    "# Constant variables\n",
    "NAME = \"EfficientNetB0\"\n",
    "EPOCHS = 100\n",
    "weight_option = None # use `imagenet` or `None` only"
   ]
  },
  {
   "cell_type": "code",
   "execution_count": 11,
   "id": "4b8e8006-ad20-442d-bd3b-475550d842b5",
   "metadata": {},
   "outputs": [],
   "source": [
    "import pprint\n",
    "import numpy as np\n",
    "\n",
    "def check_label_on_dataset(train_dataset, test_dataset):\n",
    "    y_list = []\n",
    "    for x,y in train_dataset:\n",
    "        # print(y)\n",
    "        y_list.append(y)\n",
    "    train_labels = np.vstack(y_list)\n",
    "\n",
    "    y_list = []\n",
    "    for x,y in test_dataset:\n",
    "        # print(y)\n",
    "        y_list.append(y)\n",
    "    test_labels = np.vstack(y_list)\n",
    "\n",
    "    # Print\n",
    "    pprint.pprint(list(zip(LABELS,train_labels.sum(axis=0))))\n",
    "    print(\"Count:\", len(train_labels))\n",
    "    pprint.pprint(list(zip(LABELS, test_labels.sum(axis=0))))\n",
    "    print(\"Count: \", len(test_labels))\n",
    "\n",
    "    print(\"All:\", len(train_labels)+len(test_labels))"
   ]
  },
  {
   "cell_type": "code",
   "execution_count": 12,
   "id": "8e5b9344-3839-4867-9b84-42c57b5115e8",
   "metadata": {},
   "outputs": [
    {
     "data": {
      "application/vnd.jupyter.widget-view+json": {
       "model_id": "6a41eba8470d4a36887557d1fdb9d922",
       "version_major": 2,
       "version_minor": 0
      },
      "text/plain": [
       "  0%|          | 0/5 [00:00<?, ?it/s]"
      ]
     },
     "metadata": {},
     "output_type": "display_data"
    },
    {
     "name": "stderr",
     "output_type": "stream",
     "text": [
      "2023-04-01 10:25:51.191094: I tensorflow/core/platform/cpu_feature_guard.cc:193] This TensorFlow binary is optimized with oneAPI Deep Neural Network Library (oneDNN) to use the following CPU instructions in performance-critical operations:  AVX2 AVX512F AVX512_VNNI FMA\n",
      "To enable them in other operations, rebuild TensorFlow with the appropriate compiler flags.\n",
      "2023-04-01 10:25:51.941129: I tensorflow/core/common_runtime/gpu/gpu_device.cc:1532] Created device /job:localhost/replica:0/task:0/device:GPU:0 with 8011 MB memory:  -> device: 0, name: NVIDIA A100-SXM4-40GB MIG 2g.10gb, pci bus id: 0000:31:00.0, compute capability: 8.0\n"
     ]
    },
    {
     "name": "stdout",
     "output_type": "stream",
     "text": [
      "[('No Finding', 7560),\n",
      " ('Atelectasis', 9334),\n",
      " ('Consolidation', 3773),\n",
      " ('Infiltration', 15943),\n",
      " ('Pneumothorax', 4256),\n",
      " ('Edema', 1857),\n",
      " ('Emphysema', 2029),\n",
      " ('Fibrosis', 1367),\n",
      " ('Effusion', 10692),\n",
      " ('Pneumonia', 1137),\n",
      " ('Pleural_Thickening', 2722),\n",
      " ('Cardiomegaly', 2219),\n",
      " ('Nodule', 5046),\n",
      " ('Mass', 4641),\n",
      " ('Hernia', 181)]\n",
      "Count: 49055\n",
      "[('No Finding', 12160),\n",
      " ('Atelectasis', 2225),\n",
      " ('Consolidation', 894),\n",
      " ('Infiltration', 3951),\n",
      " ('Pneumothorax', 1046),\n",
      " ('Edema', 446),\n",
      " ('Emphysema', 487),\n",
      " ('Fibrosis', 319),\n",
      " ('Effusion', 2625),\n",
      " ('Pneumonia', 294),\n",
      " ('Pleural_Thickening', 663),\n",
      " ('Cardiomegaly', 557),\n",
      " ('Nodule', 1285),\n",
      " ('Mass', 1141),\n",
      " ('Hernia', 46)]\n",
      "Count:  22424\n",
      "All: 71479\n",
      "Model: \"under_sampling_5_folds_with_cross_entropy_loss_FOLD_1\"\n",
      "_________________________________________________________________\n",
      " Layer (type)                Output Shape              Param #   \n",
      "=================================================================\n",
      " efficientnetb0 (Functional)  (None, 7, 7, 1280)       4049571   \n",
      "                                                                 \n",
      " flatten (Flatten)           (None, 62720)             0         \n",
      "                                                                 \n",
      " dense (Dense)               (None, 128)               8028288   \n",
      "                                                                 \n",
      " dense_1 (Dense)             (None, 128)               16512     \n",
      "                                                                 \n",
      " dense_2 (Dense)             (None, 64)                8256      \n",
      "                                                                 \n",
      " dense_3 (Dense)             (None, 64)                4160      \n",
      "                                                                 \n",
      " dense_4 (Dense)             (None, 15)                975       \n",
      "                                                                 \n",
      "=================================================================\n",
      "Total params: 12,107,762\n",
      "Trainable params: 12,065,739\n",
      "Non-trainable params: 42,023\n",
      "_________________________________________________________________\n",
      "Epoch 1/100\n"
     ]
    },
    {
     "name": "stderr",
     "output_type": "stream",
     "text": [
      "2023-04-01 10:26:29.756551: I tensorflow/stream_executor/cuda/cuda_dnn.cc:384] Loaded cuDNN version 8100\n",
      "2023-04-01 10:26:30.639533: I tensorflow/core/platform/default/subprocess.cc:304] Start cannot spawn child process: No such file or directory\n",
      "2023-04-01 10:26:30.640592: I tensorflow/core/platform/default/subprocess.cc:304] Start cannot spawn child process: No such file or directory\n",
      "2023-04-01 10:26:30.640631: W tensorflow/stream_executor/gpu/asm_compiler.cc:80] Couldn't get ptxas version string: INTERNAL: Couldn't invoke ptxas --version\n",
      "2023-04-01 10:26:30.641972: I tensorflow/core/platform/default/subprocess.cc:304] Start cannot spawn child process: No such file or directory\n",
      "2023-04-01 10:26:30.642169: W tensorflow/stream_executor/gpu/redzone_allocator.cc:314] INTERNAL: Failed to launch ptxas\n",
      "Relying on driver to perform ptx compilation. \n",
      "Modify $PATH to customize ptxas location.\n",
      "This message will be only logged once.\n"
     ]
    },
    {
     "name": "stdout",
     "output_type": "stream",
     "text": [
      "   3066/Unknown - 341s 106ms/step - loss: 0.2863 - auc: 0.5636 - f1_score: 0.0576 - precision: 0.2478 - recall: 0.0051"
     ]
    },
    {
     "ename": "ValueError",
     "evalue": "Expected scalar shape, saw shape: (15,).",
     "output_type": "error",
     "traceback": [
      "\u001b[0;31m---------------------------------------------------------------------------\u001b[0m",
      "\u001b[0;31mValueError\u001b[0m                                Traceback (most recent call last)",
      "Input \u001b[0;32mIn [12]\u001b[0m, in \u001b[0;36m<cell line: 6>\u001b[0;34m()\u001b[0m\n\u001b[1;32m     47\u001b[0m start \u001b[38;5;241m=\u001b[39m time\u001b[38;5;241m.\u001b[39mtime()\n\u001b[1;32m     49\u001b[0m \u001b[38;5;66;03m# Visualize\u001b[39;00m\n\u001b[0;32m---> 50\u001b[0m history \u001b[38;5;241m=\u001b[39m \u001b[43mmodel\u001b[49m\u001b[38;5;241;43m.\u001b[39;49m\u001b[43mfit\u001b[49m\u001b[43m(\u001b[49m\n\u001b[1;32m     51\u001b[0m \u001b[43m    \u001b[49m\u001b[43mtrain_dataset\u001b[49m\u001b[43m,\u001b[49m\n\u001b[1;32m     52\u001b[0m \u001b[43m    \u001b[49m\u001b[43mepochs\u001b[49m\u001b[38;5;241;43m=\u001b[39;49m\u001b[43mEPOCHS\u001b[49m\u001b[43m,\u001b[49m\n\u001b[1;32m     53\u001b[0m \u001b[43m    \u001b[49m\u001b[43mvalidation_data\u001b[49m\u001b[38;5;241;43m=\u001b[39;49m\u001b[43mtest_dataset\u001b[49m\u001b[43m,\u001b[49m\n\u001b[1;32m     54\u001b[0m \u001b[43m    \u001b[49m\u001b[43mverbose\u001b[49m\u001b[38;5;241;43m=\u001b[39;49m\u001b[38;5;241;43m1\u001b[39;49m\u001b[43m,\u001b[49m\u001b[43m \u001b[49m\u001b[38;5;66;43;03m# Show Progress Bar while Traning\u001b[39;49;00m\n\u001b[1;32m     55\u001b[0m \u001b[43m    \u001b[49m\u001b[43mcallbacks\u001b[49m\u001b[38;5;241;43m=\u001b[39;49m\u001b[43m[\u001b[49m\u001b[43mmodel_checkpoint_callback\u001b[49m\u001b[43m,\u001b[49m\u001b[43m \u001b[49m\u001b[43mcsv_logger\u001b[49m\u001b[43m,\u001b[49m\u001b[43m \u001b[49m\u001b[43mearly_stop_callback\u001b[49m\u001b[43m,\u001b[49m\u001b[43m \u001b[49m\u001b[43mreduce_lr_callback\u001b[49m\u001b[43m,\u001b[49m\u001b[43m \u001b[49m\u001b[43mlr_logging_callback\u001b[49m\u001b[43m,\u001b[49m\u001b[43m \u001b[49m\u001b[43mtensorboard_callback\u001b[49m\u001b[43m]\u001b[49m\n\u001b[1;32m     56\u001b[0m \u001b[43m\u001b[49m\u001b[43m)\u001b[49m\n\u001b[1;32m     58\u001b[0m end \u001b[38;5;241m=\u001b[39m time\u001b[38;5;241m.\u001b[39mtime()\n\u001b[1;32m     59\u001b[0m \u001b[38;5;28mprint\u001b[39m(\n\u001b[1;32m     60\u001b[0m     \u001b[38;5;124m\"\u001b[39m\u001b[38;5;124m===== \u001b[39m\u001b[38;5;124m\"\u001b[39m \u001b[38;5;241m*\u001b[39m \u001b[38;5;241m5\u001b[39m,\n\u001b[1;32m     61\u001b[0m     \u001b[38;5;124m\"\u001b[39m\u001b[38;5;124mModel Traninig for: \u001b[39m\u001b[38;5;132;01m{:.2f}\u001b[39;00m\u001b[38;5;124m second(s)\u001b[39m\u001b[38;5;124m\"\u001b[39m\u001b[38;5;241m.\u001b[39mformat(end \u001b[38;5;241m-\u001b[39m start),\n\u001b[1;32m     62\u001b[0m     \u001b[38;5;124m\"\u001b[39m\u001b[38;5;124m===== \u001b[39m\u001b[38;5;124m\"\u001b[39m \u001b[38;5;241m*\u001b[39m \u001b[38;5;241m5\u001b[39m,\n\u001b[1;32m     63\u001b[0m     \u001b[38;5;124m\"\u001b[39m\u001b[38;5;130;01m\\n\u001b[39;00m\u001b[38;5;130;01m\\n\u001b[39;00m\u001b[38;5;124m\"\u001b[39m\n\u001b[1;32m     64\u001b[0m )\n",
      "File \u001b[0;32m/opt/conda/lib/python3.10/site-packages/keras/utils/traceback_utils.py:67\u001b[0m, in \u001b[0;36mfilter_traceback.<locals>.error_handler\u001b[0;34m(*args, **kwargs)\u001b[0m\n\u001b[1;32m     65\u001b[0m \u001b[38;5;28;01mexcept\u001b[39;00m \u001b[38;5;167;01mException\u001b[39;00m \u001b[38;5;28;01mas\u001b[39;00m e:  \u001b[38;5;66;03m# pylint: disable=broad-except\u001b[39;00m\n\u001b[1;32m     66\u001b[0m   filtered_tb \u001b[38;5;241m=\u001b[39m _process_traceback_frames(e\u001b[38;5;241m.\u001b[39m__traceback__)\n\u001b[0;32m---> 67\u001b[0m   \u001b[38;5;28;01mraise\u001b[39;00m e\u001b[38;5;241m.\u001b[39mwith_traceback(filtered_tb) \u001b[38;5;28;01mfrom\u001b[39;00m \u001b[38;5;28mNone\u001b[39m\n\u001b[1;32m     68\u001b[0m \u001b[38;5;28;01mfinally\u001b[39;00m:\n\u001b[1;32m     69\u001b[0m   \u001b[38;5;28;01mdel\u001b[39;00m filtered_tb\n",
      "File \u001b[0;32m/opt/conda/lib/python3.10/site-packages/tensorboard/plugins/scalar/summary_v2.py:88\u001b[0m, in \u001b[0;36mscalar\u001b[0;34m(name, data, step, description)\u001b[0m\n\u001b[1;32m     83\u001b[0m summary_scope \u001b[38;5;241m=\u001b[39m (\n\u001b[1;32m     84\u001b[0m     \u001b[38;5;28mgetattr\u001b[39m(tf\u001b[38;5;241m.\u001b[39msummary\u001b[38;5;241m.\u001b[39mexperimental, \u001b[38;5;124m\"\u001b[39m\u001b[38;5;124msummary_scope\u001b[39m\u001b[38;5;124m\"\u001b[39m, \u001b[38;5;28;01mNone\u001b[39;00m)\n\u001b[1;32m     85\u001b[0m     \u001b[38;5;129;01mor\u001b[39;00m tf\u001b[38;5;241m.\u001b[39msummary\u001b[38;5;241m.\u001b[39msummary_scope\n\u001b[1;32m     86\u001b[0m )\n\u001b[1;32m     87\u001b[0m \u001b[38;5;28;01mwith\u001b[39;00m summary_scope(name, \u001b[38;5;124m\"\u001b[39m\u001b[38;5;124mscalar_summary\u001b[39m\u001b[38;5;124m\"\u001b[39m, values\u001b[38;5;241m=\u001b[39m[data, step]) \u001b[38;5;28;01mas\u001b[39;00m (tag, _):\n\u001b[0;32m---> 88\u001b[0m     \u001b[43mtf\u001b[49m\u001b[38;5;241;43m.\u001b[39;49m\u001b[43mdebugging\u001b[49m\u001b[38;5;241;43m.\u001b[39;49m\u001b[43massert_scalar\u001b[49m\u001b[43m(\u001b[49m\u001b[43mdata\u001b[49m\u001b[43m)\u001b[49m\n\u001b[1;32m     89\u001b[0m     \u001b[38;5;28;01mreturn\u001b[39;00m tf\u001b[38;5;241m.\u001b[39msummary\u001b[38;5;241m.\u001b[39mwrite(\n\u001b[1;32m     90\u001b[0m         tag\u001b[38;5;241m=\u001b[39mtag,\n\u001b[1;32m     91\u001b[0m         tensor\u001b[38;5;241m=\u001b[39mtf\u001b[38;5;241m.\u001b[39mcast(data, tf\u001b[38;5;241m.\u001b[39mfloat32),\n\u001b[1;32m     92\u001b[0m         step\u001b[38;5;241m=\u001b[39mstep,\n\u001b[1;32m     93\u001b[0m         metadata\u001b[38;5;241m=\u001b[39msummary_metadata,\n\u001b[1;32m     94\u001b[0m     )\n",
      "\u001b[0;31mValueError\u001b[0m: Expected scalar shape, saw shape: (15,)."
     ]
    }
   ],
   "source": [
    "# TODO: Main\n",
    "import time\n",
    "from tqdm.notebook import tqdm\n",
    "\n",
    "NUM_FOLDS = 5\n",
    "for fold_num in tqdm(range(1, NUM_FOLDS + 1)):\n",
    "    \n",
    "    # Callbacks\n",
    "    (\n",
    "        model_checkpoint_callback, \n",
    "        early_stop_callback, \n",
    "        reduce_lr_callback, \n",
    "        lr_logging_callback, \n",
    "        tensorboard_callback\n",
    "    ) = get_callbacks(\n",
    "        NAME, weight_option, fold_num\n",
    "    )\n",
    "\n",
    "    # Path for CSV\n",
    "    path = os.path.join(CURRENT_PATH, \"results\", \"history\", EXPERIMENT_NAME, f\"{NAME}_{weight_option}_FOLD_{fold_num}\")\n",
    "    os.makedirs(path, exist_ok=True)\n",
    "\n",
    "    # CSV Logger\n",
    "    csv_logger = CSVLogger(os.path.join(path, f\"history.csv\"))\n",
    "\n",
    "    # Dataset\n",
    "    dataset = Dataset(fold_num)\n",
    "    train_dataset, test_dataset = dataset.get_train(), dataset.get_test()\n",
    "    check_label_on_dataset(train_dataset, test_dataset)\n",
    "\n",
    "    # Modeling\n",
    "    transfer_model = tf.keras.applications.efficientnet.EfficientNetB0(\n",
    "        include_top=False, \n",
    "        weights=weight_option,\n",
    "        input_shape=(224, 224, 3),\n",
    "        pooling=None\n",
    "    )\n",
    "\n",
    "    model = Model(\n",
    "        transfer_model,\n",
    "    )\n",
    "    model = model.get_model()\n",
    "    model._name = f\"{EXPERIMENT_NAME}_FOLD_{fold_num}\"\n",
    "    model.summary()\n",
    "\n",
    "    # Record time for training\n",
    "    start = time.time()\n",
    "    \n",
    "    # Visualize\n",
    "    history = model.fit(\n",
    "        train_dataset,\n",
    "        epochs=EPOCHS,\n",
    "        validation_data=test_dataset,\n",
    "        verbose=1, # Show Progress Bar while Traning\n",
    "        callbacks=[model_checkpoint_callback, csv_logger, early_stop_callback, reduce_lr_callback, lr_logging_callback, tensorboard_callback]\n",
    "    )\n",
    "    \n",
    "    end = time.time()\n",
    "    print(\n",
    "        \"===== \" * 5,\n",
    "        \"Model Traninig for: {:.2f} second(s)\".format(end - start),\n",
    "        \"===== \" * 5,\n",
    "        \"\\n\\n\"\n",
    "    )"
   ]
  },
  {
   "cell_type": "code",
   "execution_count": null,
   "id": "37ebf808-192e-4e87-bfef-cc6a686943a4",
   "metadata": {},
   "outputs": [],
   "source": [
    "print(\"Done\")"
   ]
  },
  {
   "cell_type": "code",
   "execution_count": null,
   "id": "a6d72844-9a81-4982-b56c-ac6ad3d9acde",
   "metadata": {},
   "outputs": [],
   "source": []
  }
 ],
 "metadata": {
  "kernelspec": {
   "display_name": "Python 3 (ipykernel)",
   "language": "python",
   "name": "python3"
  },
  "language_info": {
   "codemirror_mode": {
    "name": "ipython",
    "version": 3
   },
   "file_extension": ".py",
   "mimetype": "text/x-python",
   "name": "python",
   "nbconvert_exporter": "python",
   "pygments_lexer": "ipython3",
   "version": "3.10.5"
  }
 },
 "nbformat": 4,
 "nbformat_minor": 5
}
