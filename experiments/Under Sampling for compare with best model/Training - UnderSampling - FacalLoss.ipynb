{
 "cells": [
  {
   "cell_type": "code",
   "execution_count": 1,
   "id": "d66c840d-74ed-4dce-8715-96701c28615d",
   "metadata": {},
   "outputs": [],
   "source": [
    "import sys\n",
    "sys.path.append('/home/jovyan/ChestXray-14')"
   ]
  },
  {
   "cell_type": "code",
   "execution_count": 2,
   "id": "67f814fb-1441-4f0d-a350-2721d6466e42",
   "metadata": {},
   "outputs": [
    {
     "name": "stderr",
     "output_type": "stream",
     "text": [
      "2023-03-12 12:30:56.783716: I tensorflow/core/util/util.cc:169] oneDNN custom operations are on. You may see slightly different numerical results due to floating-point round-off errors from different computation orders. To turn them off, set the environment variable `TF_ENABLE_ONEDNN_OPTS=0`.\n"
     ]
    }
   ],
   "source": [
    "import tensorflow as tf\n",
    "from modules.models import Model\n",
    "from modules.utils import get_dataset\n",
    "from tensorflow.keras.callbacks import ModelCheckpoint, CSVLogger, EarlyStopping, ReduceLROnPlateau, LearningRateScheduler"
   ]
  },
  {
   "cell_type": "code",
   "execution_count": 3,
   "id": "87330b2b-aa47-44bf-8983-f444e98f6db9",
   "metadata": {},
   "outputs": [],
   "source": [
    "from modules.dataset import LABELS"
   ]
  },
  {
   "cell_type": "code",
   "execution_count": 4,
   "id": "711e4ac0-979b-41ff-a33a-78744a989705",
   "metadata": {},
   "outputs": [],
   "source": [
    "ROOT_PATH = \"/home/jovyan/ChestXray-14\"\n",
    "INPUT_PATH = f\"{ROOT_PATH}/dataset/ChestXray NIH\""
   ]
  },
  {
   "cell_type": "code",
   "execution_count": 5,
   "id": "9811ebd7-bcf0-4396-93b7-5d16bef984de",
   "metadata": {},
   "outputs": [],
   "source": [
    "class Dataset:\n",
    "    INPUT_PATH = INPUT_PATH\n",
    "    \n",
    "    def get_train(self):\n",
    "        filenames = tf.io.gfile.glob(f'{self.INPUT_PATH}/data/Under_Sampling_on_fold_3_dataset/train/*.tfrec')\n",
    "        dataset = get_dataset(filenames)\n",
    "        return dataset\n",
    "\n",
    "    def get_test(self):\n",
    "        filenames = tf.io.gfile.glob(f'{self.INPUT_PATH}/data/Under_Sampling_on_fold_3_dataset/test/*.tfrec')\n",
    "        dataset = get_dataset(filenames)\n",
    "        return dataset"
   ]
  },
  {
   "cell_type": "markdown",
   "id": "3cdc0ba5-7306-4e81-aaef-22dace23181a",
   "metadata": {},
   "source": [
    "## Model Training"
   ]
  },
  {
   "cell_type": "code",
   "execution_count": 6,
   "id": "439fd766-e37c-49f6-8caf-63bce64aec3a",
   "metadata": {},
   "outputs": [
    {
     "data": {
      "text/plain": [
       "'/home/jovyan/ChestXray-14/experiments/Under Sampling for compare with best model'"
      ]
     },
     "execution_count": 6,
     "metadata": {},
     "output_type": "execute_result"
    }
   ],
   "source": [
    "import os\n",
    "CURRENT_PATH = os.path.abspath(\"\")\n",
    "CURRENT_PATH"
   ]
  },
  {
   "cell_type": "code",
   "execution_count": 7,
   "id": "216058d6-20e5-443e-b13d-a94a4a4b0914",
   "metadata": {},
   "outputs": [],
   "source": [
    "# Learning rate\n",
    "def lr_schedule(epoch, learning_rate):\n",
    "    tf.summary.scalar('learning rate', data=learning_rate, step=epoch)\n",
    "    return learning_rate"
   ]
  },
  {
   "cell_type": "code",
   "execution_count": 8,
   "id": "6d999200-df17-42e2-9df8-260023ed90e5",
   "metadata": {},
   "outputs": [],
   "source": [
    "def get_callbacks(NAME, weight_option, fold_num=None):\n",
    "    model_checkpoint_callback = ModelCheckpoint(f'results/models/{EXP_NAME}/{NAME}_{weight_option}.h5', monitor='val_loss', mode='min', save_best_only=True)\n",
    "    early_stop_callback = EarlyStopping(monitor='val_loss', mode=\"min\", patience=20, verbose=1)\n",
    "    reduce_lr_callback = ReduceLROnPlateau(monitor='val_loss', mode=\"min\", factor=0.5, patience=3, verbose=1)\n",
    "    lr_logging_callback = LearningRateScheduler(lr_schedule)\n",
    "    \n",
    "    return model_checkpoint_callback, early_stop_callback, reduce_lr_callback, lr_logging_callback"
   ]
  },
  {
   "cell_type": "code",
   "execution_count": 9,
   "id": "53c9d439-b8ef-4a49-b442-1a544fec7d79",
   "metadata": {},
   "outputs": [],
   "source": [
    "# Constant variables\n",
    "NAME = \"EfficientNetB0\"\n",
    "EPOCHS = 100\n",
    "EXP_NAME = \"facal_loss\" # or \"facal_loss\""
   ]
  },
  {
   "cell_type": "code",
   "execution_count": 10,
   "id": "6c80c6d1-b500-4d62-8793-f3ed0cf28547",
   "metadata": {},
   "outputs": [],
   "source": [
    "weight_option = None # use `imagenet` or `None` only"
   ]
  },
  {
   "cell_type": "code",
   "execution_count": 11,
   "id": "4b8e8006-ad20-442d-bd3b-475550d842b5",
   "metadata": {},
   "outputs": [],
   "source": [
    "import pprint\n",
    "import numpy as np\n",
    "\n",
    "def check_label_on_dataset(train_dataset, test_dataset):\n",
    "    y_list = []\n",
    "    for x,y in train_dataset:\n",
    "        # print(y)\n",
    "        y_list.append(y)\n",
    "    train_labels = np.vstack(y_list)\n",
    "\n",
    "    y_list = []\n",
    "    for x,y in test_dataset:\n",
    "        # print(y)\n",
    "        y_list.append(y)\n",
    "    test_labels = np.vstack(y_list)\n",
    "\n",
    "    # Print\n",
    "    pprint.pprint(list(zip(LABELS,train_labels.sum(axis=0))))\n",
    "    print(\"Count:\", len(train_labels))\n",
    "    pprint.pprint(list(zip(LABELS, test_labels.sum(axis=0))))\n",
    "    print(\"Count: \", len(test_labels))\n",
    "\n",
    "    print(\"All:\", len(train_labels)+len(test_labels))"
   ]
  },
  {
   "cell_type": "code",
   "execution_count": 12,
   "id": "8c406994-0f7d-4b89-80c4-65d2ea842c61",
   "metadata": {},
   "outputs": [
    {
     "name": "stderr",
     "output_type": "stream",
     "text": [
      "2023-03-12 12:30:58.844616: I tensorflow/core/platform/cpu_feature_guard.cc:193] This TensorFlow binary is optimized with oneAPI Deep Neural Network Library (oneDNN) to use the following CPU instructions in performance-critical operations:  AVX2 AVX512F AVX512_VNNI FMA\n",
      "To enable them in other operations, rebuild TensorFlow with the appropriate compiler flags.\n",
      "2023-03-12 12:31:00.429847: I tensorflow/core/common_runtime/gpu/gpu_device.cc:1532] Created device /job:localhost/replica:0/task:0/device:GPU:0 with 31677 MB memory:  -> device: 0, name: NVIDIA A100-SXM4-40GB, pci bus id: 0000:b1:00.0, compute capability: 8.0\n"
     ]
    },
    {
     "name": "stdout",
     "output_type": "stream",
     "text": [
      "[('No Finding', 7543),\n",
      " ('Atelectasis', 9226),\n",
      " ('Consolidation', 3739),\n",
      " ('Infiltration', 15900),\n",
      " ('Pneumothorax', 4224),\n",
      " ('Edema', 1836),\n",
      " ('Emphysema', 2017),\n",
      " ('Fibrosis', 1336),\n",
      " ('Effusion', 10655),\n",
      " ('Pneumonia', 1154),\n",
      " ('Pleural_Thickening', 2711),\n",
      " ('Cardiomegaly', 2201),\n",
      " ('Nodule', 5082),\n",
      " ('Mass', 4641),\n",
      " ('Hernia', 175)]\n",
      "Count: 48995\n",
      "[('No Finding', 12117),\n",
      " ('Atelectasis', 2333),\n",
      " ('Consolidation', 928),\n",
      " ('Infiltration', 3994),\n",
      " ('Pneumothorax', 1078),\n",
      " ('Edema', 467),\n",
      " ('Emphysema', 499),\n",
      " ('Fibrosis', 350),\n",
      " ('Effusion', 2662),\n",
      " ('Pneumonia', 277),\n",
      " ('Pleural_Thickening', 674),\n",
      " ('Cardiomegaly', 575),\n",
      " ('Nodule', 1249),\n",
      " ('Mass', 1141),\n",
      " ('Hernia', 52)]\n",
      "Count:  22424\n",
      "All: 71419\n"
     ]
    }
   ],
   "source": [
    "# Dataset\n",
    "train_dataset, test_dataset = Dataset().get_train(), Dataset().get_test()\n",
    "\n",
    "check_label_on_dataset(train_dataset, test_dataset)"
   ]
  },
  {
   "cell_type": "code",
   "execution_count": 13,
   "id": "034c4668-751e-4aba-b2b6-5d71e0bb5980",
   "metadata": {},
   "outputs": [
    {
     "name": "stdout",
     "output_type": "stream",
     "text": [
      "Model: \"EfficientNetB0_None_Fold_3_Under_Sampling_Facal_Loss\"\n",
      "_________________________________________________________________\n",
      " Layer (type)                Output Shape              Param #   \n",
      "=================================================================\n",
      " efficientnetb0 (Functional)  (None, 7, 7, 1280)       4049571   \n",
      "                                                                 \n",
      " flatten (Flatten)           (None, 62720)             0         \n",
      "                                                                 \n",
      " dense (Dense)               (None, 128)               8028288   \n",
      "                                                                 \n",
      " dense_1 (Dense)             (None, 128)               16512     \n",
      "                                                                 \n",
      " dense_2 (Dense)             (None, 64)                8256      \n",
      "                                                                 \n",
      " dense_3 (Dense)             (None, 64)                4160      \n",
      "                                                                 \n",
      " dense_4 (Dense)             (None, 15)                975       \n",
      "                                                                 \n",
      "=================================================================\n",
      "Total params: 12,107,762\n",
      "Trainable params: 12,065,739\n",
      "Non-trainable params: 42,023\n",
      "_________________________________________________________________\n"
     ]
    }
   ],
   "source": [
    "# Callbacks\n",
    "model_checkpoint_callback, early_stop_callback, reduce_lr_callback, lr_logging_callback = get_callbacks(NAME, weight_option)\n",
    "\n",
    "# Path for CSV\n",
    "path = os.path.join(CURRENT_PATH, \"results\", \"history\", f\"training_with_{EXP_NAME}\", f\"{NAME}_{weight_option}\")\n",
    "os.makedirs(path, exist_ok=True)\n",
    "\n",
    "# CSV Logger\n",
    "csv_logger = CSVLogger(os.path.join(path, f\"history.csv\"))\n",
    "\n",
    "# Modeling\n",
    "transfer_model = tf.keras.applications.efficientnet.EfficientNetB0(\n",
    "    include_top=False, \n",
    "    weights=weight_option,\n",
    "    input_shape=(224, 224, 3),\n",
    "    pooling=None\n",
    ")\n",
    "\n",
    "model = Model(\n",
    "    transfer_model,\n",
    ")\n",
    "model.loss = tf.keras.losses.BinaryFocalCrossentropy(\n",
    "    from_logits=True,\n",
    ")\n",
    "model = model.get_model(flatten=True)\n",
    "model._name = \"EfficientNetB0_None_Fold_3_Under_Sampling_Facal_Loss\"\n",
    "model.summary()"
   ]
  },
  {
   "cell_type": "code",
   "execution_count": 14,
   "id": "a4577976-ce6e-4392-8033-43403e759903",
   "metadata": {},
   "outputs": [
    {
     "name": "stdout",
     "output_type": "stream",
     "text": [
      "Model Trainable: True\n",
      "efficientnetb0 Trainable: True\n",
      "flatten Trainable: True\n",
      "dense Trainable: True\n",
      "dense_1 Trainable: True\n",
      "dense_2 Trainable: True\n",
      "dense_3 Trainable: True\n",
      "dense_4 Trainable: True\n"
     ]
    }
   ],
   "source": [
    "print(f\"Model Trainable: {model.trainable}\")\n",
    "for layer in model.layers:\n",
    "    print(f\"{layer.name} Trainable: {layer.trainable}\")"
   ]
  },
  {
   "cell_type": "code",
   "execution_count": null,
   "id": "08f150f3-fe92-4574-8a96-2173b583e61c",
   "metadata": {},
   "outputs": [
    {
     "name": "stdout",
     "output_type": "stream",
     "text": [
      "Epoch 1/100\n"
     ]
    },
    {
     "name": "stderr",
     "output_type": "stream",
     "text": [
      "2023-03-12 12:31:32.169187: I tensorflow/stream_executor/cuda/cuda_dnn.cc:384] Loaded cuDNN version 8100\n",
      "2023-03-12 12:31:33.177746: I tensorflow/core/platform/default/subprocess.cc:304] Start cannot spawn child process: No such file or directory\n",
      "2023-03-12 12:31:33.178616: I tensorflow/core/platform/default/subprocess.cc:304] Start cannot spawn child process: No such file or directory\n",
      "2023-03-12 12:31:33.178652: W tensorflow/stream_executor/gpu/asm_compiler.cc:80] Couldn't get ptxas version string: INTERNAL: Couldn't invoke ptxas --version\n",
      "2023-03-12 12:31:33.179438: I tensorflow/core/platform/default/subprocess.cc:304] Start cannot spawn child process: No such file or directory\n",
      "2023-03-12 12:31:33.179520: W tensorflow/stream_executor/gpu/redzone_allocator.cc:314] INTERNAL: Failed to launch ptxas\n",
      "Relying on driver to perform ptx compilation. \n",
      "Modify $PATH to customize ptxas location.\n",
      "This message will be only logged once.\n",
      "2023-03-12 12:31:37.490549: I tensorflow/stream_executor/cuda/cuda_blas.cc:1786] TensorFloat-32 will be used for the matrix multiplication. This will only be logged once.\n"
     ]
    },
    {
     "name": "stdout",
     "output_type": "stream",
     "text": [
      "3063/3063 [==============================] - 689s 219ms/step - loss: 0.0690 - auc: 0.5537 - val_loss: 0.1203 - val_auc: 0.5935 - lr: 0.0010\n",
      "Epoch 2/100\n",
      "3063/3063 [==============================] - 663s 216ms/step - loss: 0.0665 - auc: 0.5999 - val_loss: 0.0612 - val_auc: 0.6361 - lr: 0.0010\n",
      "Epoch 3/100\n",
      "3063/3063 [==============================] - 640s 209ms/step - loss: 0.0663 - auc: 0.6086 - val_loss: 0.0647 - val_auc: 0.5863 - lr: 0.0010\n",
      "Epoch 4/100\n",
      "3063/3063 [==============================] - 646s 211ms/step - loss: 0.0659 - auc: 0.6170 - val_loss: 0.0580 - val_auc: 0.6577 - lr: 0.0010\n",
      "Epoch 5/100\n",
      "3063/3063 [==============================] - 633s 207ms/step - loss: 0.0652 - auc: 0.6313 - val_loss: 0.0581 - val_auc: 0.6504 - lr: 0.0010\n",
      "Epoch 6/100\n",
      "3063/3063 [==============================] - 632s 206ms/step - loss: 0.0652 - auc: 0.6333 - val_loss: 0.0561 - val_auc: 0.6814 - lr: 0.0010\n",
      "Epoch 7/100\n",
      "3063/3063 [==============================] - 630s 206ms/step - loss: 0.0648 - auc: 0.6490 - val_loss: 0.0573 - val_auc: 0.6905 - lr: 0.0010\n",
      "Epoch 8/100\n",
      "3063/3063 [==============================] - 633s 207ms/step - loss: 0.0643 - auc: 0.6588 - val_loss: 0.0558 - val_auc: 0.6953 - lr: 0.0010\n",
      "Epoch 9/100\n",
      "3063/3063 [==============================] - 632s 206ms/step - loss: 0.0638 - auc: 0.6686 - val_loss: 0.0574 - val_auc: 0.6917 - lr: 0.0010\n",
      "Epoch 10/100\n",
      "3063/3063 [==============================] - 631s 206ms/step - loss: 0.0634 - auc: 0.6760 - val_loss: 0.0550 - val_auc: 0.7084 - lr: 0.0010\n",
      "Epoch 11/100\n",
      "3063/3063 [==============================] - 632s 206ms/step - loss: 0.0632 - auc: 0.6842 - val_loss: 0.0562 - val_auc: 0.7081 - lr: 0.0010\n",
      "Epoch 12/100\n",
      "3063/3063 [==============================] - 633s 206ms/step - loss: 0.0629 - auc: 0.6913 - val_loss: 0.0546 - val_auc: 0.7179 - lr: 0.0010\n",
      "Epoch 13/100\n",
      "3063/3063 [==============================] - 631s 206ms/step - loss: 0.0625 - auc: 0.6990 - val_loss: 0.0558 - val_auc: 0.7136 - lr: 0.0010\n",
      "Epoch 14/100\n",
      "3063/3063 [==============================] - 629s 205ms/step - loss: 0.0623 - auc: 0.7033 - val_loss: 0.0544 - val_auc: 0.7234 - lr: 0.0010\n",
      "Epoch 15/100\n",
      "3063/3063 [==============================] - 629s 205ms/step - loss: 0.0619 - auc: 0.7096 - val_loss: 0.0551 - val_auc: 0.7217 - lr: 0.0010\n",
      "Epoch 16/100\n",
      "3063/3063 [==============================] - 631s 206ms/step - loss: 0.0618 - auc: 0.7131 - val_loss: 0.0548 - val_auc: 0.7293 - lr: 0.0010\n",
      "Epoch 17/100\n",
      "3063/3063 [==============================] - ETA: 0s - loss: 0.0620 - auc: 0.7101\n",
      "Epoch 17: ReduceLROnPlateau reducing learning rate to 0.0005000000237487257.\n",
      "3063/3063 [==============================] - 629s 205ms/step - loss: 0.0620 - auc: 0.7101 - val_loss: 0.0553 - val_auc: 0.7228 - lr: 5.0000e-04\n",
      "Epoch 18/100\n",
      "3063/3063 [==============================] - 631s 206ms/step - loss: 0.0609 - auc: 0.7293 - val_loss: 0.0541 - val_auc: 0.7363 - lr: 5.0000e-04\n",
      "Epoch 19/100\n",
      "3063/3063 [==============================] - 631s 206ms/step - loss: 0.0605 - auc: 0.7337 - val_loss: 0.0546 - val_auc: 0.7366 - lr: 5.0000e-04\n",
      "Epoch 20/100\n",
      "3063/3063 [==============================] - 629s 205ms/step - loss: 0.0601 - auc: 0.7411 - val_loss: 0.0539 - val_auc: 0.7403 - lr: 5.0000e-04\n",
      "Epoch 21/100\n",
      "3063/3063 [==============================] - 629s 205ms/step - loss: 0.0598 - auc: 0.7465 - val_loss: 0.0542 - val_auc: 0.7377 - lr: 5.0000e-04\n",
      "Epoch 22/100\n",
      "3063/3063 [==============================] - 631s 206ms/step - loss: 0.0595 - auc: 0.7496 - val_loss: 0.0542 - val_auc: 0.7359 - lr: 5.0000e-04\n",
      "Epoch 23/100\n",
      "3063/3063 [==============================] - ETA: 0s - loss: 0.0592 - auc: 0.7530\n",
      "Epoch 23: ReduceLROnPlateau reducing learning rate to 0.0002500000118743628.\n",
      "3063/3063 [==============================] - 632s 206ms/step - loss: 0.0592 - auc: 0.7530 - val_loss: 0.0546 - val_auc: 0.7349 - lr: 2.5000e-04\n",
      "Epoch 24/100\n",
      "3063/3063 [==============================] - 632s 206ms/step - loss: 0.0583 - auc: 0.7666 - val_loss: 0.0550 - val_auc: 0.7357 - lr: 2.5000e-04\n",
      "Epoch 25/100\n",
      "3063/3063 [==============================] - 631s 206ms/step - loss: 0.0579 - auc: 0.7711 - val_loss: 0.0552 - val_auc: 0.7343 - lr: 2.5000e-04\n",
      "Epoch 26/100\n",
      "3063/3063 [==============================] - ETA: 0s - loss: 0.0575 - auc: 0.7765\n",
      "Epoch 26: ReduceLROnPlateau reducing learning rate to 0.0001250000059371814.\n",
      "3063/3063 [==============================] - 619s 202ms/step - loss: 0.0575 - auc: 0.7765 - val_loss: 0.0552 - val_auc: 0.7305 - lr: 1.2500e-04\n",
      "Epoch 27/100\n",
      "3063/3063 [==============================] - 629s 205ms/step - loss: 0.0569 - auc: 0.7843 - val_loss: 0.0556 - val_auc: 0.7313 - lr: 1.2500e-04\n",
      "Epoch 28/100\n",
      "3063/3063 [==============================] - 629s 205ms/step - loss: 0.0566 - auc: 0.7875 - val_loss: 0.0555 - val_auc: 0.7310 - lr: 1.2500e-04\n",
      "Epoch 29/100\n",
      "3063/3063 [==============================] - ETA: 0s - loss: 0.0563 - auc: 0.7918\n",
      "Epoch 29: ReduceLROnPlateau reducing learning rate to 6.25000029685907e-05.\n",
      "3063/3063 [==============================] - 630s 206ms/step - loss: 0.0563 - auc: 0.7918 - val_loss: 0.0556 - val_auc: 0.7313 - lr: 6.2500e-05\n",
      "Epoch 30/100\n",
      "3063/3063 [==============================] - 631s 206ms/step - loss: 0.0559 - auc: 0.7955 - val_loss: 0.0558 - val_auc: 0.7295 - lr: 6.2500e-05\n",
      "Epoch 31/100\n",
      "3063/3063 [==============================] - 617s 201ms/step - loss: 0.0558 - auc: 0.7972 - val_loss: 0.0559 - val_auc: 0.7280 - lr: 6.2500e-05\n",
      "Epoch 32/100\n",
      "3063/3063 [==============================] - ETA: 0s - loss: 0.0556 - auc: 0.7991\n",
      "Epoch 32: ReduceLROnPlateau reducing learning rate to 3.125000148429535e-05.\n",
      "3063/3063 [==============================] - 631s 206ms/step - loss: 0.0556 - auc: 0.7991 - val_loss: 0.0562 - val_auc: 0.7267 - lr: 3.1250e-05\n",
      "Epoch 33/100\n",
      "2304/3063 [=====================>........] - ETA: 2:24 - loss: 0.0555 - auc: 0.7982"
     ]
    }
   ],
   "source": [
    "# Visualize\n",
    "history = model.fit(\n",
    "    train_dataset,\n",
    "    epochs=EPOCHS,\n",
    "    validation_data=test_dataset,\n",
    "    verbose=1, # Show Progress Bar while Traning\n",
    "    callbacks=[model_checkpoint_callback, csv_logger, early_stop_callback, reduce_lr_callback, lr_logging_callback]\n",
    ")"
   ]
  },
  {
   "cell_type": "code",
   "execution_count": null,
   "id": "37ebf808-192e-4e87-bfef-cc6a686943a4",
   "metadata": {},
   "outputs": [],
   "source": [
    "print(\"Done\")"
   ]
  },
  {
   "cell_type": "code",
   "execution_count": null,
   "id": "a6d72844-9a81-4982-b56c-ac6ad3d9acde",
   "metadata": {},
   "outputs": [],
   "source": []
  }
 ],
 "metadata": {
  "kernelspec": {
   "display_name": "Python 3 (ipykernel)",
   "language": "python",
   "name": "python3"
  },
  "language_info": {
   "codemirror_mode": {
    "name": "ipython",
    "version": 3
   },
   "file_extension": ".py",
   "mimetype": "text/x-python",
   "name": "python",
   "nbconvert_exporter": "python",
   "pygments_lexer": "ipython3",
   "version": "3.10.5"
  }
 },
 "nbformat": 4,
 "nbformat_minor": 5
}
