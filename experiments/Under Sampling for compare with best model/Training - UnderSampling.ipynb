{
 "cells": [
  {
   "cell_type": "code",
   "execution_count": 1,
   "id": "d66c840d-74ed-4dce-8715-96701c28615d",
   "metadata": {},
   "outputs": [],
   "source": [
    "import sys\n",
    "sys.path.append('/home/jovyan/ChestXray-14')"
   ]
  },
  {
   "cell_type": "code",
   "execution_count": 2,
   "id": "67f814fb-1441-4f0d-a350-2721d6466e42",
   "metadata": {},
   "outputs": [
    {
     "name": "stderr",
     "output_type": "stream",
     "text": [
      "2023-03-12 02:29:15.648859: I tensorflow/core/util/util.cc:169] oneDNN custom operations are on. You may see slightly different numerical results due to floating-point round-off errors from different computation orders. To turn them off, set the environment variable `TF_ENABLE_ONEDNN_OPTS=0`.\n"
     ]
    }
   ],
   "source": [
    "import tensorflow as tf\n",
    "from modules.models import Model\n",
    "from modules.utils import get_dataset\n",
    "from tensorflow.keras.callbacks import ModelCheckpoint, CSVLogger, EarlyStopping, ReduceLROnPlateau, LearningRateScheduler"
   ]
  },
  {
   "cell_type": "code",
   "execution_count": 3,
   "id": "87330b2b-aa47-44bf-8983-f444e98f6db9",
   "metadata": {},
   "outputs": [],
   "source": [
    "from modules.dataset import LABELS"
   ]
  },
  {
   "cell_type": "code",
   "execution_count": 4,
   "id": "711e4ac0-979b-41ff-a33a-78744a989705",
   "metadata": {},
   "outputs": [],
   "source": [
    "ROOT_PATH = \"/home/jovyan/ChestXray-14\"\n",
    "INPUT_PATH = f\"{ROOT_PATH}/dataset/ChestXray NIH\""
   ]
  },
  {
   "cell_type": "code",
   "execution_count": 5,
   "id": "9811ebd7-bcf0-4396-93b7-5d16bef984de",
   "metadata": {},
   "outputs": [],
   "source": [
    "class Dataset:\n",
    "    INPUT_PATH = INPUT_PATH\n",
    "    \n",
    "    def get_train(self):\n",
    "        filenames = tf.io.gfile.glob(f'{self.INPUT_PATH}/data/Under_Sampling_on_fold_3_dataset/train/*.tfrec')\n",
    "        dataset = get_dataset(filenames)\n",
    "        return dataset\n",
    "\n",
    "    def get_test(self):\n",
    "        filenames = tf.io.gfile.glob(f'{self.INPUT_PATH}/data/Under_Sampling_on_fold_3_dataset/test/*.tfrec')\n",
    "        dataset = get_dataset(filenames)\n",
    "        return dataset"
   ]
  },
  {
   "cell_type": "markdown",
   "id": "3cdc0ba5-7306-4e81-aaef-22dace23181a",
   "metadata": {},
   "source": [
    "## Model Training"
   ]
  },
  {
   "cell_type": "code",
   "execution_count": 6,
   "id": "439fd766-e37c-49f6-8caf-63bce64aec3a",
   "metadata": {},
   "outputs": [
    {
     "data": {
      "text/plain": [
       "'/home/jovyan/ChestXray-14/experiments/Under Sampling for compare with best model'"
      ]
     },
     "execution_count": 6,
     "metadata": {},
     "output_type": "execute_result"
    }
   ],
   "source": [
    "import os\n",
    "CURRENT_PATH = os.path.abspath(\"\")\n",
    "CURRENT_PATH"
   ]
  },
  {
   "cell_type": "code",
   "execution_count": 7,
   "id": "216058d6-20e5-443e-b13d-a94a4a4b0914",
   "metadata": {},
   "outputs": [],
   "source": [
    "# Learning rate\n",
    "def lr_schedule(epoch, learning_rate):\n",
    "    tf.summary.scalar('learning rate', data=learning_rate, step=epoch)\n",
    "    return learning_rate"
   ]
  },
  {
   "cell_type": "code",
   "execution_count": 8,
   "id": "6d999200-df17-42e2-9df8-260023ed90e5",
   "metadata": {},
   "outputs": [],
   "source": [
    "def get_callbacks(NAME, weight_option, fold_num=None):\n",
    "    model_checkpoint_callback = ModelCheckpoint(f'results/models/{EXP_NAME}/{NAME}_{weight_option}.h5', monitor='val_loss', mode='min', save_best_only=True)\n",
    "    early_stop_callback = EarlyStopping(monitor='val_loss', mode=\"min\", patience=20, verbose=1)\n",
    "    reduce_lr_callback = ReduceLROnPlateau(monitor='val_loss', mode=\"min\", factor=0.5, patience=3, verbose=1)\n",
    "    lr_logging_callback = LearningRateScheduler(lr_schedule)\n",
    "    \n",
    "    return model_checkpoint_callback, early_stop_callback, reduce_lr_callback, lr_logging_callback"
   ]
  },
  {
   "cell_type": "code",
   "execution_count": 9,
   "id": "53c9d439-b8ef-4a49-b442-1a544fec7d79",
   "metadata": {},
   "outputs": [],
   "source": [
    "# Constant variables\n",
    "NAME = \"EfficientNetB0\"\n",
    "EPOCHS = 100\n",
    "EXP_NAME = \"cross_entropy\" # or \"facal_loss\""
   ]
  },
  {
   "cell_type": "code",
   "execution_count": 10,
   "id": "6c80c6d1-b500-4d62-8793-f3ed0cf28547",
   "metadata": {},
   "outputs": [],
   "source": [
    "weight_option = None # use `imagenet` or `None` only"
   ]
  },
  {
   "cell_type": "code",
   "execution_count": 11,
   "id": "4b8e8006-ad20-442d-bd3b-475550d842b5",
   "metadata": {},
   "outputs": [],
   "source": [
    "import pprint\n",
    "import numpy as np\n",
    "\n",
    "def check_label_on_dataset(train_dataset, test_dataset):\n",
    "    y_list = []\n",
    "    for x,y in train_dataset:\n",
    "        # print(y)\n",
    "        y_list.append(y)\n",
    "    train_labels = np.vstack(y_list)\n",
    "\n",
    "    y_list = []\n",
    "    for x,y in test_dataset:\n",
    "        # print(y)\n",
    "        y_list.append(y)\n",
    "    test_labels = np.vstack(y_list)\n",
    "\n",
    "    # Print\n",
    "    pprint.pprint(list(zip(LABELS,train_labels.sum(axis=0))))\n",
    "    print(\"Count:\", len(train_labels))\n",
    "    pprint.pprint(list(zip(LABELS, test_labels.sum(axis=0))))\n",
    "    print(\"Count: \", len(test_labels))\n",
    "\n",
    "    print(\"All:\", len(train_labels)+len(test_labels))"
   ]
  },
  {
   "cell_type": "code",
   "execution_count": 12,
   "id": "8c406994-0f7d-4b89-80c4-65d2ea842c61",
   "metadata": {},
   "outputs": [
    {
     "name": "stderr",
     "output_type": "stream",
     "text": [
      "2023-03-12 02:29:18.208776: I tensorflow/core/platform/cpu_feature_guard.cc:193] This TensorFlow binary is optimized with oneAPI Deep Neural Network Library (oneDNN) to use the following CPU instructions in performance-critical operations:  AVX2 AVX512F AVX512_VNNI FMA\n",
      "To enable them in other operations, rebuild TensorFlow with the appropriate compiler flags.\n",
      "2023-03-12 02:29:19.972641: I tensorflow/core/common_runtime/gpu/gpu_device.cc:1532] Created device /job:localhost/replica:0/task:0/device:GPU:0 with 31693 MB memory:  -> device: 0, name: NVIDIA A100-SXM4-40GB, pci bus id: 0000:b1:00.0, compute capability: 8.0\n"
     ]
    },
    {
     "name": "stdout",
     "output_type": "stream",
     "text": [
      "[('No Finding', 7543),\n",
      " ('Atelectasis', 9226),\n",
      " ('Consolidation', 3739),\n",
      " ('Infiltration', 15900),\n",
      " ('Pneumothorax', 4224),\n",
      " ('Edema', 1836),\n",
      " ('Emphysema', 2017),\n",
      " ('Fibrosis', 1336),\n",
      " ('Effusion', 10655),\n",
      " ('Pneumonia', 1154),\n",
      " ('Pleural_Thickening', 2711),\n",
      " ('Cardiomegaly', 2201),\n",
      " ('Nodule', 5082),\n",
      " ('Mass', 4641),\n",
      " ('Hernia', 175)]\n",
      "Count: 48995\n",
      "[('No Finding', 12117),\n",
      " ('Atelectasis', 2333),\n",
      " ('Consolidation', 928),\n",
      " ('Infiltration', 3994),\n",
      " ('Pneumothorax', 1078),\n",
      " ('Edema', 467),\n",
      " ('Emphysema', 499),\n",
      " ('Fibrosis', 350),\n",
      " ('Effusion', 2662),\n",
      " ('Pneumonia', 277),\n",
      " ('Pleural_Thickening', 674),\n",
      " ('Cardiomegaly', 575),\n",
      " ('Nodule', 1249),\n",
      " ('Mass', 1141),\n",
      " ('Hernia', 52)]\n",
      "Count:  22424\n",
      "All: 71419\n"
     ]
    }
   ],
   "source": [
    "# Dataset\n",
    "train_dataset, test_dataset = Dataset().get_train(), Dataset().get_test()\n",
    "\n",
    "check_label_on_dataset(train_dataset, test_dataset)"
   ]
  },
  {
   "cell_type": "code",
   "execution_count": 13,
   "id": "034c4668-751e-4aba-b2b6-5d71e0bb5980",
   "metadata": {},
   "outputs": [
    {
     "name": "stdout",
     "output_type": "stream",
     "text": [
      "Model: \"EfficientNetB0_None_Fold_3_Under_Sampling\"\n",
      "_________________________________________________________________\n",
      " Layer (type)                Output Shape              Param #   \n",
      "=================================================================\n",
      " efficientnetb0 (Functional)  (None, 7, 7, 1280)       4049571   \n",
      "                                                                 \n",
      " flatten (Flatten)           (None, 62720)             0         \n",
      "                                                                 \n",
      " dense (Dense)               (None, 128)               8028288   \n",
      "                                                                 \n",
      " dense_1 (Dense)             (None, 128)               16512     \n",
      "                                                                 \n",
      " dense_2 (Dense)             (None, 64)                8256      \n",
      "                                                                 \n",
      " dense_3 (Dense)             (None, 64)                4160      \n",
      "                                                                 \n",
      " dense_4 (Dense)             (None, 15)                975       \n",
      "                                                                 \n",
      "=================================================================\n",
      "Total params: 12,107,762\n",
      "Trainable params: 12,065,739\n",
      "Non-trainable params: 42,023\n",
      "_________________________________________________________________\n"
     ]
    }
   ],
   "source": [
    "# Callbacks\n",
    "model_checkpoint_callback, early_stop_callback, reduce_lr_callback, lr_logging_callback = get_callbacks(NAME, weight_option)\n",
    "\n",
    "# Path for CSV\n",
    "path = os.path.join(CURRENT_PATH, \"results\", \"history\", f\"training_with_{EXP_NAME}\", f\"{NAME}_{weight_option}\")\n",
    "os.makedirs(path, exist_ok=True)\n",
    "\n",
    "# CSV Logger\n",
    "csv_logger = CSVLogger(os.path.join(path, f\"history.csv\"))\n",
    "\n",
    "# Modeling\n",
    "transfer_model = tf.keras.applications.efficientnet.EfficientNetB0(\n",
    "    include_top=False, \n",
    "    weights=weight_option,\n",
    "    input_shape=(224, 224, 3),\n",
    "    pooling=None\n",
    ")\n",
    "\n",
    "model = Model(\n",
    "    transfer_model,\n",
    ")\n",
    "model = model.get_model(flatten=True)\n",
    "model._name = \"EfficientNetB0_None_Fold_3_Under_Sampling\"\n",
    "model.summary()"
   ]
  },
  {
   "cell_type": "code",
   "execution_count": 14,
   "id": "a4577976-ce6e-4392-8033-43403e759903",
   "metadata": {},
   "outputs": [
    {
     "name": "stdout",
     "output_type": "stream",
     "text": [
      "Model Trainable: True\n",
      "efficientnetb0 Trainable: True\n",
      "flatten Trainable: True\n",
      "dense Trainable: True\n",
      "dense_1 Trainable: True\n",
      "dense_2 Trainable: True\n",
      "dense_3 Trainable: True\n",
      "dense_4 Trainable: True\n"
     ]
    }
   ],
   "source": [
    "print(f\"Model Trainable: {model.trainable}\")\n",
    "for layer in model.layers:\n",
    "    print(f\"{layer.name} Trainable: {layer.trainable}\")"
   ]
  },
  {
   "cell_type": "code",
   "execution_count": 15,
   "id": "08f150f3-fe92-4574-8a96-2173b583e61c",
   "metadata": {},
   "outputs": [
    {
     "name": "stdout",
     "output_type": "stream",
     "text": [
      "Epoch 1/100\n"
     ]
    },
    {
     "name": "stderr",
     "output_type": "stream",
     "text": [
      "2023-03-12 02:29:55.660492: I tensorflow/stream_executor/cuda/cuda_dnn.cc:384] Loaded cuDNN version 8100\n",
      "2023-03-12 02:29:56.532637: I tensorflow/core/platform/default/subprocess.cc:304] Start cannot spawn child process: No such file or directory\n",
      "2023-03-12 02:29:56.533396: I tensorflow/core/platform/default/subprocess.cc:304] Start cannot spawn child process: No such file or directory\n",
      "2023-03-12 02:29:56.533416: W tensorflow/stream_executor/gpu/asm_compiler.cc:80] Couldn't get ptxas version string: INTERNAL: Couldn't invoke ptxas --version\n",
      "2023-03-12 02:29:56.534162: I tensorflow/core/platform/default/subprocess.cc:304] Start cannot spawn child process: No such file or directory\n",
      "2023-03-12 02:29:56.534211: W tensorflow/stream_executor/gpu/redzone_allocator.cc:314] INTERNAL: Failed to launch ptxas\n",
      "Relying on driver to perform ptx compilation. \n",
      "Modify $PATH to customize ptxas location.\n",
      "This message will be only logged once.\n",
      "2023-03-12 02:30:00.395033: I tensorflow/stream_executor/cuda/cuda_blas.cc:1786] TensorFloat-32 will be used for the matrix multiplication. This will only be logged once.\n"
     ]
    },
    {
     "name": "stdout",
     "output_type": "stream",
     "text": [
      "3063/3063 [==============================] - 692s 220ms/step - loss: 0.2882 - auc: 0.5377 - val_loss: 0.2456 - val_auc: 0.6242 - lr: 0.0010\n",
      "Epoch 2/100\n",
      "3063/3063 [==============================] - 665s 217ms/step - loss: 0.2787 - auc: 0.5931 - val_loss: 0.2495 - val_auc: 0.6346 - lr: 0.0010\n",
      "Epoch 3/100\n",
      "3063/3063 [==============================] - 663s 216ms/step - loss: 0.2750 - auc: 0.6190 - val_loss: 0.2428 - val_auc: 0.6624 - lr: 0.0010\n",
      "Epoch 4/100\n",
      "3063/3063 [==============================] - 664s 217ms/step - loss: 0.2721 - auc: 0.6394 - val_loss: 0.2407 - val_auc: 0.6768 - lr: 0.0010\n",
      "Epoch 5/100\n",
      "3063/3063 [==============================] - 665s 217ms/step - loss: 0.2720 - auc: 0.6426 - val_loss: 0.2338 - val_auc: 0.6819 - lr: 0.0010\n",
      "Epoch 6/100\n",
      "3063/3063 [==============================] - 664s 217ms/step - loss: 0.2695 - auc: 0.6580 - val_loss: 0.2341 - val_auc: 0.6984 - lr: 0.0010\n",
      "Epoch 7/100\n",
      "3063/3063 [==============================] - 665s 217ms/step - loss: 0.2686 - auc: 0.6631 - val_loss: 0.2396 - val_auc: 0.6807 - lr: 0.0010\n",
      "Epoch 8/100\n",
      "3063/3063 [==============================] - ETA: 0s - loss: 0.2692 - auc: 0.6614\n",
      "Epoch 8: ReduceLROnPlateau reducing learning rate to 0.0005000000237487257.\n",
      "3063/3063 [==============================] - 665s 217ms/step - loss: 0.2692 - auc: 0.6614 - val_loss: 0.2363 - val_auc: 0.6997 - lr: 5.0000e-04\n",
      "Epoch 9/100\n",
      "3063/3063 [==============================] - 668s 218ms/step - loss: 0.2651 - auc: 0.6849 - val_loss: 0.2390 - val_auc: 0.6961 - lr: 5.0000e-04\n",
      "Epoch 10/100\n",
      "3063/3063 [==============================] - 665s 217ms/step - loss: 0.2639 - auc: 0.6896 - val_loss: 0.2338 - val_auc: 0.7110 - lr: 5.0000e-04\n",
      "Epoch 11/100\n",
      "3063/3063 [==============================] - ETA: 0s - loss: 0.2624 - auc: 0.6956\n",
      "Epoch 11: ReduceLROnPlateau reducing learning rate to 0.0002500000118743628.\n",
      "3063/3063 [==============================] - 664s 217ms/step - loss: 0.2624 - auc: 0.6956 - val_loss: 0.2342 - val_auc: 0.7174 - lr: 2.5000e-04\n",
      "Epoch 12/100\n",
      "3063/3063 [==============================] - 666s 217ms/step - loss: 0.2603 - auc: 0.7067 - val_loss: 0.2290 - val_auc: 0.7313 - lr: 2.5000e-04\n",
      "Epoch 13/100\n",
      "3063/3063 [==============================] - 661s 216ms/step - loss: 0.2589 - auc: 0.7124 - val_loss: 0.2297 - val_auc: 0.7272 - lr: 2.5000e-04\n",
      "Epoch 14/100\n",
      "3063/3063 [==============================] - 660s 215ms/step - loss: 0.2578 - auc: 0.7188 - val_loss: 0.2279 - val_auc: 0.7304 - lr: 2.5000e-04\n",
      "Epoch 15/100\n",
      "3063/3063 [==============================] - 660s 215ms/step - loss: 0.2575 - auc: 0.7171 - val_loss: 0.2321 - val_auc: 0.7101 - lr: 2.5000e-04\n",
      "Epoch 16/100\n",
      "3063/3063 [==============================] - 661s 216ms/step - loss: 0.2563 - auc: 0.7227 - val_loss: 0.2320 - val_auc: 0.7285 - lr: 2.5000e-04\n",
      "Epoch 17/100\n",
      "3063/3063 [==============================] - ETA: 0s - loss: 0.2555 - auc: 0.7272\n",
      "Epoch 17: ReduceLROnPlateau reducing learning rate to 0.0001250000059371814.\n",
      "3063/3063 [==============================] - 664s 217ms/step - loss: 0.2555 - auc: 0.7272 - val_loss: 0.2297 - val_auc: 0.7273 - lr: 1.2500e-04\n",
      "Epoch 18/100\n",
      "3063/3063 [==============================] - 662s 216ms/step - loss: 0.2533 - auc: 0.7351 - val_loss: 0.2283 - val_auc: 0.7316 - lr: 1.2500e-04\n",
      "Epoch 19/100\n",
      "3063/3063 [==============================] - 665s 217ms/step - loss: 0.2526 - auc: 0.7381 - val_loss: 0.2277 - val_auc: 0.7327 - lr: 1.2500e-04\n",
      "Epoch 20/100\n",
      "3063/3063 [==============================] - 663s 216ms/step - loss: 0.2518 - auc: 0.7409 - val_loss: 0.2277 - val_auc: 0.7355 - lr: 1.2500e-04\n",
      "Epoch 21/100\n",
      "3063/3063 [==============================] - 662s 216ms/step - loss: 0.2508 - auc: 0.7452 - val_loss: 0.2276 - val_auc: 0.7344 - lr: 1.2500e-04\n",
      "Epoch 22/100\n",
      "3063/3063 [==============================] - ETA: 0s - loss: 0.2499 - auc: 0.7476\n",
      "Epoch 22: ReduceLROnPlateau reducing learning rate to 6.25000029685907e-05.\n",
      "3063/3063 [==============================] - 661s 216ms/step - loss: 0.2499 - auc: 0.7476 - val_loss: 0.2277 - val_auc: 0.7335 - lr: 6.2500e-05\n",
      "Epoch 23/100\n",
      "3063/3063 [==============================] - 663s 216ms/step - loss: 0.2482 - auc: 0.7530 - val_loss: 0.2288 - val_auc: 0.7337 - lr: 6.2500e-05\n",
      "Epoch 24/100\n",
      "3063/3063 [==============================] - 663s 216ms/step - loss: 0.2475 - auc: 0.7552 - val_loss: 0.2296 - val_auc: 0.7330 - lr: 6.2500e-05\n",
      "Epoch 25/100\n",
      "3063/3063 [==============================] - ETA: 0s - loss: 0.2467 - auc: 0.7586\n",
      "Epoch 25: ReduceLROnPlateau reducing learning rate to 3.125000148429535e-05.\n",
      "3063/3063 [==============================] - 662s 216ms/step - loss: 0.2467 - auc: 0.7586 - val_loss: 0.2293 - val_auc: 0.7316 - lr: 3.1250e-05\n",
      "Epoch 26/100\n",
      "3063/3063 [==============================] - 662s 216ms/step - loss: 0.2456 - auc: 0.7608 - val_loss: 0.2294 - val_auc: 0.7322 - lr: 3.1250e-05\n",
      "Epoch 27/100\n",
      "3063/3063 [==============================] - 660s 215ms/step - loss: 0.2454 - auc: 0.7630 - val_loss: 0.2300 - val_auc: 0.7326 - lr: 3.1250e-05\n",
      "Epoch 28/100\n",
      "3063/3063 [==============================] - ETA: 0s - loss: 0.2450 - auc: 0.7640\n",
      "Epoch 28: ReduceLROnPlateau reducing learning rate to 1.5625000742147677e-05.\n",
      "3063/3063 [==============================] - 661s 216ms/step - loss: 0.2450 - auc: 0.7640 - val_loss: 0.2302 - val_auc: 0.7322 - lr: 1.5625e-05\n",
      "Epoch 29/100\n",
      "3063/3063 [==============================] - 664s 217ms/step - loss: 0.2444 - auc: 0.7665 - val_loss: 0.2286 - val_auc: 0.7335 - lr: 1.5625e-05\n",
      "Epoch 30/100\n",
      "3063/3063 [==============================] - 660s 216ms/step - loss: 0.2441 - auc: 0.7671 - val_loss: 0.2286 - val_auc: 0.7335 - lr: 1.5625e-05\n",
      "Epoch 31/100\n",
      "3063/3063 [==============================] - ETA: 0s - loss: 0.2438 - auc: 0.7680\n",
      "Epoch 31: ReduceLROnPlateau reducing learning rate to 7.812500371073838e-06.\n",
      "3063/3063 [==============================] - 661s 216ms/step - loss: 0.2438 - auc: 0.7680 - val_loss: 0.2290 - val_auc: 0.7331 - lr: 7.8125e-06\n",
      "Epoch 32/100\n",
      "3063/3063 [==============================] - 664s 217ms/step - loss: 0.2436 - auc: 0.7676 - val_loss: 0.2281 - val_auc: 0.7335 - lr: 7.8125e-06\n",
      "Epoch 33/100\n",
      "3063/3063 [==============================] - 662s 216ms/step - loss: 0.2434 - auc: 0.7690 - val_loss: 0.2280 - val_auc: 0.7337 - lr: 7.8125e-06\n",
      "Epoch 34/100\n",
      "3063/3063 [==============================] - ETA: 0s - loss: 0.2433 - auc: 0.7696\n",
      "Epoch 34: ReduceLROnPlateau reducing learning rate to 3.906250185536919e-06.\n",
      "3063/3063 [==============================] - 663s 216ms/step - loss: 0.2433 - auc: 0.7696 - val_loss: 0.2286 - val_auc: 0.7331 - lr: 3.9063e-06\n",
      "Epoch 35/100\n",
      "3063/3063 [==============================] - 661s 216ms/step - loss: 0.2433 - auc: 0.7692 - val_loss: 0.2278 - val_auc: 0.7339 - lr: 3.9063e-06\n",
      "Epoch 36/100\n",
      "3063/3063 [==============================] - 661s 216ms/step - loss: 0.2430 - auc: 0.7705 - val_loss: 0.2276 - val_auc: 0.7339 - lr: 3.9063e-06\n",
      "Epoch 37/100\n",
      "3063/3063 [==============================] - ETA: 0s - loss: 0.2431 - auc: 0.7695\n",
      "Epoch 37: ReduceLROnPlateau reducing learning rate to 1.9531250927684596e-06.\n",
      "3063/3063 [==============================] - 662s 216ms/step - loss: 0.2431 - auc: 0.7695 - val_loss: 0.2280 - val_auc: 0.7338 - lr: 1.9531e-06\n",
      "Epoch 38/100\n",
      "3063/3063 [==============================] - 646s 211ms/step - loss: 0.2430 - auc: 0.7693 - val_loss: 0.2278 - val_auc: 0.7340 - lr: 1.9531e-06\n",
      "Epoch 39/100\n",
      "3063/3063 [==============================] - 641s 209ms/step - loss: 0.2429 - auc: 0.7714 - val_loss: 0.2278 - val_auc: 0.7339 - lr: 1.9531e-06\n",
      "Epoch 40/100\n",
      "3063/3063 [==============================] - ETA: 0s - loss: 0.2430 - auc: 0.7697\n",
      "Epoch 40: ReduceLROnPlateau reducing learning rate to 9.765625463842298e-07.\n",
      "3063/3063 [==============================] - 656s 214ms/step - loss: 0.2430 - auc: 0.7697 - val_loss: 0.2279 - val_auc: 0.7339 - lr: 9.7656e-07\n",
      "Epoch 41/100\n",
      "3063/3063 [==============================] - 661s 216ms/step - loss: 0.2428 - auc: 0.7714 - val_loss: 0.2278 - val_auc: 0.7339 - lr: 9.7656e-07\n",
      "Epoch 41: early stopping\n"
     ]
    }
   ],
   "source": [
    "# Visualize\n",
    "history = model.fit(\n",
    "    train_dataset,\n",
    "    epochs=EPOCHS,\n",
    "    validation_data=test_dataset,\n",
    "    verbose=1, # Show Progress Bar while Traning\n",
    "    callbacks=[model_checkpoint_callback, csv_logger, early_stop_callback, reduce_lr_callback, lr_logging_callback]\n",
    ")"
   ]
  },
  {
   "cell_type": "code",
   "execution_count": 16,
   "id": "37ebf808-192e-4e87-bfef-cc6a686943a4",
   "metadata": {},
   "outputs": [
    {
     "name": "stdout",
     "output_type": "stream",
     "text": [
      "Done\n"
     ]
    }
   ],
   "source": [
    "print(\"Done\")"
   ]
  },
  {
   "cell_type": "code",
   "execution_count": null,
   "id": "a6d72844-9a81-4982-b56c-ac6ad3d9acde",
   "metadata": {},
   "outputs": [],
   "source": []
  }
 ],
 "metadata": {
  "kernelspec": {
   "display_name": "Python 3 (ipykernel)",
   "language": "python",
   "name": "python3"
  },
  "language_info": {
   "codemirror_mode": {
    "name": "ipython",
    "version": 3
   },
   "file_extension": ".py",
   "mimetype": "text/x-python",
   "name": "python",
   "nbconvert_exporter": "python",
   "pygments_lexer": "ipython3",
   "version": "3.10.5"
  }
 },
 "nbformat": 4,
 "nbformat_minor": 5
}
