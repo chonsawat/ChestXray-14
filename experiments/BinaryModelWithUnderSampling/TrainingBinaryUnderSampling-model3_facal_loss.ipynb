{
 "cells": [
  {
   "cell_type": "code",
   "execution_count": 1,
   "id": "d66c840d-74ed-4dce-8715-96701c28615d",
   "metadata": {},
   "outputs": [],
   "source": [
    "import sys\n",
    "sys.path.append('/home/jovyan/ChestXray-14')"
   ]
  },
  {
   "cell_type": "code",
   "execution_count": 2,
   "id": "67f814fb-1441-4f0d-a350-2721d6466e42",
   "metadata": {},
   "outputs": [
    {
     "name": "stderr",
     "output_type": "stream",
     "text": [
      "2023-03-01 07:46:03.534529: I tensorflow/core/util/util.cc:169] oneDNN custom operations are on. You may see slightly different numerical results due to floating-point round-off errors from different computation orders. To turn them off, set the environment variable `TF_ENABLE_ONEDNN_OPTS=0`.\n"
     ]
    }
   ],
   "source": [
    "import tensorflow as tf\n",
    "from modules.models import Model_3\n",
    "from modules.utils import get_dataset\n",
    "from tensorflow.keras.callbacks import ModelCheckpoint, CSVLogger, EarlyStopping, ReduceLROnPlateau, LearningRateScheduler"
   ]
  },
  {
   "cell_type": "code",
   "execution_count": 3,
   "id": "711e4ac0-979b-41ff-a33a-78744a989705",
   "metadata": {},
   "outputs": [],
   "source": [
    "ROOT_PATH = \"/home/jovyan/ChestXray-14\"\n",
    "INPUT_PATH = f\"{ROOT_PATH}/dataset/ChestXray NIH\"\n",
    "LABELS = ['No Finding']"
   ]
  },
  {
   "cell_type": "code",
   "execution_count": 4,
   "id": "3ed61a47-a70c-4e79-bd40-1a4d56586d7c",
   "metadata": {},
   "outputs": [],
   "source": [
    "EXPERIMENT_NAME = \"facal_loss_model_3\""
   ]
  },
  {
   "cell_type": "code",
   "execution_count": 5,
   "id": "9811ebd7-bcf0-4396-93b7-5d16bef984de",
   "metadata": {},
   "outputs": [],
   "source": [
    "class Dataset:\n",
    "    INPUT_PATH = INPUT_PATH\n",
    "    \n",
    "    def get_train(self):\n",
    "        filenames = tf.io.gfile.glob(f'{self.INPUT_PATH}/data/binary_under_sampling/train/*.tfrec')\n",
    "        dataset = get_dataset(filenames)\n",
    "        return dataset\n",
    "\n",
    "    def get_test(self):\n",
    "        filenames = tf.io.gfile.glob(f'{self.INPUT_PATH}/data/binary_under_sampling/test/*.tfrec')\n",
    "        dataset = get_dataset(filenames)\n",
    "        return dataset"
   ]
  },
  {
   "cell_type": "markdown",
   "id": "3cdc0ba5-7306-4e81-aaef-22dace23181a",
   "metadata": {},
   "source": [
    "## Model Training"
   ]
  },
  {
   "cell_type": "code",
   "execution_count": 6,
   "id": "439fd766-e37c-49f6-8caf-63bce64aec3a",
   "metadata": {},
   "outputs": [
    {
     "data": {
      "text/plain": [
       "'/home/jovyan/ChestXray-14/experiments/BinaryModelWithUnderSampling'"
      ]
     },
     "execution_count": 6,
     "metadata": {},
     "output_type": "execute_result"
    }
   ],
   "source": [
    "import os\n",
    "CURRENT_PATH = os.path.abspath(\"\")\n",
    "CURRENT_PATH"
   ]
  },
  {
   "cell_type": "code",
   "execution_count": 7,
   "id": "216058d6-20e5-443e-b13d-a94a4a4b0914",
   "metadata": {},
   "outputs": [],
   "source": [
    "# Learning rate\n",
    "def lr_schedule(epoch, learning_rate):\n",
    "    tf.summary.scalar('learning rate', data=learning_rate, step=epoch)\n",
    "    return learning_rate"
   ]
  },
  {
   "cell_type": "code",
   "execution_count": 8,
   "id": "6d999200-df17-42e2-9df8-260023ed90e5",
   "metadata": {},
   "outputs": [],
   "source": [
    "def get_callbacks(NAME, weight_option, fold_num=None):\n",
    "    model_checkpoint_callback = ModelCheckpoint(f'results/models/{EXPERIMENT_NAME}/{NAME}_{weight_option}.h5', monitor='val_loss', mode='min', save_best_only=True)\n",
    "    early_stop_callback = EarlyStopping(monitor='val_loss', mode=\"min\", patience=20, verbose=1)\n",
    "    reduce_lr_callback = ReduceLROnPlateau(monitor='val_loss', mode=\"min\", factor=0.5, patience=3, verbose=1)\n",
    "    lr_logging_callback = LearningRateScheduler(lr_schedule)\n",
    "    \n",
    "    return model_checkpoint_callback, early_stop_callback, reduce_lr_callback, lr_logging_callback"
   ]
  },
  {
   "cell_type": "code",
   "execution_count": 9,
   "id": "53c9d439-b8ef-4a49-b442-1a544fec7d79",
   "metadata": {},
   "outputs": [],
   "source": [
    "# Constant variables\n",
    "NAME = \"EfficientNetB0\"\n",
    "EPOCHS = 100"
   ]
  },
  {
   "cell_type": "code",
   "execution_count": 10,
   "id": "6c80c6d1-b500-4d62-8793-f3ed0cf28547",
   "metadata": {},
   "outputs": [],
   "source": [
    "weight_option = None # use `imagenet` or `None` only"
   ]
  },
  {
   "cell_type": "code",
   "execution_count": 13,
   "id": "034c4668-751e-4aba-b2b6-5d71e0bb5980",
   "metadata": {},
   "outputs": [
    {
     "name": "stdout",
     "output_type": "stream",
     "text": [
      "Model: \"FacalLossModel\"\n",
      "_________________________________________________________________\n",
      " Layer (type)                Output Shape              Param #   \n",
      "=================================================================\n",
      " efficientnetb0 (Functional)  (None, 7, 7, 1280)       4049571   \n",
      "                                                                 \n",
      " flatten_1 (Flatten)         (None, 62720)             0         \n",
      "                                                                 \n",
      " dense_10 (Dense)            (None, 512)               32113152  \n",
      "                                                                 \n",
      " dense_11 (Dense)            (None, 512)               262656    \n",
      "                                                                 \n",
      " dense_12 (Dense)            (None, 512)               262656    \n",
      "                                                                 \n",
      " dropout_3 (Dropout)         (None, 512)               0         \n",
      "                                                                 \n",
      " dense_13 (Dense)            (None, 128)               65664     \n",
      "                                                                 \n",
      " dense_14 (Dense)            (None, 128)               16512     \n",
      "                                                                 \n",
      " dense_15 (Dense)            (None, 128)               16512     \n",
      "                                                                 \n",
      " dropout_4 (Dropout)         (None, 128)               0         \n",
      "                                                                 \n",
      " dense_16 (Dense)            (None, 64)                8256      \n",
      "                                                                 \n",
      " dense_17 (Dense)            (None, 64)                4160      \n",
      "                                                                 \n",
      " dense_18 (Dense)            (None, 64)                4160      \n",
      "                                                                 \n",
      " dropout_5 (Dropout)         (None, 64)                0         \n",
      "                                                                 \n",
      " dense_19 (Dense)            (None, 1)                 65        \n",
      "                                                                 \n",
      "=================================================================\n",
      "Total params: 36,803,364\n",
      "Trainable params: 36,761,341\n",
      "Non-trainable params: 42,023\n",
      "_________________________________________________________________\n"
     ]
    }
   ],
   "source": [
    "# Callbacks\n",
    "model_checkpoint_callback, early_stop_callback, reduce_lr_callback, lr_logging_callback = get_callbacks(NAME, weight_option)\n",
    "\n",
    "# Path for CSV\n",
    "path = os.path.join(CURRENT_PATH, \"results\", \"history\", f\"training_with_{EXPERIMENT_NAME}\", f\"{NAME}_{weight_option}\")\n",
    "os.makedirs(path, exist_ok=True)\n",
    "\n",
    "# CSV Logger\n",
    "csv_logger = CSVLogger(os.path.join(path, f\"history.csv\"))\n",
    "\n",
    "# Dataset\n",
    "train_dataset, test_dataset = Dataset().get_train(), Dataset().get_test()\n",
    "\n",
    "# Modeling\n",
    "transfer_model = tf.keras.applications.efficientnet.EfficientNetB0(\n",
    "    include_top=False, \n",
    "    weights=weight_option,\n",
    "    input_shape=(224, 224, 3),\n",
    "    pooling=None\n",
    ")\n",
    "\n",
    "model = Model_3(\n",
    "    transfer_model,\n",
    ")\n",
    "model.loss = model.loss = tf.keras.losses.BinaryFocalCrossentropy(\n",
    "    from_logits=True,\n",
    ")\n",
    "model.optimizer = tf.keras.optimizers.Adam(learning_rate=0.001)\n",
    "model = model.get_model()\n",
    "model._name = \"FacalLossModel\"\n",
    "model.summary()"
   ]
  },
  {
   "cell_type": "code",
   "execution_count": null,
   "id": "08f150f3-fe92-4574-8a96-2173b583e61c",
   "metadata": {},
   "outputs": [
    {
     "name": "stdout",
     "output_type": "stream",
     "text": [
      "Epoch 1/100\n"
     ]
    },
    {
     "name": "stderr",
     "output_type": "stream",
     "text": [
      "2023-03-01 10:48:25.862056: I tensorflow/stream_executor/cuda/cuda_dnn.cc:384] Loaded cuDNN version 8100\n",
      "2023-03-01 10:48:27.041907: I tensorflow/core/platform/default/subprocess.cc:304] Start cannot spawn child process: No such file or directory\n",
      "2023-03-01 10:48:27.043017: I tensorflow/core/platform/default/subprocess.cc:304] Start cannot spawn child process: No such file or directory\n",
      "2023-03-01 10:48:27.043072: W tensorflow/stream_executor/gpu/asm_compiler.cc:80] Couldn't get ptxas version string: INTERNAL: Couldn't invoke ptxas --version\n",
      "2023-03-01 10:48:27.044025: I tensorflow/core/platform/default/subprocess.cc:304] Start cannot spawn child process: No such file or directory\n",
      "2023-03-01 10:48:27.044144: W tensorflow/stream_executor/gpu/redzone_allocator.cc:314] INTERNAL: Failed to launch ptxas\n",
      "Relying on driver to perform ptx compilation. \n",
      "Modify $PATH to customize ptxas location.\n",
      "This message will be only logged once.\n",
      "2023-03-01 10:48:31.568677: I tensorflow/stream_executor/cuda/cuda_blas.cc:1786] TensorFloat-32 will be used for the matrix multiplication. This will only be logged once.\n"
     ]
    },
    {
     "name": "stdout",
     "output_type": "stream",
     "text": [
      "3060/3060 [==============================] - 668s 212ms/step - loss: 0.1063 - auc_1: 0.5190 - val_loss: 0.1014 - val_auc_1: 0.6009 - lr: 0.0010\n",
      "Epoch 2/100\n",
      "3060/3060 [==============================] - 637s 208ms/step - loss: 0.1031 - auc_1: 0.5063 - val_loss: 0.1025 - val_auc_1: 0.4829 - lr: 0.0010\n",
      "Epoch 3/100\n",
      "3060/3060 [==============================] - 633s 207ms/step - loss: 0.1029 - auc_1: 0.5042 - val_loss: 0.1021 - val_auc_1: 0.5380 - lr: 0.0010\n",
      "Epoch 4/100\n",
      "3060/3060 [==============================] - ETA: 0s - loss: 0.1025 - auc_1: 0.5058\n",
      "Epoch 4: ReduceLROnPlateau reducing learning rate to 0.0005000000237487257.\n",
      "3060/3060 [==============================] - 615s 201ms/step - loss: 0.1025 - auc_1: 0.5058 - val_loss: 0.1024 - val_auc_1: 0.5000 - lr: 5.0000e-04\n",
      "Epoch 5/100\n",
      "3060/3060 [==============================] - 611s 200ms/step - loss: 0.1022 - auc_1: 0.5099 - val_loss: 0.1023 - val_auc_1: 0.5591 - lr: 5.0000e-04\n",
      "Epoch 6/100\n",
      "3060/3060 [==============================] - 614s 201ms/step - loss: 0.1022 - auc_1: 0.5106 - val_loss: 0.1024 - val_auc_1: 0.4991 - lr: 5.0000e-04\n",
      "Epoch 7/100\n",
      "3060/3060 [==============================] - ETA: 0s - loss: 0.1023 - auc_1: 0.5026\n",
      "Epoch 7: ReduceLROnPlateau reducing learning rate to 0.0002500000118743628.\n",
      "3060/3060 [==============================] - 613s 200ms/step - loss: 0.1023 - auc_1: 0.5026 - val_loss: 0.1024 - val_auc_1: 0.5021 - lr: 2.5000e-04\n",
      "Epoch 8/100\n",
      "3060/3060 [==============================] - 611s 200ms/step - loss: 0.1021 - auc_1: 0.5196 - val_loss: 0.1016 - val_auc_1: 0.5825 - lr: 2.5000e-04\n",
      "Epoch 9/100\n",
      "3060/3060 [==============================] - 610s 199ms/step - loss: 0.1018 - auc_1: 0.5424 - val_loss: 0.1009 - val_auc_1: 0.6070 - lr: 2.5000e-04\n",
      "Epoch 10/100\n",
      "3060/3060 [==============================] - 620s 203ms/step - loss: 0.1002 - auc_1: 0.5982 - val_loss: 0.0983 - val_auc_1: 0.6515 - lr: 2.5000e-04\n",
      "Epoch 11/100\n",
      "3060/3060 [==============================] - 637s 208ms/step - loss: 0.0989 - auc_1: 0.6309 - val_loss: 0.0967 - val_auc_1: 0.6742 - lr: 2.5000e-04\n",
      "Epoch 12/100\n",
      "3060/3060 [==============================] - 626s 205ms/step - loss: 0.0979 - auc_1: 0.6477 - val_loss: 0.0964 - val_auc_1: 0.6812 - lr: 2.5000e-04\n",
      "Epoch 13/100\n",
      "3060/3060 [==============================] - 638s 208ms/step - loss: 0.0966 - auc_1: 0.6687 - val_loss: 0.0949 - val_auc_1: 0.6964 - lr: 2.5000e-04\n",
      "Epoch 14/100\n",
      "3060/3060 [==============================] - 635s 208ms/step - loss: 0.0956 - auc_1: 0.6832 - val_loss: 0.0952 - val_auc_1: 0.6997 - lr: 2.5000e-04\n",
      "Epoch 15/100\n",
      "3060/3060 [==============================] - 638s 208ms/step - loss: 0.0948 - auc_1: 0.6924 - val_loss: 0.0942 - val_auc_1: 0.7082 - lr: 2.5000e-04\n",
      "Epoch 16/100\n",
      "3060/3060 [==============================] - 635s 207ms/step - loss: 0.0943 - auc_1: 0.6992 - val_loss: 0.0942 - val_auc_1: 0.7082 - lr: 2.5000e-04\n",
      "Epoch 17/100\n",
      "  65/3060 [..............................] - ETA: 9:54 - loss: 0.0904 - auc_1: 0.6973"
     ]
    }
   ],
   "source": [
    "# Visualize\n",
    "history = model.fit(\n",
    "    train_dataset,\n",
    "    epochs=EPOCHS,\n",
    "    validation_data=test_dataset,\n",
    "    verbose=1, # Show Progress Bar while Traning\n",
    "    callbacks=[model_checkpoint_callback, csv_logger, early_stop_callback, reduce_lr_callback, lr_logging_callback]\n",
    ")"
   ]
  },
  {
   "cell_type": "code",
   "execution_count": null,
   "id": "37ebf808-192e-4e87-bfef-cc6a686943a4",
   "metadata": {},
   "outputs": [],
   "source": []
  }
 ],
 "metadata": {
  "kernelspec": {
   "display_name": "Python 3 (ipykernel)",
   "language": "python",
   "name": "python3"
  },
  "language_info": {
   "codemirror_mode": {
    "name": "ipython",
    "version": 3
   },
   "file_extension": ".py",
   "mimetype": "text/x-python",
   "name": "python",
   "nbconvert_exporter": "python",
   "pygments_lexer": "ipython3",
   "version": "3.10.5"
  }
 },
 "nbformat": 4,
 "nbformat_minor": 5
}
