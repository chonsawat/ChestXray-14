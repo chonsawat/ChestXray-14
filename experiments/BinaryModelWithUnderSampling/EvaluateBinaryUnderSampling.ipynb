{
 "cells": [
  {
   "cell_type": "code",
   "execution_count": 1,
   "id": "928302db-884a-441d-bf11-f999b5a8fcce",
   "metadata": {},
   "outputs": [
    {
     "name": "stdout",
     "output_type": "stream",
     "text": [
      "Looking in indexes: https://pypi.org/simple, https://pypi.ngc.nvidia.com\n",
      "Requirement already satisfied: tensorflow_addons in /opt/conda/lib/python3.10/site-packages (0.19.0)\n",
      "Requirement already satisfied: packaging in /opt/conda/lib/python3.10/site-packages (from tensorflow_addons) (21.3)\n",
      "Requirement already satisfied: typeguard>=2.7 in /opt/conda/lib/python3.10/site-packages (from tensorflow_addons) (2.13.3)\n",
      "Requirement already satisfied: pyparsing!=3.0.5,>=2.0.2 in /opt/conda/lib/python3.10/site-packages (from packaging->tensorflow_addons) (3.0.9)\n"
     ]
    }
   ],
   "source": [
    "!pip3 install tensorflow_addons"
   ]
  },
  {
   "cell_type": "code",
   "execution_count": 2,
   "id": "49bfdc98-319c-497f-a9ee-34b3cfcf752d",
   "metadata": {},
   "outputs": [],
   "source": [
    "import sys\n",
    "sys.path.append('/home/jovyan/ChestXray-14')"
   ]
  },
  {
   "cell_type": "code",
   "execution_count": 3,
   "id": "7739146d-c2dd-441c-948b-8a9d4ea282f3",
   "metadata": {},
   "outputs": [
    {
     "name": "stderr",
     "output_type": "stream",
     "text": [
      "2023-02-22 08:20:49.616432: I tensorflow/core/util/util.cc:169] oneDNN custom operations are on. You may see slightly different numerical results due to floating-point round-off errors from different computation orders. To turn them off, set the environment variable `TF_ENABLE_ONEDNN_OPTS=0`.\n"
     ]
    }
   ],
   "source": [
    "import pandas as pd\n",
    "import tensorflow as tf\n",
    "from modules.utils import get_dataset\n",
    "from modules.evaluate import Evaluate"
   ]
  },
  {
   "cell_type": "code",
   "execution_count": 4,
   "id": "76728576-9809-4f19-bf73-e7268ae50a19",
   "metadata": {},
   "outputs": [
    {
     "data": {
      "text/plain": [
       "'/home/jovyan/ChestXray-14/Sampling'"
      ]
     },
     "execution_count": 4,
     "metadata": {},
     "output_type": "execute_result"
    }
   ],
   "source": [
    "import os\n",
    "CURRENT_PATH = os.path.abspath(\"\")\n",
    "CURRENT_PATH"
   ]
  },
  {
   "cell_type": "code",
   "execution_count": 5,
   "id": "0a5cf089-e03c-484c-8938-c7a7c325fb30",
   "metadata": {},
   "outputs": [
    {
     "data": {
      "text/plain": [
       "'/home/jovyan/ChestXray-14/Sampling/results/evaluate/cross_entropy/EfficientNetB0_None'"
      ]
     },
     "execution_count": 5,
     "metadata": {},
     "output_type": "execute_result"
    }
   ],
   "source": [
    "RESULT_EVALUATE_PATH = os.path.join(CURRENT_PATH, \"results\", \"evaluate\", \"cross_entropy\", \"EfficientNetB0_None\")\n",
    "RESULT_EVALUATE_PATH"
   ]
  },
  {
   "cell_type": "code",
   "execution_count": 6,
   "id": "8b9cbf21-3ab7-48b6-bdd0-6916d7c00866",
   "metadata": {},
   "outputs": [],
   "source": [
    "from pathlib import Path\n",
    "Path(RESULT_EVALUATE_PATH).mkdir(parents=True, exist_ok=True)"
   ]
  },
  {
   "cell_type": "code",
   "execution_count": 7,
   "id": "93b9d419-7180-4e46-baba-ef0e61d56396",
   "metadata": {},
   "outputs": [],
   "source": [
    "class Dataset:\n",
    "    INPUT_PATH = \"/home/jovyan/ChestXray-14/dataset/ChestXray NIH\"\n",
    "    \n",
    "    def get_train(self):\n",
    "        filenames = tf.io.gfile.glob(f'{self.INPUT_PATH}/data/under_sampling/train/*.tfrec')\n",
    "        dataset = get_dataset(filenames)\n",
    "        return dataset\n",
    "\n",
    "    def get_test(self):\n",
    "        filenames = tf.io.gfile.glob(f'{self.INPUT_PATH}/data/under_sampling/test/*.tfrec')\n",
    "        dataset = get_dataset(filenames)\n",
    "        return dataset"
   ]
  },
  {
   "cell_type": "code",
   "execution_count": 8,
   "id": "86dcbf37-dba1-4563-b901-d75b09dc1537",
   "metadata": {},
   "outputs": [
    {
     "name": "stderr",
     "output_type": "stream",
     "text": [
      "2023-02-22 08:20:51.545414: I tensorflow/core/platform/cpu_feature_guard.cc:193] This TensorFlow binary is optimized with oneAPI Deep Neural Network Library (oneDNN) to use the following CPU instructions in performance-critical operations:  AVX2 AVX512F AVX512_VNNI FMA\n",
      "To enable them in other operations, rebuild TensorFlow with the appropriate compiler flags.\n",
      "2023-02-22 08:20:53.291098: I tensorflow/core/common_runtime/gpu/gpu_device.cc:1532] Created device /job:localhost/replica:0/task:0/device:GPU:0 with 31725 MB memory:  -> device: 0, name: NVIDIA A100-SXM4-40GB, pci bus id: 0000:17:00.0, compute capability: 8.0\n"
     ]
    }
   ],
   "source": [
    "test_dataset = Dataset().get_test()"
   ]
  },
  {
   "cell_type": "code",
   "execution_count": 9,
   "id": "38f88be4-7289-4e5b-892c-8a5eb55a7d0c",
   "metadata": {},
   "outputs": [
    {
     "name": "stderr",
     "output_type": "stream",
     "text": [
      "2023-02-22 08:21:09.473633: I tensorflow/stream_executor/cuda/cuda_dnn.cc:384] Loaded cuDNN version 8100\n",
      "2023-02-22 08:21:10.760485: I tensorflow/core/platform/default/subprocess.cc:304] Start cannot spawn child process: No such file or directory\n",
      "2023-02-22 08:21:10.762451: I tensorflow/core/platform/default/subprocess.cc:304] Start cannot spawn child process: No such file or directory\n",
      "2023-02-22 08:21:10.762553: W tensorflow/stream_executor/gpu/asm_compiler.cc:80] Couldn't get ptxas version string: INTERNAL: Couldn't invoke ptxas --version\n",
      "2023-02-22 08:21:10.763880: I tensorflow/core/platform/default/subprocess.cc:304] Start cannot spawn child process: No such file or directory\n",
      "2023-02-22 08:21:10.764004: W tensorflow/stream_executor/gpu/redzone_allocator.cc:314] INTERNAL: Failed to launch ptxas\n",
      "Relying on driver to perform ptx compilation. \n",
      "Modify $PATH to customize ptxas location.\n",
      "This message will be only logged once.\n"
     ]
    },
    {
     "name": "stdout",
     "output_type": "stream",
     "text": [
      "      7/Unknown - 10s 29ms/step"
     ]
    },
    {
     "name": "stderr",
     "output_type": "stream",
     "text": [
      "2023-02-22 08:21:15.291515: I tensorflow/stream_executor/cuda/cuda_blas.cc:1786] TensorFloat-32 will be used for the matrix multiplication. This will only be logged once.\n"
     ]
    },
    {
     "name": "stdout",
     "output_type": "stream",
     "text": [
      "765/765 [==============================] - 34s 33ms/step\n",
      "['No Finding', 'Atelectasis', 'Consolidation', 'Infiltration', 'Pneumothorax', 'Edema', 'Emphysema', 'Fibrosis', 'Effusion', 'Pneumonia', 'Pleural_Thickening', 'Cardiomegaly', 'Nodule', 'Mass', 'Hernia']\n",
      "/home/jovyan/ChestXray-14/Sampling/results/evaluate/cross_entropy/EfficientNetB0_None/best_thresholds.csv was success!\n",
      "/home/jovyan/ChestXray-14/Sampling/results/evaluate/cross_entropy/EfficientNetB0_None/f1_per_thresholds.csv was success!\n",
      "Doing ...!\n",
      "765/765 [==============================] - 22s 29ms/step\n",
      "   No Finding  Atelectasis  Consolidation  Infiltration  Pneumothorax  \\\n",
      "0    0.412705     0.434234       0.243069      0.503665      0.324973   \n",
      "\n",
      "     Edema  Emphysema  Fibrosis  Effusion  Pneumonia  Pleural_Thickening  \\\n",
      "0  0.28125   0.179167   0.09827  0.540966   0.085453            0.204334   \n",
      "\n",
      "   Cardiomegaly    Nodule      Mass    Hernia  \n",
      "0      0.364742  0.218926  0.262999  0.015473  \n",
      "Done!\n"
     ]
    }
   ],
   "source": [
    "MODEL_PATH = '/home/jovyan/ChestXray-14/Sampling/results/models/CrossEntropy/EfficientNetB0_None.h5'\n",
    "best_model = Evaluate(MODEL_PATH)\n",
    "best_model.get_best_threshold(\n",
    "    test_dataset=test_dataset,\n",
    "    save_best_thresholds=f\"{RESULT_EVALUATE_PATH}/best_thresholds.csv\",\n",
    "    save_200_thresholds=f\"{RESULT_EVALUATE_PATH}/f1_per_thresholds.csv\"\n",
    ")\n",
    "\n",
    "with best_model:\n",
    "    f1_each_class = best_model.get_f1_scores(test_dataset)\n",
    "    df = pd.DataFrame(f1_each_class)\n",
    "    df.to_csv(f\"{RESULT_EVALUATE_PATH}/f1_scores.csv\", index=False)\n",
    "\n",
    "    precision_each_class = best_model.get_precision_scores(test_dataset, new_calculate=False)\n",
    "    pd.DataFrame(precision_each_class)\\\n",
    "        .to_csv(f\"{RESULT_EVALUATE_PATH}/precision.csv\", index=False)\n",
    "\n",
    "    recall_each_class = best_model.get_recall_scores(test_dataset, new_calculate=False)\n",
    "    pd.DataFrame(recall_each_class)\\\n",
    "        .to_csv(f\"{RESULT_EVALUATE_PATH}/recall.csv\", index=False)\n",
    "\n",
    "    print(df)"
   ]
  },
  {
   "cell_type": "code",
   "execution_count": null,
   "id": "0969bdae-380c-494f-a2c9-f98dfcf2d295",
   "metadata": {},
   "outputs": [],
   "source": []
  }
 ],
 "metadata": {
  "kernelspec": {
   "display_name": "Python 3 (ipykernel)",
   "language": "python",
   "name": "python3"
  },
  "language_info": {
   "codemirror_mode": {
    "name": "ipython",
    "version": 3
   },
   "file_extension": ".py",
   "mimetype": "text/x-python",
   "name": "python",
   "nbconvert_exporter": "python",
   "pygments_lexer": "ipython3",
   "version": "3.10.5"
  }
 },
 "nbformat": 4,
 "nbformat_minor": 5
}
