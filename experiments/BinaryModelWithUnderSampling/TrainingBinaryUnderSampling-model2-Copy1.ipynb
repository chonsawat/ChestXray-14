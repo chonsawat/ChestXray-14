{
 "cells": [
  {
   "cell_type": "code",
   "execution_count": 1,
   "id": "d66c840d-74ed-4dce-8715-96701c28615d",
   "metadata": {},
   "outputs": [],
   "source": [
    "import sys\n",
    "sys.path.append('/home/jovyan/ChestXray-14')"
   ]
  },
  {
   "cell_type": "code",
   "execution_count": 2,
   "id": "67f814fb-1441-4f0d-a350-2721d6466e42",
   "metadata": {},
   "outputs": [
    {
     "name": "stderr",
     "output_type": "stream",
     "text": [
      "2023-02-28 13:37:44.441968: I tensorflow/core/util/util.cc:169] oneDNN custom operations are on. You may see slightly different numerical results due to floating-point round-off errors from different computation orders. To turn them off, set the environment variable `TF_ENABLE_ONEDNN_OPTS=0`.\n"
     ]
    }
   ],
   "source": [
    "import tensorflow as tf\n",
    "from modules.models import Model_2\n",
    "from modules.utils import get_dataset\n",
    "from tensorflow.keras.callbacks import ModelCheckpoint, CSVLogger, EarlyStopping, ReduceLROnPlateau, LearningRateScheduler"
   ]
  },
  {
   "cell_type": "code",
   "execution_count": 3,
   "id": "711e4ac0-979b-41ff-a33a-78744a989705",
   "metadata": {},
   "outputs": [],
   "source": [
    "ROOT_PATH = \"/home/jovyan/ChestXray-14\"\n",
    "INPUT_PATH = f\"{ROOT_PATH}/dataset/ChestXray NIH\"\n",
    "LABELS = ['No Finding']"
   ]
  },
  {
   "cell_type": "code",
   "execution_count": 4,
   "id": "9811ebd7-bcf0-4396-93b7-5d16bef984de",
   "metadata": {},
   "outputs": [],
   "source": [
    "class Dataset:\n",
    "    INPUT_PATH = INPUT_PATH\n",
    "    \n",
    "    def get_train(self):\n",
    "        filenames = tf.io.gfile.glob(f'{self.INPUT_PATH}/data/binary_under_sampling/train/*.tfrec')\n",
    "        dataset = get_dataset(filenames)\n",
    "        return dataset\n",
    "\n",
    "    def get_test(self):\n",
    "        filenames = tf.io.gfile.glob(f'{self.INPUT_PATH}/data/binary_under_sampling/test/*.tfrec')\n",
    "        dataset = get_dataset(filenames)\n",
    "        return dataset"
   ]
  },
  {
   "cell_type": "markdown",
   "id": "3cdc0ba5-7306-4e81-aaef-22dace23181a",
   "metadata": {},
   "source": [
    "## Model Training"
   ]
  },
  {
   "cell_type": "code",
   "execution_count": 5,
   "id": "439fd766-e37c-49f6-8caf-63bce64aec3a",
   "metadata": {},
   "outputs": [
    {
     "data": {
      "text/plain": [
       "'/home/jovyan/ChestXray-14/experiments/BinaryModelWithUnderSampling'"
      ]
     },
     "execution_count": 5,
     "metadata": {},
     "output_type": "execute_result"
    }
   ],
   "source": [
    "import os\n",
    "CURRENT_PATH = os.path.abspath(\"\")\n",
    "CURRENT_PATH"
   ]
  },
  {
   "cell_type": "code",
   "execution_count": 6,
   "id": "216058d6-20e5-443e-b13d-a94a4a4b0914",
   "metadata": {},
   "outputs": [],
   "source": [
    "# Learning rate\n",
    "def lr_schedule(epoch, learning_rate):\n",
    "    tf.summary.scalar('learning rate', data=learning_rate, step=epoch)\n",
    "    return learning_rate"
   ]
  },
  {
   "cell_type": "code",
   "execution_count": 7,
   "id": "6d999200-df17-42e2-9df8-260023ed90e5",
   "metadata": {},
   "outputs": [],
   "source": [
    "def get_callbacks(NAME, weight_option, fold_num=None):\n",
    "    model_checkpoint_callback = ModelCheckpoint(f'results/models/CrossEntropy_model_2_copy/{NAME}_{weight_option}.h5', monitor='val_loss', mode='min', save_best_only=True)\n",
    "    early_stop_callback = EarlyStopping(monitor='val_loss', mode=\"min\", patience=20, verbose=1)\n",
    "    reduce_lr_callback = ReduceLROnPlateau(monitor='val_loss', mode=\"min\", factor=0.5, patience=3, verbose=1)\n",
    "    lr_logging_callback = LearningRateScheduler(lr_schedule)\n",
    "    \n",
    "    return model_checkpoint_callback, early_stop_callback, reduce_lr_callback, lr_logging_callback"
   ]
  },
  {
   "cell_type": "code",
   "execution_count": 8,
   "id": "53c9d439-b8ef-4a49-b442-1a544fec7d79",
   "metadata": {},
   "outputs": [],
   "source": [
    "# Constant variables\n",
    "NAME = \"EfficientNetB0\"\n",
    "EPOCHS = 100"
   ]
  },
  {
   "cell_type": "code",
   "execution_count": 9,
   "id": "6c80c6d1-b500-4d62-8793-f3ed0cf28547",
   "metadata": {},
   "outputs": [],
   "source": [
    "weight_option = None # use `imagenet` or `None` only"
   ]
  },
  {
   "cell_type": "code",
   "execution_count": 10,
   "id": "034c4668-751e-4aba-b2b6-5d71e0bb5980",
   "metadata": {},
   "outputs": [
    {
     "name": "stderr",
     "output_type": "stream",
     "text": [
      "2023-02-28 13:37:46.636661: I tensorflow/core/platform/cpu_feature_guard.cc:193] This TensorFlow binary is optimized with oneAPI Deep Neural Network Library (oneDNN) to use the following CPU instructions in performance-critical operations:  AVX2 AVX512F AVX512_VNNI FMA\n",
      "To enable them in other operations, rebuild TensorFlow with the appropriate compiler flags.\n",
      "2023-02-28 13:37:48.271985: I tensorflow/core/common_runtime/gpu/gpu_device.cc:1532] Created device /job:localhost/replica:0/task:0/device:GPU:0 with 31709 MB memory:  -> device: 0, name: NVIDIA A100-SXM4-40GB, pci bus id: 0000:ca:00.0, compute capability: 8.0\n"
     ]
    },
    {
     "name": "stdout",
     "output_type": "stream",
     "text": [
      "Model: \"BinaryModelCrossEntropyOnSamplingDataset\"\n",
      "_________________________________________________________________\n",
      " Layer (type)                Output Shape              Param #   \n",
      "=================================================================\n",
      " efficientnetb0 (Functional)  (None, 7, 7, 1280)       4049571   \n",
      "                                                                 \n",
      " flatten (Flatten)           (None, 62720)             0         \n",
      "                                                                 \n",
      " dense (Dense)               (None, 512)               32113152  \n",
      "                                                                 \n",
      " dense_1 (Dense)             (None, 512)               262656    \n",
      "                                                                 \n",
      " dense_2 (Dense)             (None, 512)               262656    \n",
      "                                                                 \n",
      " dense_3 (Dense)             (None, 128)               65664     \n",
      "                                                                 \n",
      " dense_4 (Dense)             (None, 128)               16512     \n",
      "                                                                 \n",
      " dense_5 (Dense)             (None, 128)               16512     \n",
      "                                                                 \n",
      " dense_6 (Dense)             (None, 64)                8256      \n",
      "                                                                 \n",
      " dense_7 (Dense)             (None, 64)                4160      \n",
      "                                                                 \n",
      " dense_8 (Dense)             (None, 64)                4160      \n",
      "                                                                 \n",
      " dense_9 (Dense)             (None, 1)                 65        \n",
      "                                                                 \n",
      "=================================================================\n",
      "Total params: 36,803,364\n",
      "Trainable params: 36,761,341\n",
      "Non-trainable params: 42,023\n",
      "_________________________________________________________________\n"
     ]
    }
   ],
   "source": [
    "# Callbacks\n",
    "model_checkpoint_callback, early_stop_callback, reduce_lr_callback, lr_logging_callback = get_callbacks(NAME, weight_option)\n",
    "\n",
    "# Path for CSV\n",
    "path = os.path.join(CURRENT_PATH, \"results\", \"history\", \"training_with_CrossEntroy_model_2_copy\", f\"{NAME}_{weight_option}\")\n",
    "os.makedirs(path, exist_ok=True)\n",
    "\n",
    "# CSV Logger\n",
    "csv_logger = CSVLogger(os.path.join(path, f\"history.csv\"))\n",
    "\n",
    "# Dataset\n",
    "train_dataset, test_dataset = Dataset().get_train(), Dataset().get_test()\n",
    "\n",
    "# Modeling\n",
    "transfer_model = tf.keras.applications.efficientnet.EfficientNetB0(\n",
    "    include_top=False, \n",
    "    weights=weight_option,\n",
    "    input_shape=(224, 224, 3),\n",
    "    pooling=None\n",
    ")\n",
    "\n",
    "model = Model_2(\n",
    "    transfer_model,\n",
    ")\n",
    "model.optimizer = tf.keras.optimizers.Adam(learning_rate=0.001)\n",
    "model = model.get_model()\n",
    "model._name = \"BinaryModelCrossEntropyOnSamplingDataset\"\n",
    "model.summary()"
   ]
  },
  {
   "cell_type": "code",
   "execution_count": 11,
   "id": "08f150f3-fe92-4574-8a96-2173b583e61c",
   "metadata": {},
   "outputs": [
    {
     "name": "stdout",
     "output_type": "stream",
     "text": [
      "Epoch 1/100\n"
     ]
    },
    {
     "name": "stderr",
     "output_type": "stream",
     "text": [
      "2023-02-28 13:38:00.065542: I tensorflow/stream_executor/cuda/cuda_dnn.cc:384] Loaded cuDNN version 8100\n",
      "2023-02-28 13:38:01.061144: I tensorflow/core/platform/default/subprocess.cc:304] Start cannot spawn child process: No such file or directory\n",
      "2023-02-28 13:38:01.061862: I tensorflow/core/platform/default/subprocess.cc:304] Start cannot spawn child process: No such file or directory\n",
      "2023-02-28 13:38:01.061882: W tensorflow/stream_executor/gpu/asm_compiler.cc:80] Couldn't get ptxas version string: INTERNAL: Couldn't invoke ptxas --version\n",
      "2023-02-28 13:38:01.062600: I tensorflow/core/platform/default/subprocess.cc:304] Start cannot spawn child process: No such file or directory\n",
      "2023-02-28 13:38:01.062656: W tensorflow/stream_executor/gpu/redzone_allocator.cc:314] INTERNAL: Failed to launch ptxas\n",
      "Relying on driver to perform ptx compilation. \n",
      "Modify $PATH to customize ptxas location.\n",
      "This message will be only logged once.\n",
      "2023-02-28 13:38:05.361404: I tensorflow/stream_executor/cuda/cuda_blas.cc:1786] TensorFloat-32 will be used for the matrix multiplication. This will only be logged once.\n"
     ]
    },
    {
     "name": "stdout",
     "output_type": "stream",
     "text": [
      "3060/3060 [==============================] - 655s 208ms/step - loss: 0.4340 - auc: 0.5799 - val_loss: 0.4120 - val_auc: 0.6631 - lr: 0.0010\n",
      "Epoch 2/100\n",
      "3060/3060 [==============================] - 626s 204ms/step - loss: 0.4261 - auc: 0.5776 - val_loss: 0.4311 - val_auc: 0.5694 - lr: 0.0010\n",
      "Epoch 3/100\n",
      "3060/3060 [==============================] - 625s 204ms/step - loss: 0.4301 - auc: 0.5185 - val_loss: 0.4313 - val_auc: 0.5206 - lr: 0.0010\n",
      "Epoch 4/100\n",
      "3060/3060 [==============================] - ETA: 0s - loss: 0.4301 - auc: 0.5138\n",
      "Epoch 4: ReduceLROnPlateau reducing learning rate to 0.0005000000237487257.\n",
      "3060/3060 [==============================] - 626s 205ms/step - loss: 0.4301 - auc: 0.5138 - val_loss: 0.4315 - val_auc: 0.4998 - lr: 5.0000e-04\n",
      "Epoch 5/100\n",
      "3060/3060 [==============================] - 650s 212ms/step - loss: 0.4282 - auc: 0.5345 - val_loss: 0.4199 - val_auc: 0.6225 - lr: 5.0000e-04\n",
      "Epoch 6/100\n",
      "3060/3060 [==============================] - 634s 207ms/step - loss: 0.4169 - auc: 0.6274 - val_loss: 0.4137 - val_auc: 0.6598 - lr: 5.0000e-04\n",
      "Epoch 7/100\n",
      "3060/3060 [==============================] - ETA: 0s - loss: 0.4116 - auc: 0.6502\n",
      "Epoch 7: ReduceLROnPlateau reducing learning rate to 0.0002500000118743628.\n",
      "3060/3060 [==============================] - 630s 206ms/step - loss: 0.4116 - auc: 0.6502 - val_loss: 0.4129 - val_auc: 0.6588 - lr: 2.5000e-04\n",
      "Epoch 8/100\n",
      "3060/3060 [==============================] - 632s 207ms/step - loss: 0.4054 - auc: 0.6729 - val_loss: 0.4051 - val_auc: 0.6875 - lr: 2.5000e-04\n",
      "Epoch 9/100\n",
      "3060/3060 [==============================] - 633s 207ms/step - loss: 0.4026 - auc: 0.6814 - val_loss: 0.4008 - val_auc: 0.6973 - lr: 2.5000e-04\n",
      "Epoch 10/100\n",
      "3060/3060 [==============================] - 638s 209ms/step - loss: 0.4004 - auc: 0.6880 - val_loss: 0.4040 - val_auc: 0.6963 - lr: 2.5000e-04\n",
      "Epoch 11/100\n",
      "3060/3060 [==============================] - 665s 217ms/step - loss: 0.3980 - auc: 0.6941 - val_loss: 0.4017 - val_auc: 0.6970 - lr: 2.5000e-04\n",
      "Epoch 12/100\n",
      "3060/3060 [==============================] - 661s 216ms/step - loss: 0.3968 - auc: 0.6981 - val_loss: 0.3978 - val_auc: 0.7035 - lr: 2.5000e-04\n",
      "Epoch 13/100\n",
      "3060/3060 [==============================] - 654s 214ms/step - loss: 0.3941 - auc: 0.7061 - val_loss: 0.3961 - val_auc: 0.7098 - lr: 2.5000e-04\n",
      "Epoch 14/100\n",
      "3060/3060 [==============================] - 649s 212ms/step - loss: 0.3914 - auc: 0.7131 - val_loss: 0.3984 - val_auc: 0.7040 - lr: 2.5000e-04\n",
      "Epoch 15/100\n",
      "3060/3060 [==============================] - 642s 210ms/step - loss: 0.3879 - auc: 0.7215 - val_loss: 0.3985 - val_auc: 0.7103 - lr: 2.5000e-04\n",
      "Epoch 16/100\n",
      "3060/3060 [==============================] - ETA: 0s - loss: 0.3849 - auc: 0.7288\n",
      "Epoch 16: ReduceLROnPlateau reducing learning rate to 0.0001250000059371814.\n",
      "3060/3060 [==============================] - 635s 207ms/step - loss: 0.3849 - auc: 0.7288 - val_loss: 0.4001 - val_auc: 0.7107 - lr: 1.2500e-04\n",
      "Epoch 17/100\n",
      "3060/3060 [==============================] - 629s 206ms/step - loss: 0.3786 - auc: 0.7430 - val_loss: 0.3958 - val_auc: 0.7150 - lr: 1.2500e-04\n",
      "Epoch 18/100\n",
      "3060/3060 [==============================] - 626s 205ms/step - loss: 0.3732 - auc: 0.7534 - val_loss: 0.3959 - val_auc: 0.7151 - lr: 1.2500e-04\n",
      "Epoch 19/100\n",
      "3060/3060 [==============================] - 625s 204ms/step - loss: 0.3689 - auc: 0.7615 - val_loss: 0.3994 - val_auc: 0.7139 - lr: 1.2500e-04\n",
      "Epoch 20/100\n",
      "3060/3060 [==============================] - ETA: 0s - loss: 0.3639 - auc: 0.7698\n",
      "Epoch 20: ReduceLROnPlateau reducing learning rate to 6.25000029685907e-05.\n",
      "3060/3060 [==============================] - 647s 211ms/step - loss: 0.3639 - auc: 0.7698 - val_loss: 0.4062 - val_auc: 0.7116 - lr: 6.2500e-05\n",
      "Epoch 21/100\n",
      "3060/3060 [==============================] - 638s 208ms/step - loss: 0.3558 - auc: 0.7832 - val_loss: 0.4105 - val_auc: 0.7064 - lr: 6.2500e-05\n",
      "Epoch 22/100\n",
      "3060/3060 [==============================] - 613s 200ms/step - loss: 0.3508 - auc: 0.7909 - val_loss: 0.4160 - val_auc: 0.7054 - lr: 6.2500e-05\n",
      "Epoch 23/100\n",
      "3060/3060 [==============================] - ETA: 0s - loss: 0.3460 - auc: 0.7968\n",
      "Epoch 23: ReduceLROnPlateau reducing learning rate to 3.125000148429535e-05.\n",
      "3060/3060 [==============================] - 625s 204ms/step - loss: 0.3460 - auc: 0.7968 - val_loss: 0.4189 - val_auc: 0.7048 - lr: 3.1250e-05\n",
      "Epoch 24/100\n",
      "3060/3060 [==============================] - 625s 204ms/step - loss: 0.3405 - auc: 0.8042 - val_loss: 0.4206 - val_auc: 0.6996 - lr: 3.1250e-05\n",
      "Epoch 25/100\n",
      "3060/3060 [==============================] - 626s 205ms/step - loss: 0.3373 - auc: 0.8073 - val_loss: 0.4213 - val_auc: 0.7012 - lr: 3.1250e-05\n",
      "Epoch 26/100\n",
      "3060/3060 [==============================] - ETA: 0s - loss: 0.3331 - auc: 0.8122\n",
      "Epoch 26: ReduceLROnPlateau reducing learning rate to 1.5625000742147677e-05.\n",
      "3060/3060 [==============================] - 633s 207ms/step - loss: 0.3331 - auc: 0.8122 - val_loss: 0.4276 - val_auc: 0.6965 - lr: 1.5625e-05\n",
      "Epoch 27/100\n",
      "3060/3060 [==============================] - 626s 205ms/step - loss: 0.3307 - auc: 0.8154 - val_loss: 0.4328 - val_auc: 0.6928 - lr: 1.5625e-05\n",
      "Epoch 28/100\n",
      "3060/3060 [==============================] - 625s 204ms/step - loss: 0.3282 - auc: 0.8179 - val_loss: 0.4378 - val_auc: 0.6926 - lr: 1.5625e-05\n",
      "Epoch 29/100\n",
      "3060/3060 [==============================] - ETA: 0s - loss: 0.3262 - auc: 0.8197\n",
      "Epoch 29: ReduceLROnPlateau reducing learning rate to 7.812500371073838e-06.\n",
      "3060/3060 [==============================] - 624s 204ms/step - loss: 0.3262 - auc: 0.8197 - val_loss: 0.4396 - val_auc: 0.6928 - lr: 7.8125e-06\n",
      "Epoch 30/100\n",
      "3060/3060 [==============================] - 629s 206ms/step - loss: 0.3254 - auc: 0.8212 - val_loss: 0.4378 - val_auc: 0.6926 - lr: 7.8125e-06\n",
      "Epoch 31/100\n",
      "3060/3060 [==============================] - 626s 204ms/step - loss: 0.3244 - auc: 0.8216 - val_loss: 0.4376 - val_auc: 0.6922 - lr: 7.8125e-06\n",
      "Epoch 32/100\n",
      "3060/3060 [==============================] - ETA: 0s - loss: 0.3232 - auc: 0.8229\n",
      "Epoch 32: ReduceLROnPlateau reducing learning rate to 3.906250185536919e-06.\n",
      "3060/3060 [==============================] - 621s 203ms/step - loss: 0.3232 - auc: 0.8229 - val_loss: 0.4392 - val_auc: 0.6917 - lr: 3.9063e-06\n",
      "Epoch 33/100\n",
      "3060/3060 [==============================] - 630s 206ms/step - loss: 0.3224 - auc: 0.8239 - val_loss: 0.4366 - val_auc: 0.6923 - lr: 3.9063e-06\n",
      "Epoch 34/100\n",
      "3060/3060 [==============================] - 625s 204ms/step - loss: 0.3218 - auc: 0.8248 - val_loss: 0.4363 - val_auc: 0.6920 - lr: 3.9063e-06\n",
      "Epoch 35/100\n",
      "3060/3060 [==============================] - ETA: 0s - loss: 0.3195 - auc: 0.8276\n",
      "Epoch 35: ReduceLROnPlateau reducing learning rate to 1.9531250927684596e-06.\n",
      "3060/3060 [==============================] - 627s 205ms/step - loss: 0.3195 - auc: 0.8276 - val_loss: 0.4397 - val_auc: 0.6906 - lr: 1.9531e-06\n",
      "Epoch 36/100\n",
      "3060/3060 [==============================] - 626s 204ms/step - loss: 0.3207 - auc: 0.8264 - val_loss: 0.4385 - val_auc: 0.6908 - lr: 1.9531e-06\n",
      "Epoch 37/100\n",
      "3060/3060 [==============================] - 625s 204ms/step - loss: 0.3216 - auc: 0.8245 - val_loss: 0.4372 - val_auc: 0.6908 - lr: 1.9531e-06\n",
      "Epoch 37: early stopping\n"
     ]
    }
   ],
   "source": [
    "# Visualize\n",
    "history = model.fit(\n",
    "    train_dataset,\n",
    "    epochs=EPOCHS,\n",
    "    validation_data=test_dataset,\n",
    "    verbose=1, # Show Progress Bar while Traning\n",
    "    callbacks=[model_checkpoint_callback, csv_logger, early_stop_callback, reduce_lr_callback, lr_logging_callback]\n",
    ")"
   ]
  },
  {
   "cell_type": "code",
   "execution_count": null,
   "id": "37ebf808-192e-4e87-bfef-cc6a686943a4",
   "metadata": {},
   "outputs": [],
   "source": []
  }
 ],
 "metadata": {
  "kernelspec": {
   "display_name": "Python 3 (ipykernel)",
   "language": "python",
   "name": "python3"
  },
  "language_info": {
   "codemirror_mode": {
    "name": "ipython",
    "version": 3
   },
   "file_extension": ".py",
   "mimetype": "text/x-python",
   "name": "python",
   "nbconvert_exporter": "python",
   "pygments_lexer": "ipython3",
   "version": "3.10.5"
  }
 },
 "nbformat": 4,
 "nbformat_minor": 5
}
