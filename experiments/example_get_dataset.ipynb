{
 "cells": [
  {
   "cell_type": "code",
   "execution_count": 45,
   "id": "6b85f0ea-45a9-423b-93de-5caa8ba1cca6",
   "metadata": {},
   "outputs": [],
   "source": [
    "from modules.get_data_function import DatasetX"
   ]
  },
  {
   "cell_type": "code",
   "execution_count": 46,
   "id": "f3193e30-24ac-4ac6-8c59-6501af93ff82",
   "metadata": {},
   "outputs": [
    {
     "data": {
      "text/plain": [
       "<PrefetchDataset shapes: ((16, 224, 224, 1), (16, 15)), types: (tf.float32, tf.int64)>"
      ]
     },
     "execution_count": 46,
     "metadata": {},
     "output_type": "execute_result"
    }
   ],
   "source": [
    "DatasetX().get_train()"
   ]
  },
  {
   "cell_type": "code",
   "execution_count": 47,
   "id": "730f7016-2614-40b1-847e-41126bd810f2",
   "metadata": {},
   "outputs": [
    {
     "data": {
      "text/plain": [
       "<PrefetchDataset shapes: ((16, 224, 224, 1), (16, 15)), types: (tf.float32, tf.int64)>"
      ]
     },
     "execution_count": 47,
     "metadata": {},
     "output_type": "execute_result"
    }
   ],
   "source": [
    "DatasetX().get_valid()"
   ]
  },
  {
   "cell_type": "code",
   "execution_count": 48,
   "id": "b34fc7ae-4261-47f7-a887-ef02466dcf64",
   "metadata": {},
   "outputs": [
    {
     "data": {
      "text/plain": [
       "<PrefetchDataset shapes: ((16, 224, 224, 1), (16, 15)), types: (tf.float32, tf.int64)>"
      ]
     },
     "execution_count": 48,
     "metadata": {},
     "output_type": "execute_result"
    }
   ],
   "source": [
    "DatasetX().get_test()"
   ]
  },
  {
   "cell_type": "code",
   "execution_count": 50,
   "id": "7dd8a1de-4913-4643-8b91-49b4a6705cef",
   "metadata": {},
   "outputs": [
    {
     "data": {
      "text/plain": [
       "<PrefetchDataset shapes: ((16, 224, 224, 1), (16, 15)), types: (tf.float32, tf.int64)>"
      ]
     },
     "execution_count": 50,
     "metadata": {},
     "output_type": "execute_result"
    }
   ],
   "source": [
    "DatasetX().get_all()"
   ]
  },
  {
   "cell_type": "code",
   "execution_count": null,
   "id": "973e24a6-569a-4c67-8904-98d782fc78ee",
   "metadata": {},
   "outputs": [],
   "source": []
  }
 ],
 "metadata": {
  "kernelspec": {
   "display_name": "Python 3 (ipykernel)",
   "language": "python",
   "name": "python3"
  },
  "language_info": {
   "codemirror_mode": {
    "name": "ipython",
    "version": 3
   },
   "file_extension": ".py",
   "mimetype": "text/x-python",
   "name": "python",
   "nbconvert_exporter": "python",
   "pygments_lexer": "ipython3",
   "version": "3.9.7"
  }
 },
 "nbformat": 4,
 "nbformat_minor": 5
}
