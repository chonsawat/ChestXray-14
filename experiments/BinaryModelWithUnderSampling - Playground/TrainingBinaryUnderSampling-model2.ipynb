{
 "cells": [
  {
   "cell_type": "code",
   "execution_count": 1,
   "id": "d66c840d-74ed-4dce-8715-96701c28615d",
   "metadata": {},
   "outputs": [],
   "source": [
    "import sys\n",
    "sys.path.append('/home/jovyan/ChestXray-14')"
   ]
  },
  {
   "cell_type": "code",
   "execution_count": 2,
   "id": "67f814fb-1441-4f0d-a350-2721d6466e42",
   "metadata": {},
   "outputs": [
    {
     "name": "stderr",
     "output_type": "stream",
     "text": [
      "2023-02-25 00:09:51.295201: I tensorflow/core/util/util.cc:169] oneDNN custom operations are on. You may see slightly different numerical results due to floating-point round-off errors from different computation orders. To turn them off, set the environment variable `TF_ENABLE_ONEDNN_OPTS=0`.\n"
     ]
    }
   ],
   "source": [
    "import tensorflow as tf\n",
    "from modules.models import Model_2\n",
    "from modules.utils import get_dataset\n",
    "from tensorflow.keras.callbacks import ModelCheckpoint, CSVLogger, EarlyStopping, ReduceLROnPlateau, LearningRateScheduler"
   ]
  },
  {
   "cell_type": "code",
   "execution_count": 3,
   "id": "711e4ac0-979b-41ff-a33a-78744a989705",
   "metadata": {},
   "outputs": [],
   "source": [
    "ROOT_PATH = \"/home/jovyan/ChestXray-14\"\n",
    "INPUT_PATH = f\"{ROOT_PATH}/dataset/ChestXray NIH\"\n",
    "LABELS = ['No Finding']"
   ]
  },
  {
   "cell_type": "code",
   "execution_count": 4,
   "id": "9811ebd7-bcf0-4396-93b7-5d16bef984de",
   "metadata": {},
   "outputs": [],
   "source": [
    "class Dataset:\n",
    "    INPUT_PATH = INPUT_PATH\n",
    "    \n",
    "    def get_train(self):\n",
    "        filenames = tf.io.gfile.glob(f'{self.INPUT_PATH}/data/binary_under_sampling/train/*.tfrec')\n",
    "        dataset = get_dataset(filenames)\n",
    "        return dataset\n",
    "\n",
    "    def get_test(self):\n",
    "        filenames = tf.io.gfile.glob(f'{self.INPUT_PATH}/data/binary_under_sampling/test/*.tfrec')\n",
    "        dataset = get_dataset(filenames)\n",
    "        return dataset"
   ]
  },
  {
   "cell_type": "markdown",
   "id": "3cdc0ba5-7306-4e81-aaef-22dace23181a",
   "metadata": {},
   "source": [
    "## Model Training"
   ]
  },
  {
   "cell_type": "code",
   "execution_count": 5,
   "id": "439fd766-e37c-49f6-8caf-63bce64aec3a",
   "metadata": {},
   "outputs": [
    {
     "data": {
      "text/plain": [
       "'/home/jovyan/ChestXray-14/experiments/BinaryModelWithUnderSampling'"
      ]
     },
     "execution_count": 5,
     "metadata": {},
     "output_type": "execute_result"
    }
   ],
   "source": [
    "import os\n",
    "CURRENT_PATH = os.path.abspath(\"\")\n",
    "CURRENT_PATH"
   ]
  },
  {
   "cell_type": "code",
   "execution_count": 6,
   "id": "216058d6-20e5-443e-b13d-a94a4a4b0914",
   "metadata": {},
   "outputs": [],
   "source": [
    "# Learning rate\n",
    "def lr_schedule(epoch, learning_rate):\n",
    "    tf.summary.scalar('learning rate', data=learning_rate, step=epoch)\n",
    "    return learning_rate"
   ]
  },
  {
   "cell_type": "code",
   "execution_count": 7,
   "id": "6d999200-df17-42e2-9df8-260023ed90e5",
   "metadata": {},
   "outputs": [],
   "source": [
    "def get_callbacks(NAME, weight_option, fold_num=None):\n",
    "    model_checkpoint_callback = ModelCheckpoint(f'results/models/CrossEntropy_model_2/{NAME}_{weight_option}.h5', monitor='val_loss', mode='min', save_best_only=True)\n",
    "    early_stop_callback = EarlyStopping(monitor='val_loss', mode=\"min\", patience=20, verbose=1)\n",
    "    reduce_lr_callback = ReduceLROnPlateau(monitor='val_loss', mode=\"min\", factor=0.5, patience=3, verbose=1)\n",
    "    lr_logging_callback = LearningRateScheduler(lr_schedule)\n",
    "    \n",
    "    return model_checkpoint_callback, early_stop_callback, reduce_lr_callback, lr_logging_callback"
   ]
  },
  {
   "cell_type": "code",
   "execution_count": 8,
   "id": "53c9d439-b8ef-4a49-b442-1a544fec7d79",
   "metadata": {},
   "outputs": [],
   "source": [
    "# Constant variables\n",
    "NAME = \"EfficientNetB0\"\n",
    "EPOCHS = 100"
   ]
  },
  {
   "cell_type": "code",
   "execution_count": 9,
   "id": "6c80c6d1-b500-4d62-8793-f3ed0cf28547",
   "metadata": {},
   "outputs": [],
   "source": [
    "weight_option = None # use `imagenet` or `None` only"
   ]
  },
  {
   "cell_type": "code",
   "execution_count": 10,
   "id": "034c4668-751e-4aba-b2b6-5d71e0bb5980",
   "metadata": {},
   "outputs": [
    {
     "name": "stderr",
     "output_type": "stream",
     "text": [
      "2023-02-25 00:09:53.697107: I tensorflow/core/platform/cpu_feature_guard.cc:193] This TensorFlow binary is optimized with oneAPI Deep Neural Network Library (oneDNN) to use the following CPU instructions in performance-critical operations:  AVX2 AVX512F AVX512_VNNI FMA\n",
      "To enable them in other operations, rebuild TensorFlow with the appropriate compiler flags.\n",
      "2023-02-25 00:09:55.430792: I tensorflow/core/common_runtime/gpu/gpu_device.cc:1532] Created device /job:localhost/replica:0/task:0/device:GPU:0 with 31727 MB memory:  -> device: 0, name: NVIDIA A100-SXM4-40GB, pci bus id: 0000:31:00.0, compute capability: 8.0\n"
     ]
    },
    {
     "name": "stdout",
     "output_type": "stream",
     "text": [
      "Model: \"BinaryModelCrossEntropyOnSamplingDataset\"\n",
      "_________________________________________________________________\n",
      " Layer (type)                Output Shape              Param #   \n",
      "=================================================================\n",
      " efficientnetb0 (Functional)  (None, 7, 7, 1280)       4049571   \n",
      "                                                                 \n",
      " flatten (Flatten)           (None, 62720)             0         \n",
      "                                                                 \n",
      " dense (Dense)               (None, 512)               32113152  \n",
      "                                                                 \n",
      " dense_1 (Dense)             (None, 512)               262656    \n",
      "                                                                 \n",
      " dense_2 (Dense)             (None, 512)               262656    \n",
      "                                                                 \n",
      " dense_3 (Dense)             (None, 256)               131328    \n",
      "                                                                 \n",
      " dense_4 (Dense)             (None, 256)               65792     \n",
      "                                                                 \n",
      " dense_5 (Dense)             (None, 256)               65792     \n",
      "                                                                 \n",
      " dense_6 (Dense)             (None, 128)               32896     \n",
      "                                                                 \n",
      " dense_7 (Dense)             (None, 128)               16512     \n",
      "                                                                 \n",
      " dense_8 (Dense)             (None, 128)               16512     \n",
      "                                                                 \n",
      " dense_9 (Dense)             (None, 64)                8256      \n",
      "                                                                 \n",
      " dense_10 (Dense)            (None, 64)                4160      \n",
      "                                                                 \n",
      " dense_11 (Dense)            (None, 64)                4160      \n",
      "                                                                 \n",
      " dense_12 (Dense)            (None, 1)                 65        \n",
      "                                                                 \n",
      "=================================================================\n",
      "Total params: 37,033,508\n",
      "Trainable params: 36,991,485\n",
      "Non-trainable params: 42,023\n",
      "_________________________________________________________________\n"
     ]
    }
   ],
   "source": [
    "# Callbacks\n",
    "model_checkpoint_callback, early_stop_callback, reduce_lr_callback, lr_logging_callback = get_callbacks(NAME, weight_option)\n",
    "\n",
    "# Path for CSV\n",
    "path = os.path.join(CURRENT_PATH, \"results\", \"history\", \"training_with_CrossEntroy_model_2\", f\"{NAME}_{weight_option}\")\n",
    "os.makedirs(path, exist_ok=True)\n",
    "\n",
    "# CSV Logger\n",
    "csv_logger = CSVLogger(os.path.join(path, f\"history.csv\"))\n",
    "\n",
    "# Dataset\n",
    "train_dataset, test_dataset = Dataset().get_train(), Dataset().get_test()\n",
    "\n",
    "# Modeling\n",
    "transfer_model = tf.keras.applications.efficientnet.EfficientNetB0(\n",
    "    include_top=False, \n",
    "    weights=weight_option,\n",
    "    input_shape=(224, 224, 3),\n",
    "    pooling=None\n",
    ")\n",
    "\n",
    "model = Model_2(\n",
    "    transfer_model,\n",
    ")\n",
    "model = model.get_model()\n",
    "model._name = \"BinaryModelCrossEntropyOnSamplingDataset\"\n",
    "model.summary()"
   ]
  },
  {
   "cell_type": "code",
   "execution_count": 11,
   "id": "08f150f3-fe92-4574-8a96-2173b583e61c",
   "metadata": {},
   "outputs": [
    {
     "name": "stdout",
     "output_type": "stream",
     "text": [
      "Epoch 1/100\n"
     ]
    },
    {
     "name": "stderr",
     "output_type": "stream",
     "text": [
      "2023-02-25 00:10:07.806609: I tensorflow/stream_executor/cuda/cuda_dnn.cc:384] Loaded cuDNN version 8100\n",
      "2023-02-25 00:10:09.017749: I tensorflow/core/platform/default/subprocess.cc:304] Start cannot spawn child process: No such file or directory\n",
      "2023-02-25 00:10:09.023285: I tensorflow/core/platform/default/subprocess.cc:304] Start cannot spawn child process: No such file or directory\n",
      "2023-02-25 00:10:09.023321: W tensorflow/stream_executor/gpu/asm_compiler.cc:80] Couldn't get ptxas version string: INTERNAL: Couldn't invoke ptxas --version\n",
      "2023-02-25 00:10:09.024083: I tensorflow/core/platform/default/subprocess.cc:304] Start cannot spawn child process: No such file or directory\n",
      "2023-02-25 00:10:09.024161: W tensorflow/stream_executor/gpu/redzone_allocator.cc:314] INTERNAL: Failed to launch ptxas\n",
      "Relying on driver to perform ptx compilation. \n",
      "Modify $PATH to customize ptxas location.\n",
      "This message will be only logged once.\n",
      "2023-02-25 00:10:13.547591: I tensorflow/stream_executor/cuda/cuda_blas.cc:1786] TensorFloat-32 will be used for the matrix multiplication. This will only be logged once.\n"
     ]
    },
    {
     "name": "stdout",
     "output_type": "stream",
     "text": [
      "3060/3060 [==============================] - 662s 210ms/step - loss: 0.4383 - auc: 0.5094 - val_loss: 0.4323 - val_auc: 0.5015 - lr: 0.0010\n",
      "Epoch 2/100\n",
      "3060/3060 [==============================] - 633s 207ms/step - loss: 0.4324 - auc: 0.5055 - val_loss: 0.4314 - val_auc: 0.4999 - lr: 0.0010\n",
      "Epoch 3/100\n",
      "3060/3060 [==============================] - 627s 205ms/step - loss: 0.4303 - auc: 0.5029 - val_loss: 0.4313 - val_auc: 0.5121 - lr: 0.0010\n",
      "Epoch 4/100\n",
      "3060/3060 [==============================] - 625s 204ms/step - loss: 0.4302 - auc: 0.5038 - val_loss: 0.4315 - val_auc: 0.5000 - lr: 0.0010\n",
      "Epoch 5/100\n",
      "3060/3060 [==============================] - ETA: 0s - loss: 0.4299 - auc: 0.5016\n",
      "Epoch 5: ReduceLROnPlateau reducing learning rate to 0.0005000000237487257.\n",
      "3060/3060 [==============================] - 626s 205ms/step - loss: 0.4299 - auc: 0.5016 - val_loss: 0.4315 - val_auc: 0.5000 - lr: 5.0000e-04\n",
      "Epoch 6/100\n",
      "3060/3060 [==============================] - 625s 204ms/step - loss: 0.4297 - auc: 0.5008 - val_loss: 0.4315 - val_auc: 0.5000 - lr: 5.0000e-04\n",
      "Epoch 7/100\n",
      "3060/3060 [==============================] - 630s 206ms/step - loss: 0.4297 - auc: 0.5007 - val_loss: 0.4315 - val_auc: 0.5000 - lr: 5.0000e-04\n",
      "Epoch 8/100\n",
      "3060/3060 [==============================] - ETA: 0s - loss: 0.4297 - auc: 0.5007\n",
      "Epoch 8: ReduceLROnPlateau reducing learning rate to 0.0002500000118743628.\n",
      "3060/3060 [==============================] - 627s 205ms/step - loss: 0.4297 - auc: 0.5007 - val_loss: 0.4315 - val_auc: 0.5000 - lr: 2.5000e-04\n",
      "Epoch 9/100\n",
      "3060/3060 [==============================] - 627s 205ms/step - loss: 0.4296 - auc: 0.4992 - val_loss: 0.4314 - val_auc: 0.5000 - lr: 2.5000e-04\n",
      "Epoch 10/100\n",
      "3060/3060 [==============================] - 628s 205ms/step - loss: 0.4296 - auc: 0.5010 - val_loss: 0.4314 - val_auc: 0.5000 - lr: 2.5000e-04\n",
      "Epoch 11/100\n",
      "3060/3060 [==============================] - ETA: 0s - loss: 0.4296 - auc: 0.5009\n",
      "Epoch 11: ReduceLROnPlateau reducing learning rate to 0.0001250000059371814.\n",
      "3060/3060 [==============================] - 625s 204ms/step - loss: 0.4296 - auc: 0.5009 - val_loss: 0.4314 - val_auc: 0.5000 - lr: 1.2500e-04\n",
      "Epoch 12/100\n",
      "3060/3060 [==============================] - 627s 205ms/step - loss: 0.4296 - auc: 0.5010 - val_loss: 0.4314 - val_auc: 0.5000 - lr: 1.2500e-04\n",
      "Epoch 13/100\n",
      "3060/3060 [==============================] - 622s 203ms/step - loss: 0.4296 - auc: 0.5015 - val_loss: 0.4314 - val_auc: 0.5000 - lr: 1.2500e-04\n",
      "Epoch 14/100\n",
      "3060/3060 [==============================] - ETA: 0s - loss: 0.4296 - auc: 0.5015\n",
      "Epoch 14: ReduceLROnPlateau reducing learning rate to 6.25000029685907e-05.\n",
      "3060/3060 [==============================] - 624s 204ms/step - loss: 0.4296 - auc: 0.5015 - val_loss: 0.4314 - val_auc: 0.5000 - lr: 6.2500e-05\n",
      "Epoch 15/100\n",
      "3060/3060 [==============================] - 628s 205ms/step - loss: 0.4296 - auc: 0.4990 - val_loss: 0.4314 - val_auc: 0.5000 - lr: 6.2500e-05\n",
      "Epoch 16/100\n",
      "3060/3060 [==============================] - 625s 204ms/step - loss: 0.4296 - auc: 0.4992 - val_loss: 0.4314 - val_auc: 0.5000 - lr: 6.2500e-05\n",
      "Epoch 17/100\n",
      "3060/3060 [==============================] - ETA: 0s - loss: 0.4296 - auc: 0.4994\n",
      "Epoch 17: ReduceLROnPlateau reducing learning rate to 3.125000148429535e-05.\n",
      "3060/3060 [==============================] - 623s 204ms/step - loss: 0.4296 - auc: 0.4994 - val_loss: 0.4314 - val_auc: 0.5000 - lr: 3.1250e-05\n",
      "Epoch 18/100\n",
      "3060/3060 [==============================] - 622s 203ms/step - loss: 0.4296 - auc: 0.4982 - val_loss: 0.4314 - val_auc: 0.5000 - lr: 3.1250e-05\n",
      "Epoch 19/100\n",
      "3060/3060 [==============================] - 616s 201ms/step - loss: 0.4296 - auc: 0.4989 - val_loss: 0.4314 - val_auc: 0.5000 - lr: 3.1250e-05\n",
      "Epoch 20/100\n",
      "3060/3060 [==============================] - ETA: 0s - loss: 0.4296 - auc: 0.4987\n",
      "Epoch 20: ReduceLROnPlateau reducing learning rate to 1.5625000742147677e-05.\n",
      "3060/3060 [==============================] - 612s 200ms/step - loss: 0.4296 - auc: 0.4987 - val_loss: 0.4314 - val_auc: 0.5000 - lr: 1.5625e-05\n",
      "Epoch 21/100\n",
      "3060/3060 [==============================] - 614s 201ms/step - loss: 0.4296 - auc: 0.5000 - val_loss: 0.4314 - val_auc: 0.5000 - lr: 1.5625e-05\n",
      "Epoch 22/100\n",
      "3060/3060 [==============================] - 625s 204ms/step - loss: 0.4296 - auc: 0.5000 - val_loss: 0.4314 - val_auc: 0.5000 - lr: 1.5625e-05\n",
      "Epoch 23/100\n",
      "3060/3060 [==============================] - ETA: 0s - loss: 0.4296 - auc: 0.5000\n",
      "Epoch 23: ReduceLROnPlateau reducing learning rate to 7.812500371073838e-06.\n",
      "3060/3060 [==============================] - 621s 203ms/step - loss: 0.4296 - auc: 0.5000 - val_loss: 0.4314 - val_auc: 0.5000 - lr: 7.8125e-06\n",
      "Epoch 23: early stopping\n"
     ]
    }
   ],
   "source": [
    "# Visualize\n",
    "history = model.fit(\n",
    "    train_dataset,\n",
    "    epochs=EPOCHS,\n",
    "    validation_data=test_dataset,\n",
    "    verbose=1, # Show Progress Bar while Traning\n",
    "    callbacks=[model_checkpoint_callback, csv_logger, early_stop_callback, reduce_lr_callback, lr_logging_callback]\n",
    ")"
   ]
  },
  {
   "cell_type": "code",
   "execution_count": null,
   "id": "37ebf808-192e-4e87-bfef-cc6a686943a4",
   "metadata": {},
   "outputs": [],
   "source": []
  }
 ],
 "metadata": {
  "kernelspec": {
   "display_name": "Python 3 (ipykernel)",
   "language": "python",
   "name": "python3"
  },
  "language_info": {
   "codemirror_mode": {
    "name": "ipython",
    "version": 3
   },
   "file_extension": ".py",
   "mimetype": "text/x-python",
   "name": "python",
   "nbconvert_exporter": "python",
   "pygments_lexer": "ipython3",
   "version": "3.10.5"
  }
 },
 "nbformat": 4,
 "nbformat_minor": 5
}
