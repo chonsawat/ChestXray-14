{
 "cells": [
  {
   "cell_type": "code",
   "execution_count": 1,
   "id": "d66c840d-74ed-4dce-8715-96701c28615d",
   "metadata": {},
   "outputs": [],
   "source": [
    "import sys\n",
    "sys.path.append('/home/jovyan/ChestXray-14')"
   ]
  },
  {
   "cell_type": "code",
   "execution_count": 2,
   "id": "67f814fb-1441-4f0d-a350-2721d6466e42",
   "metadata": {},
   "outputs": [
    {
     "name": "stderr",
     "output_type": "stream",
     "text": [
      "2023-02-24 08:30:22.027830: I tensorflow/core/util/util.cc:169] oneDNN custom operations are on. You may see slightly different numerical results due to floating-point round-off errors from different computation orders. To turn them off, set the environment variable `TF_ENABLE_ONEDNN_OPTS=0`.\n"
     ]
    }
   ],
   "source": [
    "import tensorflow as tf\n",
    "from modules.models import Model\n",
    "from modules.utils import get_dataset\n",
    "from tensorflow.keras.callbacks import ModelCheckpoint, CSVLogger, EarlyStopping, ReduceLROnPlateau, LearningRateScheduler"
   ]
  },
  {
   "cell_type": "code",
   "execution_count": 3,
   "id": "711e4ac0-979b-41ff-a33a-78744a989705",
   "metadata": {},
   "outputs": [],
   "source": [
    "ROOT_PATH = \"/home/jovyan/ChestXray-14\"\n",
    "INPUT_PATH = f\"{ROOT_PATH}/dataset/ChestXray NIH\"\n",
    "LABELS = ['No Finding']"
   ]
  },
  {
   "cell_type": "code",
   "execution_count": 4,
   "id": "9811ebd7-bcf0-4396-93b7-5d16bef984de",
   "metadata": {},
   "outputs": [],
   "source": [
    "class Dataset:\n",
    "    INPUT_PATH = INPUT_PATH\n",
    "    \n",
    "    def get_train(self):\n",
    "        filenames = tf.io.gfile.glob(f'{self.INPUT_PATH}/data/binary_under_sampling/train/*.tfrec')\n",
    "        dataset = get_dataset(filenames)\n",
    "        return dataset\n",
    "\n",
    "    def get_test(self):\n",
    "        filenames = tf.io.gfile.glob(f'{self.INPUT_PATH}/data/binary_under_sampling/test/*.tfrec')\n",
    "        dataset = get_dataset(filenames)\n",
    "        return dataset"
   ]
  },
  {
   "cell_type": "markdown",
   "id": "3cdc0ba5-7306-4e81-aaef-22dace23181a",
   "metadata": {},
   "source": [
    "## Model Training"
   ]
  },
  {
   "cell_type": "code",
   "execution_count": 5,
   "id": "439fd766-e37c-49f6-8caf-63bce64aec3a",
   "metadata": {},
   "outputs": [
    {
     "data": {
      "text/plain": [
       "'/home/jovyan/ChestXray-14/experiments/BinaryModelWithUnderSampling'"
      ]
     },
     "execution_count": 5,
     "metadata": {},
     "output_type": "execute_result"
    }
   ],
   "source": [
    "import os\n",
    "CURRENT_PATH = os.path.abspath(\"\")\n",
    "CURRENT_PATH"
   ]
  },
  {
   "cell_type": "code",
   "execution_count": 6,
   "id": "216058d6-20e5-443e-b13d-a94a4a4b0914",
   "metadata": {},
   "outputs": [],
   "source": [
    "# Learning rate\n",
    "def lr_schedule(epoch, learning_rate):\n",
    "    tf.summary.scalar('learning rate', data=learning_rate, step=epoch)\n",
    "    return learning_rate"
   ]
  },
  {
   "cell_type": "code",
   "execution_count": 7,
   "id": "6d999200-df17-42e2-9df8-260023ed90e5",
   "metadata": {},
   "outputs": [],
   "source": [
    "def get_callbacks(NAME, weight_option, fold_num=None):\n",
    "    model_checkpoint_callback = ModelCheckpoint(f'results/models/CrossEntropy/{NAME}_{weight_option}.h5', monitor='val_loss', mode='min', save_best_only=True)\n",
    "    early_stop_callback = EarlyStopping(monitor='val_loss', mode=\"min\", patience=20, verbose=1)\n",
    "    reduce_lr_callback = ReduceLROnPlateau(monitor='val_loss', mode=\"min\", factor=0.5, patience=3, verbose=1)\n",
    "    lr_logging_callback = LearningRateScheduler(lr_schedule)\n",
    "    \n",
    "    return model_checkpoint_callback, early_stop_callback, reduce_lr_callback, lr_logging_callback"
   ]
  },
  {
   "cell_type": "code",
   "execution_count": 8,
   "id": "53c9d439-b8ef-4a49-b442-1a544fec7d79",
   "metadata": {},
   "outputs": [],
   "source": [
    "# Constant variables\n",
    "NAME = \"EfficientNetB0\"\n",
    "EPOCHS = 100"
   ]
  },
  {
   "cell_type": "code",
   "execution_count": 9,
   "id": "6c80c6d1-b500-4d62-8793-f3ed0cf28547",
   "metadata": {},
   "outputs": [],
   "source": [
    "weight_option = None # use `imagenet` or `None` only"
   ]
  },
  {
   "cell_type": "code",
   "execution_count": 11,
   "id": "034c4668-751e-4aba-b2b6-5d71e0bb5980",
   "metadata": {},
   "outputs": [
    {
     "name": "stdout",
     "output_type": "stream",
     "text": [
      "Model: \"BinaryModelCrossEntropyOnSamplingDataset\"\n",
      "_________________________________________________________________\n",
      " Layer (type)                Output Shape              Param #   \n",
      "=================================================================\n",
      " efficientnetb0 (Functional)  (None, 7, 7, 1280)       4049571   \n",
      "                                                                 \n",
      " flatten (Flatten)           (None, 62720)             0         \n",
      "                                                                 \n",
      " dense (Dense)               (None, 128)               8028288   \n",
      "                                                                 \n",
      " dense_1 (Dense)             (None, 128)               16512     \n",
      "                                                                 \n",
      " dense_2 (Dense)             (None, 64)                8256      \n",
      "                                                                 \n",
      " dense_3 (Dense)             (None, 64)                4160      \n",
      "                                                                 \n",
      " dense_4 (Dense)             (None, 1)                 65        \n",
      "                                                                 \n",
      "=================================================================\n",
      "Total params: 12,106,852\n",
      "Trainable params: 12,064,829\n",
      "Non-trainable params: 42,023\n",
      "_________________________________________________________________\n"
     ]
    }
   ],
   "source": [
    "# Callbacks\n",
    "model_checkpoint_callback, early_stop_callback, reduce_lr_callback, lr_logging_callback = get_callbacks(NAME, weight_option)\n",
    "\n",
    "# Path for CSV\n",
    "path = os.path.join(CURRENT_PATH, \"results\", \"history\", \"training_with_CrossEntroy\", f\"{NAME}_{weight_option}\")\n",
    "os.makedirs(path, exist_ok=True)\n",
    "\n",
    "# CSV Logger\n",
    "csv_logger = CSVLogger(os.path.join(path, f\"history.csv\"))\n",
    "\n",
    "# Dataset\n",
    "train_dataset, test_dataset = Dataset().get_train(), Dataset().get_test()\n",
    "\n",
    "# Modeling\n",
    "transfer_model = tf.keras.applications.efficientnet.EfficientNetB0(\n",
    "    include_top=False, \n",
    "    weights=weight_option,\n",
    "    input_shape=(224, 224, 3),\n",
    "    pooling=None\n",
    ")\n",
    "\n",
    "model = Model(\n",
    "    transfer_model,\n",
    ")\n",
    "model = model.get_model()\n",
    "model._name = \"BinaryModelCrossEntropyOnSamplingDataset\"\n",
    "model.summary()"
   ]
  },
  {
   "cell_type": "code",
   "execution_count": 12,
   "id": "08f150f3-fe92-4574-8a96-2173b583e61c",
   "metadata": {},
   "outputs": [
    {
     "name": "stdout",
     "output_type": "stream",
     "text": [
      "Epoch 1/100\n"
     ]
    },
    {
     "name": "stderr",
     "output_type": "stream",
     "text": [
      "2023-02-24 08:31:01.612407: I tensorflow/stream_executor/cuda/cuda_dnn.cc:384] Loaded cuDNN version 8100\n",
      "2023-02-24 08:31:02.868665: I tensorflow/core/platform/default/subprocess.cc:304] Start cannot spawn child process: No such file or directory\n",
      "2023-02-24 08:31:02.870478: I tensorflow/core/platform/default/subprocess.cc:304] Start cannot spawn child process: No such file or directory\n",
      "2023-02-24 08:31:02.870508: W tensorflow/stream_executor/gpu/asm_compiler.cc:80] Couldn't get ptxas version string: INTERNAL: Couldn't invoke ptxas --version\n",
      "2023-02-24 08:31:02.871422: I tensorflow/core/platform/default/subprocess.cc:304] Start cannot spawn child process: No such file or directory\n",
      "2023-02-24 08:31:02.871488: W tensorflow/stream_executor/gpu/redzone_allocator.cc:314] INTERNAL: Failed to launch ptxas\n",
      "Relying on driver to perform ptx compilation. \n",
      "Modify $PATH to customize ptxas location.\n",
      "This message will be only logged once.\n",
      "2023-02-24 08:31:07.124686: I tensorflow/stream_executor/cuda/cuda_blas.cc:1786] TensorFloat-32 will be used for the matrix multiplication. This will only be logged once.\n"
     ]
    },
    {
     "name": "stdout",
     "output_type": "stream",
     "text": [
      "3060/3060 [==============================] - 668s 212ms/step - loss: 0.4430 - auc_1: 0.5734 - val_loss: 0.4364 - val_auc_1: 0.5412 - lr: 0.0010\n",
      "Epoch 2/100\n",
      "3060/3060 [==============================] - 640s 209ms/step - loss: 0.4231 - auc_1: 0.6133 - val_loss: 0.4144 - val_auc_1: 0.6566 - lr: 0.0010\n",
      "Epoch 3/100\n",
      "3060/3060 [==============================] - 642s 210ms/step - loss: 0.4163 - auc_1: 0.6349 - val_loss: 0.4097 - val_auc_1: 0.6651 - lr: 0.0010\n",
      "Epoch 4/100\n",
      "3060/3060 [==============================] - 637s 208ms/step - loss: 0.4110 - auc_1: 0.6564 - val_loss: 0.4067 - val_auc_1: 0.6739 - lr: 0.0010\n",
      "Epoch 5/100\n",
      "3060/3060 [==============================] - 642s 210ms/step - loss: 0.4117 - auc_1: 0.6535 - val_loss: 0.4094 - val_auc_1: 0.6625 - lr: 0.0010\n",
      "Epoch 6/100\n",
      "3060/3060 [==============================] - 633s 207ms/step - loss: 0.4106 - auc_1: 0.6559 - val_loss: 0.4003 - val_auc_1: 0.6926 - lr: 0.0010\n",
      "Epoch 7/100\n",
      "3060/3060 [==============================] - 633s 207ms/step - loss: 0.4091 - auc_1: 0.6621 - val_loss: 0.4037 - val_auc_1: 0.6874 - lr: 0.0010\n",
      "Epoch 8/100\n",
      "3060/3060 [==============================] - 635s 207ms/step - loss: 0.4070 - auc_1: 0.6703 - val_loss: 0.4044 - val_auc_1: 0.6833 - lr: 0.0010\n",
      "Epoch 9/100\n",
      "3060/3060 [==============================] - ETA: 0s - loss: 0.4072 - auc_1: 0.6686\n",
      "Epoch 9: ReduceLROnPlateau reducing learning rate to 0.0005000000237487257.\n",
      "3060/3060 [==============================] - 636s 208ms/step - loss: 0.4072 - auc_1: 0.6686 - val_loss: 0.4030 - val_auc_1: 0.6848 - lr: 5.0000e-04\n",
      "Epoch 10/100\n",
      "3060/3060 [==============================] - 640s 209ms/step - loss: 0.4031 - auc_1: 0.6808 - val_loss: 0.3995 - val_auc_1: 0.6990 - lr: 5.0000e-04\n",
      "Epoch 11/100\n",
      "3060/3060 [==============================] - 635s 207ms/step - loss: 0.3986 - auc_1: 0.6932 - val_loss: 0.3979 - val_auc_1: 0.7055 - lr: 5.0000e-04\n",
      "Epoch 12/100\n",
      "3060/3060 [==============================] - 637s 208ms/step - loss: 0.3953 - auc_1: 0.7040 - val_loss: 0.3985 - val_auc_1: 0.7075 - lr: 5.0000e-04\n",
      "Epoch 13/100\n",
      "3060/3060 [==============================] - 633s 207ms/step - loss: 0.3927 - auc_1: 0.7109 - val_loss: 0.3979 - val_auc_1: 0.7097 - lr: 5.0000e-04\n",
      "Epoch 14/100\n",
      "3060/3060 [==============================] - 635s 208ms/step - loss: 0.3914 - auc_1: 0.7148 - val_loss: 0.3939 - val_auc_1: 0.7148 - lr: 5.0000e-04\n",
      "Epoch 15/100\n",
      "3060/3060 [==============================] - 636s 208ms/step - loss: 0.3884 - auc_1: 0.7224 - val_loss: 0.3980 - val_auc_1: 0.7001 - lr: 5.0000e-04\n",
      "Epoch 16/100\n",
      "3060/3060 [==============================] - 638s 208ms/step - loss: 0.3862 - auc_1: 0.7280 - val_loss: 0.3992 - val_auc_1: 0.7076 - lr: 5.0000e-04\n",
      "Epoch 17/100\n",
      "3060/3060 [==============================] - ETA: 0s - loss: 0.3828 - auc_1: 0.7365\n",
      "Epoch 17: ReduceLROnPlateau reducing learning rate to 0.0002500000118743628.\n",
      "3060/3060 [==============================] - 630s 206ms/step - loss: 0.3828 - auc_1: 0.7365 - val_loss: 0.4003 - val_auc_1: 0.7092 - lr: 2.5000e-04\n",
      "Epoch 18/100\n",
      "3060/3060 [==============================] - 636s 208ms/step - loss: 0.3743 - auc_1: 0.7546 - val_loss: 0.4039 - val_auc_1: 0.7066 - lr: 2.5000e-04\n",
      "Epoch 19/100\n",
      "3060/3060 [==============================] - 637s 208ms/step - loss: 0.3680 - auc_1: 0.7671 - val_loss: 0.4144 - val_auc_1: 0.6965 - lr: 2.5000e-04\n",
      "Epoch 20/100\n",
      "3060/3060 [==============================] - ETA: 0s - loss: 0.3618 - auc_1: 0.7787\n",
      "Epoch 20: ReduceLROnPlateau reducing learning rate to 0.0001250000059371814.\n",
      "3060/3060 [==============================] - 636s 208ms/step - loss: 0.3618 - auc_1: 0.7787 - val_loss: 0.4230 - val_auc_1: 0.6884 - lr: 1.2500e-04\n",
      "Epoch 21/100\n",
      "3060/3060 [==============================] - 634s 207ms/step - loss: 0.3515 - auc_1: 0.7966 - val_loss: 0.4313 - val_auc_1: 0.6927 - lr: 1.2500e-04\n",
      "Epoch 22/100\n",
      "3060/3060 [==============================] - 631s 206ms/step - loss: 0.3450 - auc_1: 0.8068 - val_loss: 0.4389 - val_auc_1: 0.6860 - lr: 1.2500e-04\n",
      "Epoch 23/100\n",
      "3060/3060 [==============================] - ETA: 0s - loss: 0.3395 - auc_1: 0.8156\n",
      "Epoch 23: ReduceLROnPlateau reducing learning rate to 6.25000029685907e-05.\n",
      "3060/3060 [==============================] - 635s 208ms/step - loss: 0.3395 - auc_1: 0.8156 - val_loss: 0.4535 - val_auc_1: 0.6795 - lr: 6.2500e-05\n",
      "Epoch 24/100\n",
      "3060/3060 [==============================] - 636s 208ms/step - loss: 0.3332 - auc_1: 0.8246 - val_loss: 0.4522 - val_auc_1: 0.6802 - lr: 6.2500e-05\n",
      "Epoch 25/100\n",
      "3060/3060 [==============================] - 636s 208ms/step - loss: 0.3273 - auc_1: 0.8332 - val_loss: 0.4606 - val_auc_1: 0.6765 - lr: 6.2500e-05\n",
      "Epoch 26/100\n",
      "3060/3060 [==============================] - ETA: 0s - loss: 0.3240 - auc_1: 0.8374\n",
      "Epoch 26: ReduceLROnPlateau reducing learning rate to 3.125000148429535e-05.\n",
      "3060/3060 [==============================] - 638s 208ms/step - loss: 0.3240 - auc_1: 0.8374 - val_loss: 0.4685 - val_auc_1: 0.6714 - lr: 3.1250e-05\n",
      "Epoch 27/100\n",
      "3060/3060 [==============================] - 637s 208ms/step - loss: 0.3191 - auc_1: 0.8440 - val_loss: 0.4787 - val_auc_1: 0.6716 - lr: 3.1250e-05\n",
      "Epoch 28/100\n",
      "3060/3060 [==============================] - 635s 208ms/step - loss: 0.3170 - auc_1: 0.8460 - val_loss: 0.4781 - val_auc_1: 0.6723 - lr: 3.1250e-05\n",
      "Epoch 29/100\n",
      "3060/3060 [==============================] - ETA: 0s - loss: 0.3143 - auc_1: 0.8496\n",
      "Epoch 29: ReduceLROnPlateau reducing learning rate to 1.5625000742147677e-05.\n",
      "3060/3060 [==============================] - 635s 208ms/step - loss: 0.3143 - auc_1: 0.8496 - val_loss: 0.4833 - val_auc_1: 0.6709 - lr: 1.5625e-05\n",
      "Epoch 30/100\n",
      "3060/3060 [==============================] - 642s 210ms/step - loss: 0.3141 - auc_1: 0.8495 - val_loss: 0.4839 - val_auc_1: 0.6694 - lr: 1.5625e-05\n",
      "Epoch 31/100\n",
      "3060/3060 [==============================] - 637s 208ms/step - loss: 0.3093 - auc_1: 0.8558 - val_loss: 0.4918 - val_auc_1: 0.6687 - lr: 1.5625e-05\n",
      "Epoch 32/100\n",
      "3060/3060 [==============================] - ETA: 0s - loss: 0.3073 - auc_1: 0.8575\n",
      "Epoch 32: ReduceLROnPlateau reducing learning rate to 7.812500371073838e-06.\n",
      "3060/3060 [==============================] - 634s 207ms/step - loss: 0.3073 - auc_1: 0.8575 - val_loss: 0.4952 - val_auc_1: 0.6668 - lr: 7.8125e-06\n",
      "Epoch 33/100\n",
      "3060/3060 [==============================] - 634s 207ms/step - loss: 0.3060 - auc_1: 0.8589 - val_loss: 0.4942 - val_auc_1: 0.6664 - lr: 7.8125e-06\n",
      "Epoch 34/100\n",
      "3060/3060 [==============================] - 639s 209ms/step - loss: 0.3060 - auc_1: 0.8597 - val_loss: 0.4947 - val_auc_1: 0.6654 - lr: 7.8125e-06\n",
      "Epoch 34: early stopping\n"
     ]
    }
   ],
   "source": [
    "# Visualize\n",
    "history = model.fit(\n",
    "    train_dataset,\n",
    "    epochs=EPOCHS,\n",
    "    validation_data=test_dataset,\n",
    "    verbose=1, # Show Progress Bar while Traning\n",
    "    callbacks=[model_checkpoint_callback, csv_logger, early_stop_callback, reduce_lr_callback, lr_logging_callback]\n",
    ")"
   ]
  },
  {
   "cell_type": "code",
   "execution_count": null,
   "id": "37ebf808-192e-4e87-bfef-cc6a686943a4",
   "metadata": {},
   "outputs": [],
   "source": []
  }
 ],
 "metadata": {
  "kernelspec": {
   "display_name": "Python 3 (ipykernel)",
   "language": "python",
   "name": "python3"
  },
  "language_info": {
   "codemirror_mode": {
    "name": "ipython",
    "version": 3
   },
   "file_extension": ".py",
   "mimetype": "text/x-python",
   "name": "python",
   "nbconvert_exporter": "python",
   "pygments_lexer": "ipython3",
   "version": "3.10.5"
  }
 },
 "nbformat": 4,
 "nbformat_minor": 5
}
