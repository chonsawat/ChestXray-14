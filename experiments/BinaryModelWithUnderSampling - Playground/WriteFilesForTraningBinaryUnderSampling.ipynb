{
 "cells": [
  {
   "cell_type": "code",
   "execution_count": 37,
   "id": "3479e6c1-0faa-4087-9fd7-7e70833b69a3",
   "metadata": {},
   "outputs": [],
   "source": [
    "import os\n",
    "ROOT_PATH = \"/home/jovyan/ChestXray-14\"\n",
    "INPUT_PATH = \"/home/jovyan/ChestXray-14/dataset/ChestXray NIH\"\n",
    "INPUT_PATH = os.path.abspath(INPUT_PATH)\n",
    "\n",
    "BATCH_SIZE = 16\n",
    "IMG_SIZE = 224\n",
    "SEED = 42"
   ]
  },
  {
   "cell_type": "code",
   "execution_count": 38,
   "id": "e3328c88-42f1-48a3-b525-9a7c93e42cb2",
   "metadata": {},
   "outputs": [],
   "source": [
    "dataset_path = f\"{INPUT_PATH}/under_sampling_data.csv\""
   ]
  },
  {
   "cell_type": "code",
   "execution_count": 39,
   "id": "5cbad913-56e7-4781-8d27-f33ddc0b87e0",
   "metadata": {},
   "outputs": [
    {
     "data": {
      "text/html": [
       "<div>\n",
       "<style scoped>\n",
       "    .dataframe tbody tr th:only-of-type {\n",
       "        vertical-align: middle;\n",
       "    }\n",
       "\n",
       "    .dataframe tbody tr th {\n",
       "        vertical-align: top;\n",
       "    }\n",
       "\n",
       "    .dataframe thead th {\n",
       "        text-align: right;\n",
       "    }\n",
       "</style>\n",
       "<table border=\"1\" class=\"dataframe\">\n",
       "  <thead>\n",
       "    <tr style=\"text-align: right;\">\n",
       "      <th></th>\n",
       "      <th>No Finding</th>\n",
       "    </tr>\n",
       "    <tr>\n",
       "      <th>index</th>\n",
       "      <th></th>\n",
       "    </tr>\n",
       "  </thead>\n",
       "  <tbody>\n",
       "    <tr>\n",
       "      <th>/home/jovyan/ChestXray-14/dataset/ChestXray NIH/images_004/images/00007691_004.png</th>\n",
       "      <td>0</td>\n",
       "    </tr>\n",
       "    <tr>\n",
       "      <th>/home/jovyan/ChestXray-14/dataset/ChestXray NIH/images_004/images/00008468_018.png</th>\n",
       "      <td>0</td>\n",
       "    </tr>\n",
       "    <tr>\n",
       "      <th>/home/jovyan/ChestXray-14/dataset/ChestXray NIH/images_002/images/00003427_000.png</th>\n",
       "      <td>0</td>\n",
       "    </tr>\n",
       "    <tr>\n",
       "      <th>/home/jovyan/ChestXray-14/dataset/ChestXray NIH/images_001/images/00001052_001.png</th>\n",
       "      <td>0</td>\n",
       "    </tr>\n",
       "    <tr>\n",
       "      <th>/home/jovyan/ChestXray-14/dataset/ChestXray NIH/images_001/images/00000459_037.png</th>\n",
       "      <td>0</td>\n",
       "    </tr>\n",
       "    <tr>\n",
       "      <th>...</th>\n",
       "      <td>...</td>\n",
       "    </tr>\n",
       "    <tr>\n",
       "      <th>/home/jovyan/ChestXray-14/dataset/ChestXray NIH/images_007/images/00014004_047.png</th>\n",
       "      <td>1</td>\n",
       "    </tr>\n",
       "    <tr>\n",
       "      <th>/home/jovyan/ChestXray-14/dataset/ChestXray NIH/images_009/images/00020843_000.png</th>\n",
       "      <td>0</td>\n",
       "    </tr>\n",
       "    <tr>\n",
       "      <th>/home/jovyan/ChestXray-14/dataset/ChestXray NIH/images_009/images/00020429_003.png</th>\n",
       "      <td>0</td>\n",
       "    </tr>\n",
       "    <tr>\n",
       "      <th>/home/jovyan/ChestXray-14/dataset/ChestXray NIH/images_011/images/00027919_000.png</th>\n",
       "      <td>0</td>\n",
       "    </tr>\n",
       "    <tr>\n",
       "      <th>/home/jovyan/ChestXray-14/dataset/ChestXray NIH/images_003/images/00005892_020.png</th>\n",
       "      <td>1</td>\n",
       "    </tr>\n",
       "  </tbody>\n",
       "</table>\n",
       "<p>61195 rows × 1 columns</p>\n",
       "</div>"
      ],
      "text/plain": [
       "                                                    No Finding\n",
       "index                                                         \n",
       "/home/jovyan/ChestXray-14/dataset/ChestXray NIH...           0\n",
       "/home/jovyan/ChestXray-14/dataset/ChestXray NIH...           0\n",
       "/home/jovyan/ChestXray-14/dataset/ChestXray NIH...           0\n",
       "/home/jovyan/ChestXray-14/dataset/ChestXray NIH...           0\n",
       "/home/jovyan/ChestXray-14/dataset/ChestXray NIH...           0\n",
       "...                                                        ...\n",
       "/home/jovyan/ChestXray-14/dataset/ChestXray NIH...           1\n",
       "/home/jovyan/ChestXray-14/dataset/ChestXray NIH...           0\n",
       "/home/jovyan/ChestXray-14/dataset/ChestXray NIH...           0\n",
       "/home/jovyan/ChestXray-14/dataset/ChestXray NIH...           0\n",
       "/home/jovyan/ChestXray-14/dataset/ChestXray NIH...           1\n",
       "\n",
       "[61195 rows x 1 columns]"
      ]
     },
     "execution_count": 39,
     "metadata": {},
     "output_type": "execute_result"
    }
   ],
   "source": [
    "import pandas as pd\n",
    "df = pd.read_csv(dataset_path)[[\"index\", \"No Finding\"]]\n",
    "\n",
    "df[\"index\"] = df[\"index\"].apply(\n",
    "    lambda x: os.path.abspath(f\"{ROOT_PATH}/{x}\")\n",
    ")\n",
    "\n",
    "df = df.set_index(\"index\")\n",
    "df"
   ]
  },
  {
   "cell_type": "markdown",
   "id": "abba8410-faee-43d0-aab0-626c737ca9fe",
   "metadata": {},
   "source": [
    "## Write Files"
   ]
  },
  {
   "cell_type": "code",
   "execution_count": 40,
   "id": "e270a31a-1308-48be-b0f9-23824d8490f9",
   "metadata": {},
   "outputs": [],
   "source": [
    "SEED = 42"
   ]
  },
  {
   "cell_type": "code",
   "execution_count": 41,
   "id": "31e0518c-f138-49e3-ae50-3db2514f2957",
   "metadata": {},
   "outputs": [],
   "source": [
    "from tqdm.notebook import tqdm\n",
    "from modules.utils import serialize_fold\n",
    "from sklearn.model_selection import train_test_split"
   ]
  },
  {
   "cell_type": "code",
   "execution_count": 42,
   "id": "d3ac7193-2a9a-42b4-82d9-c2374660991d",
   "metadata": {},
   "outputs": [],
   "source": [
    "df_train, df_test = train_test_split(df, \n",
    "                                     test_size=0.2,\n",
    "                                     random_state=SEED)"
   ]
  },
  {
   "cell_type": "code",
   "execution_count": 43,
   "id": "dd96428f-bb9b-416a-a7e7-ce994a51996b",
   "metadata": {},
   "outputs": [
    {
     "data": {
      "text/html": [
       "<div>\n",
       "<style scoped>\n",
       "    .dataframe tbody tr th:only-of-type {\n",
       "        vertical-align: middle;\n",
       "    }\n",
       "\n",
       "    .dataframe tbody tr th {\n",
       "        vertical-align: top;\n",
       "    }\n",
       "\n",
       "    .dataframe thead th {\n",
       "        text-align: right;\n",
       "    }\n",
       "</style>\n",
       "<table border=\"1\" class=\"dataframe\">\n",
       "  <thead>\n",
       "    <tr style=\"text-align: right;\">\n",
       "      <th></th>\n",
       "      <th>No Finding</th>\n",
       "    </tr>\n",
       "    <tr>\n",
       "      <th>index</th>\n",
       "      <th></th>\n",
       "    </tr>\n",
       "  </thead>\n",
       "  <tbody>\n",
       "    <tr>\n",
       "      <th>/home/jovyan/ChestXray-14/dataset/ChestXray NIH/images_003/images/00004342_036.png</th>\n",
       "      <td>0</td>\n",
       "    </tr>\n",
       "    <tr>\n",
       "      <th>/home/jovyan/ChestXray-14/dataset/ChestXray NIH/images_011/images/00025571_000.png</th>\n",
       "      <td>0</td>\n",
       "    </tr>\n",
       "    <tr>\n",
       "      <th>/home/jovyan/ChestXray-14/dataset/ChestXray NIH/images_008/images/00016972_024.png</th>\n",
       "      <td>0</td>\n",
       "    </tr>\n",
       "    <tr>\n",
       "      <th>/home/jovyan/ChestXray-14/dataset/ChestXray NIH/images_006/images/00013755_000.png</th>\n",
       "      <td>0</td>\n",
       "    </tr>\n",
       "    <tr>\n",
       "      <th>/home/jovyan/ChestXray-14/dataset/ChestXray NIH/images_005/images/00011397_000.png</th>\n",
       "      <td>1</td>\n",
       "    </tr>\n",
       "    <tr>\n",
       "      <th>...</th>\n",
       "      <td>...</td>\n",
       "    </tr>\n",
       "    <tr>\n",
       "      <th>/home/jovyan/ChestXray-14/dataset/ChestXray NIH/images_009/images/00019670_000.png</th>\n",
       "      <td>0</td>\n",
       "    </tr>\n",
       "    <tr>\n",
       "      <th>/home/jovyan/ChestXray-14/dataset/ChestXray NIH/images_011/images/00025877_007.png</th>\n",
       "      <td>0</td>\n",
       "    </tr>\n",
       "    <tr>\n",
       "      <th>/home/jovyan/ChestXray-14/dataset/ChestXray NIH/images_004/images/00007421_000.png</th>\n",
       "      <td>0</td>\n",
       "    </tr>\n",
       "    <tr>\n",
       "      <th>/home/jovyan/ChestXray-14/dataset/ChestXray NIH/images_004/images/00006642_014.png</th>\n",
       "      <td>0</td>\n",
       "    </tr>\n",
       "    <tr>\n",
       "      <th>/home/jovyan/ChestXray-14/dataset/ChestXray NIH/images_004/images/00008746_000.png</th>\n",
       "      <td>0</td>\n",
       "    </tr>\n",
       "  </tbody>\n",
       "</table>\n",
       "<p>48956 rows × 1 columns</p>\n",
       "</div>"
      ],
      "text/plain": [
       "                                                    No Finding\n",
       "index                                                         \n",
       "/home/jovyan/ChestXray-14/dataset/ChestXray NIH...           0\n",
       "/home/jovyan/ChestXray-14/dataset/ChestXray NIH...           0\n",
       "/home/jovyan/ChestXray-14/dataset/ChestXray NIH...           0\n",
       "/home/jovyan/ChestXray-14/dataset/ChestXray NIH...           0\n",
       "/home/jovyan/ChestXray-14/dataset/ChestXray NIH...           1\n",
       "...                                                        ...\n",
       "/home/jovyan/ChestXray-14/dataset/ChestXray NIH...           0\n",
       "/home/jovyan/ChestXray-14/dataset/ChestXray NIH...           0\n",
       "/home/jovyan/ChestXray-14/dataset/ChestXray NIH...           0\n",
       "/home/jovyan/ChestXray-14/dataset/ChestXray NIH...           0\n",
       "/home/jovyan/ChestXray-14/dataset/ChestXray NIH...           0\n",
       "\n",
       "[48956 rows x 1 columns]"
      ]
     },
     "execution_count": 43,
     "metadata": {},
     "output_type": "execute_result"
    }
   ],
   "source": [
    "df_train"
   ]
  },
  {
   "cell_type": "code",
   "execution_count": 44,
   "id": "199fe5ae-1ac7-40f9-ac4d-0ce32dd73dc3",
   "metadata": {},
   "outputs": [],
   "source": [
    "import os\n",
    "ROOT_PATH = \"/home/jovyan/ChestXray-14\"\n",
    "DATASET_PATH = f\"{ROOT_PATH}/dataset/ChestXray NIH/data/binary_under_sampling\"\n",
    "OUT_TRAIN_PATH = DATASET_PATH + \"/train\"\n",
    "OUT_TEST_PATH = DATASET_PATH + \"/test\""
   ]
  },
  {
   "cell_type": "code",
   "execution_count": 45,
   "id": "a79d3d02-923f-45e3-bfd9-6721ff68685a",
   "metadata": {},
   "outputs": [],
   "source": [
    "from pathlib import Path\n",
    "Path(OUT_TRAIN_PATH).mkdir(parents=True, exist_ok=True)\n",
    "Path(OUT_TEST_PATH).mkdir(parents=True, exist_ok=True)"
   ]
  },
  {
   "cell_type": "code",
   "execution_count": 46,
   "id": "b30ee035-c92b-404e-a62e-661074f910c1",
   "metadata": {},
   "outputs": [
    {
     "name": "stdout",
     "output_type": "stream",
     "text": [
      "Dataset Infomation:\n",
      "    >> Train: 48,956\n",
      "    >> Test: 12,239\n",
      "    >> Total: 61,195\n",
      "\n"
     ]
    }
   ],
   "source": [
    "print(f\"\"\"\\\n",
    "Dataset Infomation:\n",
    "    >> Train: {len(df_train) :,}\n",
    "    >> Test: {len(df_test) :,}\n",
    "    >> Total: {len(df) :,}\n",
    "\"\"\")"
   ]
  },
  {
   "cell_type": "code",
   "execution_count": 48,
   "id": "c9adf323-322c-4adf-9f2b-e8bd479082ed",
   "metadata": {},
   "outputs": [],
   "source": [
    "import numpy as np"
   ]
  },
  {
   "cell_type": "code",
   "execution_count": 50,
   "id": "d77b61c4-7228-4d6e-8a2b-33d7ecb358ef",
   "metadata": {},
   "outputs": [],
   "source": [
    "NUM_FILES = 100"
   ]
  },
  {
   "cell_type": "code",
   "execution_count": 51,
   "id": "33222f53-2256-43e5-9946-2cd1102a522b",
   "metadata": {},
   "outputs": [
    {
     "data": {
      "application/vnd.jupyter.widget-view+json": {
       "model_id": "2bb0c1881c25465984b83950bd605c02",
       "version_major": 2,
       "version_minor": 0
      },
      "text/plain": [
       "  0%|          | 0/100 [00:00<?, ?it/s]"
      ]
     },
     "metadata": {},
     "output_type": "display_data"
    },
    {
     "name": "stderr",
     "output_type": "stream",
     "text": [
      "2023-02-21 09:03:40.306370: I tensorflow/core/platform/cpu_feature_guard.cc:193] This TensorFlow binary is optimized with oneAPI Deep Neural Network Library (oneDNN) to use the following CPU instructions in performance-critical operations:  AVX2 AVX512F AVX512_VNNI FMA\n",
      "To enable them in other operations, rebuild TensorFlow with the appropriate compiler flags.\n",
      "2023-02-21 09:03:42.158142: I tensorflow/core/common_runtime/gpu/gpu_device.cc:1532] Created device /job:localhost/replica:0/task:0/device:GPU:0 with 168 MB memory:  -> device: 0, name: NVIDIA A100-SXM4-40GB, pci bus id: 0000:ca:00.0, compute capability: 8.0\n",
      "2023-02-21 09:03:42.188900: I tensorflow/stream_executor/cuda/cuda_driver.cc:739] failed to allocate 168.06M (176226304 bytes) from device: CUDA_ERROR_OUT_OF_MEMORY: out of memory\n",
      "2023-02-21 09:16:28.042380: W tensorflow/core/lib/png/png_io.cc:88] PNG warning: iCCP: profile 'ICC Profile': 'GRAY': Gray color space not permitted on RGB PNG\n"
     ]
    }
   ],
   "source": [
    "# Train\n",
    "for i, data in tqdm(\n",
    "    enumerate(np.array_split(df_train, NUM_FILES)),\n",
    "    total=NUM_FILES\n",
    "        ):\n",
    "    serialize_fold(\n",
    "        data, \n",
    "        name=f'{OUT_TRAIN_PATH}/{i:03d}-{len(data):03d}'\n",
    "    )"
   ]
  },
  {
   "cell_type": "code",
   "execution_count": 52,
   "id": "c5359828-3d1d-46de-b71f-106182f64391",
   "metadata": {},
   "outputs": [
    {
     "data": {
      "application/vnd.jupyter.widget-view+json": {
       "model_id": "93f2e28ff2cc47da8b012822150aebea",
       "version_major": 2,
       "version_minor": 0
      },
      "text/plain": [
       "  0%|          | 0/100 [00:00<?, ?it/s]"
      ]
     },
     "metadata": {},
     "output_type": "display_data"
    },
    {
     "name": "stderr",
     "output_type": "stream",
     "text": [
      "2023-02-21 09:28:09.983072: W tensorflow/core/lib/png/png_io.cc:88] PNG warning: iCCP: profile 'ICC Profile': 'GRAY': Gray color space not permitted on RGB PNG\n"
     ]
    }
   ],
   "source": [
    "# Test\n",
    "for i, data in tqdm(\n",
    "    enumerate(np.array_split(df_test, NUM_FILES)),\n",
    "    total=NUM_FILES\n",
    "        ):\n",
    "    serialize_fold(\n",
    "        data, \n",
    "        name=f'{OUT_TEST_PATH}/{i:03d}-{len(data):03d}'\n",
    "    )"
   ]
  },
  {
   "cell_type": "code",
   "execution_count": null,
   "id": "60707232-9783-49fa-bd7e-e777cf014f5f",
   "metadata": {},
   "outputs": [],
   "source": []
  }
 ],
 "metadata": {
  "kernelspec": {
   "display_name": "Python 3 (ipykernel)",
   "language": "python",
   "name": "python3"
  },
  "language_info": {
   "codemirror_mode": {
    "name": "ipython",
    "version": 3
   },
   "file_extension": ".py",
   "mimetype": "text/x-python",
   "name": "python",
   "nbconvert_exporter": "python",
   "pygments_lexer": "ipython3",
   "version": "3.10.5"
  }
 },
 "nbformat": 4,
 "nbformat_minor": 5
}
