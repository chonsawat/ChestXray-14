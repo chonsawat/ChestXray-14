{
 "cells": [
  {
   "cell_type": "code",
   "execution_count": 2,
   "id": "e812f348-2bdb-4860-9653-2911e8440f25",
   "metadata": {},
   "outputs": [],
   "source": [
    "from IPython.display import clear_output\n",
    "!pip install tensorflow_addons\n",
    "clear_output()"
   ]
  },
  {
   "cell_type": "code",
   "execution_count": 3,
   "id": "24fba86b-2e65-4940-a526-00e3b3683ff8",
   "metadata": {},
   "outputs": [
    {
     "name": "stderr",
     "output_type": "stream",
     "text": [
      "2023-01-04 08:06:42.364751: I tensorflow/core/util/util.cc:169] oneDNN custom operations are on. You may see slightly different numerical results due to floating-point round-off errors from different computation orders. To turn them off, set the environment variable `TF_ENABLE_ONEDNN_OPTS=0`.\n"
     ]
    }
   ],
   "source": [
    "import numpy as np\n",
    "import pandas as pd\n",
    "import seaborn as sns\n",
    "import tensorflow as tf\n",
    "import matplotlib.pyplot as plt\n",
    "import tensorflow_addons as tfa\n",
    "from modules.dataset import LABELS, Dataset"
   ]
  },
  {
   "cell_type": "markdown",
   "id": "689a3b98-df04-494d-be2a-7c6945298211",
   "metadata": {},
   "source": [
    "## Functions"
   ]
  },
  {
   "cell_type": "code",
   "execution_count": 4,
   "id": "dbcb627f-02d5-46ee-8c2a-0027817fbeb1",
   "metadata": {},
   "outputs": [],
   "source": [
    "def get_test_dataset_5_fold():\n",
    "    dataset = Dataset()\n",
    "    _, test_dataset_fold_1 = dataset.get_kfold(fold_number=1, sample=False)\n",
    "    _, test_dataset_fold_2 = dataset.get_kfold(fold_number=2, sample=False)\n",
    "    _, test_dataset_fold_3 = dataset.get_kfold(fold_number=3, sample=False)\n",
    "    _, test_dataset_fold_4 = dataset.get_kfold(fold_number=4, sample=False)\n",
    "    _, test_dataset_fold_5 = dataset.get_kfold(fold_number=5, sample=False)\n",
    "    return (\n",
    "        test_dataset_fold_1,\n",
    "        test_dataset_fold_2,\n",
    "        test_dataset_fold_3,\n",
    "        test_dataset_fold_4,\n",
    "        test_dataset_fold_5\n",
    "    )"
   ]
  },
  {
   "cell_type": "code",
   "execution_count": 5,
   "id": "eaceeb17-8ea9-4e0c-88b7-387dd9712eed",
   "metadata": {},
   "outputs": [],
   "source": [
    "def get_y_true(data):\n",
    "    y_true=[]\n",
    "    for X,y in data:\n",
    "        for label in y:\n",
    "            y_true.append(label)\n",
    "    y_true = tf.Variable(y_true)\n",
    "    return y_true"
   ]
  },
  {
   "cell_type": "code",
   "execution_count": 6,
   "id": "19c823f6-3cca-4366-9e07-b55756a1b8e1",
   "metadata": {},
   "outputs": [],
   "source": [
    "def get_model(model_path):\n",
    "    return tf.keras.models.load_model(model_path)"
   ]
  },
  {
   "cell_type": "code",
   "execution_count": 7,
   "id": "66b4b865-4374-44b5-a7ef-e7a8ea632ed9",
   "metadata": {},
   "outputs": [],
   "source": [
    "def get_filename(model_path):\n",
    "    return model_path.split(\".\")[0].split(\"/\")[-1]"
   ]
  },
  {
   "cell_type": "code",
   "execution_count": 8,
   "id": "a67a72e0-1f00-421d-899b-1f75570571f3",
   "metadata": {},
   "outputs": [],
   "source": [
    "def model_predict(model, test_dataset):\n",
    "    return model.predict(test_dataset)"
   ]
  },
  {
   "cell_type": "code",
   "execution_count": 9,
   "id": "a254d74c-2cbf-4bb0-9a78-1c21f5847248",
   "metadata": {},
   "outputs": [],
   "source": [
    "def evaluate(model, test_dataset, file_name):\n",
    "    y_true = get_y_true(test_dataset)\n",
    "    y_preds = model_predict(model, test_dataset)\n",
    "    m = tf.keras.metrics.AUC(multi_label=True)\n",
    "    m.update_state(y_true, y_preds)\n",
    "    return m.result().numpy()"
   ]
  },
  {
   "cell_type": "code",
   "execution_count": 10,
   "id": "4898f660-0b84-4dc8-8d8a-84605679f9b2",
   "metadata": {},
   "outputs": [],
   "source": [
    "def get_model_path(model_name, fold):\n",
    "    model_path = {\n",
    "        \"DenseNet121_none\": \"/home/jovyan/ChestXray-14/results/models/DenseNet121_None_fold_{}.h5\",\n",
    "        \"DenseNet121_imagenet\": \"/home/jovyan/ChestXray-14/results/models/DenseNet121_imagenet_fold_{}.h5\",\n",
    "        \"EfficeientNetB0_none\": \"/home/jovyan/ChestXray-14/results/models/EfficientNetB0_None_fold_{}.h5\",\n",
    "        \"EfficeientNetB0_imagenet\": \"/home/jovyan/ChestXray-14/results/models/EfficientNetB0_imagenet_fold_{}.h5\",\n",
    "        \"Resnet50_none\": \"/home/jovyan/ChestXray-14/results/models/Resnet50_fold_{}.h5\",\n",
    "        \"Resnet50_imagenet\": \"/home/jovyan/ChestXray-14/results/models/Resnet50_imagenet_fold_{}.h5\"\n",
    "    }\n",
    "    return model_path[model_name].format(fold)"
   ]
  },
  {
   "cell_type": "code",
   "execution_count": 11,
   "id": "86678c31-a3a0-401f-a61c-126cb7ab0b5f",
   "metadata": {},
   "outputs": [],
   "source": [
    "def create_dataframe(auc_5_folds, file_name):\n",
    "    df = pd.DataFrame({\"AUC\": auc_5_folds})\n",
    "    df.to_csv(f\"/home/jovyan/ChestXray-14/results/paper/table2/{file_name}.csv\", index=False)"
   ]
  },
  {
   "cell_type": "code",
   "execution_count": 12,
   "id": "565a2ec5-9bf6-407d-be45-bc87d2bc617b",
   "metadata": {},
   "outputs": [],
   "source": [
    "def evaluate_5_folds(model_name):\n",
    "    \"\"\"\n",
    "    Parameter\n",
    "    ---------\n",
    "    path: str\n",
    "        path to best model\n",
    "    \"\"\"\n",
    "    auc_5_folds = []\n",
    "    for i in range(5): # 5 Folds\n",
    "        path = get_model_path(model_name, fold=i+1)\n",
    "        model = get_model(path)\n",
    "        file_name = get_filename(path)\n",
    "        auc = evaluate(model=model, test_dataset=test_dataset[i], file_name=file_name)\n",
    "        auc_5_folds.append(auc)\n",
    "        print(f\"===== {file_name} =====\")\n",
    "        print(f\">> Fold {i+1} = {auc}\")\n",
    "        # break\n",
    "    \n",
    "    print(f\"Average AUC of {file_name} = {np.mean(auc_5_folds)}\")\n",
    "    create_dataframe(auc_5_folds, file_name)"
   ]
  },
  {
   "cell_type": "markdown",
   "id": "763bd2c0-6e1e-46c5-a499-7095a3caeb0d",
   "metadata": {},
   "source": [
    "## Main"
   ]
  },
  {
   "cell_type": "code",
   "execution_count": 25,
   "id": "dae8a24c-602a-4337-9ef5-368118ad6b5f",
   "metadata": {},
   "outputs": [],
   "source": [
    "test_dataset = get_test_dataset_5_fold()"
   ]
  },
  {
   "cell_type": "code",
   "execution_count": 26,
   "id": "615da84e-062a-4db3-bbc7-45ace94c1b15",
   "metadata": {},
   "outputs": [
    {
     "name": "stdout",
     "output_type": "stream",
     "text": [
      "1402/1402 [==============================] - 57s 39ms/step\n",
      "===== DenseNet121_None_fold_1 =====\n",
      ">> Fold 1 = 0.7168176174163818\n",
      "1402/1402 [==============================] - 56s 38ms/step\n",
      "===== DenseNet121_None_fold_2 =====\n",
      ">> Fold 2 = 0.7234813570976257\n",
      "1402/1402 [==============================] - 54s 37ms/step\n",
      "===== DenseNet121_None_fold_3 =====\n",
      ">> Fold 3 = 0.7426453232765198\n",
      "1402/1402 [==============================] - 55s 38ms/step\n",
      "===== DenseNet121_None_fold_4 =====\n",
      ">> Fold 4 = 0.7323508858680725\n",
      "1402/1402 [==============================] - 54s 37ms/step\n",
      "===== DenseNet121_None_fold_5 =====\n",
      ">> Fold 5 = 0.7227852940559387\n",
      "Average AUC of DenseNet121_None_fold_5 = 0.7276160717010498\n"
     ]
    }
   ],
   "source": [
    "evaluate_5_folds(\"DenseNet121_none\")"
   ]
  },
  {
   "cell_type": "code",
   "execution_count": 27,
   "id": "09fc70bf-60c4-4ef1-bccb-c3e274d0855a",
   "metadata": {},
   "outputs": [
    {
     "name": "stdout",
     "output_type": "stream",
     "text": [
      "1402/1402 [==============================] - 56s 38ms/step\n",
      "===== DenseNet121_imagenet_fold_1 =====\n",
      ">> Fold 1 = 0.7416366934776306\n",
      "1402/1402 [==============================] - 56s 38ms/step\n",
      "===== DenseNet121_imagenet_fold_2 =====\n",
      ">> Fold 2 = 0.7446348071098328\n",
      "1402/1402 [==============================] - 56s 38ms/step\n",
      "===== DenseNet121_imagenet_fold_3 =====\n",
      ">> Fold 3 = 0.7446626424789429\n",
      "1402/1402 [==============================] - 57s 40ms/step\n",
      "===== DenseNet121_imagenet_fold_4 =====\n",
      ">> Fold 4 = 0.7416130304336548\n",
      "1402/1402 [==============================] - 56s 38ms/step\n",
      "===== DenseNet121_imagenet_fold_5 =====\n",
      ">> Fold 5 = 0.7413163781166077\n",
      "Average AUC of DenseNet121_imagenet_fold_5 = 0.7427726984024048\n"
     ]
    }
   ],
   "source": [
    "evaluate_5_folds(\"DenseNet121_imagenet\")"
   ]
  },
  {
   "cell_type": "code",
   "execution_count": 28,
   "id": "c30a36f5-adbc-48d5-b44d-54fd72851936",
   "metadata": {},
   "outputs": [
    {
     "name": "stdout",
     "output_type": "stream",
     "text": [
      "1402/1402 [==============================] - 47s 30ms/step\n",
      "===== EfficientNetB0_None_fold_1 =====\n",
      ">> Fold 1 = 0.7434552907943726\n",
      "1402/1402 [==============================] - 42s 29ms/step\n",
      "===== EfficientNetB0_None_fold_2 =====\n",
      ">> Fold 2 = 0.7409191131591797\n",
      "1402/1402 [==============================] - 42s 29ms/step\n",
      "===== EfficientNetB0_None_fold_3 =====\n",
      ">> Fold 3 = 0.7506392598152161\n",
      "1402/1402 [==============================] - 42s 29ms/step\n",
      "===== EfficientNetB0_None_fold_4 =====\n",
      ">> Fold 4 = 0.7430868744850159\n",
      "1402/1402 [==============================] - 43s 29ms/step\n",
      "===== EfficientNetB0_None_fold_5 =====\n",
      ">> Fold 5 = 0.738027811050415\n",
      "Average AUC of EfficientNetB0_None_fold_5 = 0.7432256937026978\n"
     ]
    }
   ],
   "source": [
    "evaluate_5_folds(\"EfficeientNetB0_none\")"
   ]
  },
  {
   "cell_type": "code",
   "execution_count": 29,
   "id": "fc6bad76-bbd5-4bd1-a402-747c4c772690",
   "metadata": {},
   "outputs": [
    {
     "name": "stdout",
     "output_type": "stream",
     "text": [
      "1402/1402 [==============================] - 42s 29ms/step\n",
      "===== EfficientNetB0_imagenet_fold_1 =====\n",
      ">> Fold 1 = 0.6801937222480774\n",
      "1402/1402 [==============================] - 43s 29ms/step\n",
      "===== EfficientNetB0_imagenet_fold_2 =====\n",
      ">> Fold 2 = 0.49319955706596375\n",
      "1402/1402 [==============================] - 42s 29ms/step\n",
      "===== EfficientNetB0_imagenet_fold_3 =====\n",
      ">> Fold 3 = 0.626673698425293\n",
      "1402/1402 [==============================] - 43s 29ms/step\n",
      "===== EfficientNetB0_imagenet_fold_4 =====\n",
      ">> Fold 4 = 0.54878169298172\n",
      "1402/1402 [==============================] - 42s 29ms/step\n",
      "===== EfficientNetB0_imagenet_fold_5 =====\n",
      ">> Fold 5 = 0.6150543093681335\n",
      "Average AUC of EfficientNetB0_imagenet_fold_5 = 0.592780590057373\n"
     ]
    }
   ],
   "source": [
    "evaluate_5_folds(\"EfficeientNetB0_imagenet\")"
   ]
  },
  {
   "cell_type": "code",
   "execution_count": 30,
   "id": "f46985d6-a1af-4720-9295-71d1cb573361",
   "metadata": {},
   "outputs": [
    {
     "name": "stdout",
     "output_type": "stream",
     "text": [
      "1402/1402 [==============================] - 40s 27ms/step\n",
      "===== Resnet50_fold_1 =====\n",
      ">> Fold 1 = 0.7188717126846313\n",
      "1402/1402 [==============================] - 37s 26ms/step\n",
      "===== Resnet50_fold_2 =====\n",
      ">> Fold 2 = 0.7164515256881714\n",
      "1402/1402 [==============================] - 37s 26ms/step\n",
      "===== Resnet50_fold_3 =====\n",
      ">> Fold 3 = 0.7254135012626648\n",
      "1402/1402 [==============================] - 37s 26ms/step\n",
      "===== Resnet50_fold_4 =====\n",
      ">> Fold 4 = 0.7192507386207581\n",
      "1402/1402 [==============================] - 37s 26ms/step\n",
      "===== Resnet50_fold_5 =====\n",
      ">> Fold 5 = 0.7044130563735962\n",
      "Average AUC of Resnet50_fold_5 = 0.7168801426887512\n"
     ]
    }
   ],
   "source": [
    "evaluate_5_folds(\"Resnet50_none\")"
   ]
  },
  {
   "cell_type": "code",
   "execution_count": 31,
   "id": "953af02e-b8e9-4c41-835e-50169d44106c",
   "metadata": {},
   "outputs": [
    {
     "name": "stdout",
     "output_type": "stream",
     "text": [
      "1402/1402 [==============================] - 37s 26ms/step\n",
      "===== Resnet50_imagenet_fold_1 =====\n",
      ">> Fold 1 = 0.7305748462677002\n",
      "1402/1402 [==============================] - 37s 26ms/step\n",
      "===== Resnet50_imagenet_fold_2 =====\n",
      ">> Fold 2 = 0.7403049468994141\n",
      "1402/1402 [==============================] - 38s 26ms/step\n",
      "===== Resnet50_imagenet_fold_3 =====\n",
      ">> Fold 3 = 0.7430562973022461\n",
      "1402/1402 [==============================] - 37s 26ms/step\n",
      "===== Resnet50_imagenet_fold_4 =====\n",
      ">> Fold 4 = 0.7355892062187195\n",
      "1402/1402 [==============================] - 37s 26ms/step\n",
      "===== Resnet50_imagenet_fold_5 =====\n",
      ">> Fold 5 = 0.7230795621871948\n",
      "Average AUC of Resnet50_imagenet_fold_5 = 0.7345210313796997\n"
     ]
    }
   ],
   "source": [
    "evaluate_5_folds(\"Resnet50_imagenet\")"
   ]
  },
  {
   "cell_type": "code",
   "execution_count": null,
   "id": "91cc477b-4515-4422-b066-a5aea18586c4",
   "metadata": {},
   "outputs": [],
   "source": []
  }
 ],
 "metadata": {
  "kernelspec": {
   "display_name": "Python 3 (ipykernel)",
   "language": "python",
   "name": "python3"
  },
  "language_info": {
   "codemirror_mode": {
    "name": "ipython",
    "version": 3
   },
   "file_extension": ".py",
   "mimetype": "text/x-python",
   "name": "python",
   "nbconvert_exporter": "python",
   "pygments_lexer": "ipython3",
   "version": "3.10.5"
  }
 },
 "nbformat": 4,
 "nbformat_minor": 5
}
