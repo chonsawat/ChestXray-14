{
 "cells": [
  {
   "cell_type": "code",
   "execution_count": 1,
   "id": "aefc600d-a9a3-49cd-8abf-1a72fd4a7477",
   "metadata": {},
   "outputs": [
    {
     "name": "stdout",
     "output_type": "stream",
     "text": [
      "Looking in indexes: https://pypi.org/simple, https://pypi.ngc.nvidia.com\n",
      "Requirement already satisfied: tensorflow_addons in /opt/conda/lib/python3.10/site-packages (0.19.0)\n",
      "Requirement already satisfied: packaging in /opt/conda/lib/python3.10/site-packages (from tensorflow_addons) (21.3)\n",
      "Requirement already satisfied: typeguard>=2.7 in /opt/conda/lib/python3.10/site-packages (from tensorflow_addons) (2.13.3)\n",
      "Requirement already satisfied: pyparsing!=3.0.5,>=2.0.2 in /opt/conda/lib/python3.10/site-packages (from packaging->tensorflow_addons) (3.0.9)\n"
     ]
    }
   ],
   "source": [
    "!pip3 install tensorflow_addons"
   ]
  },
  {
   "cell_type": "code",
   "execution_count": 2,
   "id": "a565b964-1422-4cbe-9c6e-e2aef415b001",
   "metadata": {},
   "outputs": [],
   "source": [
    "import sys\n",
    "sys.path.append('/home/jovyan/ChestXray-14')"
   ]
  },
  {
   "cell_type": "code",
   "execution_count": 3,
   "id": "173e1050-1655-442e-a8de-4616c861b556",
   "metadata": {},
   "outputs": [
    {
     "name": "stderr",
     "output_type": "stream",
     "text": [
      "2023-02-22 09:30:35.081675: I tensorflow/core/util/util.cc:169] oneDNN custom operations are on. You may see slightly different numerical results due to floating-point round-off errors from different computation orders. To turn them off, set the environment variable `TF_ENABLE_ONEDNN_OPTS=0`.\n"
     ]
    }
   ],
   "source": [
    "import pandas as pd\n",
    "import tensorflow as tf\n",
    "from modules.utils import get_dataset\n",
    "from modules.evaluate import Evaluate\n",
    "from modules.dataset import Dataset"
   ]
  },
  {
   "cell_type": "code",
   "execution_count": 4,
   "id": "070f651c-66b6-4d49-8597-b1937b6325e0",
   "metadata": {},
   "outputs": [
    {
     "data": {
      "text/plain": [
       "'/home/jovyan/ChestXray-14/run_specific_fold'"
      ]
     },
     "execution_count": 4,
     "metadata": {},
     "output_type": "execute_result"
    }
   ],
   "source": [
    "import os\n",
    "CURRENT_PATH = os.path.abspath(\"\")\n",
    "CURRENT_PATH"
   ]
  },
  {
   "cell_type": "code",
   "execution_count": 5,
   "id": "b108e3ab-58db-4b93-9b3c-40955800a58f",
   "metadata": {},
   "outputs": [
    {
     "data": {
      "text/plain": [
       "'/home/jovyan/ChestXray-14/run_specific_fold/results/evaluate/facal_loss/EfficientNetB0_None'"
      ]
     },
     "execution_count": 5,
     "metadata": {},
     "output_type": "execute_result"
    }
   ],
   "source": [
    "RESULT_EVALUATE_PATH = os.path.join(CURRENT_PATH, \"results\", \"evaluate\", \"facal_loss\", \"EfficientNetB0_None\")\n",
    "RESULT_EVALUATE_PATH"
   ]
  },
  {
   "cell_type": "code",
   "execution_count": 6,
   "id": "22b091b1-d57b-4892-a01a-dfba920ffbc3",
   "metadata": {},
   "outputs": [],
   "source": [
    "from pathlib import Path\n",
    "Path(RESULT_EVALUATE_PATH).mkdir(parents=True, exist_ok=True)"
   ]
  },
  {
   "cell_type": "code",
   "execution_count": 7,
   "id": "dad85bf9-e552-4d1d-8a43-1bdc4936718f",
   "metadata": {},
   "outputs": [
    {
     "name": "stderr",
     "output_type": "stream",
     "text": [
      "2023-02-22 09:30:37.151319: I tensorflow/core/platform/cpu_feature_guard.cc:193] This TensorFlow binary is optimized with oneAPI Deep Neural Network Library (oneDNN) to use the following CPU instructions in performance-critical operations:  AVX2 AVX512F AVX512_VNNI FMA\n",
      "To enable them in other operations, rebuild TensorFlow with the appropriate compiler flags.\n",
      "2023-02-22 09:30:38.942930: I tensorflow/core/common_runtime/gpu/gpu_device.cc:1532] Created device /job:localhost/replica:0/task:0/device:GPU:0 with 31725 MB memory:  -> device: 0, name: NVIDIA A100-SXM4-40GB, pci bus id: 0000:17:00.0, compute capability: 8.0\n"
     ]
    }
   ],
   "source": [
    "dataset = Dataset()\n",
    "fold_num = 3 # use values [1-5]\n",
    "train_dataset, test_dataset = dataset.get_kfold(fold_num, sample=False)"
   ]
  },
  {
   "cell_type": "code",
   "execution_count": 8,
   "id": "fd98e3db-27d8-4caf-b091-df6fb391ab5d",
   "metadata": {},
   "outputs": [
    {
     "data": {
      "text/plain": [
       "'/home/jovyan/ChestXray-14/run_specific_fold/results/models/facal_loss/EfficientNetB0_None_fold_3.h5'"
      ]
     },
     "execution_count": 8,
     "metadata": {},
     "output_type": "execute_result"
    }
   ],
   "source": [
    "MODEL_PATH = f'{CURRENT_PATH}/results/models/facal_loss/EfficientNetB0_None_fold_3.h5'\n",
    "MODEL_PATH"
   ]
  },
  {
   "cell_type": "code",
   "execution_count": 9,
   "id": "bb7bbb49-13d0-4519-9ae6-0c6bff8a377f",
   "metadata": {},
   "outputs": [
    {
     "name": "stderr",
     "output_type": "stream",
     "text": [
      "2023-02-22 09:31:02.388957: I tensorflow/stream_executor/cuda/cuda_dnn.cc:384] Loaded cuDNN version 8100\n",
      "2023-02-22 09:31:03.590925: I tensorflow/core/platform/default/subprocess.cc:304] Start cannot spawn child process: No such file or directory\n",
      "2023-02-22 09:31:03.593033: I tensorflow/core/platform/default/subprocess.cc:304] Start cannot spawn child process: No such file or directory\n",
      "2023-02-22 09:31:03.593133: W tensorflow/stream_executor/gpu/asm_compiler.cc:80] Couldn't get ptxas version string: INTERNAL: Couldn't invoke ptxas --version\n",
      "2023-02-22 09:31:03.594513: I tensorflow/core/platform/default/subprocess.cc:304] Start cannot spawn child process: No such file or directory\n",
      "2023-02-22 09:31:03.594728: W tensorflow/stream_executor/gpu/redzone_allocator.cc:314] INTERNAL: Failed to launch ptxas\n",
      "Relying on driver to perform ptx compilation. \n",
      "Modify $PATH to customize ptxas location.\n",
      "This message will be only logged once.\n"
     ]
    },
    {
     "name": "stdout",
     "output_type": "stream",
     "text": [
      "      7/Unknown - 9s 27ms/step"
     ]
    },
    {
     "name": "stderr",
     "output_type": "stream",
     "text": [
      "2023-02-22 09:31:08.005921: I tensorflow/stream_executor/cuda/cuda_blas.cc:1786] TensorFloat-32 will be used for the matrix multiplication. This will only be logged once.\n"
     ]
    },
    {
     "name": "stdout",
     "output_type": "stream",
     "text": [
      "1402/1402 [==============================] - 53s 31ms/step\n",
      "['No Finding', 'Atelectasis', 'Consolidation', 'Infiltration', 'Pneumothorax', 'Edema', 'Emphysema', 'Fibrosis', 'Effusion', 'Pneumonia', 'Pleural_Thickening', 'Cardiomegaly', 'Nodule', 'Mass', 'Hernia']\n",
      "/home/jovyan/ChestXray-14/run_specific_fold/results/evaluate/facal_loss/EfficientNetB0_None/best_thresholds.csv was success!\n",
      "/home/jovyan/ChestXray-14/run_specific_fold/results/evaluate/facal_loss/EfficientNetB0_None/f1_per_thresholds.csv was success!\n",
      "Doing ...!\n",
      "1402/1402 [==============================] - 41s 29ms/step\n",
      "   No Finding  Atelectasis  Consolidation  Infiltration  Pneumothorax  \\\n",
      "0    0.741261     0.338441       0.199394      0.379445      0.282472   \n",
      "\n",
      "      Edema  Emphysema  Fibrosis  Effusion  Pneumonia  Pleural_Thickening  \\\n",
      "0  0.209749   0.146032  0.078431  0.457168   0.063008            0.158212   \n",
      "\n",
      "   Cardiomegaly    Nodule      Mass    Hernia  \n",
      "0      0.336765  0.160393  0.221185  0.016667  \n",
      "Done!\n"
     ]
    }
   ],
   "source": [
    "best_model = Evaluate(MODEL_PATH)\n",
    "best_model.get_best_threshold(\n",
    "    test_dataset=test_dataset,\n",
    "    save_best_thresholds=f\"{RESULT_EVALUATE_PATH}/best_thresholds.csv\",\n",
    "    save_200_thresholds=f\"{RESULT_EVALUATE_PATH}/f1_per_thresholds.csv\"\n",
    ")\n",
    "\n",
    "with best_model:\n",
    "    f1_each_class = best_model.get_f1_scores(test_dataset)\n",
    "    df = pd.DataFrame(f1_each_class)\n",
    "    df.to_csv(f\"{RESULT_EVALUATE_PATH}/f1_scores.csv\", index=False)\n",
    "\n",
    "    precision_each_class = best_model.get_precision_scores(test_dataset, new_calculate=False)\n",
    "    pd.DataFrame(precision_each_class)\\\n",
    "        .to_csv(f\"{RESULT_EVALUATE_PATH}/precision.csv\", index=False)\n",
    "\n",
    "    recall_each_class = best_model.get_recall_scores(test_dataset, new_calculate=False)\n",
    "    pd.DataFrame(recall_each_class)\\\n",
    "        .to_csv(f\"{RESULT_EVALUATE_PATH}/recall.csv\", index=False)\n",
    "\n",
    "    print(df)"
   ]
  },
  {
   "cell_type": "code",
   "execution_count": null,
   "id": "cfb255f9-24b7-4ea5-92fa-b06c2fd8a838",
   "metadata": {},
   "outputs": [],
   "source": []
  }
 ],
 "metadata": {
  "kernelspec": {
   "display_name": "Python 3 (ipykernel)",
   "language": "python",
   "name": "python3"
  },
  "language_info": {
   "codemirror_mode": {
    "name": "ipython",
    "version": 3
   },
   "file_extension": ".py",
   "mimetype": "text/x-python",
   "name": "python",
   "nbconvert_exporter": "python",
   "pygments_lexer": "ipython3",
   "version": "3.10.5"
  }
 },
 "nbformat": 4,
 "nbformat_minor": 5
}
