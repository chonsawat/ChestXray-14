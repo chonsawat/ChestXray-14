{
 "cells": [
  {
   "cell_type": "code",
   "execution_count": 5,
   "id": "756d923b-ebd9-4ad7-b130-643d01a047f7",
   "metadata": {},
   "outputs": [],
   "source": [
    "import numpy as np\n",
    "import pandas as pd\n",
    "import tensorflow as tf\n",
    "\n",
    "# Visualize\n",
    "import seaborn as sns\n",
    "import matplotlib.pyplot as plt\n",
    "\n",
    "# Metrics\n",
    "from sklearn.metrics import multilabel_confusion_matrix\n",
    "\n",
    "# Myutils\n",
    "from modules.get_data_function import get_dataset"
   ]
  },
  {
   "cell_type": "code",
   "execution_count": 11,
   "id": "6f6a8021-1eb6-49b9-beb7-ffd473807f21",
   "metadata": {},
   "outputs": [
    {
     "name": "stderr",
     "output_type": "stream",
     "text": [
      "2022-07-15 07:43:38.559229: I tensorflow/core/common_runtime/gpu/gpu_device.cc:1532] Created device /device:GPU:0 with 31741 MB memory:  -> device: 0, name: NVIDIA A100-SXM4-40GB, pci bus id: 0000:ca:00.0, compute capability: 8.0\n"
     ]
    },
    {
     "name": "stdout",
     "output_type": "stream",
     "text": [
      "700/700 [==============================] - 20s 27ms/step\n",
      "[[6.5012467e-01 4.8834119e-02 2.4356164e-02 ... 4.1446771e-02\n",
      "  4.8786987e-02 2.1746310e-03]\n",
      " [3.2958460e-01 1.8576491e-01 1.3243873e-01 ... 4.6839975e-02\n",
      "  5.4189105e-02 9.3676953e-04]\n",
      " [2.2559632e-01 2.2842360e-01 2.0745215e-01 ... 2.0029103e-02\n",
      "  2.9370606e-02 1.1589535e-04]\n",
      " ...\n",
      " [7.7393824e-01 2.8737141e-02 5.9537697e-03 ... 3.3177078e-02\n",
      "  2.0062646e-02 2.9612530e-03]\n",
      " [2.5232893e-01 1.9173194e-01 2.0306845e-01 ... 2.2736503e-02\n",
      "  3.1068336e-02 4.8490037e-04]\n",
      " [2.2361951e-01 6.6016868e-02 1.6290361e-01 ... 3.5048943e-02\n",
      "  5.4418180e-02 1.1108981e-04]]\n"
     ]
    }
   ],
   "source": [
    "# =========== Declare Variable ==============\n",
    "STRATEGY = tf.distribute.get_strategy()    \n",
    "BATCH_SIZE = 16\n",
    "IMG_SIZE = 224\n",
    "SEED = 42\n",
    "input_path = \"dataset/ChestXray NIH\"\n",
    "\n",
    "\n",
    "# =========================== Functions =====================================\n",
    "def main():\n",
    "    test_filenames = tf.io.gfile.glob(f'{input_path}/data/224x224/test/*.tfrec')\n",
    "    test_dataset = get_dataset(test_filenames)\n",
    "    \n",
    "    tf.keras.backend.clear_session()\n",
    "    model = tf.keras.models.load_model(f\"/home/jovyan/ChestXray-14/results/models/Resnet50_epochs-20.h5\")\n",
    "    preds = model.predict(test_dataset)\n",
    "    print(preds)\n",
    "    \n",
    "    return test_dataset, preds\n",
    "\n",
    "\n",
    "# ============ Run Main Program =============\n",
    "if tf.test.gpu_device_name():\n",
    "    \"\"\"\n",
    "    Check if a GPU is none it's will terminate programs.\n",
    "    \"\"\"\n",
    "    test_dataset, preds = main()\n",
    "else:\n",
    "    print(\"\\n===== Please, install GPU =====\")\n",
    "# ==========================================="
   ]
  },
  {
   "cell_type": "code",
   "execution_count": 12,
   "id": "4d3fc669-793d-4baf-9b68-75c3299e50b4",
   "metadata": {},
   "outputs": [
    {
     "data": {
      "text/plain": [
       "<PrefetchDataset element_spec=(TensorSpec(shape=(16, 224, 224, 1), dtype=tf.float32, name=None), TensorSpec(shape=(16, 15), dtype=tf.int64, name=None))>"
      ]
     },
     "execution_count": 12,
     "metadata": {},
     "output_type": "execute_result"
    }
   ],
   "source": [
    "test_dataset"
   ]
  },
  {
   "cell_type": "code",
   "execution_count": null,
   "id": "9f2f5909-397c-4640-9d02-6f80155c1725",
   "metadata": {},
   "outputs": [],
   "source": []
  }
 ],
 "metadata": {
  "kernelspec": {
   "display_name": "Python 3 (ipykernel)",
   "language": "python",
   "name": "python3"
  },
  "language_info": {
   "codemirror_mode": {
    "name": "ipython",
    "version": 3
   },
   "file_extension": ".py",
   "mimetype": "text/x-python",
   "name": "python",
   "nbconvert_exporter": "python",
   "pygments_lexer": "ipython3",
   "version": "3.9.7"
  }
 },
 "nbformat": 4,
 "nbformat_minor": 5
}
