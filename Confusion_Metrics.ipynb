{
 "cells": [
  {
   "cell_type": "code",
   "execution_count": 1,
   "id": "756d923b-ebd9-4ad7-b130-643d01a047f7",
   "metadata": {},
   "outputs": [
    {
     "name": "stderr",
     "output_type": "stream",
     "text": [
      "2022-08-10 07:46:17.388302: I tensorflow/core/util/util.cc:169] oneDNN custom operations are on. You may see slightly different numerical results due to floating-point round-off errors from different computation orders. To turn them off, set the environment variable `TF_ENABLE_ONEDNN_OPTS=0`.\n",
      "/opt/conda/lib/python3.9/site-packages/scipy/__init__.py:146: UserWarning: A NumPy version >=1.16.5 and <1.23.0 is required for this version of SciPy (detected version 1.23.1\n",
      "  warnings.warn(f\"A NumPy version >={np_minversion} and <{np_maxversion}\"\n"
     ]
    }
   ],
   "source": [
    "import numpy as np\n",
    "import pandas as pd\n",
    "import tensorflow as tf\n",
    "\n",
    "# Visualize\n",
    "import seaborn as sns\n",
    "import matplotlib.pyplot as plt\n",
    "\n",
    "# Metrics\n",
    "from sklearn.metrics import multilabel_confusion_matrix\n",
    "\n",
    "# Myutils\n",
    "from modules.get_data_function import get_dataset"
   ]
  },
  {
   "cell_type": "code",
   "execution_count": 2,
   "id": "6f6a8021-1eb6-49b9-beb7-ffd473807f21",
   "metadata": {},
   "outputs": [
    {
     "name": "stderr",
     "output_type": "stream",
     "text": [
      "2022-08-10 07:46:20.383303: I tensorflow/core/platform/cpu_feature_guard.cc:193] This TensorFlow binary is optimized with oneAPI Deep Neural Network Library (oneDNN) to use the following CPU instructions in performance-critical operations:  AVX2 AVX512F AVX512_VNNI FMA\n",
      "To enable them in other operations, rebuild TensorFlow with the appropriate compiler flags.\n",
      "2022-08-10 07:46:21.232758: I tensorflow/core/common_runtime/gpu/gpu_device.cc:1532] Created device /device:GPU:0 with 8011 MB memory:  -> device: 0, name: NVIDIA A100-SXM4-40GB MIG 2g.10gb, pci bus id: 0000:17:00.0, compute capability: 8.0\n",
      "2022-08-10 07:46:21.287852: I tensorflow/core/common_runtime/gpu/gpu_device.cc:1532] Created device /job:localhost/replica:0/task:0/device:GPU:0 with 8011 MB memory:  -> device: 0, name: NVIDIA A100-SXM4-40GB MIG 2g.10gb, pci bus id: 0000:17:00.0, compute capability: 8.0\n",
      "2022-08-10 07:46:26.813193: I tensorflow/stream_executor/cuda/cuda_dnn.cc:384] Loaded cuDNN version 8201\n",
      "2022-08-10 07:46:27.838579: I tensorflow/core/platform/default/subprocess.cc:304] Start cannot spawn child process: No such file or directory\n",
      "2022-08-10 07:46:27.840651: I tensorflow/core/platform/default/subprocess.cc:304] Start cannot spawn child process: No such file or directory\n",
      "2022-08-10 07:46:27.840749: W tensorflow/stream_executor/gpu/asm_compiler.cc:80] Couldn't get ptxas version string: INTERNAL: Couldn't invoke ptxas --version\n",
      "2022-08-10 07:46:27.841934: I tensorflow/core/platform/default/subprocess.cc:304] Start cannot spawn child process: No such file or directory\n",
      "2022-08-10 07:46:27.842046: W tensorflow/stream_executor/gpu/redzone_allocator.cc:314] INTERNAL: Failed to launch ptxas\n",
      "Relying on driver to perform ptx compilation. \n",
      "Modify $PATH to customize ptxas location.\n",
      "This message will be only logged once.\n"
     ]
    },
    {
     "name": "stdout",
     "output_type": "stream",
     "text": [
      "      7/Unknown - 5s 31ms/step"
     ]
    },
    {
     "name": "stderr",
     "output_type": "stream",
     "text": [
      "2022-08-10 07:46:29.245677: I tensorflow/stream_executor/cuda/cuda_blas.cc:1786] TensorFloat-32 will be used for the matrix multiplication. This will only be logged once.\n"
     ]
    },
    {
     "name": "stdout",
     "output_type": "stream",
     "text": [
      "700/700 [==============================] - 27s 32ms/step\n",
      "[[6.5012467e-01 4.8834119e-02 2.4356164e-02 ... 4.1446771e-02\n",
      "  4.8786987e-02 2.1746310e-03]\n",
      " [3.2958460e-01 1.8576491e-01 1.3243873e-01 ... 4.6839975e-02\n",
      "  5.4189105e-02 9.3676953e-04]\n",
      " [2.2559632e-01 2.2842360e-01 2.0745215e-01 ... 2.0029103e-02\n",
      "  2.9370606e-02 1.1589535e-04]\n",
      " ...\n",
      " [7.7393824e-01 2.8737141e-02 5.9537697e-03 ... 3.3177078e-02\n",
      "  2.0062646e-02 2.9612530e-03]\n",
      " [2.5232893e-01 1.9173194e-01 2.0306845e-01 ... 2.2736503e-02\n",
      "  3.1068336e-02 4.8490037e-04]\n",
      " [2.2361951e-01 6.6016868e-02 1.6290361e-01 ... 3.5048943e-02\n",
      "  5.4418180e-02 1.1108981e-04]]\n"
     ]
    }
   ],
   "source": [
    "# =========== Declare Variable ==============\n",
    "STRATEGY = tf.distribute.get_strategy()    \n",
    "BATCH_SIZE = 16\n",
    "IMG_SIZE = 224\n",
    "SEED = 42\n",
    "input_path = \"dataset/ChestXray NIH\"\n",
    "\n",
    "\n",
    "# =========================== Functions =====================================\n",
    "def main():\n",
    "    test_filenames = tf.io.gfile.glob(f'{input_path}/data/224x224/test/*.tfrec')\n",
    "    test_dataset = get_dataset(test_filenames)\n",
    "    \n",
    "    tf.keras.backend.clear_session()\n",
    "    model = tf.keras.models.load_model(f\"/home/jovyan/ChestXray-14/results/models/Resnet50_epochs-20.h5\")\n",
    "    preds = model.predict(test_dataset)\n",
    "    print(preds)\n",
    "    \n",
    "    return test_dataset, preds\n",
    "\n",
    "\n",
    "# ============ Run Main Program =============\n",
    "if tf.test.gpu_device_name():\n",
    "    \"\"\"\n",
    "    Check if a GPU is none it's will terminate programs.\n",
    "    \"\"\"\n",
    "    test_dataset, preds = main()\n",
    "else:\n",
    "    print(\"\\n===== Please, install GPU =====\")\n",
    "# ==========================================="
   ]
  },
  {
   "cell_type": "code",
   "execution_count": 3,
   "id": "c9bf091d-7606-4ba2-93a4-feb8ca9ba255",
   "metadata": {},
   "outputs": [],
   "source": [
    "# def get_label_from_test_dataset(dataset):\n",
    "#     tmp = []\n",
    "#     for data in dataset:\n",
    "#         labels = data[1]\n",
    "#         for label in labels:\n",
    "#             tmp.append(label.numpy())\n",
    "#     return tmp"
   ]
  },
  {
   "cell_type": "code",
   "execution_count": 3,
   "id": "4d3fc669-793d-4baf-9b68-75c3299e50b4",
   "metadata": {},
   "outputs": [
    {
     "data": {
      "text/plain": [
       "array([[1, 0, 0, 0, 0, 0, 0, 0, 0, 0, 0, 0, 0, 0, 0],\n",
       "       [0, 0, 1, 0, 0, 0, 0, 0, 1, 0, 0, 0, 0, 0, 0],\n",
       "       [0, 1, 0, 1, 0, 0, 0, 0, 1, 0, 0, 0, 0, 0, 0],\n",
       "       [1, 0, 0, 0, 0, 0, 0, 0, 0, 0, 0, 0, 0, 0, 0],\n",
       "       [0, 0, 0, 1, 0, 0, 0, 0, 0, 0, 0, 0, 0, 0, 0]])"
      ]
     },
     "execution_count": 3,
     "metadata": {},
     "output_type": "execute_result"
    }
   ],
   "source": [
    "\n",
    "def get_label_from_test_dataset(dataset):\n",
    "    for data in dataset:\n",
    "        labels = data[1]\n",
    "        for label in labels:\n",
    "            yield label.numpy().tolist()\n",
    "            \n",
    "test_dataset_all = get_label_from_test_dataset(test_dataset)\n",
    "\n",
    "y_true = np.array(list(test_dataset_all))\n",
    "y_true[:5]"
   ]
  },
  {
   "cell_type": "code",
   "execution_count": 4,
   "id": "46d71f6e-17f4-43dd-833d-48820636493f",
   "metadata": {},
   "outputs": [
    {
     "data": {
      "text/plain": [
       "array([[1, 0, 0, ..., 0, 0, 0],\n",
       "       [0, 0, 0, ..., 0, 0, 0],\n",
       "       [0, 0, 0, ..., 0, 0, 0],\n",
       "       ...,\n",
       "       [1, 0, 0, ..., 0, 0, 0],\n",
       "       [0, 0, 0, ..., 0, 0, 0],\n",
       "       [0, 0, 0, ..., 0, 0, 0]], dtype=int8)"
      ]
     },
     "execution_count": 4,
     "metadata": {},
     "output_type": "execute_result"
    }
   ],
   "source": [
    "y_preds = (preds > 0.5).astype(\"int8\")\n",
    "y_preds"
   ]
  },
  {
   "cell_type": "code",
   "execution_count": 5,
   "id": "d3846109-89e1-40eb-87f6-b8a20995e482",
   "metadata": {},
   "outputs": [
    {
     "data": {
      "text/plain": [
       "array([[1, 0, 0, ..., 0, 0, 0],\n",
       "       [0, 0, 1, ..., 0, 0, 0],\n",
       "       [0, 1, 0, ..., 0, 0, 0],\n",
       "       ...,\n",
       "       [0, 0, 0, ..., 0, 0, 0],\n",
       "       [0, 0, 0, ..., 0, 0, 0],\n",
       "       [0, 0, 0, ..., 0, 0, 0]])"
      ]
     },
     "execution_count": 5,
     "metadata": {},
     "output_type": "execute_result"
    }
   ],
   "source": [
    "y_true"
   ]
  },
  {
   "cell_type": "code",
   "execution_count": 7,
   "id": "5109041d-8ed6-4988-8e4c-18d1c48e853b",
   "metadata": {},
   "outputs": [],
   "source": [
    "# import pickle\n",
    "\n",
    "# with open(\"/home/jovyan/ChestXray-14/y_true.pk\", \"wb\") as file:\n",
    "#     pickle.dump(y_true, file)\n",
    "\n",
    "# tmp_ = pickle.load(open(\"/home/jovyan/ChestXray-14/y_true.pk\", \"rb\"))\n",
    "# print(tmp_)"
   ]
  },
  {
   "cell_type": "code",
   "execution_count": 8,
   "id": "b7bbda1c-5926-4a00-bac9-92d143f5fcd6",
   "metadata": {},
   "outputs": [],
   "source": [
    "# def my_confusion_metrics:\n",
    "#     pass\n",
    "\n",
    "# def my_multi_label_cunfusion_metrics(y_trues, y_preds):\n",
    "#     tmp = tf.zeros(shape=(15,15),\n",
    "#                    dtype=\"int32\")\n",
    "#     for y_true, y_pred, _index in zip(y_trues, y_preds, range(2)):\n",
    "#         tmp = tmp + tf.math.confusion_matrix(y_true, y_pred, num_classes=15)\n",
    "#         # break\n",
    "#     return tmp\n",
    "\n",
    "\n",
    "# confusion_metrics = my_multi_label_cunfusion_metrics(y_true, y_preds)"
   ]
  },
  {
   "cell_type": "code",
   "execution_count": 6,
   "id": "86af1f33-5e80-426d-8996-4c6a32e37af1",
   "metadata": {},
   "outputs": [
    {
     "data": {
      "text/plain": [
       "(11200, 15)"
      ]
     },
     "execution_count": 6,
     "metadata": {},
     "output_type": "execute_result"
    }
   ],
   "source": [
    "y_true.shape"
   ]
  },
  {
   "cell_type": "code",
   "execution_count": 30,
   "id": "9298faf3-3b61-43fa-8ce4-56d4775140ba",
   "metadata": {},
   "outputs": [
    {
     "data": {
      "image/png": "[encoded data removed]",
      "text/plain": [
       "<Figure size 1296x1080 with 1 Axes>"
      ]
     },
     "metadata": {
      "needs_background": "light"
     },
     "output_type": "display_data"
    }
   ],
   "source": [
    "import matplotlib.pyplot as plt\n",
    "import seaborn as sns\n",
    "\n",
    "class ConfusionMetrics:\n",
    "    def __init__(self):\n",
    "        self.col_names = ['No Finding', 'Atelectasis', 'Consolidation', 'Infiltration', 'Pneumothorax', 'Edema', 'Emphysema', 'Fibrosis', 'Effusion', 'Pneumonia', 'Pleural_Thickening', 'Cardiomegaly', 'Nodule', 'Mass', 'Hernia']\n",
    "        self.counts = 0\n",
    "    \n",
    "    def fit(self, y_trues, y_preds):\n",
    "        confusion_metrics = np.zeros(shape=(y_trues.shape[-1]+1, \n",
    "                                            y_preds.shape[-1]+1))\n",
    "        for y_true, y_pred in zip(y_trues, y_preds):\n",
    "            # print(\"==== Round {} ====\".format(self.counts))\n",
    "            # print(\"Actual :\", y_true)\n",
    "            # print(\"Predict:\", y_pred)\n",
    "            for (idx, (element_true, element_pred)) in enumerate(zip(y_true, y_pred)):\n",
    "                # True Positive\n",
    "                if element_true == element_pred and element_true == 1: \n",
    "                    confusion_metrics[idx, idx] = confusion_metrics[idx, idx] + 1\n",
    "                \n",
    "                # False Negative\n",
    "                elif element_true != element_pred and element_true == 1: \n",
    "                    col_idx = 15\n",
    "                    confusion_metrics[idx, col_idx] = confusion_metrics[idx, col_idx] + 1\n",
    "                    \n",
    "                # False Positive\n",
    "                elif element_true != element_pred and element_true == 0:\n",
    "                    row_idx = 15\n",
    "                    confusion_metrics[row_idx, idx] = confusion_metrics[row_idx, idx] + 1\n",
    "            \n",
    "            # if self.counts == 5:\n",
    "            #     break\n",
    "                \n",
    "            self.counts = self.counts + 1\n",
    "        return confusion_metrics, self.col_names\n",
    "\n",
    "confusion_metrics, col_names = ConfusionMetrics().fit(y_true, y_preds)\n",
    "plt.figure(figsize=(18, 15))\n",
    "confusion_metrics_plot =  sns.heatmap(confusion_metrics,\n",
    "                                      cmap=\"Greens\",\n",
    "                                      annot=True,\n",
    "                                      label=True,\n",
    "                                      fmt=\".10g\",\n",
    "                                      cbar=False,\n",
    "                                      linewidths=.5,\n",
    "                                      xticklabels=col_names + [\"Background False Negative\"],\n",
    "                                      yticklabels=col_names + [\"Background False Positive\"])\n",
    "plt.ylabel(\"Prediction\")\n",
    "plt.xlabel(\"Actual\")\n",
    "fig = confusion_metrics_plot.get_figure()\n",
    "fig.savefig(\"Multi_Label_Confusion_Metrics_Resnet50.png\") \n",
    "plt.show();"
   ]
  },
  {
   "cell_type": "markdown",
   "id": "bfc7eba5-7364-418c-9ad6-5f016f59c82b",
   "metadata": {},
   "source": [
    "# --- Break ---"
   ]
  },
  {
   "cell_type": "code",
   "execution_count": 8,
   "id": "6d7f68c5-3d8b-4257-afc5-21275a7ce904",
   "metadata": {},
   "outputs": [],
   "source": [
    "\"\"\" Columns Names for ChestXray NIH\n",
    "col_names = ['No Finding', 'Atelectasis', 'Consolidation', 'Infiltration',\n",
    "   'Pneumothorax', 'Edema', 'Emphysema', 'Fibrosis', 'Effusion',\n",
    "   'Pneumonia', 'Pleural_Thickening', 'Cardiomegaly', 'Nodule', 'Mass',\n",
    "   'Hernia']\n",
    "\"\"\";\n"
   ]
  },
  {
   "cell_type": "code",
   "execution_count": null,
   "id": "dcaeecb7-32f7-436d-8cc3-cfe0ae16da4d",
   "metadata": {},
   "outputs": [],
   "source": []
  }
 ],
 "metadata": {
  "kernelspec": {
   "display_name": "Python 3 (ipykernel)",
   "language": "python",
   "name": "python3"
  },
  "language_info": {
   "codemirror_mode": {
    "name": "ipython",
    "version": 3
   },
   "file_extension": ".py",
   "mimetype": "text/x-python",
   "name": "python",
   "nbconvert_exporter": "python",
   "pygments_lexer": "ipython3",
   "version": "3.9.7"
  }
 },
 "nbformat": 4,
 "nbformat_minor": 5
}
