{
 "cells": [
  {
   "cell_type": "code",
   "execution_count": 85,
   "id": "756d923b-ebd9-4ad7-b130-643d01a047f7",
   "metadata": {},
   "outputs": [],
   "source": [
    "import numpy as np\n",
    "import pandas as pd\n",
    "import tensorflow as tf\n",
    "\n",
    "# Visualize\n",
    "import seaborn as sns\n",
    "import matplotlib.pyplot as plt\n",
    "\n",
    "# Metrics\n",
    "from sklearn.metrics import multilabel_confusion_matrix\n",
    "\n",
    "# Myutils\n",
    "from modules.get_data_function import get_dataset"
   ]
  },
  {
   "cell_type": "code",
   "execution_count": 86,
   "id": "6f6a8021-1eb6-49b9-beb7-ffd473807f21",
   "metadata": {},
   "outputs": [
    {
     "name": "stderr",
     "output_type": "stream",
     "text": [
      "2022-07-20 08:49:25.681508: I tensorflow/core/common_runtime/gpu/gpu_device.cc:1532] Created device /device:GPU:0 with 31733 MB memory:  -> device: 0, name: NVIDIA A100-SXM4-40GB, pci bus id: 0000:17:00.0, compute capability: 8.0\n"
     ]
    },
    {
     "name": "stdout",
     "output_type": "stream",
     "text": [
      "700/700 [==============================] - 20s 26ms/step\n",
      "[[6.5012467e-01 4.8834119e-02 2.4356164e-02 ... 4.1446771e-02\n",
      "  4.8786987e-02 2.1746310e-03]\n",
      " [3.2958460e-01 1.8576491e-01 1.3243873e-01 ... 4.6839975e-02\n",
      "  5.4189105e-02 9.3676953e-04]\n",
      " [2.2559632e-01 2.2842360e-01 2.0745215e-01 ... 2.0029103e-02\n",
      "  2.9370606e-02 1.1589535e-04]\n",
      " ...\n",
      " [7.7393824e-01 2.8737141e-02 5.9537697e-03 ... 3.3177078e-02\n",
      "  2.0062646e-02 2.9612530e-03]\n",
      " [2.5232893e-01 1.9173194e-01 2.0306845e-01 ... 2.2736503e-02\n",
      "  3.1068336e-02 4.8490037e-04]\n",
      " [2.2361951e-01 6.6016868e-02 1.6290361e-01 ... 3.5048943e-02\n",
      "  5.4418180e-02 1.1108981e-04]]\n"
     ]
    }
   ],
   "source": [
    "# =========== Declare Variable ==============\n",
    "STRATEGY = tf.distribute.get_strategy()    \n",
    "BATCH_SIZE = 16\n",
    "IMG_SIZE = 224\n",
    "SEED = 42\n",
    "input_path = \"dataset/ChestXray NIH\"\n",
    "\n",
    "\n",
    "# =========================== Functions =====================================\n",
    "def main():\n",
    "    test_filenames = tf.io.gfile.glob(f'{input_path}/data/224x224/test/*.tfrec')\n",
    "    test_dataset = get_dataset(test_filenames)\n",
    "    \n",
    "    tf.keras.backend.clear_session()\n",
    "    model = tf.keras.models.load_model(f\"/home/jovyan/ChestXray-14/results/models/Resnet50_epochs-20.h5\")\n",
    "    preds = model.predict(test_dataset)\n",
    "    print(preds)\n",
    "    \n",
    "    return test_dataset, preds\n",
    "\n",
    "\n",
    "# ============ Run Main Program =============\n",
    "if tf.test.gpu_device_name():\n",
    "    \"\"\"\n",
    "    Check if a GPU is none it's will terminate programs.\n",
    "    \"\"\"\n",
    "    test_dataset, preds = main()\n",
    "else:\n",
    "    print(\"\\n===== Please, install GPU =====\")\n",
    "# ==========================================="
   ]
  },
  {
   "cell_type": "code",
   "execution_count": null,
   "id": "c9bf091d-7606-4ba2-93a4-feb8ca9ba255",
   "metadata": {},
   "outputs": [],
   "source": [
    "# def get_label_from_test_dataset(dataset):\n",
    "#     tmp = []\n",
    "#     for data in dataset:\n",
    "#         labels = data[1]\n",
    "#         for label in labels:\n",
    "#             tmp.append(label.numpy())\n",
    "#     return tmp"
   ]
  },
  {
   "cell_type": "code",
   "execution_count": 95,
   "id": "4d3fc669-793d-4baf-9b68-75c3299e50b4",
   "metadata": {},
   "outputs": [
    {
     "data": {
      "text/plain": [
       "array([[1, 0, 0, 0, 0, 0, 0, 0, 0, 0, 0, 0, 0, 0, 0],\n",
       "       [0, 0, 1, 0, 0, 0, 0, 0, 1, 0, 0, 0, 0, 0, 0],\n",
       "       [0, 1, 0, 1, 0, 0, 0, 0, 1, 0, 0, 0, 0, 0, 0],\n",
       "       [1, 0, 0, 0, 0, 0, 0, 0, 0, 0, 0, 0, 0, 0, 0],\n",
       "       [0, 0, 0, 1, 0, 0, 0, 0, 0, 0, 0, 0, 0, 0, 0]])"
      ]
     },
     "execution_count": 95,
     "metadata": {},
     "output_type": "execute_result"
    }
   ],
   "source": [
    "\n",
    "def get_label_from_test_dataset(dataset):\n",
    "    for data in dataset:\n",
    "        labels = data[1]\n",
    "        for label in labels:\n",
    "            yield label.numpy().tolist()\n",
    "            \n",
    "test_dataset_all = get_label_from_test_dataset(test_dataset)\n",
    "\n",
    "y_true = np.array(list(test_dataset_all))\n",
    "y_true[:5]"
   ]
  },
  {
   "cell_type": "code",
   "execution_count": 88,
   "id": "03d5f147-b62b-4dd2-8f2a-31ddd6e989db",
   "metadata": {},
   "outputs": [
    {
     "data": {
      "text/plain": [
       "11200"
      ]
     },
     "execution_count": 88,
     "metadata": {},
     "output_type": "execute_result"
    }
   ],
   "source": [
    "len(list_test_dataset_all)"
   ]
  },
  {
   "cell_type": "code",
   "execution_count": 89,
   "id": "8842a640-d358-478c-b89b-836020db6d2e",
   "metadata": {},
   "outputs": [
    {
     "data": {
      "text/plain": [
       "11200"
      ]
     },
     "execution_count": 89,
     "metadata": {},
     "output_type": "execute_result"
    }
   ],
   "source": [
    "len(preds)"
   ]
  },
  {
   "cell_type": "code",
   "execution_count": 90,
   "id": "46d71f6e-17f4-43dd-833d-48820636493f",
   "metadata": {},
   "outputs": [
    {
     "data": {
      "text/plain": [
       "array([[1, 0, 0, ..., 0, 0, 0],\n",
       "       [0, 0, 0, ..., 0, 0, 0],\n",
       "       [0, 0, 0, ..., 0, 0, 0],\n",
       "       ...,\n",
       "       [1, 0, 0, ..., 0, 0, 0],\n",
       "       [0, 0, 0, ..., 0, 0, 0],\n",
       "       [0, 0, 0, ..., 0, 0, 0]], dtype=int8)"
      ]
     },
     "execution_count": 90,
     "metadata": {},
     "output_type": "execute_result"
    }
   ],
   "source": [
    "y_preds = (preds > 0.5).astype(\"int8\")\n",
    "y_preds"
   ]
  },
  {
   "cell_type": "code",
   "execution_count": 97,
   "id": "d3846109-89e1-40eb-87f6-b8a20995e482",
   "metadata": {},
   "outputs": [
    {
     "data": {
      "text/plain": [
       "array([[1, 0, 0, ..., 0, 0, 0],\n",
       "       [0, 0, 1, ..., 0, 0, 0],\n",
       "       [0, 1, 0, ..., 0, 0, 0],\n",
       "       ...,\n",
       "       [0, 0, 0, ..., 0, 0, 0],\n",
       "       [0, 0, 0, ..., 0, 0, 0],\n",
       "       [0, 0, 0, ..., 0, 0, 0]])"
      ]
     },
     "execution_count": 97,
     "metadata": {},
     "output_type": "execute_result"
    }
   ],
   "source": [
    "y_true"
   ]
  },
  {
   "cell_type": "code",
   "execution_count": null,
   "id": "b7bbda1c-5926-4a00-bac9-92d143f5fcd6",
   "metadata": {},
   "outputs": [],
   "source": [
    "\n",
    "def my_multi_label_cunfusion_metrics(y_trues, y_preds):\n",
    "    tmp = tf.zeros(shape=(15,15),\n",
    "                   dtype=\"int32\")\n",
    "    for y_true, y_pred in zip(y_trues, y_preds):\n",
    "        tmp = tmp + tf.math.confusion_matrix(y_true, y_pred, num_classes=15)\n",
    "        \n",
    "    return tmp\n",
    "\n",
    "\n",
    "confusion_metrics = my_multi_label_cunfusion_metrics(y_true, y_preds)"
   ]
  },
  {
   "cell_type": "code",
   "execution_count": 114,
   "id": "3f6cf4dd-ebaf-48db-b3da-f0f14cedd10b",
   "metadata": {},
   "outputs": [
    {
     "data": {
      "text/plain": [
       "<AxesSubplot:>"
      ]
     },
     "execution_count": 114,
     "metadata": {},
     "output_type": "execute_result"
    },
    {
     "data": {
      "image/png": "[encoded data removed]",
      "text/plain": [
       "<Figure size 1152x864 with 2 Axes>"
      ]
     },
     "metadata": {
      "needs_background": "light"
     },
     "output_type": "display_data"
    }
   ],
   "source": [
    "import matplotlib.pyplot as plt\n",
    "import seaborn as sns\n",
    "\n",
    "plt.figure(figsize=(16, 12))\n",
    "sns.heatmap(confusion_metrics,\n",
    "            cmap=\"Greens\",\n",
    "            annot=True,\n",
    "            label=True,\n",
    "            fmt=\".10g\")"
   ]
  },
  {
   "cell_type": "code",
   "execution_count": null,
   "id": "6d7f68c5-3d8b-4257-afc5-21275a7ce904",
   "metadata": {},
   "outputs": [],
   "source": [
    "col_names = ['No Finding', 'Atelectasis', 'Consolidation', 'Infiltration',\n",
    "   'Pneumothorax', 'Edema', 'Emphysema', 'Fibrosis', 'Effusion',\n",
    "   'Pneumonia', 'Pleural_Thickening', 'Cardiomegaly', 'Nodule', 'Mass',\n",
    "   'Hernia']"
   ]
  }
 ],
 "metadata": {
  "kernelspec": {
   "display_name": "Python 3 (ipykernel)",
   "language": "python",
   "name": "python3"
  },
  "language_info": {
   "codemirror_mode": {
    "name": "ipython",
    "version": 3
   },
   "file_extension": ".py",
   "mimetype": "text/x-python",
   "name": "python",
   "nbconvert_exporter": "python",
   "pygments_lexer": "ipython3",
   "version": "3.9.7"
  }
 },
 "nbformat": 4,
 "nbformat_minor": 5
}
