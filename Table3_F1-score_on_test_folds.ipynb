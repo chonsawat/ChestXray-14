{
 "cells": [
  {
   "cell_type": "code",
   "execution_count": 1,
   "id": "a1d4952b-6eee-4bf7-997e-b3e127ccfcd6",
   "metadata": {},
   "outputs": [
    {
     "name": "stdout",
     "output_type": "stream",
     "text": [
      "Looking in indexes: https://pypi.org/simple, https://pypi.ngc.nvidia.com\n",
      "Requirement already satisfied: tensorflow_addons in /opt/conda/lib/python3.10/site-packages (0.18.0)\n",
      "Requirement already satisfied: packaging in /opt/conda/lib/python3.10/site-packages (from tensorflow_addons) (21.3)\n",
      "Requirement already satisfied: typeguard>=2.7 in /opt/conda/lib/python3.10/site-packages (from tensorflow_addons) (2.13.3)\n",
      "Requirement already satisfied: pyparsing!=3.0.5,>=2.0.2 in /opt/conda/lib/python3.10/site-packages (from packaging->tensorflow_addons) (3.0.9)\n"
     ]
    }
   ],
   "source": [
    "!pip install tensorflow_addons"
   ]
  },
  {
   "cell_type": "code",
   "execution_count": 2,
   "id": "02034222-754f-417c-bdbb-36779f7ffb5e",
   "metadata": {},
   "outputs": [
    {
     "name": "stderr",
     "output_type": "stream",
     "text": [
      "2022-12-09 12:29:47.629839: I tensorflow/core/util/util.cc:169] oneDNN custom operations are on. You may see slightly different numerical results due to floating-point round-off errors from different computation orders. To turn them off, set the environment variable `TF_ENABLE_ONEDNN_OPTS=0`.\n"
     ]
    }
   ],
   "source": [
    "import numpy as np\n",
    "import pandas as pd\n",
    "import seaborn as sns\n",
    "import tensorflow as tf\n",
    "import matplotlib.pyplot as plt\n",
    "import tensorflow_addons as tfa\n",
    "from modules.dataset import LABELS, Dataset"
   ]
  },
  {
   "cell_type": "markdown",
   "id": "05034553-8f6a-4c1c-9d82-5a9735937076",
   "metadata": {
    "tags": []
   },
   "source": [
    "## Evaluate Function"
   ]
  },
  {
   "cell_type": "code",
   "execution_count": 3,
   "id": "23b5161c-a021-42ce-9627-5d1dbc8f9386",
   "metadata": {},
   "outputs": [],
   "source": [
    "def preprocessing_data(x):\n",
    "    if \"e+\" in x:\n",
    "        values = eval(x.replace(\" \", \", \"))\n",
    "        return np.array(values)\n",
    "    else:\n",
    "        values = eval(x.replace(\"\\n\", \"\").replace(\". \", \".,\"))\n",
    "        return np.array(values)"
   ]
  },
  {
   "cell_type": "code",
   "execution_count": 4,
   "id": "3e87c0cd-ef54-4d67-a584-ed9d2cb5cc0b",
   "metadata": {},
   "outputs": [],
   "source": [
    "def get_confusion(path):\n",
    "    \"\"\"\n",
    "    Parameters\n",
    "    ----------\n",
    "    path: str\n",
    "        path to confusion metrics csv file of needed model\n",
    "    \"\"\"\n",
    "    df = pd.read_csv(path)\n",
    "    thresholds = df[\"thresholds\"].values\n",
    "    TP = df[\"TP\"].apply(preprocessing_data).values\n",
    "    TN = df[\"TN\"].apply(preprocessing_data).values\n",
    "    FP = df[\"FP\"].apply(preprocessing_data).values\n",
    "    FN = df[\"FN\"].apply(preprocessing_data).values\n",
    "    return thresholds, TP, TN, FP, FN"
   ]
  },
  {
   "cell_type": "code",
   "execution_count": 5,
   "id": "a8efc140-7e7b-4ac1-90be-61b970a3013a",
   "metadata": {},
   "outputs": [],
   "source": [
    "def get_f1_dict(thresholds, TP, TN, FP, FN):\n",
    "    f1_thresholds_dict = dict()\n",
    "    for i_thresh, (tps, tns, fps, fns) in enumerate(zip(TP, TN, FP, FN)):\n",
    "        for label, tp, tn, fp, fn in zip(LABELS, tps, tns, fps, fns):\n",
    "            f1_score = 2*tp / (2*tp + fp + fn)\n",
    "            try: \n",
    "                f1_thresholds_dict[label].append((thresholds[i_thresh], f1_score))\n",
    "            except:\n",
    "                f1_thresholds_dict[label] = [(thresholds[i_thresh], f1_score)]\n",
    "    return f1_thresholds_dict"
   ]
  },
  {
   "cell_type": "code",
   "execution_count": 6,
   "id": "8266d5d5-abd2-41c2-9bba-a492c6d98aa2",
   "metadata": {},
   "outputs": [],
   "source": [
    "def get_best_multiple_threshold(dictionary, name=\"F1-score vs. Thresholds\", x_label='Thresholds', y_label='F1-scores', plot_compare=False):\n",
    "    if plot_compare:\n",
    "        plt.figure(figsize=(20,12))\n",
    "    best_multiple_threshold_list = []\n",
    "    for i, (label, value) in enumerate(dictionary.items()):\n",
    "        x, y = zip(*value)\n",
    "        if plot_compare:\n",
    "            plt.plot(x, y, marker='.', label=label)\n",
    "        \n",
    "        y = np.array(y)\n",
    "        best = y.argmax()\n",
    "        if plot_compare:\n",
    "            sns.scatterplot(x=[x[best]], y=[y[best]], marker=\"X\", s=300)\n",
    "        \n",
    "        best_multiple_threshold_list.append(x[y.argmax()])\n",
    "\n",
    "    if plot_compare:\n",
    "        plt.title(name)\n",
    "        plt.legend()\n",
    "        plt.xlabel(x_label, fontweight='bold')\n",
    "        plt.ylabel(y_label, fontweight='bold')\n",
    "        plt.ylim(-0.05, 1.05)\n",
    "        plt.xlim(-0.05, 1.05)\n",
    "        plt.show()\n",
    "    return best_multiple_threshold_list"
   ]
  },
  {
   "cell_type": "code",
   "execution_count": 7,
   "id": "d9f3fa12-1a40-4a0b-8816-5f1e4737677c",
   "metadata": {},
   "outputs": [],
   "source": [
    "def get_thresholds(path):\n",
    "    confusion = get_confusion(path)\n",
    "    f1_dicts = get_f1_dict(*confusion)\n",
    "    best_thresholds = get_best_multiple_threshold(f1_dicts, plot_compare=False)\n",
    "    return best_thresholds"
   ]
  },
  {
   "cell_type": "code",
   "execution_count": 8,
   "id": "e15e0352-5d4a-46d5-8df7-14f85fd4d6a3",
   "metadata": {},
   "outputs": [],
   "source": [
    "def get_confusion_metrics(trues, prediction, thresh_value):\n",
    "    metric = tfa.metrics.MultiLabelConfusionMatrix(num_classes=15)\n",
    "    metric.update_state(trues,\n",
    "                        np.greater_equal(prediction, thresh_value).astype('int8'))\n",
    "    return metric.result()"
   ]
  },
  {
   "cell_type": "markdown",
   "id": "f0014678-4f61-4e27-b867-2bfc03b45b68",
   "metadata": {
    "tags": []
   },
   "source": [
    "## Main Function"
   ]
  },
  {
   "cell_type": "code",
   "execution_count": 9,
   "id": "d906e0cb-eadf-4ee1-a6ac-a9aeae8238a6",
   "metadata": {},
   "outputs": [],
   "source": [
    "def get_model(model_path):\n",
    "    return tf.keras.models.load_model(model_path)"
   ]
  },
  {
   "cell_type": "code",
   "execution_count": 10,
   "id": "9329f9d8-c85a-4ade-829f-ffb1b6d291e9",
   "metadata": {},
   "outputs": [],
   "source": [
    "def get_filename(model_path):\n",
    "    return model_path.split(\".\")[0].split(\"/\")[-1]"
   ]
  },
  {
   "cell_type": "code",
   "execution_count": 11,
   "id": "8131704a-09ff-48cd-9587-a47efc9bd158",
   "metadata": {},
   "outputs": [],
   "source": [
    "def get_y_true(data):\n",
    "    y_true=[]\n",
    "    for X,y in data:\n",
    "        for label in y:\n",
    "            y_true.append(label)\n",
    "    y_true = tf.Variable(y_true)\n",
    "    return y_true"
   ]
  },
  {
   "cell_type": "code",
   "execution_count": 12,
   "id": "3dafaafc-8b7b-4282-a585-0170d139476f",
   "metadata": {},
   "outputs": [],
   "source": [
    "def get_test_dataset_5_fold():\n",
    "    dataset = Dataset()\n",
    "    _, test_dataset_fold_1 = dataset.get_kfold(fold_number=1, sample=False)\n",
    "    _, test_dataset_fold_2 = dataset.get_kfold(fold_number=2, sample=False)\n",
    "    _, test_dataset_fold_3 = dataset.get_kfold(fold_number=3, sample=False)\n",
    "    _, test_dataset_fold_4 = dataset.get_kfold(fold_number=4, sample=False)\n",
    "    _, test_dataset_fold_5 = dataset.get_kfold(fold_number=5, sample=False)\n",
    "    return (\n",
    "        test_dataset_fold_1,\n",
    "        test_dataset_fold_2,\n",
    "        test_dataset_fold_3,\n",
    "        test_dataset_fold_4,\n",
    "        test_dataset_fold_5\n",
    "    )"
   ]
  },
  {
   "cell_type": "code",
   "execution_count": 13,
   "id": "b3868fcf-4507-4229-b082-ec9dab100264",
   "metadata": {},
   "outputs": [],
   "source": [
    "def model_predict(model, test_dataset):\n",
    "    return model.predict(test_dataset)"
   ]
  },
  {
   "cell_type": "code",
   "execution_count": 14,
   "id": "af2bb8c2-2a60-4492-8872-d8b2d37b1836",
   "metadata": {},
   "outputs": [],
   "source": [
    "def calculate_f1_scores(confusions):\n",
    "    f1_scores = []\n",
    "    for confusion in confusions:\n",
    "        tp, tn, fp, fn = (confusion[1, 1].numpy(),\n",
    "                          confusion[0, 0].numpy(),\n",
    "                          confusion[0, 1].numpy(),\n",
    "                          confusion[1, 0].numpy())\n",
    "        f1_score = 2*tp / (2*tp + fp + fn)\n",
    "        f1_scores.append(f1_score)\n",
    "    return np.array(f1_scores)"
   ]
  },
  {
   "cell_type": "code",
   "execution_count": 15,
   "id": "b93fe214-a3e4-4686-b1b7-cf34960178e2",
   "metadata": {},
   "outputs": [],
   "source": [
    "def evaluate(model, test_dataset, file_name):\n",
    "    best_thresholds = get_thresholds(f\"/home/jovyan/ChestXray-14/results/confusion/{file_name}.csv\")\n",
    "    y_true = get_y_true(test_dataset)\n",
    "    y_preds = model_predict(model, test_dataset)\n",
    "    \n",
    "    confusion_metrics = get_confusion_metrics(y_true, y_preds, best_thresholds)\n",
    "    return calculate_f1_scores(confusion_metrics).mean()"
   ]
  },
  {
   "cell_type": "markdown",
   "id": "ea1ff23c-b0f3-4631-a00f-c85439739d23",
   "metadata": {},
   "source": [
    "## Main"
   ]
  },
  {
   "cell_type": "code",
   "execution_count": 16,
   "id": "45af2c8c-cf6f-4bde-9d0c-293c7d91632e",
   "metadata": {},
   "outputs": [
    {
     "name": "stderr",
     "output_type": "stream",
     "text": [
      "2022-12-09 12:29:49.776933: I tensorflow/core/platform/cpu_feature_guard.cc:193] This TensorFlow binary is optimized with oneAPI Deep Neural Network Library (oneDNN) to use the following CPU instructions in performance-critical operations:  AVX2 AVX512F AVX512_VNNI FMA\n",
      "To enable them in other operations, rebuild TensorFlow with the appropriate compiler flags.\n",
      "2022-12-09 12:29:51.565765: I tensorflow/core/common_runtime/gpu/gpu_device.cc:1532] Created device /job:localhost/replica:0/task:0/device:GPU:0 with 31885 MB memory:  -> device: 0, name: NVIDIA A100-SXM4-40GB, pci bus id: 0000:31:00.0, compute capability: 8.0\n"
     ]
    }
   ],
   "source": [
    "test_dataset = get_test_dataset_5_fold()"
   ]
  },
  {
   "cell_type": "code",
   "execution_count": 17,
   "id": "a987c1a4-2af2-4c2e-8e00-9cc01709f764",
   "metadata": {},
   "outputs": [],
   "source": [
    "def evaluate_5_folds(path):\n",
    "    \"\"\"\n",
    "    Parameter\n",
    "    ---------\n",
    "    path: str\n",
    "        path to best model\n",
    "    \"\"\"\n",
    "    model = get_model(path)\n",
    "    file_name = get_filename(path)\n",
    "    \n",
    "    f1_score_5_folds = []\n",
    "    print(f\"===== {file_name} =====\")\n",
    "    for i in range(5): # 5 Folds\n",
    "        f1_score = evaluate(model=model, test_dataset=test_dataset[i], file_name=file_name)\n",
    "        f1_score_5_folds.append(f1_score)\n",
    "        print(f\">> Fold {i+1} = {f1_score}\")\n",
    "    \n",
    "    print(f\"Average F1-score of {file_name} = {np.mean(f1_score_5_folds)}\")"
   ]
  },
  {
   "cell_type": "code",
   "execution_count": 18,
   "id": "c6d8e816-68eb-4bf3-823a-b7abab67ece8",
   "metadata": {},
   "outputs": [
    {
     "name": "stdout",
     "output_type": "stream",
     "text": [
      "===== DenseNet121_None_fold_3 =====\n"
     ]
    },
    {
     "name": "stderr",
     "output_type": "stream",
     "text": [
      "2022-12-09 12:30:18.579254: I tensorflow/stream_executor/cuda/cuda_dnn.cc:384] Loaded cuDNN version 8100\n",
      "2022-12-09 12:30:19.769211: I tensorflow/core/platform/default/subprocess.cc:304] Start cannot spawn child process: No such file or directory\n",
      "2022-12-09 12:30:19.770511: I tensorflow/core/platform/default/subprocess.cc:304] Start cannot spawn child process: No such file or directory\n",
      "2022-12-09 12:30:19.770567: W tensorflow/stream_executor/gpu/asm_compiler.cc:80] Couldn't get ptxas version string: INTERNAL: Couldn't invoke ptxas --version\n",
      "2022-12-09 12:30:19.771663: I tensorflow/core/platform/default/subprocess.cc:304] Start cannot spawn child process: No such file or directory\n",
      "2022-12-09 12:30:19.771871: W tensorflow/stream_executor/gpu/redzone_allocator.cc:314] INTERNAL: Failed to launch ptxas\n",
      "Relying on driver to perform ptx compilation. \n",
      "Modify $PATH to customize ptxas location.\n",
      "This message will be only logged once.\n"
     ]
    },
    {
     "name": "stdout",
     "output_type": "stream",
     "text": [
      "      5/Unknown - 12s 42ms/step"
     ]
    },
    {
     "name": "stderr",
     "output_type": "stream",
     "text": [
      "2022-12-09 12:30:26.741980: I tensorflow/stream_executor/cuda/cuda_blas.cc:1786] TensorFloat-32 will be used for the matrix multiplication. This will only be logged once.\n"
     ]
    },
    {
     "name": "stdout",
     "output_type": "stream",
     "text": [
      "1402/1402 [==============================] - 73s 44ms/step\n",
      ">> Fold 1 = 0.24542779222949104\n",
      "1402/1402 [==============================] - 56s 40ms/step\n",
      ">> Fold 2 = 0.2472453915780557\n",
      "1402/1402 [==============================] - 56s 40ms/step\n",
      ">> Fold 3 = 0.24230897992083864\n",
      "1402/1402 [==============================] - 56s 40ms/step\n",
      ">> Fold 4 = 0.2494182410545275\n",
      "1402/1402 [==============================] - 55s 39ms/step\n",
      ">> Fold 5 = 0.2699579870962715\n",
      "Average F1-score of DenseNet121_None_fold_3 = 0.2508716783758369\n"
     ]
    }
   ],
   "source": [
    "evaluate_5_folds(\"/home/jovyan/ChestXray-14/results/models/DenseNet121_None_fold_3.h5\")"
   ]
  },
  {
   "cell_type": "code",
   "execution_count": 19,
   "id": "f2010fbe-285e-4780-82ea-1e774a1ba485",
   "metadata": {},
   "outputs": [
    {
     "name": "stdout",
     "output_type": "stream",
     "text": [
      "===== DenseNet121_imagenet_fold_1 =====\n",
      "1402/1402 [==============================] - 56s 38ms/step\n",
      ">> Fold 1 = 0.2390995627211101\n",
      "1402/1402 [==============================] - 54s 38ms/step\n",
      ">> Fold 2 = 0.24270190775576364\n",
      "1402/1402 [==============================] - 54s 38ms/step\n",
      ">> Fold 3 = 0.24822893202238797\n",
      "1402/1402 [==============================] - 53s 37ms/step\n",
      ">> Fold 4 = 0.24719865065763028\n",
      "1402/1402 [==============================] - 53s 38ms/step\n",
      ">> Fold 5 = 0.2542634533234685\n",
      "Average F1-score of DenseNet121_imagenet_fold_1 = 0.24629850129607206\n"
     ]
    }
   ],
   "source": [
    "evaluate_5_folds(\"/home/jovyan/ChestXray-14/results/models/DenseNet121_imagenet_fold_1.h5\")"
   ]
  },
  {
   "cell_type": "code",
   "execution_count": 20,
   "id": "11577dc7-afd4-4941-a5d9-7ed81cffb2f1",
   "metadata": {},
   "outputs": [
    {
     "name": "stdout",
     "output_type": "stream",
     "text": [
      "===== EfficientNetB0_None_fold_1 =====\n",
      "1402/1402 [==============================] - 47s 31ms/step\n",
      ">> Fold 1 = 0.2486133764385094\n",
      "1402/1402 [==============================] - 41s 29ms/step\n",
      ">> Fold 2 = 0.2578698300627198\n",
      "1402/1402 [==============================] - 41s 29ms/step\n",
      ">> Fold 3 = 0.26692477070520326\n",
      "1402/1402 [==============================] - 41s 29ms/step\n",
      ">> Fold 4 = 0.27011070152143113\n",
      "1402/1402 [==============================] - 41s 29ms/step\n",
      ">> Fold 5 = 0.2746828636088089\n",
      "Average F1-score of EfficientNetB0_None_fold_1 = 0.26364030846733455\n"
     ]
    }
   ],
   "source": [
    "evaluate_5_folds(\"/home/jovyan/ChestXray-14/results/models/EfficientNetB0_None_fold_1.h5\")"
   ]
  },
  {
   "cell_type": "code",
   "execution_count": 21,
   "id": "90a8a6ef-6c1b-49ee-a0fa-49ba86bb1061",
   "metadata": {},
   "outputs": [
    {
     "name": "stdout",
     "output_type": "stream",
     "text": [
      "===== EfficientNetB0_imagenet_fold_1 =====\n",
      "1402/1402 [==============================] - 43s 29ms/step\n",
      ">> Fold 1 = 0.20952754158328657\n",
      "1402/1402 [==============================] - 41s 29ms/step\n",
      ">> Fold 2 = 0.2108646439356035\n",
      "1402/1402 [==============================] - 41s 29ms/step\n",
      ">> Fold 3 = 0.21360816689806497\n",
      "1402/1402 [==============================] - 41s 29ms/step\n",
      ">> Fold 4 = 0.21284767310995595\n",
      "1402/1402 [==============================] - 41s 29ms/step\n",
      ">> Fold 5 = 0.22176285074384658\n",
      "Average F1-score of EfficientNetB0_imagenet_fold_1 = 0.21372217525415152\n"
     ]
    }
   ],
   "source": [
    "evaluate_5_folds(\"/home/jovyan/ChestXray-14/results/models/EfficientNetB0_imagenet_fold_1.h5\")"
   ]
  },
  {
   "cell_type": "code",
   "execution_count": 22,
   "id": "2f773864-ebc9-4293-a06d-1ec9d3a0f55c",
   "metadata": {},
   "outputs": [
    {
     "name": "stdout",
     "output_type": "stream",
     "text": [
      "===== Resnet50_fold_1 =====\n",
      "1402/1402 [==============================] - 40s 27ms/step\n",
      ">> Fold 1 = 0.22270152446136035\n",
      "1402/1402 [==============================] - 36s 26ms/step\n",
      ">> Fold 2 = 0.22560158523003443\n",
      "1402/1402 [==============================] - 37s 26ms/step\n",
      ">> Fold 3 = 0.23483717230138135\n",
      "1402/1402 [==============================] - 37s 26ms/step\n",
      ">> Fold 4 = 0.2367149213644358\n",
      "1402/1402 [==============================] - 36s 26ms/step\n",
      ">> Fold 5 = 0.24405829605597665\n",
      "Average F1-score of Resnet50_fold_1 = 0.23278269988263772\n"
     ]
    }
   ],
   "source": [
    "evaluate_5_folds(\"/home/jovyan/ChestXray-14/results/models/Resnet50_fold_1.h5\")"
   ]
  },
  {
   "cell_type": "code",
   "execution_count": 23,
   "id": "c63fddaa-341a-45fe-9ea6-1295927750e0",
   "metadata": {},
   "outputs": [
    {
     "name": "stdout",
     "output_type": "stream",
     "text": [
      "===== Resnet50_imagenet_fold_3 =====\n",
      "1402/1402 [==============================] - 38s 26ms/step\n",
      ">> Fold 1 = 0.24032120004588559\n",
      "1402/1402 [==============================] - 36s 26ms/step\n",
      ">> Fold 2 = 0.23778357570114642\n",
      "1402/1402 [==============================] - 36s 26ms/step\n",
      ">> Fold 3 = 0.23843739589530077\n",
      "1402/1402 [==============================] - 36s 26ms/step\n",
      ">> Fold 4 = 0.24766565159299098\n",
      "1402/1402 [==============================] - 36s 26ms/step\n",
      ">> Fold 5 = 0.25178957446003947\n",
      "Average F1-score of Resnet50_imagenet_fold_3 = 0.24319947953907262\n"
     ]
    }
   ],
   "source": [
    "evaluate_5_folds(\"/home/jovyan/ChestXray-14/results/models/Resnet50_imagenet_fold_3.h5\")"
   ]
  },
  {
   "cell_type": "code",
   "execution_count": null,
   "id": "1faeb5af-afe1-498d-b2e3-8ff2e932c0c2",
   "metadata": {},
   "outputs": [],
   "source": []
  }
 ],
 "metadata": {
  "kernelspec": {
   "display_name": "Python 3 (ipykernel)",
   "language": "python",
   "name": "python3"
  },
  "language_info": {
   "codemirror_mode": {
    "name": "ipython",
    "version": 3
   },
   "file_extension": ".py",
   "mimetype": "text/x-python",
   "name": "python",
   "nbconvert_exporter": "python",
   "pygments_lexer": "ipython3",
   "version": "3.10.5"
  }
 },
 "nbformat": 4,
 "nbformat_minor": 5
}
