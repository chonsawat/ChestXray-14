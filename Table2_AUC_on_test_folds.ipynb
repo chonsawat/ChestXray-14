{
 "cells": [
  {
   "cell_type": "code",
   "execution_count": 1,
   "id": "e812f348-2bdb-4860-9653-2911e8440f25",
   "metadata": {},
   "outputs": [],
   "source": [
    "from IPython.display import clear_output\n",
    "!pip install tensorflow_addons\n",
    "clear_output()"
   ]
  },
  {
   "cell_type": "code",
   "execution_count": 2,
   "id": "24fba86b-2e65-4940-a526-00e3b3683ff8",
   "metadata": {},
   "outputs": [
    {
     "name": "stderr",
     "output_type": "stream",
     "text": [
      "2022-12-09 09:12:42.666975: I tensorflow/core/util/util.cc:169] oneDNN custom operations are on. You may see slightly different numerical results due to floating-point round-off errors from different computation orders. To turn them off, set the environment variable `TF_ENABLE_ONEDNN_OPTS=0`.\n"
     ]
    }
   ],
   "source": [
    "import numpy as np\n",
    "import pandas as pd\n",
    "import seaborn as sns\n",
    "import tensorflow as tf\n",
    "import matplotlib.pyplot as plt\n",
    "import tensorflow_addons as tfa\n",
    "from modules.dataset import LABELS, Dataset"
   ]
  },
  {
   "cell_type": "markdown",
   "id": "689a3b98-df04-494d-be2a-7c6945298211",
   "metadata": {},
   "source": [
    "## Functions"
   ]
  },
  {
   "cell_type": "code",
   "execution_count": 3,
   "id": "dbcb627f-02d5-46ee-8c2a-0027817fbeb1",
   "metadata": {},
   "outputs": [],
   "source": [
    "def get_test_dataset_5_fold():\n",
    "    dataset = Dataset()\n",
    "    _, test_dataset_fold_1 = dataset.get_kfold(fold_number=1, sample=False)\n",
    "    _, test_dataset_fold_2 = dataset.get_kfold(fold_number=2, sample=False)\n",
    "    _, test_dataset_fold_3 = dataset.get_kfold(fold_number=3, sample=False)\n",
    "    _, test_dataset_fold_4 = dataset.get_kfold(fold_number=4, sample=False)\n",
    "    _, test_dataset_fold_5 = dataset.get_kfold(fold_number=5, sample=False)\n",
    "    return (\n",
    "        test_dataset_fold_1,\n",
    "        test_dataset_fold_2,\n",
    "        test_dataset_fold_3,\n",
    "        test_dataset_fold_4,\n",
    "        test_dataset_fold_5\n",
    "    )"
   ]
  },
  {
   "cell_type": "code",
   "execution_count": 4,
   "id": "eaceeb17-8ea9-4e0c-88b7-387dd9712eed",
   "metadata": {},
   "outputs": [],
   "source": [
    "def get_y_true(data):\n",
    "    y_true=[]\n",
    "    for X,y in data:\n",
    "        for label in y:\n",
    "            y_true.append(label)\n",
    "    y_true = tf.Variable(y_true)\n",
    "    return y_true"
   ]
  },
  {
   "cell_type": "code",
   "execution_count": 5,
   "id": "19c823f6-3cca-4366-9e07-b55756a1b8e1",
   "metadata": {},
   "outputs": [],
   "source": [
    "def get_model(model_path):\n",
    "    return tf.keras.models.load_model(model_path)"
   ]
  },
  {
   "cell_type": "code",
   "execution_count": 6,
   "id": "66b4b865-4374-44b5-a7ef-e7a8ea632ed9",
   "metadata": {},
   "outputs": [],
   "source": [
    "def get_filename(model_path):\n",
    "    return model_path.split(\".\")[0].split(\"/\")[-1]"
   ]
  },
  {
   "cell_type": "code",
   "execution_count": 7,
   "id": "a67a72e0-1f00-421d-899b-1f75570571f3",
   "metadata": {},
   "outputs": [],
   "source": [
    "def model_predict(model, test_dataset):\n",
    "    return model.predict(test_dataset)"
   ]
  },
  {
   "cell_type": "code",
   "execution_count": 8,
   "id": "a254d74c-2cbf-4bb0-9a78-1c21f5847248",
   "metadata": {},
   "outputs": [],
   "source": [
    "def evaluate(model, test_dataset, file_name):\n",
    "    y_true = get_y_true(test_dataset)\n",
    "    y_preds = model_predict(model, test_dataset)\n",
    "    m = tf.keras.metrics.AUC(multi_label=True)\n",
    "    m.update_state(y_true, y_preds)\n",
    "    return m.result().numpy()"
   ]
  },
  {
   "cell_type": "code",
   "execution_count": 9,
   "id": "565a2ec5-9bf6-407d-be45-bc87d2bc617b",
   "metadata": {},
   "outputs": [],
   "source": [
    "def evaluate_5_folds(path):\n",
    "    \"\"\"\n",
    "    Parameter\n",
    "    ---------\n",
    "    path: str\n",
    "        path to best model\n",
    "    \"\"\"\n",
    "    model = get_model(path)\n",
    "    file_name = get_filename(path)\n",
    "    \n",
    "    auc_5_folds = []\n",
    "    print(f\"===== {file_name} =====\")\n",
    "    for i in range(5): # 5 Folds\n",
    "        auc = evaluate(model=model, test_dataset=test_dataset[i], file_name=file_name)\n",
    "        auc_5_folds.append(auc)\n",
    "        print(f\">> Fold {i+1} = {auc}\")\n",
    "        # break\n",
    "    \n",
    "    print(f\"Average AUC of {file_name} = {np.mean(auc_5_folds)}\")"
   ]
  },
  {
   "cell_type": "markdown",
   "id": "763bd2c0-6e1e-46c5-a499-7095a3caeb0d",
   "metadata": {},
   "source": [
    "## Main"
   ]
  },
  {
   "cell_type": "code",
   "execution_count": 10,
   "id": "937bd64c-7d85-4bc7-b525-1c6ee6067961",
   "metadata": {},
   "outputs": [],
   "source": [
    "model_path = {\n",
    "    \"DenseNet121_none\": \"/home/jovyan/ChestXray-14/results/models/DenseNet121_None_fold_3.h5\",\n",
    "    \"DenseNet121_imagenet\": \"/home/jovyan/ChestXray-14/results/models/DenseNet121_imagenet_fold_1.h5\",\n",
    "    \"EfficeientNetB0_none\": \"/home/jovyan/ChestXray-14/results/models/EfficientNetB0_None_fold_1.h5\",\n",
    "    \"EfficeientNetB0_imagenet\": \"/home/jovyan/ChestXray-14/results/models/EfficientNetB0_imagenet_fold_1.h5\",\n",
    "    \"Resnet50_none\": \"/home/jovyan/ChestXray-14/results/models/Resnet50_fold_1.h5\",\n",
    "    \"Resnet50_imagenet\": \"/home/jovyan/ChestXray-14/results/models/Resnet50_imagenet_fold_3.h5\"\n",
    "}"
   ]
  },
  {
   "cell_type": "code",
   "execution_count": 11,
   "id": "dae8a24c-602a-4337-9ef5-368118ad6b5f",
   "metadata": {},
   "outputs": [
    {
     "name": "stderr",
     "output_type": "stream",
     "text": [
      "2022-12-09 09:12:45.009986: I tensorflow/core/platform/cpu_feature_guard.cc:193] This TensorFlow binary is optimized with oneAPI Deep Neural Network Library (oneDNN) to use the following CPU instructions in performance-critical operations:  AVX2 AVX512F AVX512_VNNI FMA\n",
      "To enable them in other operations, rebuild TensorFlow with the appropriate compiler flags.\n",
      "2022-12-09 09:12:46.813153: I tensorflow/core/common_runtime/gpu/gpu_device.cc:1532] Created device /job:localhost/replica:0/task:0/device:GPU:0 with 31885 MB memory:  -> device: 0, name: NVIDIA A100-SXM4-40GB, pci bus id: 0000:31:00.0, compute capability: 8.0\n"
     ]
    }
   ],
   "source": [
    "test_dataset = get_test_dataset_5_fold()"
   ]
  },
  {
   "cell_type": "code",
   "execution_count": 12,
   "id": "615da84e-062a-4db3-bbc7-45ace94c1b15",
   "metadata": {},
   "outputs": [
    {
     "name": "stdout",
     "output_type": "stream",
     "text": [
      "===== DenseNet121_None_fold_3 =====\n"
     ]
    },
    {
     "name": "stderr",
     "output_type": "stream",
     "text": [
      "2022-12-09 09:13:15.190923: I tensorflow/stream_executor/cuda/cuda_dnn.cc:384] Loaded cuDNN version 8100\n",
      "2022-12-09 09:13:16.417070: I tensorflow/core/platform/default/subprocess.cc:304] Start cannot spawn child process: No such file or directory\n",
      "2022-12-09 09:13:16.418161: I tensorflow/core/platform/default/subprocess.cc:304] Start cannot spawn child process: No such file or directory\n",
      "2022-12-09 09:13:16.418210: W tensorflow/stream_executor/gpu/asm_compiler.cc:80] Couldn't get ptxas version string: INTERNAL: Couldn't invoke ptxas --version\n",
      "2022-12-09 09:13:16.419335: I tensorflow/core/platform/default/subprocess.cc:304] Start cannot spawn child process: No such file or directory\n",
      "2022-12-09 09:13:16.419451: W tensorflow/stream_executor/gpu/redzone_allocator.cc:314] INTERNAL: Failed to launch ptxas\n",
      "Relying on driver to perform ptx compilation. \n",
      "Modify $PATH to customize ptxas location.\n",
      "This message will be only logged once.\n"
     ]
    },
    {
     "name": "stdout",
     "output_type": "stream",
     "text": [
      "      4/Unknown - 12s 45ms/step"
     ]
    },
    {
     "name": "stderr",
     "output_type": "stream",
     "text": [
      "2022-12-09 09:13:23.352243: I tensorflow/stream_executor/cuda/cuda_blas.cc:1786] TensorFloat-32 will be used for the matrix multiplication. This will only be logged once.\n"
     ]
    },
    {
     "name": "stdout",
     "output_type": "stream",
     "text": [
      "1402/1402 [==============================] - 74s 44ms/step\n",
      ">> Fold 1 = 0.7555708289146423\n",
      "1402/1402 [==============================] - 56s 40ms/step\n",
      ">> Fold 2 = 0.7544762492179871\n",
      "1402/1402 [==============================] - 56s 40ms/step\n",
      "WARNING:tensorflow:5 out of the last 5 calls to <function pfor.<locals>.f at 0x7f276836d480> triggered tf.function retracing. Tracing is expensive and the excessive number of tracings could be due to (1) creating @tf.function repeatedly in a loop, (2) passing tensors with different shapes, (3) passing Python objects instead of tensors. For (1), please define your @tf.function outside of the loop. For (2), @tf.function has reduce_retracing=True option that can avoid unnecessary retracing. For (3), please refer to https://www.tensorflow.org/guide/function#controlling_retracing and https://www.tensorflow.org/api_docs/python/tf/function for  more details.\n",
      "WARNING:tensorflow:6 out of the last 6 calls to <function pfor.<locals>.f at 0x7f276836d480> triggered tf.function retracing. Tracing is expensive and the excessive number of tracings could be due to (1) creating @tf.function repeatedly in a loop, (2) passing tensors with different shapes, (3) passing Python objects instead of tensors. For (1), please define your @tf.function outside of the loop. For (2), @tf.function has reduce_retracing=True option that can avoid unnecessary retracing. For (3), please refer to https://www.tensorflow.org/guide/function#controlling_retracing and https://www.tensorflow.org/api_docs/python/tf/function for  more details.\n",
      ">> Fold 3 = 0.7426453232765198\n",
      "1402/1402 [==============================] - 56s 40ms/step\n",
      ">> Fold 4 = 0.7605198621749878\n",
      "1402/1402 [==============================] - 56s 40ms/step\n",
      ">> Fold 5 = 0.78110671043396\n",
      "Average AUC of DenseNet121_None_fold_3 = 0.7588638067245483\n"
     ]
    }
   ],
   "source": [
    "evaluate_5_folds(model_path[\"DenseNet121_none\"])"
   ]
  },
  {
   "cell_type": "code",
   "execution_count": 13,
   "id": "09fc70bf-60c4-4ef1-bccb-c3e274d0855a",
   "metadata": {},
   "outputs": [
    {
     "name": "stdout",
     "output_type": "stream",
     "text": [
      "===== DenseNet121_imagenet_fold_1 =====\n",
      "1402/1402 [==============================] - 59s 40ms/step\n",
      ">> Fold 1 = 0.7416366934776306\n",
      "1402/1402 [==============================] - 57s 40ms/step\n",
      ">> Fold 2 = 0.7567228674888611\n",
      "1402/1402 [==============================] - 56s 40ms/step\n",
      ">> Fold 3 = 0.7636830806732178\n",
      "1402/1402 [==============================] - 56s 40ms/step\n",
      ">> Fold 4 = 0.7629549503326416\n",
      "1402/1402 [==============================] - 56s 39ms/step\n",
      ">> Fold 5 = 0.7647863626480103\n",
      "Average AUC of DenseNet121_imagenet_fold_1 = 0.7579568028450012\n"
     ]
    }
   ],
   "source": [
    "evaluate_5_folds(model_path[\"DenseNet121_imagenet\"])"
   ]
  },
  {
   "cell_type": "code",
   "execution_count": 14,
   "id": "c30a36f5-adbc-48d5-b44d-54fd72851936",
   "metadata": {},
   "outputs": [
    {
     "name": "stdout",
     "output_type": "stream",
     "text": [
      "===== EfficientNetB0_None_fold_1 =====\n",
      "1402/1402 [==============================] - 48s 31ms/step\n",
      ">> Fold 1 = 0.7434552907943726\n",
      "1402/1402 [==============================] - 42s 30ms/step\n",
      ">> Fold 2 = 0.7646464705467224\n",
      "1402/1402 [==============================] - 41s 29ms/step\n",
      ">> Fold 3 = 0.7752695083618164\n",
      "1402/1402 [==============================] - 42s 30ms/step\n",
      ">> Fold 4 = 0.7774242162704468\n",
      "1402/1402 [==============================] - 41s 29ms/step\n",
      ">> Fold 5 = 0.7823885083198547\n",
      "Average AUC of EfficientNetB0_None_fold_1 = 0.7686367630958557\n"
     ]
    }
   ],
   "source": [
    "evaluate_5_folds(model_path[\"EfficeientNetB0_none\"])"
   ]
  },
  {
   "cell_type": "code",
   "execution_count": 15,
   "id": "fc6bad76-bbd5-4bd1-a402-747c4c772690",
   "metadata": {},
   "outputs": [
    {
     "name": "stdout",
     "output_type": "stream",
     "text": [
      "===== EfficientNetB0_imagenet_fold_1 =====\n",
      "1402/1402 [==============================] - 44s 30ms/step\n",
      ">> Fold 1 = 0.6801937222480774\n",
      "1402/1402 [==============================] - 42s 30ms/step\n",
      ">> Fold 2 = 0.6946982145309448\n",
      "1402/1402 [==============================] - 42s 30ms/step\n",
      ">> Fold 3 = 0.6994134783744812\n",
      "1402/1402 [==============================] - 42s 29ms/step\n",
      ">> Fold 4 = 0.6946086883544922\n",
      "1402/1402 [==============================] - 42s 30ms/step\n",
      ">> Fold 5 = 0.7020613551139832\n",
      "Average AUC of EfficientNetB0_imagenet_fold_1 = 0.6941951513290405\n"
     ]
    }
   ],
   "source": [
    "evaluate_5_folds(model_path[\"EfficeientNetB0_imagenet\"])"
   ]
  },
  {
   "cell_type": "code",
   "execution_count": 16,
   "id": "f46985d6-a1af-4720-9295-71d1cb573361",
   "metadata": {},
   "outputs": [
    {
     "name": "stdout",
     "output_type": "stream",
     "text": [
      "===== Resnet50_fold_1 =====\n",
      "1402/1402 [==============================] - 41s 27ms/step\n",
      ">> Fold 1 = 0.7188717126846313\n",
      "1402/1402 [==============================] - 37s 26ms/step\n",
      ">> Fold 2 = 0.7348480224609375\n",
      "1402/1402 [==============================] - 37s 26ms/step\n",
      ">> Fold 3 = 0.7397295832633972\n",
      "1402/1402 [==============================] - 37s 26ms/step\n",
      ">> Fold 4 = 0.7385452389717102\n",
      "1402/1402 [==============================] - 37s 26ms/step\n",
      ">> Fold 5 = 0.7519556879997253\n",
      "Average AUC of Resnet50_fold_1 = 0.7367900609970093\n"
     ]
    }
   ],
   "source": [
    "evaluate_5_folds(model_path[\"Resnet50_none\"])"
   ]
  },
  {
   "cell_type": "code",
   "execution_count": 17,
   "id": "953af02e-b8e9-4c41-835e-50169d44106c",
   "metadata": {},
   "outputs": [
    {
     "name": "stdout",
     "output_type": "stream",
     "text": [
      "===== Resnet50_imagenet_fold_3 =====\n",
      "1402/1402 [==============================] - 38s 26ms/step\n",
      ">> Fold 1 = 0.7526949644088745\n",
      "1402/1402 [==============================] - 37s 26ms/step\n",
      ">> Fold 2 = 0.7507063746452332\n",
      "1402/1402 [==============================] - 37s 26ms/step\n",
      ">> Fold 3 = 0.7430562973022461\n",
      "1402/1402 [==============================] - 37s 26ms/step\n",
      ">> Fold 4 = 0.7601357698440552\n",
      "1402/1402 [==============================] - 37s 26ms/step\n",
      ">> Fold 5 = 0.7640630602836609\n",
      "Average AUC of Resnet50_imagenet_fold_3 = 0.7541312575340271\n"
     ]
    }
   ],
   "source": [
    "evaluate_5_folds(model_path[\"Resnet50_imagenet\"])"
   ]
  },
  {
   "cell_type": "code",
   "execution_count": null,
   "id": "f32c752f-1fa7-4d8a-95bf-ce27016fbc4d",
   "metadata": {},
   "outputs": [],
   "source": []
  }
 ],
 "metadata": {
  "kernelspec": {
   "display_name": "Python 3 (ipykernel)",
   "language": "python",
   "name": "python3"
  },
  "language_info": {
   "codemirror_mode": {
    "name": "ipython",
    "version": 3
   },
   "file_extension": ".py",
   "mimetype": "text/x-python",
   "name": "python",
   "nbconvert_exporter": "python",
   "pygments_lexer": "ipython3",
   "version": "3.10.5"
  }
 },
 "nbformat": 4,
 "nbformat_minor": 5
}
