{
 "cells": [
  {
   "cell_type": "markdown",
   "id": "0ebaadc9-a4f7-4edb-ba8c-0e7bcecf1f2c",
   "metadata": {},
   "source": [
    "## Load Model"
   ]
  },
  {
   "cell_type": "code",
   "execution_count": 4,
   "id": "0686ec12-6447-4676-9958-81a0a3996fb9",
   "metadata": {},
   "outputs": [
    {
     "name": "stdout",
     "output_type": "stream",
     "text": [
      "Model: \"sequential\"\n",
      "_________________________________________________________________\n",
      " Layer (type)                Output Shape              Param #   \n",
      "=================================================================\n",
      " resnet50 (Functional)       (None, 7, 7, 2048)        23587712  \n",
      "                                                                 \n",
      " flatten (Flatten)           (None, 100352)            0         \n",
      "                                                                 \n",
      " dense (Dense)               (None, 128)               12845184  \n",
      "                                                                 \n",
      " dense_1 (Dense)             (None, 128)               16512     \n",
      "                                                                 \n",
      " dense_2 (Dense)             (None, 64)                8256      \n",
      "                                                                 \n",
      " dense_3 (Dense)             (None, 64)                4160      \n",
      "                                                                 \n",
      " dense_4 (Dense)             (None, 15)                975       \n",
      "                                                                 \n",
      "=================================================================\n",
      "Total params: 36,462,799\n",
      "Trainable params: 36,409,679\n",
      "Non-trainable params: 53,120\n",
      "_________________________________________________________________\n"
     ]
    }
   ],
   "source": [
    "import tensorflow as tf\n",
    "import wandb\n",
    "from wandb.keras import WandbCallback\n",
    "from tensorflow.keras.callbacks import ModelCheckpoint\n",
    "\n",
    "from modules.dataset import Dataset\n",
    "from modules.models import Model\n",
    "from modules.parser import parse_option\n",
    "\n",
    "# Constant variables\n",
    "NAME = \"Resnet50\"\n",
    "EPOCHS = 10\n",
    "NUM_FOLDS = 5\n",
    "\n",
    "# Model Checkpoint\n",
    "dataset = Dataset()\n",
    "\n",
    "# Modeling\n",
    "transfer_model = tf.keras.applications.resnet50.ResNet50(\n",
    "    include_top=False, \n",
    "    weights=\"imagenet\",\n",
    "    input_shape=(224, 224, 3),\n",
    "    pooling=None\n",
    ")\n",
    "model_wandb = Model(transfer_model).get_model(flatten=True)\n",
    "model_wandb.summary()\n",
    "\n",
    "best_model = wandb.restore('model-best.h5', run_path=\"chestxray/Experiment 3/30zscnm2\")\n",
    "model_wandb.load_weights(best_model.name)"
   ]
  },
  {
   "cell_type": "code",
   "execution_count": 6,
   "id": "1f76011e-bf91-4ab2-bb27-fa53eb8604ee",
   "metadata": {},
   "outputs": [
    {
     "name": "stdout",
     "output_type": "stream",
     "text": [
      "Model: \"sequential\"\n",
      "_________________________________________________________________\n",
      " Layer (type)                Output Shape              Param #   \n",
      "=================================================================\n",
      " resnet50 (Functional)       (None, 7, 7, 2048)        23587712  \n",
      "                                                                 \n",
      " flatten (Flatten)           (None, 100352)            0         \n",
      "                                                                 \n",
      " dense (Dense)               (None, 128)               12845184  \n",
      "                                                                 \n",
      " dense_1 (Dense)             (None, 128)               16512     \n",
      "                                                                 \n",
      " dense_2 (Dense)             (None, 64)                8256      \n",
      "                                                                 \n",
      " dense_3 (Dense)             (None, 64)                4160      \n",
      "                                                                 \n",
      " dense_4 (Dense)             (None, 15)                975       \n",
      "                                                                 \n",
      "=================================================================\n",
      "Total params: 36,462,799\n",
      "Trainable params: 36,409,679\n",
      "Non-trainable params: 53,120\n",
      "_________________________________________________________________\n"
     ]
    }
   ],
   "source": [
    "model_checkpoint = tf.keras.models.load_model(\"results/models/best_model.h5\")\n",
    "model_checkpoint.summary()"
   ]
  },
  {
   "cell_type": "markdown",
   "id": "890e635b-7bcc-466f-8d67-7abfef02f45c",
   "metadata": {
    "tags": []
   },
   "source": [
    "## Preprocessing"
   ]
  },
  {
   "cell_type": "code",
   "execution_count": 7,
   "id": "a304fa08-4e9d-4989-b143-eff13bab231c",
   "metadata": {},
   "outputs": [],
   "source": [
    "import tensorflow as tf\n",
    "import matplotlib.pyplot as plt\n",
    "from modules.dataset import Dataset"
   ]
  },
  {
   "cell_type": "code",
   "execution_count": 8,
   "id": "75e5760b-e1ec-4ab7-a722-8881bb50a5ce",
   "metadata": {},
   "outputs": [],
   "source": [
    "def get_y_true(data):\n",
    "    y_true=[]\n",
    "    for X,y in data:\n",
    "        for label in y:\n",
    "            y_true.append(label)\n",
    "    y_true = tf.Variable(y_true)\n",
    "    return y_true"
   ]
  },
  {
   "cell_type": "code",
   "execution_count": 9,
   "id": "60777b4b-6be8-4d54-bb15-25f0ae9d4568",
   "metadata": {},
   "outputs": [],
   "source": [
    "# Constant variables\n",
    "# NAME = \"ResNet50\"\n",
    "EPOCHS = 10\n",
    "NUM_FOLDS = 5\n",
    "\n",
    "dataset = Dataset()\n",
    "fold_num = 1\n",
    "\n",
    "# Dataset\n",
    "train_dataset, test_dataset = dataset.get_kfold(fold_num, sample=True)"
   ]
  },
  {
   "cell_type": "code",
   "execution_count": 15,
   "id": "a89ab1e2-db02-4104-8283-7817b2580aa6",
   "metadata": {},
   "outputs": [],
   "source": [
    "y_true = get_y_true(test_dataset)"
   ]
  },
  {
   "cell_type": "markdown",
   "id": "b9dd0482-8a72-4ffa-b7c2-a038ba904df4",
   "metadata": {},
   "source": [
    "## Wandb"
   ]
  },
  {
   "cell_type": "code",
   "execution_count": 11,
   "id": "742ca205-ab3b-4137-83aa-3828eda00321",
   "metadata": {},
   "outputs": [
    {
     "name": "stderr",
     "output_type": "stream",
     "text": [
      "2022-09-28 08:18:36.267441: I tensorflow/stream_executor/cuda/cuda_dnn.cc:384] Loaded cuDNN version 8100\n",
      "2022-09-28 08:18:37.530147: I tensorflow/core/platform/default/subprocess.cc:304] Start cannot spawn child process: No such file or directory\n",
      "2022-09-28 08:18:37.531370: I tensorflow/core/platform/default/subprocess.cc:304] Start cannot spawn child process: No such file or directory\n",
      "2022-09-28 08:18:37.531473: W tensorflow/stream_executor/gpu/asm_compiler.cc:80] Couldn't get ptxas version string: INTERNAL: Couldn't invoke ptxas --version\n",
      "2022-09-28 08:18:37.533115: I tensorflow/core/platform/default/subprocess.cc:304] Start cannot spawn child process: No such file or directory\n",
      "2022-09-28 08:18:37.533247: W tensorflow/stream_executor/gpu/redzone_allocator.cc:314] INTERNAL: Failed to launch ptxas\n",
      "Relying on driver to perform ptx compilation. \n",
      "Modify $PATH to customize ptxas location.\n",
      "This message will be only logged once.\n"
     ]
    },
    {
     "name": "stdout",
     "output_type": "stream",
     "text": [
      "      6/Unknown - 7s 25ms/step"
     ]
    },
    {
     "name": "stderr",
     "output_type": "stream",
     "text": [
      "2022-09-28 08:18:40.832179: I tensorflow/stream_executor/cuda/cuda_blas.cc:1786] TensorFloat-32 will be used for the matrix multiplication. This will only be logged once.\n"
     ]
    },
    {
     "name": "stdout",
     "output_type": "stream",
     "text": [
      "13/13 [==============================] - 9s 177ms/step\n"
     ]
    }
   ],
   "source": [
    "y_preds = model_wandb.predict(test_dataset)"
   ]
  },
  {
   "cell_type": "code",
   "execution_count": 12,
   "id": "733341f2-d670-48c3-9767-6c94fe6c4a7d",
   "metadata": {},
   "outputs": [
    {
     "data": {
      "text/plain": [
       "(<tf.Variable 'Variable:0' shape=(200, 15) dtype=int64, numpy=\n",
       " array([[1, 0, 0, ..., 0, 0, 0],\n",
       "        [1, 0, 0, ..., 0, 0, 0],\n",
       "        [1, 0, 0, ..., 0, 0, 0],\n",
       "        ...,\n",
       "        [0, 0, 0, ..., 0, 0, 0],\n",
       "        [1, 0, 0, ..., 0, 0, 0],\n",
       "        [1, 0, 0, ..., 0, 0, 0]])>,\n",
       " array([[0.46522707, 0.10514026, 0.03586749, ..., 0.09740598, 0.12876353,\n",
       "         0.03058107],\n",
       "        [0.4655787 , 0.11624805, 0.04319234, ..., 0.10785766, 0.1415401 ,\n",
       "         0.03622847],\n",
       "        [0.46227956, 0.10630222, 0.03661184, ..., 0.09855667, 0.13001259,\n",
       "         0.03125215],\n",
       "        ...,\n",
       "        [0.461406  , 0.10941712, 0.03901778, ..., 0.10285376, 0.1312578 ,\n",
       "         0.03210022],\n",
       "        [0.46523467, 0.11905814, 0.04422769, ..., 0.1126479 , 0.14279562,\n",
       "         0.0375489 ],\n",
       "        [0.45912176, 0.11083672, 0.03956914, ..., 0.10209166, 0.13383913,\n",
       "         0.03365023]], dtype=float32))"
      ]
     },
     "execution_count": 12,
     "metadata": {},
     "output_type": "execute_result"
    }
   ],
   "source": [
    "y_true, y_preds"
   ]
  },
  {
   "cell_type": "code",
   "execution_count": 13,
   "id": "f15d8f04-d011-446c-bad1-4ccbb488496f",
   "metadata": {},
   "outputs": [
    {
     "data": {
      "text/plain": [
       "(TensorShape([200, 15]), (200, 15))"
      ]
     },
     "execution_count": 13,
     "metadata": {},
     "output_type": "execute_result"
    }
   ],
   "source": [
    "y_true.shape, y_preds.shape"
   ]
  },
  {
   "cell_type": "code",
   "execution_count": 14,
   "id": "41c33db2-f2f8-479c-9764-4d9ee815f238",
   "metadata": {
    "tags": []
   },
   "outputs": [
    {
     "data": {
      "text/plain": [
       "0.45929083"
      ]
     },
     "execution_count": 14,
     "metadata": {},
     "output_type": "execute_result"
    }
   ],
   "source": [
    "m = tf.keras.metrics.AUC(multi_label=True)\n",
    "m.update_state(y_true, y_preds)\n",
    "m.result().numpy()"
   ]
  },
  {
   "cell_type": "markdown",
   "id": "63562827-ea0f-49cb-b721-4f8038a8896c",
   "metadata": {
    "tags": []
   },
   "source": [
    "## Tensorflow Keras Model Checkpoint"
   ]
  },
  {
   "cell_type": "code",
   "execution_count": 16,
   "id": "01e5b963-ab92-48dd-b09c-3516a2643bb4",
   "metadata": {},
   "outputs": [
    {
     "name": "stdout",
     "output_type": "stream",
     "text": [
      "13/13 [==============================] - 2s 28ms/step\n"
     ]
    }
   ],
   "source": [
    "y_preds = model_checkpoint.predict(test_dataset)"
   ]
  },
  {
   "cell_type": "code",
   "execution_count": 17,
   "id": "dd5c8f5d-b22a-4d3e-8f8d-487e3e6104c1",
   "metadata": {},
   "outputs": [
    {
     "data": {
      "text/plain": [
       "(<tf.Variable 'Variable:0' shape=(200, 15) dtype=int64, numpy=\n",
       " array([[1, 0, 0, ..., 0, 0, 0],\n",
       "        [1, 0, 0, ..., 0, 0, 0],\n",
       "        [1, 0, 0, ..., 0, 0, 0],\n",
       "        ...,\n",
       "        [0, 0, 0, ..., 0, 0, 0],\n",
       "        [1, 0, 0, ..., 0, 0, 0],\n",
       "        [1, 0, 0, ..., 0, 0, 0]])>,\n",
       " array([[0.46522707, 0.10514026, 0.03586749, ..., 0.09740598, 0.12876353,\n",
       "         0.03058107],\n",
       "        [0.4655787 , 0.11624805, 0.04319234, ..., 0.10785766, 0.1415401 ,\n",
       "         0.03622847],\n",
       "        [0.46227956, 0.10630222, 0.03661184, ..., 0.09855667, 0.13001259,\n",
       "         0.03125215],\n",
       "        ...,\n",
       "        [0.461406  , 0.10941712, 0.03901778, ..., 0.10285376, 0.1312578 ,\n",
       "         0.03210022],\n",
       "        [0.46523467, 0.11905814, 0.04422769, ..., 0.1126479 , 0.14279562,\n",
       "         0.0375489 ],\n",
       "        [0.45912176, 0.11083672, 0.03956914, ..., 0.10209166, 0.13383913,\n",
       "         0.03365023]], dtype=float32))"
      ]
     },
     "execution_count": 17,
     "metadata": {},
     "output_type": "execute_result"
    }
   ],
   "source": [
    "y_true, y_preds"
   ]
  },
  {
   "cell_type": "code",
   "execution_count": 18,
   "id": "bc16dc8d-9d29-4636-bd11-7a8c781ffe8d",
   "metadata": {},
   "outputs": [
    {
     "data": {
      "text/plain": [
       "(TensorShape([200, 15]), (200, 15))"
      ]
     },
     "execution_count": 18,
     "metadata": {},
     "output_type": "execute_result"
    }
   ],
   "source": [
    "y_true.shape, y_preds.shape"
   ]
  },
  {
   "cell_type": "code",
   "execution_count": 19,
   "id": "ad47d6fd-f0b1-42fa-bea6-2c4e3eb3e433",
   "metadata": {},
   "outputs": [
    {
     "data": {
      "text/plain": [
       "0.45929083"
      ]
     },
     "execution_count": 19,
     "metadata": {},
     "output_type": "execute_result"
    }
   ],
   "source": [
    "m = tf.keras.metrics.AUC(multi_label=True)\n",
    "m.update_state(y_true, y_preds)\n",
    "m.result().numpy()"
   ]
  },
  {
   "cell_type": "code",
   "execution_count": null,
   "id": "bf93136a-aa80-4a48-8fee-b045d805a6ac",
   "metadata": {},
   "outputs": [],
   "source": []
  }
 ],
 "metadata": {
  "kernelspec": {
   "display_name": "Python 3 (ipykernel)",
   "language": "python",
   "name": "python3"
  },
  "language_info": {
   "codemirror_mode": {
    "name": "ipython",
    "version": 3
   },
   "file_extension": ".py",
   "mimetype": "text/x-python",
   "name": "python",
   "nbconvert_exporter": "python",
   "pygments_lexer": "ipython3",
   "version": "3.10.5"
  }
 },
 "nbformat": 4,
 "nbformat_minor": 5
}
