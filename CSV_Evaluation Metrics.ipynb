{
 "cells": [
  {
   "cell_type": "markdown",
   "id": "86094d43-8e2c-4769-a4c8-3a5ae2f125cd",
   "metadata": {},
   "source": [
    "# Saving a CSV of a thresholds and Confusion metrics values for each fold\n",
    "A result will save on path=`./results/confusion`"
   ]
  },
  {
   "cell_type": "code",
   "execution_count": 1,
   "id": "375a0ed2-eab5-4205-8113-5911db2c8030",
   "metadata": {},
   "outputs": [
    {
     "name": "stderr",
     "output_type": "stream",
     "text": [
      "2022-12-06 07:53:54.895649: I tensorflow/core/util/util.cc:169] oneDNN custom operations are on. You may see slightly different numerical results due to floating-point round-off errors from different computation orders. To turn them off, set the environment variable `TF_ENABLE_ONEDNN_OPTS=0`.\n"
     ]
    }
   ],
   "source": [
    "import numpy as np\n",
    "import pandas as pd\n",
    "import tensorflow as tf\n",
    "import matplotlib.pyplot as plt\n",
    "from modules.dataset import Dataset, LABELS"
   ]
  },
  {
   "cell_type": "code",
   "execution_count": 2,
   "id": "53494baa-5d8a-4801-bd8b-cc713bc08e9c",
   "metadata": {},
   "outputs": [],
   "source": [
    "def get_y_true(data):\n",
    "    y_true=[]\n",
    "    for X,y in data:\n",
    "        for label in y:\n",
    "            y_true.append(label)\n",
    "    y_true = tf.Variable(y_true)\n",
    "    return y_true"
   ]
  },
  {
   "cell_type": "code",
   "execution_count": 8,
   "id": "ddc34ae3-4e28-4873-a690-e5f38c0e9770",
   "metadata": {},
   "outputs": [],
   "source": [
    "import pdb"
   ]
  },
  {
   "cell_type": "code",
   "execution_count": 16,
   "id": "fed1ca9d-0230-47d7-80a6-1d08710a52eb",
   "metadata": {},
   "outputs": [],
   "source": [
    "def get_confusion_each_thresholds(fold_num):\n",
    "    # Dataset\n",
    "    train_dataset, test_dataset = dataset.get_kfold(fold_num, sample=False)\n",
    "\n",
    "    # Modeling\n",
    "    model = tf.keras.models.load_model(\"results/models/{}_fold_{}.h5\".format(NAME, fold_num))\n",
    "\n",
    "    # Label and Predict\n",
    "    y_true = get_y_true(test_dataset)\n",
    "    y_preds = model.predict(test_dataset)\n",
    "\n",
    "    # m object\n",
    "    m = tf.keras.metrics.AUC(multi_label=True, num_thresholds=200)\n",
    "    m.update_state(y_true, y_preds)\n",
    "    thresholds = m._thresholds\n",
    "    true_positives, true_negatives, false_positives, false_negatives = m.variables\n",
    "    return thresholds, true_positives, true_negatives, false_positives, false_negatives"
   ]
  },
  {
   "cell_type": "code",
   "execution_count": 18,
   "id": "025e709a-98e5-40ac-884b-f10930c567c6",
   "metadata": {},
   "outputs": [],
   "source": [
    "def write_to_csv(thresholds, true_positives, true_negatives, false_positives, false_negatives):\n",
    "    df = pd.DataFrame({\n",
    "        \"thresholds\": thresholds,\n",
    "        \"TP\": true_positives,\n",
    "        \"TN\": true_negatives,\n",
    "        \"FP\": false_positives,\n",
    "        \"FN\": false_negatives\n",
    "    })\n",
    "\n",
    "    df = df.apply({\"thresholds\": lambda x: x,\n",
    "                   \"TP\": lambda x: x.numpy().tolist(),\n",
    "                   \"TN\": lambda x: x.numpy().tolist(),\n",
    "                   \"FP\": lambda x: x.numpy().tolist(),\n",
    "                   \"FN\": lambda x: x.numpy().tolist()})\n",
    "    df.to_csv(f\"{SAVE_PATH}/{NAME}_fold_{fold_num}.csv\", index=False)\n",
    "    print(f\"Write a {NAME}_fold_{fold_num}.csv is DONE!\")"
   ]
  },
  {
   "cell_type": "code",
   "execution_count": 20,
   "id": "2f841e78-1fcd-4de9-bd6f-b19362ee6a14",
   "metadata": {},
   "outputs": [],
   "source": [
    "# Settings\n",
    "dataset = Dataset()\n",
    "SAVE_PATH = \"results/confusion\""
   ]
  },
  {
   "cell_type": "markdown",
   "id": "c44f62a2-52b6-4bc1-b7a2-78c896dbae43",
   "metadata": {
    "tags": []
   },
   "source": [
    "### Exp 1 : DenseNet121_None"
   ]
  },
  {
   "cell_type": "code",
   "execution_count": 21,
   "id": "1ea51b05-c08e-476e-8850-aaadbf7e31ff",
   "metadata": {},
   "outputs": [
    {
     "name": "stdout",
     "output_type": "stream",
     "text": [
      "1402/1402 [==============================] - 55s 38ms/step\n",
      "Write a DenseNet121_None_fold_1.csv is DONE!\n",
      "1402/1402 [==============================] - 55s 37ms/step\n",
      "Write a DenseNet121_None_fold_2.csv is DONE!\n",
      "1402/1402 [==============================] - 57s 39ms/step\n",
      "Write a DenseNet121_None_fold_3.csv is DONE!\n",
      "1402/1402 [==============================] - 55s 38ms/step\n",
      "Write a DenseNet121_None_fold_4.csv is DONE!\n",
      "1402/1402 [==============================] - 56s 38ms/step\n",
      "Write a DenseNet121_None_fold_5.csv is DONE!\n"
     ]
    }
   ],
   "source": [
    "### <================== Ying RUN\n",
    "NAME = \"DenseNet121_None\"\n",
    "\n",
    "for fold_num in range(1, 5+1):\n",
    "    thresholds, true_positives, true_negatives, false_positives, false_negatives = get_confusion_each_thresholds(fold_num)\n",
    "    write_to_csv(thresholds, true_positives, true_negatives, false_positives, false_negatives)"
   ]
  },
  {
   "cell_type": "markdown",
   "id": "f7560623-8d0c-405b-ae37-30d94a6106a5",
   "metadata": {
    "tags": []
   },
   "source": [
    "### Exp 2: DenseNet121_imagenet"
   ]
  },
  {
   "cell_type": "code",
   "execution_count": 22,
   "id": "96235b15-46cb-4ba4-b0dc-36b837052549",
   "metadata": {},
   "outputs": [
    {
     "name": "stdout",
     "output_type": "stream",
     "text": [
      "1402/1402 [==============================] - 55s 38ms/step\n",
      "Write a DenseNet121_imagenet_fold_1.csv is DONE!\n",
      "1402/1402 [==============================] - 58s 40ms/step\n",
      "Write a DenseNet121_imagenet_fold_2.csv is DONE!\n",
      "1402/1402 [==============================] - 56s 38ms/step\n",
      "Write a DenseNet121_imagenet_fold_3.csv is DONE!\n",
      "1402/1402 [==============================] - 58s 40ms/step\n",
      "Write a DenseNet121_imagenet_fold_4.csv is DONE!\n",
      "1402/1402 [==============================] - 55s 37ms/step\n",
      "Write a DenseNet121_imagenet_fold_5.csv is DONE!\n"
     ]
    }
   ],
   "source": [
    "NAME = \"DenseNet121_imagenet\"\n",
    "\n",
    "for fold_num in range(1, 5+1):\n",
    "    thresholds, true_positives, true_negatives, false_positives, false_negatives = get_confusion_each_thresholds(fold_num)\n",
    "    write_to_csv(thresholds, true_positives, true_negatives, false_positives, false_negatives)"
   ]
  },
  {
   "cell_type": "markdown",
   "id": "e5b4b4ed-2539-45cf-9bd6-553d7f22a080",
   "metadata": {
    "tags": []
   },
   "source": [
    "### Exp 3: EfficientNetB0_None"
   ]
  },
  {
   "cell_type": "code",
   "execution_count": 23,
   "id": "56cf1ede-d394-46cc-8d12-29e072570eb1",
   "metadata": {},
   "outputs": [
    {
     "name": "stdout",
     "output_type": "stream",
     "text": [
      "1402/1402 [==============================] - 46s 30ms/step\n",
      "Write a EfficientNetB0_None_fold_1.csv is DONE!\n",
      "1402/1402 [==============================] - 42s 29ms/step\n",
      "Write a EfficientNetB0_None_fold_2.csv is DONE!\n",
      "1402/1402 [==============================] - 42s 28ms/step\n",
      "Write a EfficientNetB0_None_fold_3.csv is DONE!\n",
      "1402/1402 [==============================] - 42s 29ms/step\n",
      "Write a EfficientNetB0_None_fold_4.csv is DONE!\n",
      "1402/1402 [==============================] - 43s 29ms/step\n",
      "Write a EfficientNetB0_None_fold_5.csv is DONE!\n"
     ]
    }
   ],
   "source": [
    "NAME = \"EfficientNetB0_None\"\n",
    "\n",
    "for fold_num in range(1, 5+1):\n",
    "    thresholds, true_positives, true_negatives, false_positives, false_negatives = get_confusion_each_thresholds(fold_num)\n",
    "    write_to_csv(thresholds, true_positives, true_negatives, false_positives, false_negatives)"
   ]
  },
  {
   "cell_type": "markdown",
   "id": "c8fa91ed-b650-4c5d-8a46-cff8c2ff106a",
   "metadata": {
    "tags": []
   },
   "source": [
    "### Exp 4: EfficientNetB0_imagenet"
   ]
  },
  {
   "cell_type": "code",
   "execution_count": 24,
   "id": "da83c2ae-085e-459c-aed8-9fbdd4bcd5a9",
   "metadata": {},
   "outputs": [
    {
     "name": "stdout",
     "output_type": "stream",
     "text": [
      "1402/1402 [==============================] - 42s 29ms/step\n",
      "Write a EfficientNetB0_imagenet_fold_1.csv is DONE!\n",
      "1402/1402 [==============================] - 43s 29ms/step\n",
      "Write a EfficientNetB0_imagenet_fold_2.csv is DONE!\n",
      "1402/1402 [==============================] - 42s 29ms/step\n",
      "Write a EfficientNetB0_imagenet_fold_3.csv is DONE!\n",
      "1402/1402 [==============================] - 43s 29ms/step\n",
      "Write a EfficientNetB0_imagenet_fold_4.csv is DONE!\n",
      "1402/1402 [==============================] - 42s 29ms/step\n",
      "Write a EfficientNetB0_imagenet_fold_5.csv is DONE!\n"
     ]
    }
   ],
   "source": [
    "NAME = \"EfficientNetB0_imagenet\"\n",
    "\n",
    "for fold_num in range(1, 5+1):\n",
    "    thresholds, true_positives, true_negatives, false_positives, false_negatives = get_confusion_each_thresholds(fold_num)\n",
    "    write_to_csv(thresholds, true_positives, true_negatives, false_positives, false_negatives)"
   ]
  },
  {
   "cell_type": "markdown",
   "id": "3efec7d1-340e-4b82-b7f6-21006abf0530",
   "metadata": {
    "tags": []
   },
   "source": [
    "### Exp 5: Resnet50_None"
   ]
  },
  {
   "cell_type": "code",
   "execution_count": 25,
   "id": "3dcaa8be-2821-4725-871e-7321e1c7fa70",
   "metadata": {},
   "outputs": [
    {
     "name": "stdout",
     "output_type": "stream",
     "text": [
      "1402/1402 [==============================] - 40s 26ms/step\n",
      "Write a Resnet50_fold_1.csv is DONE!\n",
      "1402/1402 [==============================] - 37s 26ms/step\n",
      "Write a Resnet50_fold_2.csv is DONE!\n",
      "1402/1402 [==============================] - 38s 26ms/step\n",
      "Write a Resnet50_fold_3.csv is DONE!\n",
      "1402/1402 [==============================] - 37s 26ms/step\n",
      "Write a Resnet50_fold_4.csv is DONE!\n",
      "1402/1402 [==============================] - 37s 25ms/step\n",
      "Write a Resnet50_fold_5.csv is DONE!\n"
     ]
    }
   ],
   "source": [
    "NAME = \"Resnet50\"\n",
    "\n",
    "for fold_num in range(1, 5+1):\n",
    "    thresholds, true_positives, true_negatives, false_positives, false_negatives = get_confusion_each_thresholds(fold_num)\n",
    "    write_to_csv(thresholds, true_positives, true_negatives, false_positives, false_negatives)"
   ]
  },
  {
   "cell_type": "markdown",
   "id": "137672cf-a00c-4c43-b7d5-6158f99cee2f",
   "metadata": {
    "tags": []
   },
   "source": [
    "### Exp 6: Resnet50_imagenet"
   ]
  },
  {
   "cell_type": "code",
   "execution_count": 26,
   "id": "4a9fee2e-b297-4f02-94d4-208b54c95ae8",
   "metadata": {},
   "outputs": [
    {
     "name": "stdout",
     "output_type": "stream",
     "text": [
      "1402/1402 [==============================] - 37s 26ms/step\n",
      "Write a Resnet50_imagenet_fold_1.csv is DONE!\n",
      "1402/1402 [==============================] - 37s 26ms/step\n",
      "Write a Resnet50_imagenet_fold_2.csv is DONE!\n",
      "1402/1402 [==============================] - 37s 26ms/step\n",
      "Write a Resnet50_imagenet_fold_3.csv is DONE!\n",
      "1402/1402 [==============================] - 37s 26ms/step\n",
      "Write a Resnet50_imagenet_fold_4.csv is DONE!\n",
      "1402/1402 [==============================] - 37s 26ms/step\n",
      "Write a Resnet50_imagenet_fold_5.csv is DONE!\n"
     ]
    }
   ],
   "source": [
    "NAME = \"Resnet50_imagenet\"\n",
    "\n",
    "for fold_num in range(1, 5+1):\n",
    "    thresholds, true_positives, true_negatives, false_positives, false_negatives = get_confusion_each_thresholds(fold_num)\n",
    "    write_to_csv(thresholds, true_positives, true_negatives, false_positives, false_negatives)"
   ]
  },
  {
   "cell_type": "code",
   "execution_count": null,
   "id": "7567b38a-b396-4a04-a1ea-aa3ade7a0a5b",
   "metadata": {},
   "outputs": [],
   "source": []
  }
 ],
 "metadata": {
  "kernelspec": {
   "display_name": "Python 3 (ipykernel)",
   "language": "python",
   "name": "python3"
  },
  "language_info": {
   "codemirror_mode": {
    "name": "ipython",
    "version": 3
   },
   "file_extension": ".py",
   "mimetype": "text/x-python",
   "name": "python",
   "nbconvert_exporter": "python",
   "pygments_lexer": "ipython3",
   "version": "3.10.5"
  }
 },
 "nbformat": 4,
 "nbformat_minor": 5
}
